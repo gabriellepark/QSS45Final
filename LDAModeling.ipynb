{
  "cells": [
    {
      "cell_type": "code",
      "execution_count": 26,
      "id": "30c401be",
      "metadata": {
        "scrolled": true,
        "colab": {
          "base_uri": "https://localhost:8080/"
        },
        "id": "30c401be",
        "outputId": "2c5a551d-2570-4e57-fd10-59c9309696e5"
      },
      "outputs": [
        {
          "output_type": "stream",
          "name": "stderr",
          "text": [
            "/usr/local/lib/python3.10/dist-packages/ipykernel/ipkernel.py:283: DeprecationWarning: `should_run_async` will not call `transform_cell` automatically in the future. Please pass the result to `transformed_cell` argument and any exception that happen during thetransform in `preprocessing_exc_tuple` in IPython 7.17 and above.\n",
            "  and should_run_async(code)\n"
          ]
        }
      ],
      "source": [
        "from transformers import BertTokenizer, BertForSequenceClassification\n",
        "from transformers import pipeline\n",
        "\n",
        "import pandas as pd\n",
        "from sklearn.datasets import fetch_20newsgroups\n",
        "import gensim\n",
        "from gensim import corpora\n",
        "from gensim.models.ldamodel import LdaModel\n",
        "from bertopic import BERTopic\n",
        "\n",
        "from vaderSentiment.vaderSentiment import SentimentIntensityAnalyzer\n",
        "from transformers import pipeline\n",
        "\n",
        "from nltk.tokenize import word_tokenize, wordpunct_tokenize\n",
        "from nltk.corpus import stopwords\n",
        "from nltk.stem.porter import PorterStemmer\n",
        "\n",
        "import pyLDAvis.gensim_models as gensimvis\n",
        "import pyLDAvis"
      ]
    },
    {
      "cell_type": "code",
      "source": [
        "from google.colab import drive\n",
        "drive.mount('/content/drive')"
      ],
      "metadata": {
        "colab": {
          "base_uri": "https://localhost:8080/"
        },
        "id": "po9SfvGaC3vH",
        "outputId": "275f8b37-f09c-46d9-fa21-6aebbb0d52d8"
      },
      "id": "po9SfvGaC3vH",
      "execution_count": 8,
      "outputs": [
        {
          "output_type": "stream",
          "name": "stderr",
          "text": [
            "/usr/local/lib/python3.10/dist-packages/ipykernel/ipkernel.py:283: DeprecationWarning: `should_run_async` will not call `transform_cell` automatically in the future. Please pass the result to `transformed_cell` argument and any exception that happen during thetransform in `preprocessing_exc_tuple` in IPython 7.17 and above.\n",
            "  and should_run_async(code)\n"
          ]
        },
        {
          "output_type": "stream",
          "name": "stdout",
          "text": [
            "Mounted at /content/drive\n"
          ]
        }
      ]
    },
    {
      "cell_type": "code",
      "execution_count": 9,
      "id": "1e602ef1-487f-4f0c-92d4-7ecbdf84eb60",
      "metadata": {
        "scrolled": true,
        "colab": {
          "base_uri": "https://localhost:8080/"
        },
        "id": "1e602ef1-487f-4f0c-92d4-7ecbdf84eb60",
        "outputId": "85cc6a1b-a36c-4dd4-9c77-d3af4ebaac38"
      },
      "outputs": [
        {
          "output_type": "stream",
          "name": "stderr",
          "text": [
            "/usr/local/lib/python3.10/dist-packages/ipykernel/ipkernel.py:283: DeprecationWarning: `should_run_async` will not call `transform_cell` automatically in the future. Please pass the result to `transformed_cell` argument and any exception that happen during thetransform in `preprocessing_exc_tuple` in IPython 7.17 and above.\n",
            "  and should_run_async(code)\n"
          ]
        }
      ],
      "source": [
        "df = pd.read_csv('/content/drive/MyDrive/shohei-cleaned-gptig.csv')"
      ]
    },
    {
      "cell_type": "markdown",
      "id": "ee9a3154-9404-4604-85cd-9c4171f73a98",
      "metadata": {
        "id": "ee9a3154-9404-4604-85cd-9c4171f73a98"
      },
      "source": [
        "## Comparing Sentiment"
      ]
    },
    {
      "cell_type": "markdown",
      "id": "f1b0b105-b5b5-4de9-a80c-5b97bb0593d5",
      "metadata": {
        "id": "f1b0b105-b5b5-4de9-a80c-5b97bb0593d5"
      },
      "source": [
        "### Vader"
      ]
    },
    {
      "cell_type": "code",
      "execution_count": 10,
      "id": "6acf9a43-ffa2-44f3-8a3e-de895f37b558",
      "metadata": {
        "colab": {
          "base_uri": "https://localhost:8080/"
        },
        "id": "6acf9a43-ffa2-44f3-8a3e-de895f37b558",
        "outputId": "e8518721-45e7-407c-98db-1f5e0ac111e0"
      },
      "outputs": [
        {
          "output_type": "stream",
          "name": "stderr",
          "text": [
            "/usr/local/lib/python3.10/dist-packages/ipykernel/ipkernel.py:283: DeprecationWarning: `should_run_async` will not call `transform_cell` automatically in the future. Please pass the result to `transformed_cell` argument and any exception that happen during thetransform in `preprocessing_exc_tuple` in IPython 7.17 and above.\n",
            "  and should_run_async(code)\n"
          ]
        }
      ],
      "source": [
        "# Initialize VADER Sentiment Analyzer\n",
        "vader_analyzer = SentimentIntensityAnalyzer()\n",
        "df[\"vaderSent\"] = df['en_text'].apply(lambda x: vader_analyzer.polarity_scores(x))"
      ]
    },
    {
      "cell_type": "code",
      "source": [
        "df[\"vaderSent\"]"
      ],
      "metadata": {
        "colab": {
          "base_uri": "https://localhost:8080/",
          "height": 513
        },
        "id": "JFnR_yjAE6_5",
        "outputId": "7b95765d-c77a-4c31-c889-78a5c5ba6ea4"
      },
      "id": "JFnR_yjAE6_5",
      "execution_count": 11,
      "outputs": [
        {
          "output_type": "stream",
          "name": "stderr",
          "text": [
            "/usr/local/lib/python3.10/dist-packages/ipykernel/ipkernel.py:283: DeprecationWarning: `should_run_async` will not call `transform_cell` automatically in the future. Please pass the result to `transformed_cell` argument and any exception that happen during thetransform in `preprocessing_exc_tuple` in IPython 7.17 and above.\n",
            "  and should_run_async(code)\n"
          ]
        },
        {
          "output_type": "execute_result",
          "data": {
            "text/plain": [
              "0        {'neg': 0.0, 'neu': 0.816, 'pos': 0.184, 'comp...\n",
              "1        {'neg': 0.028, 'neu': 0.904, 'pos': 0.068, 'co...\n",
              "2        {'neg': 0.0, 'neu': 0.928, 'pos': 0.072, 'comp...\n",
              "3        {'neg': 0.0, 'neu': 0.931, 'pos': 0.069, 'comp...\n",
              "4        {'neg': 0.03, 'neu': 0.914, 'pos': 0.056, 'com...\n",
              "                               ...                        \n",
              "23239    {'neg': 0.03, 'neu': 0.97, 'pos': 0.0, 'compou...\n",
              "23240    {'neg': 0.062, 'neu': 0.82, 'pos': 0.117, 'com...\n",
              "23241    {'neg': 0.024, 'neu': 0.663, 'pos': 0.312, 'co...\n",
              "23242    {'neg': 0.042, 'neu': 0.8, 'pos': 0.158, 'comp...\n",
              "23243    {'neg': 0.0, 'neu': 0.886, 'pos': 0.114, 'comp...\n",
              "Name: vaderSent, Length: 23244, dtype: object"
            ],
            "text/html": [
              "<div>\n",
              "<style scoped>\n",
              "    .dataframe tbody tr th:only-of-type {\n",
              "        vertical-align: middle;\n",
              "    }\n",
              "\n",
              "    .dataframe tbody tr th {\n",
              "        vertical-align: top;\n",
              "    }\n",
              "\n",
              "    .dataframe thead th {\n",
              "        text-align: right;\n",
              "    }\n",
              "</style>\n",
              "<table border=\"1\" class=\"dataframe\">\n",
              "  <thead>\n",
              "    <tr style=\"text-align: right;\">\n",
              "      <th></th>\n",
              "      <th>vaderSent</th>\n",
              "    </tr>\n",
              "  </thead>\n",
              "  <tbody>\n",
              "    <tr>\n",
              "      <th>0</th>\n",
              "      <td>{'neg': 0.0, 'neu': 0.816, 'pos': 0.184, 'comp...</td>\n",
              "    </tr>\n",
              "    <tr>\n",
              "      <th>1</th>\n",
              "      <td>{'neg': 0.028, 'neu': 0.904, 'pos': 0.068, 'co...</td>\n",
              "    </tr>\n",
              "    <tr>\n",
              "      <th>2</th>\n",
              "      <td>{'neg': 0.0, 'neu': 0.928, 'pos': 0.072, 'comp...</td>\n",
              "    </tr>\n",
              "    <tr>\n",
              "      <th>3</th>\n",
              "      <td>{'neg': 0.0, 'neu': 0.931, 'pos': 0.069, 'comp...</td>\n",
              "    </tr>\n",
              "    <tr>\n",
              "      <th>4</th>\n",
              "      <td>{'neg': 0.03, 'neu': 0.914, 'pos': 0.056, 'com...</td>\n",
              "    </tr>\n",
              "    <tr>\n",
              "      <th>...</th>\n",
              "      <td>...</td>\n",
              "    </tr>\n",
              "    <tr>\n",
              "      <th>23239</th>\n",
              "      <td>{'neg': 0.03, 'neu': 0.97, 'pos': 0.0, 'compou...</td>\n",
              "    </tr>\n",
              "    <tr>\n",
              "      <th>23240</th>\n",
              "      <td>{'neg': 0.062, 'neu': 0.82, 'pos': 0.117, 'com...</td>\n",
              "    </tr>\n",
              "    <tr>\n",
              "      <th>23241</th>\n",
              "      <td>{'neg': 0.024, 'neu': 0.663, 'pos': 0.312, 'co...</td>\n",
              "    </tr>\n",
              "    <tr>\n",
              "      <th>23242</th>\n",
              "      <td>{'neg': 0.042, 'neu': 0.8, 'pos': 0.158, 'comp...</td>\n",
              "    </tr>\n",
              "    <tr>\n",
              "      <th>23243</th>\n",
              "      <td>{'neg': 0.0, 'neu': 0.886, 'pos': 0.114, 'comp...</td>\n",
              "    </tr>\n",
              "  </tbody>\n",
              "</table>\n",
              "<p>23244 rows × 1 columns</p>\n",
              "</div><br><label><b>dtype:</b> object</label>"
            ]
          },
          "metadata": {},
          "execution_count": 11
        }
      ]
    },
    {
      "cell_type": "markdown",
      "id": "6c7be11c-b07d-4769-a94d-18d1d7990bb6",
      "metadata": {
        "id": "6c7be11c-b07d-4769-a94d-18d1d7990bb6"
      },
      "source": [
        "### BERT"
      ]
    },
    {
      "cell_type": "code",
      "execution_count": 12,
      "id": "dae8f718-b5a8-47e0-8bd4-c160fbc14f11",
      "metadata": {
        "colab": {
          "base_uri": "https://localhost:8080/"
        },
        "id": "dae8f718-b5a8-47e0-8bd4-c160fbc14f11",
        "outputId": "a8643e70-9214-454b-9ed2-9beaf8586d59"
      },
      "outputs": [
        {
          "output_type": "stream",
          "name": "stderr",
          "text": [
            "/usr/local/lib/python3.10/dist-packages/ipykernel/ipkernel.py:283: DeprecationWarning: `should_run_async` will not call `transform_cell` automatically in the future. Please pass the result to `transformed_cell` argument and any exception that happen during thetransform in `preprocessing_exc_tuple` in IPython 7.17 and above.\n",
            "  and should_run_async(code)\n"
          ]
        }
      ],
      "source": [
        "df[\"trunc_text\"] = df['en_text'].apply(lambda x: x[:500])"
      ]
    },
    {
      "cell_type": "code",
      "execution_count": 16,
      "id": "5eac1ff8-aac0-4e40-9074-077ec3ca3407",
      "metadata": {
        "colab": {
          "base_uri": "https://localhost:8080/"
        },
        "id": "5eac1ff8-aac0-4e40-9074-077ec3ca3407",
        "outputId": "34cd18d4-26dd-4d34-88d2-4af518182bdb"
      },
      "outputs": [
        {
          "output_type": "stream",
          "name": "stderr",
          "text": [
            "/usr/local/lib/python3.10/dist-packages/ipykernel/ipkernel.py:283: DeprecationWarning: `should_run_async` will not call `transform_cell` automatically in the future. Please pass the result to `transformed_cell` argument and any exception that happen during thetransform in `preprocessing_exc_tuple` in IPython 7.17 and above.\n",
            "  and should_run_async(code)\n"
          ]
        }
      ],
      "source": [
        "import torch\n"
      ]
    },
    {
      "cell_type": "code",
      "execution_count": 17,
      "id": "53a98838-cdd9-418a-841f-8ee5866f5a5d",
      "metadata": {
        "colab": {
          "base_uri": "https://localhost:8080/",
          "height": 252,
          "referenced_widgets": [
            "e8ddb2a2f80f444cba830866d843b949",
            "1cfb09aa8b1e41d3995ab49aa829e3d1",
            "35c40eb8b4af4edb88ea470e20b37408",
            "82d35e95cfe54c319c9793bf4f785f72",
            "7296fa0a113a4bb3ac4957637958842f",
            "5c495acb82dd42639213fe325bcba422",
            "04da12162c624421a2e03e31d242a80b",
            "13e465c84dbe439b887cf66fa07e1346",
            "4bc5a65594dd4882bdd940a811b75f28",
            "7bc0c02c1e55467bad1c1032c087bb95",
            "93f8243db56f4227b8b21a605b5ee9ce",
            "08ea877d119b4d129c4be25c3656fea6",
            "8fc61332099e44f0b3c3672c1e40c62d",
            "5d737a996d5c4fdb833c6a4464f454d0",
            "4ee0e66e774a4b0fb470e6b8de590190",
            "d2c58894169940ebb62ce868e03e8a56",
            "e159c994104142ec96d2c67b97ad1a85",
            "471b21ccbe6e4738b231e018c35c0c5b",
            "8fc7fcfa6881478ebaa7293067d04f34",
            "54c82fa3433b454693e9f7505cc8977f",
            "459c622d837e486f9bc97341dfa1c743",
            "60d194077c7b42b8ae202bc1a907ac45",
            "8cf28cf682e54c15b4a51183565ed098",
            "3390615b48ab44d5979c83c3c2097bd5",
            "fd98e21509ba4b23aa2f4af7d9a24a2a",
            "a6f3d180dd4d4d489766ce80b303d7ad",
            "caa577c1d3424144b9cd32cbd6dbefb5",
            "eb6dca650cd7462a9bb28e9e5741dd6e",
            "45988724d21d4d2e94fa2af44efb8dad",
            "9c5a2bccfa274bb9b13316ebeae4c6e0",
            "003ffecd028e4f32942f8cfab7aa3407",
            "3ad2a1bf8dc1409daee2abb77d1d6c8a",
            "0f43f094aa16434a8b0cccd55480bbfb",
            "bf665b421caf474a82a4fd2219dca3a3",
            "dd60ddc6ae6148938fd5de0c7fba9a86",
            "5b5741417cca45b283b4996551138e9c",
            "5b8eabf99e9842f9998e6d3f43fc6005",
            "10c91df3f2364168a2011bc4175f56fe",
            "7f3b144c10d94f5eb56b5dd9715d1dec",
            "2cd2252e0a9d4c689a6ed1e83bae3b2a",
            "61d0163d547c418c980341ebb4e74763",
            "fa76aabab0fd42bc9c70404138734888",
            "1e9b15ca797d48a9bb6453408dedaf32",
            "ec3c785682a74de4ab5bed49a07d693c"
          ]
        },
        "id": "53a98838-cdd9-418a-841f-8ee5866f5a5d",
        "outputId": "7904e44a-f1fd-4126-f4ca-3320aec25992"
      },
      "outputs": [
        {
          "output_type": "stream",
          "name": "stderr",
          "text": [
            "/usr/local/lib/python3.10/dist-packages/ipykernel/ipkernel.py:283: DeprecationWarning: `should_run_async` will not call `transform_cell` automatically in the future. Please pass the result to `transformed_cell` argument and any exception that happen during thetransform in `preprocessing_exc_tuple` in IPython 7.17 and above.\n",
            "  and should_run_async(code)\n",
            "No model was supplied, defaulted to distilbert/distilbert-base-uncased-finetuned-sst-2-english and revision 714eb0f (https://huggingface.co/distilbert/distilbert-base-uncased-finetuned-sst-2-english).\n",
            "Using a pipeline without specifying a model name and revision in production is not recommended.\n"
          ]
        },
        {
          "output_type": "display_data",
          "data": {
            "text/plain": [
              "config.json:   0%|          | 0.00/629 [00:00<?, ?B/s]"
            ],
            "application/vnd.jupyter.widget-view+json": {
              "version_major": 2,
              "version_minor": 0,
              "model_id": "e8ddb2a2f80f444cba830866d843b949"
            }
          },
          "metadata": {}
        },
        {
          "output_type": "display_data",
          "data": {
            "text/plain": [
              "model.safetensors:   0%|          | 0.00/268M [00:00<?, ?B/s]"
            ],
            "application/vnd.jupyter.widget-view+json": {
              "version_major": 2,
              "version_minor": 0,
              "model_id": "08ea877d119b4d129c4be25c3656fea6"
            }
          },
          "metadata": {}
        },
        {
          "output_type": "display_data",
          "data": {
            "text/plain": [
              "tokenizer_config.json:   0%|          | 0.00/48.0 [00:00<?, ?B/s]"
            ],
            "application/vnd.jupyter.widget-view+json": {
              "version_major": 2,
              "version_minor": 0,
              "model_id": "8cf28cf682e54c15b4a51183565ed098"
            }
          },
          "metadata": {}
        },
        {
          "output_type": "display_data",
          "data": {
            "text/plain": [
              "vocab.txt:   0%|          | 0.00/232k [00:00<?, ?B/s]"
            ],
            "application/vnd.jupyter.widget-view+json": {
              "version_major": 2,
              "version_minor": 0,
              "model_id": "bf665b421caf474a82a4fd2219dca3a3"
            }
          },
          "metadata": {}
        },
        {
          "output_type": "stream",
          "name": "stderr",
          "text": [
            "Hardware accelerator e.g. GPU is available in the environment, but no `device` argument is passed to the `Pipeline` object. Model will be on CPU.\n"
          ]
        }
      ],
      "source": [
        "bert_classifier = pipeline('sentiment-analysis',)\n"
      ]
    },
    {
      "cell_type": "code",
      "execution_count": 18,
      "id": "8236e06f-eab8-4561-a410-b05251af5b21",
      "metadata": {
        "colab": {
          "base_uri": "https://localhost:8080/",
          "height": 359
        },
        "id": "8236e06f-eab8-4561-a410-b05251af5b21",
        "outputId": "cd566074-f7e3-4101-8d52-ee839f0aaeca"
      },
      "outputs": [
        {
          "output_type": "stream",
          "name": "stderr",
          "text": [
            "/usr/local/lib/python3.10/dist-packages/ipykernel/ipkernel.py:283: DeprecationWarning: `should_run_async` will not call `transform_cell` automatically in the future. Please pass the result to `transformed_cell` argument and any exception that happen during thetransform in `preprocessing_exc_tuple` in IPython 7.17 and above.\n",
            "  and should_run_async(code)\n",
            "Token indices sequence length is longer than the specified maximum sequence length for this model (528 > 512). Running this sequence through the model will result in indexing errors\n"
          ]
        },
        {
          "output_type": "error",
          "ename": "RuntimeError",
          "evalue": "The size of tensor a (528) must match the size of tensor b (512) at non-singleton dimension 1",
          "traceback": [
            "\u001b[0;31m---------------------------------------------------------------------------\u001b[0m",
            "\u001b[0;31mRuntimeError\u001b[0m                              Traceback (most recent call last)",
            "\u001b[0;32m<ipython-input-18-67e2bd993aef>\u001b[0m in \u001b[0;36m<cell line: 1>\u001b[0;34m()\u001b[0m\n\u001b[0;32m----> 1\u001b[0;31m \u001b[0mbert_scores\u001b[0m \u001b[0;34m=\u001b[0m \u001b[0mbert_classifier\u001b[0m\u001b[0;34m(\u001b[0m\u001b[0mdf\u001b[0m\u001b[0;34m.\u001b[0m\u001b[0mtrunc_text\u001b[0m\u001b[0;34m.\u001b[0m\u001b[0mtolist\u001b[0m\u001b[0;34m(\u001b[0m\u001b[0;34m)\u001b[0m\u001b[0;34m)\u001b[0m\u001b[0;34m\u001b[0m\u001b[0;34m\u001b[0m\u001b[0m\n\u001b[0m",
            "\u001b[0;32m/usr/local/lib/python3.10/dist-packages/transformers/pipelines/text_classification.py\u001b[0m in \u001b[0;36m__call__\u001b[0;34m(self, inputs, **kwargs)\u001b[0m\n\u001b[1;32m    157\u001b[0m         \"\"\"\n\u001b[1;32m    158\u001b[0m         \u001b[0minputs\u001b[0m \u001b[0;34m=\u001b[0m \u001b[0;34m(\u001b[0m\u001b[0minputs\u001b[0m\u001b[0;34m,\u001b[0m\u001b[0;34m)\u001b[0m\u001b[0;34m\u001b[0m\u001b[0;34m\u001b[0m\u001b[0m\n\u001b[0;32m--> 159\u001b[0;31m         \u001b[0mresult\u001b[0m \u001b[0;34m=\u001b[0m \u001b[0msuper\u001b[0m\u001b[0;34m(\u001b[0m\u001b[0;34m)\u001b[0m\u001b[0;34m.\u001b[0m\u001b[0m__call__\u001b[0m\u001b[0;34m(\u001b[0m\u001b[0;34m*\u001b[0m\u001b[0minputs\u001b[0m\u001b[0;34m,\u001b[0m \u001b[0;34m**\u001b[0m\u001b[0mkwargs\u001b[0m\u001b[0;34m)\u001b[0m\u001b[0;34m\u001b[0m\u001b[0;34m\u001b[0m\u001b[0m\n\u001b[0m\u001b[1;32m    160\u001b[0m         \u001b[0;31m# TODO try and retrieve it in a nicer way from _sanitize_parameters.\u001b[0m\u001b[0;34m\u001b[0m\u001b[0;34m\u001b[0m\u001b[0m\n\u001b[1;32m    161\u001b[0m         \u001b[0m_legacy\u001b[0m \u001b[0;34m=\u001b[0m \u001b[0;34m\"top_k\"\u001b[0m \u001b[0;32mnot\u001b[0m \u001b[0;32min\u001b[0m \u001b[0mkwargs\u001b[0m\u001b[0;34m\u001b[0m\u001b[0;34m\u001b[0m\u001b[0m\n",
            "\u001b[0;32m/usr/local/lib/python3.10/dist-packages/transformers/pipelines/base.py\u001b[0m in \u001b[0;36m__call__\u001b[0;34m(self, inputs, num_workers, batch_size, *args, **kwargs)\u001b[0m\n\u001b[1;32m   1281\u001b[0m                     \u001b[0minputs\u001b[0m\u001b[0;34m,\u001b[0m \u001b[0mnum_workers\u001b[0m\u001b[0;34m,\u001b[0m \u001b[0mbatch_size\u001b[0m\u001b[0;34m,\u001b[0m \u001b[0mpreprocess_params\u001b[0m\u001b[0;34m,\u001b[0m \u001b[0mforward_params\u001b[0m\u001b[0;34m,\u001b[0m \u001b[0mpostprocess_params\u001b[0m\u001b[0;34m\u001b[0m\u001b[0;34m\u001b[0m\u001b[0m\n\u001b[1;32m   1282\u001b[0m                 )\n\u001b[0;32m-> 1283\u001b[0;31m                 \u001b[0moutputs\u001b[0m \u001b[0;34m=\u001b[0m \u001b[0mlist\u001b[0m\u001b[0;34m(\u001b[0m\u001b[0mfinal_iterator\u001b[0m\u001b[0;34m)\u001b[0m\u001b[0;34m\u001b[0m\u001b[0;34m\u001b[0m\u001b[0m\n\u001b[0m\u001b[1;32m   1284\u001b[0m                 \u001b[0;32mreturn\u001b[0m \u001b[0moutputs\u001b[0m\u001b[0;34m\u001b[0m\u001b[0;34m\u001b[0m\u001b[0m\n\u001b[1;32m   1285\u001b[0m             \u001b[0;32melse\u001b[0m\u001b[0;34m:\u001b[0m\u001b[0;34m\u001b[0m\u001b[0;34m\u001b[0m\u001b[0m\n",
            "\u001b[0;32m/usr/local/lib/python3.10/dist-packages/transformers/pipelines/pt_utils.py\u001b[0m in \u001b[0;36m__next__\u001b[0;34m(self)\u001b[0m\n\u001b[1;32m    122\u001b[0m \u001b[0;34m\u001b[0m\u001b[0m\n\u001b[1;32m    123\u001b[0m         \u001b[0;31m# We're out of items within a batch\u001b[0m\u001b[0;34m\u001b[0m\u001b[0;34m\u001b[0m\u001b[0m\n\u001b[0;32m--> 124\u001b[0;31m         \u001b[0mitem\u001b[0m \u001b[0;34m=\u001b[0m \u001b[0mnext\u001b[0m\u001b[0;34m(\u001b[0m\u001b[0mself\u001b[0m\u001b[0;34m.\u001b[0m\u001b[0miterator\u001b[0m\u001b[0;34m)\u001b[0m\u001b[0;34m\u001b[0m\u001b[0;34m\u001b[0m\u001b[0m\n\u001b[0m\u001b[1;32m    125\u001b[0m         \u001b[0mprocessed\u001b[0m \u001b[0;34m=\u001b[0m \u001b[0mself\u001b[0m\u001b[0;34m.\u001b[0m\u001b[0minfer\u001b[0m\u001b[0;34m(\u001b[0m\u001b[0mitem\u001b[0m\u001b[0;34m,\u001b[0m \u001b[0;34m**\u001b[0m\u001b[0mself\u001b[0m\u001b[0;34m.\u001b[0m\u001b[0mparams\u001b[0m\u001b[0;34m)\u001b[0m\u001b[0;34m\u001b[0m\u001b[0;34m\u001b[0m\u001b[0m\n\u001b[1;32m    126\u001b[0m         \u001b[0;31m# We now have a batch of \"inferred things\".\u001b[0m\u001b[0;34m\u001b[0m\u001b[0;34m\u001b[0m\u001b[0m\n",
            "\u001b[0;32m/usr/local/lib/python3.10/dist-packages/transformers/pipelines/pt_utils.py\u001b[0m in \u001b[0;36m__next__\u001b[0;34m(self)\u001b[0m\n\u001b[1;32m    123\u001b[0m         \u001b[0;31m# We're out of items within a batch\u001b[0m\u001b[0;34m\u001b[0m\u001b[0;34m\u001b[0m\u001b[0m\n\u001b[1;32m    124\u001b[0m         \u001b[0mitem\u001b[0m \u001b[0;34m=\u001b[0m \u001b[0mnext\u001b[0m\u001b[0;34m(\u001b[0m\u001b[0mself\u001b[0m\u001b[0;34m.\u001b[0m\u001b[0miterator\u001b[0m\u001b[0;34m)\u001b[0m\u001b[0;34m\u001b[0m\u001b[0;34m\u001b[0m\u001b[0m\n\u001b[0;32m--> 125\u001b[0;31m         \u001b[0mprocessed\u001b[0m \u001b[0;34m=\u001b[0m \u001b[0mself\u001b[0m\u001b[0;34m.\u001b[0m\u001b[0minfer\u001b[0m\u001b[0;34m(\u001b[0m\u001b[0mitem\u001b[0m\u001b[0;34m,\u001b[0m \u001b[0;34m**\u001b[0m\u001b[0mself\u001b[0m\u001b[0;34m.\u001b[0m\u001b[0mparams\u001b[0m\u001b[0;34m)\u001b[0m\u001b[0;34m\u001b[0m\u001b[0;34m\u001b[0m\u001b[0m\n\u001b[0m\u001b[1;32m    126\u001b[0m         \u001b[0;31m# We now have a batch of \"inferred things\".\u001b[0m\u001b[0;34m\u001b[0m\u001b[0;34m\u001b[0m\u001b[0m\n\u001b[1;32m    127\u001b[0m         \u001b[0;32mif\u001b[0m \u001b[0mself\u001b[0m\u001b[0;34m.\u001b[0m\u001b[0mloader_batch_size\u001b[0m \u001b[0;32mis\u001b[0m \u001b[0;32mnot\u001b[0m \u001b[0;32mNone\u001b[0m\u001b[0;34m:\u001b[0m\u001b[0;34m\u001b[0m\u001b[0;34m\u001b[0m\u001b[0m\n",
            "\u001b[0;32m/usr/local/lib/python3.10/dist-packages/transformers/pipelines/base.py\u001b[0m in \u001b[0;36mforward\u001b[0;34m(self, model_inputs, **forward_params)\u001b[0m\n\u001b[1;32m   1207\u001b[0m                 \u001b[0;32mwith\u001b[0m \u001b[0minference_context\u001b[0m\u001b[0;34m(\u001b[0m\u001b[0;34m)\u001b[0m\u001b[0;34m:\u001b[0m\u001b[0;34m\u001b[0m\u001b[0;34m\u001b[0m\u001b[0m\n\u001b[1;32m   1208\u001b[0m                     \u001b[0mmodel_inputs\u001b[0m \u001b[0;34m=\u001b[0m \u001b[0mself\u001b[0m\u001b[0;34m.\u001b[0m\u001b[0m_ensure_tensor_on_device\u001b[0m\u001b[0;34m(\u001b[0m\u001b[0mmodel_inputs\u001b[0m\u001b[0;34m,\u001b[0m \u001b[0mdevice\u001b[0m\u001b[0;34m=\u001b[0m\u001b[0mself\u001b[0m\u001b[0;34m.\u001b[0m\u001b[0mdevice\u001b[0m\u001b[0;34m)\u001b[0m\u001b[0;34m\u001b[0m\u001b[0;34m\u001b[0m\u001b[0m\n\u001b[0;32m-> 1209\u001b[0;31m                     \u001b[0mmodel_outputs\u001b[0m \u001b[0;34m=\u001b[0m \u001b[0mself\u001b[0m\u001b[0;34m.\u001b[0m\u001b[0m_forward\u001b[0m\u001b[0;34m(\u001b[0m\u001b[0mmodel_inputs\u001b[0m\u001b[0;34m,\u001b[0m \u001b[0;34m**\u001b[0m\u001b[0mforward_params\u001b[0m\u001b[0;34m)\u001b[0m\u001b[0;34m\u001b[0m\u001b[0;34m\u001b[0m\u001b[0m\n\u001b[0m\u001b[1;32m   1210\u001b[0m                     \u001b[0mmodel_outputs\u001b[0m \u001b[0;34m=\u001b[0m \u001b[0mself\u001b[0m\u001b[0;34m.\u001b[0m\u001b[0m_ensure_tensor_on_device\u001b[0m\u001b[0;34m(\u001b[0m\u001b[0mmodel_outputs\u001b[0m\u001b[0;34m,\u001b[0m \u001b[0mdevice\u001b[0m\u001b[0;34m=\u001b[0m\u001b[0mtorch\u001b[0m\u001b[0;34m.\u001b[0m\u001b[0mdevice\u001b[0m\u001b[0;34m(\u001b[0m\u001b[0;34m\"cpu\"\u001b[0m\u001b[0;34m)\u001b[0m\u001b[0;34m)\u001b[0m\u001b[0;34m\u001b[0m\u001b[0;34m\u001b[0m\u001b[0m\n\u001b[1;32m   1211\u001b[0m             \u001b[0;32melse\u001b[0m\u001b[0;34m:\u001b[0m\u001b[0;34m\u001b[0m\u001b[0;34m\u001b[0m\u001b[0m\n",
            "\u001b[0;32m/usr/local/lib/python3.10/dist-packages/transformers/pipelines/text_classification.py\u001b[0m in \u001b[0;36m_forward\u001b[0;34m(self, model_inputs)\u001b[0m\n\u001b[1;32m    188\u001b[0m         \u001b[0;32mif\u001b[0m \u001b[0;34m\"use_cache\"\u001b[0m \u001b[0;32min\u001b[0m \u001b[0minspect\u001b[0m\u001b[0;34m.\u001b[0m\u001b[0msignature\u001b[0m\u001b[0;34m(\u001b[0m\u001b[0mmodel_forward\u001b[0m\u001b[0;34m)\u001b[0m\u001b[0;34m.\u001b[0m\u001b[0mparameters\u001b[0m\u001b[0;34m.\u001b[0m\u001b[0mkeys\u001b[0m\u001b[0;34m(\u001b[0m\u001b[0;34m)\u001b[0m\u001b[0;34m:\u001b[0m\u001b[0;34m\u001b[0m\u001b[0;34m\u001b[0m\u001b[0m\n\u001b[1;32m    189\u001b[0m             \u001b[0mmodel_inputs\u001b[0m\u001b[0;34m[\u001b[0m\u001b[0;34m\"use_cache\"\u001b[0m\u001b[0;34m]\u001b[0m \u001b[0;34m=\u001b[0m \u001b[0;32mFalse\u001b[0m\u001b[0;34m\u001b[0m\u001b[0;34m\u001b[0m\u001b[0m\n\u001b[0;32m--> 190\u001b[0;31m         \u001b[0;32mreturn\u001b[0m \u001b[0mself\u001b[0m\u001b[0;34m.\u001b[0m\u001b[0mmodel\u001b[0m\u001b[0;34m(\u001b[0m\u001b[0;34m**\u001b[0m\u001b[0mmodel_inputs\u001b[0m\u001b[0;34m)\u001b[0m\u001b[0;34m\u001b[0m\u001b[0;34m\u001b[0m\u001b[0m\n\u001b[0m\u001b[1;32m    191\u001b[0m \u001b[0;34m\u001b[0m\u001b[0m\n\u001b[1;32m    192\u001b[0m     \u001b[0;32mdef\u001b[0m \u001b[0mpostprocess\u001b[0m\u001b[0;34m(\u001b[0m\u001b[0mself\u001b[0m\u001b[0;34m,\u001b[0m \u001b[0mmodel_outputs\u001b[0m\u001b[0;34m,\u001b[0m \u001b[0mfunction_to_apply\u001b[0m\u001b[0;34m=\u001b[0m\u001b[0;32mNone\u001b[0m\u001b[0;34m,\u001b[0m \u001b[0mtop_k\u001b[0m\u001b[0;34m=\u001b[0m\u001b[0;36m1\u001b[0m\u001b[0;34m,\u001b[0m \u001b[0m_legacy\u001b[0m\u001b[0;34m=\u001b[0m\u001b[0;32mTrue\u001b[0m\u001b[0;34m)\u001b[0m\u001b[0;34m:\u001b[0m\u001b[0;34m\u001b[0m\u001b[0;34m\u001b[0m\u001b[0m\n",
            "\u001b[0;32m/usr/local/lib/python3.10/dist-packages/torch/nn/modules/module.py\u001b[0m in \u001b[0;36m_wrapped_call_impl\u001b[0;34m(self, *args, **kwargs)\u001b[0m\n\u001b[1;32m   1734\u001b[0m             \u001b[0;32mreturn\u001b[0m \u001b[0mself\u001b[0m\u001b[0;34m.\u001b[0m\u001b[0m_compiled_call_impl\u001b[0m\u001b[0;34m(\u001b[0m\u001b[0;34m*\u001b[0m\u001b[0margs\u001b[0m\u001b[0;34m,\u001b[0m \u001b[0;34m**\u001b[0m\u001b[0mkwargs\u001b[0m\u001b[0;34m)\u001b[0m  \u001b[0;31m# type: ignore[misc]\u001b[0m\u001b[0;34m\u001b[0m\u001b[0;34m\u001b[0m\u001b[0m\n\u001b[1;32m   1735\u001b[0m         \u001b[0;32melse\u001b[0m\u001b[0;34m:\u001b[0m\u001b[0;34m\u001b[0m\u001b[0;34m\u001b[0m\u001b[0m\n\u001b[0;32m-> 1736\u001b[0;31m             \u001b[0;32mreturn\u001b[0m \u001b[0mself\u001b[0m\u001b[0;34m.\u001b[0m\u001b[0m_call_impl\u001b[0m\u001b[0;34m(\u001b[0m\u001b[0;34m*\u001b[0m\u001b[0margs\u001b[0m\u001b[0;34m,\u001b[0m \u001b[0;34m**\u001b[0m\u001b[0mkwargs\u001b[0m\u001b[0;34m)\u001b[0m\u001b[0;34m\u001b[0m\u001b[0;34m\u001b[0m\u001b[0m\n\u001b[0m\u001b[1;32m   1737\u001b[0m \u001b[0;34m\u001b[0m\u001b[0m\n\u001b[1;32m   1738\u001b[0m     \u001b[0;31m# torchrec tests the code consistency with the following code\u001b[0m\u001b[0;34m\u001b[0m\u001b[0;34m\u001b[0m\u001b[0m\n",
            "\u001b[0;32m/usr/local/lib/python3.10/dist-packages/torch/nn/modules/module.py\u001b[0m in \u001b[0;36m_call_impl\u001b[0;34m(self, *args, **kwargs)\u001b[0m\n\u001b[1;32m   1745\u001b[0m                 \u001b[0;32mor\u001b[0m \u001b[0m_global_backward_pre_hooks\u001b[0m \u001b[0;32mor\u001b[0m \u001b[0m_global_backward_hooks\u001b[0m\u001b[0;34m\u001b[0m\u001b[0;34m\u001b[0m\u001b[0m\n\u001b[1;32m   1746\u001b[0m                 or _global_forward_hooks or _global_forward_pre_hooks):\n\u001b[0;32m-> 1747\u001b[0;31m             \u001b[0;32mreturn\u001b[0m \u001b[0mforward_call\u001b[0m\u001b[0;34m(\u001b[0m\u001b[0;34m*\u001b[0m\u001b[0margs\u001b[0m\u001b[0;34m,\u001b[0m \u001b[0;34m**\u001b[0m\u001b[0mkwargs\u001b[0m\u001b[0;34m)\u001b[0m\u001b[0;34m\u001b[0m\u001b[0;34m\u001b[0m\u001b[0m\n\u001b[0m\u001b[1;32m   1748\u001b[0m \u001b[0;34m\u001b[0m\u001b[0m\n\u001b[1;32m   1749\u001b[0m         \u001b[0mresult\u001b[0m \u001b[0;34m=\u001b[0m \u001b[0;32mNone\u001b[0m\u001b[0;34m\u001b[0m\u001b[0;34m\u001b[0m\u001b[0m\n",
            "\u001b[0;32m/usr/local/lib/python3.10/dist-packages/transformers/models/distilbert/modeling_distilbert.py\u001b[0m in \u001b[0;36mforward\u001b[0;34m(self, input_ids, attention_mask, head_mask, inputs_embeds, labels, output_attentions, output_hidden_states, return_dict)\u001b[0m\n\u001b[1;32m    976\u001b[0m         \u001b[0mreturn_dict\u001b[0m \u001b[0;34m=\u001b[0m \u001b[0mreturn_dict\u001b[0m \u001b[0;32mif\u001b[0m \u001b[0mreturn_dict\u001b[0m \u001b[0;32mis\u001b[0m \u001b[0;32mnot\u001b[0m \u001b[0;32mNone\u001b[0m \u001b[0;32melse\u001b[0m \u001b[0mself\u001b[0m\u001b[0;34m.\u001b[0m\u001b[0mconfig\u001b[0m\u001b[0;34m.\u001b[0m\u001b[0muse_return_dict\u001b[0m\u001b[0;34m\u001b[0m\u001b[0;34m\u001b[0m\u001b[0m\n\u001b[1;32m    977\u001b[0m \u001b[0;34m\u001b[0m\u001b[0m\n\u001b[0;32m--> 978\u001b[0;31m         distilbert_output = self.distilbert(\n\u001b[0m\u001b[1;32m    979\u001b[0m             \u001b[0minput_ids\u001b[0m\u001b[0;34m=\u001b[0m\u001b[0minput_ids\u001b[0m\u001b[0;34m,\u001b[0m\u001b[0;34m\u001b[0m\u001b[0;34m\u001b[0m\u001b[0m\n\u001b[1;32m    980\u001b[0m             \u001b[0mattention_mask\u001b[0m\u001b[0;34m=\u001b[0m\u001b[0mattention_mask\u001b[0m\u001b[0;34m,\u001b[0m\u001b[0;34m\u001b[0m\u001b[0;34m\u001b[0m\u001b[0m\n",
            "\u001b[0;32m/usr/local/lib/python3.10/dist-packages/torch/nn/modules/module.py\u001b[0m in \u001b[0;36m_wrapped_call_impl\u001b[0;34m(self, *args, **kwargs)\u001b[0m\n\u001b[1;32m   1734\u001b[0m             \u001b[0;32mreturn\u001b[0m \u001b[0mself\u001b[0m\u001b[0;34m.\u001b[0m\u001b[0m_compiled_call_impl\u001b[0m\u001b[0;34m(\u001b[0m\u001b[0;34m*\u001b[0m\u001b[0margs\u001b[0m\u001b[0;34m,\u001b[0m \u001b[0;34m**\u001b[0m\u001b[0mkwargs\u001b[0m\u001b[0;34m)\u001b[0m  \u001b[0;31m# type: ignore[misc]\u001b[0m\u001b[0;34m\u001b[0m\u001b[0;34m\u001b[0m\u001b[0m\n\u001b[1;32m   1735\u001b[0m         \u001b[0;32melse\u001b[0m\u001b[0;34m:\u001b[0m\u001b[0;34m\u001b[0m\u001b[0;34m\u001b[0m\u001b[0m\n\u001b[0;32m-> 1736\u001b[0;31m             \u001b[0;32mreturn\u001b[0m \u001b[0mself\u001b[0m\u001b[0;34m.\u001b[0m\u001b[0m_call_impl\u001b[0m\u001b[0;34m(\u001b[0m\u001b[0;34m*\u001b[0m\u001b[0margs\u001b[0m\u001b[0;34m,\u001b[0m \u001b[0;34m**\u001b[0m\u001b[0mkwargs\u001b[0m\u001b[0;34m)\u001b[0m\u001b[0;34m\u001b[0m\u001b[0;34m\u001b[0m\u001b[0m\n\u001b[0m\u001b[1;32m   1737\u001b[0m \u001b[0;34m\u001b[0m\u001b[0m\n\u001b[1;32m   1738\u001b[0m     \u001b[0;31m# torchrec tests the code consistency with the following code\u001b[0m\u001b[0;34m\u001b[0m\u001b[0;34m\u001b[0m\u001b[0m\n",
            "\u001b[0;32m/usr/local/lib/python3.10/dist-packages/torch/nn/modules/module.py\u001b[0m in \u001b[0;36m_call_impl\u001b[0;34m(self, *args, **kwargs)\u001b[0m\n\u001b[1;32m   1745\u001b[0m                 \u001b[0;32mor\u001b[0m \u001b[0m_global_backward_pre_hooks\u001b[0m \u001b[0;32mor\u001b[0m \u001b[0m_global_backward_hooks\u001b[0m\u001b[0;34m\u001b[0m\u001b[0;34m\u001b[0m\u001b[0m\n\u001b[1;32m   1746\u001b[0m                 or _global_forward_hooks or _global_forward_pre_hooks):\n\u001b[0;32m-> 1747\u001b[0;31m             \u001b[0;32mreturn\u001b[0m \u001b[0mforward_call\u001b[0m\u001b[0;34m(\u001b[0m\u001b[0;34m*\u001b[0m\u001b[0margs\u001b[0m\u001b[0;34m,\u001b[0m \u001b[0;34m**\u001b[0m\u001b[0mkwargs\u001b[0m\u001b[0;34m)\u001b[0m\u001b[0;34m\u001b[0m\u001b[0;34m\u001b[0m\u001b[0m\n\u001b[0m\u001b[1;32m   1748\u001b[0m \u001b[0;34m\u001b[0m\u001b[0m\n\u001b[1;32m   1749\u001b[0m         \u001b[0mresult\u001b[0m \u001b[0;34m=\u001b[0m \u001b[0;32mNone\u001b[0m\u001b[0;34m\u001b[0m\u001b[0;34m\u001b[0m\u001b[0m\n",
            "\u001b[0;32m/usr/local/lib/python3.10/dist-packages/transformers/models/distilbert/modeling_distilbert.py\u001b[0m in \u001b[0;36mforward\u001b[0;34m(self, input_ids, attention_mask, head_mask, inputs_embeds, output_attentions, output_hidden_states, return_dict)\u001b[0m\n\u001b[1;32m    783\u001b[0m         \u001b[0mhead_mask\u001b[0m \u001b[0;34m=\u001b[0m \u001b[0mself\u001b[0m\u001b[0;34m.\u001b[0m\u001b[0mget_head_mask\u001b[0m\u001b[0;34m(\u001b[0m\u001b[0mhead_mask\u001b[0m\u001b[0;34m,\u001b[0m \u001b[0mself\u001b[0m\u001b[0;34m.\u001b[0m\u001b[0mconfig\u001b[0m\u001b[0;34m.\u001b[0m\u001b[0mnum_hidden_layers\u001b[0m\u001b[0;34m)\u001b[0m\u001b[0;34m\u001b[0m\u001b[0;34m\u001b[0m\u001b[0m\n\u001b[1;32m    784\u001b[0m \u001b[0;34m\u001b[0m\u001b[0m\n\u001b[0;32m--> 785\u001b[0;31m         \u001b[0membeddings\u001b[0m \u001b[0;34m=\u001b[0m \u001b[0mself\u001b[0m\u001b[0;34m.\u001b[0m\u001b[0membeddings\u001b[0m\u001b[0;34m(\u001b[0m\u001b[0minput_ids\u001b[0m\u001b[0;34m,\u001b[0m \u001b[0minputs_embeds\u001b[0m\u001b[0;34m)\u001b[0m  \u001b[0;31m# (bs, seq_length, dim)\u001b[0m\u001b[0;34m\u001b[0m\u001b[0;34m\u001b[0m\u001b[0m\n\u001b[0m\u001b[1;32m    786\u001b[0m \u001b[0;34m\u001b[0m\u001b[0m\n\u001b[1;32m    787\u001b[0m         \u001b[0;32mif\u001b[0m \u001b[0mself\u001b[0m\u001b[0;34m.\u001b[0m\u001b[0m_use_flash_attention_2\u001b[0m\u001b[0;34m:\u001b[0m\u001b[0;34m\u001b[0m\u001b[0;34m\u001b[0m\u001b[0m\n",
            "\u001b[0;32m/usr/local/lib/python3.10/dist-packages/torch/nn/modules/module.py\u001b[0m in \u001b[0;36m_wrapped_call_impl\u001b[0;34m(self, *args, **kwargs)\u001b[0m\n\u001b[1;32m   1734\u001b[0m             \u001b[0;32mreturn\u001b[0m \u001b[0mself\u001b[0m\u001b[0;34m.\u001b[0m\u001b[0m_compiled_call_impl\u001b[0m\u001b[0;34m(\u001b[0m\u001b[0;34m*\u001b[0m\u001b[0margs\u001b[0m\u001b[0;34m,\u001b[0m \u001b[0;34m**\u001b[0m\u001b[0mkwargs\u001b[0m\u001b[0;34m)\u001b[0m  \u001b[0;31m# type: ignore[misc]\u001b[0m\u001b[0;34m\u001b[0m\u001b[0;34m\u001b[0m\u001b[0m\n\u001b[1;32m   1735\u001b[0m         \u001b[0;32melse\u001b[0m\u001b[0;34m:\u001b[0m\u001b[0;34m\u001b[0m\u001b[0;34m\u001b[0m\u001b[0m\n\u001b[0;32m-> 1736\u001b[0;31m             \u001b[0;32mreturn\u001b[0m \u001b[0mself\u001b[0m\u001b[0;34m.\u001b[0m\u001b[0m_call_impl\u001b[0m\u001b[0;34m(\u001b[0m\u001b[0;34m*\u001b[0m\u001b[0margs\u001b[0m\u001b[0;34m,\u001b[0m \u001b[0;34m**\u001b[0m\u001b[0mkwargs\u001b[0m\u001b[0;34m)\u001b[0m\u001b[0;34m\u001b[0m\u001b[0;34m\u001b[0m\u001b[0m\n\u001b[0m\u001b[1;32m   1737\u001b[0m \u001b[0;34m\u001b[0m\u001b[0m\n\u001b[1;32m   1738\u001b[0m     \u001b[0;31m# torchrec tests the code consistency with the following code\u001b[0m\u001b[0;34m\u001b[0m\u001b[0;34m\u001b[0m\u001b[0m\n",
            "\u001b[0;32m/usr/local/lib/python3.10/dist-packages/torch/nn/modules/module.py\u001b[0m in \u001b[0;36m_call_impl\u001b[0;34m(self, *args, **kwargs)\u001b[0m\n\u001b[1;32m   1745\u001b[0m                 \u001b[0;32mor\u001b[0m \u001b[0m_global_backward_pre_hooks\u001b[0m \u001b[0;32mor\u001b[0m \u001b[0m_global_backward_hooks\u001b[0m\u001b[0;34m\u001b[0m\u001b[0;34m\u001b[0m\u001b[0m\n\u001b[1;32m   1746\u001b[0m                 or _global_forward_hooks or _global_forward_pre_hooks):\n\u001b[0;32m-> 1747\u001b[0;31m             \u001b[0;32mreturn\u001b[0m \u001b[0mforward_call\u001b[0m\u001b[0;34m(\u001b[0m\u001b[0;34m*\u001b[0m\u001b[0margs\u001b[0m\u001b[0;34m,\u001b[0m \u001b[0;34m**\u001b[0m\u001b[0mkwargs\u001b[0m\u001b[0;34m)\u001b[0m\u001b[0;34m\u001b[0m\u001b[0;34m\u001b[0m\u001b[0m\n\u001b[0m\u001b[1;32m   1748\u001b[0m \u001b[0;34m\u001b[0m\u001b[0m\n\u001b[1;32m   1749\u001b[0m         \u001b[0mresult\u001b[0m \u001b[0;34m=\u001b[0m \u001b[0;32mNone\u001b[0m\u001b[0;34m\u001b[0m\u001b[0;34m\u001b[0m\u001b[0m\n",
            "\u001b[0;32m/usr/local/lib/python3.10/dist-packages/transformers/models/distilbert/modeling_distilbert.py\u001b[0m in \u001b[0;36mforward\u001b[0;34m(self, input_ids, input_embeds)\u001b[0m\n\u001b[1;32m    129\u001b[0m         \u001b[0mposition_embeddings\u001b[0m \u001b[0;34m=\u001b[0m \u001b[0mself\u001b[0m\u001b[0;34m.\u001b[0m\u001b[0mposition_embeddings\u001b[0m\u001b[0;34m(\u001b[0m\u001b[0mposition_ids\u001b[0m\u001b[0;34m)\u001b[0m  \u001b[0;31m# (bs, max_seq_length, dim)\u001b[0m\u001b[0;34m\u001b[0m\u001b[0;34m\u001b[0m\u001b[0m\n\u001b[1;32m    130\u001b[0m \u001b[0;34m\u001b[0m\u001b[0m\n\u001b[0;32m--> 131\u001b[0;31m         \u001b[0membeddings\u001b[0m \u001b[0;34m=\u001b[0m \u001b[0minput_embeds\u001b[0m \u001b[0;34m+\u001b[0m \u001b[0mposition_embeddings\u001b[0m  \u001b[0;31m# (bs, max_seq_length, dim)\u001b[0m\u001b[0;34m\u001b[0m\u001b[0;34m\u001b[0m\u001b[0m\n\u001b[0m\u001b[1;32m    132\u001b[0m         \u001b[0membeddings\u001b[0m \u001b[0;34m=\u001b[0m \u001b[0mself\u001b[0m\u001b[0;34m.\u001b[0m\u001b[0mLayerNorm\u001b[0m\u001b[0;34m(\u001b[0m\u001b[0membeddings\u001b[0m\u001b[0;34m)\u001b[0m  \u001b[0;31m# (bs, max_seq_length, dim)\u001b[0m\u001b[0;34m\u001b[0m\u001b[0;34m\u001b[0m\u001b[0m\n\u001b[1;32m    133\u001b[0m         \u001b[0membeddings\u001b[0m \u001b[0;34m=\u001b[0m \u001b[0mself\u001b[0m\u001b[0;34m.\u001b[0m\u001b[0mdropout\u001b[0m\u001b[0;34m(\u001b[0m\u001b[0membeddings\u001b[0m\u001b[0;34m)\u001b[0m  \u001b[0;31m# (bs, max_seq_length, dim)\u001b[0m\u001b[0;34m\u001b[0m\u001b[0;34m\u001b[0m\u001b[0m\n",
            "\u001b[0;31mRuntimeError\u001b[0m: The size of tensor a (528) must match the size of tensor b (512) at non-singleton dimension 1"
          ]
        }
      ],
      "source": [
        "bert_scores = bert_classifier(df.trunc_text.tolist())"
      ]
    },
    {
      "cell_type": "code",
      "execution_count": null,
      "id": "ee01105a-cec8-4469-a7af-3de2f6017509",
      "metadata": {
        "id": "ee01105a-cec8-4469-a7af-3de2f6017509",
        "outputId": "ab87568c-3d95-438e-fc0f-54bc58d3192c"
      },
      "outputs": [
        {
          "ename": "NameError",
          "evalue": "name 'bert_scores' is not defined",
          "output_type": "error",
          "traceback": [
            "\u001b[0;31m---------------------------------------------------------------------------\u001b[0m",
            "\u001b[0;31mNameError\u001b[0m                                 Traceback (most recent call last)",
            "Cell \u001b[0;32mIn[1], line 1\u001b[0m\n\u001b[0;32m----> 1\u001b[0m df[\u001b[38;5;124m\"\u001b[39m\u001b[38;5;124mbertSent\u001b[39m\u001b[38;5;124m\"\u001b[39m] \u001b[38;5;241m=\u001b[39m  bert_scores\n",
            "\u001b[0;31mNameError\u001b[0m: name 'bert_scores' is not defined"
          ]
        }
      ],
      "source": [
        "df[\"bertSent\"] =  bert_scores\n"
      ]
    },
    {
      "cell_type": "markdown",
      "id": "3076bd61-d425-4197-af63-2caf1790d3de",
      "metadata": {
        "id": "3076bd61-d425-4197-af63-2caf1790d3de"
      },
      "source": [
        "# Topic Modeling"
      ]
    },
    {
      "cell_type": "markdown",
      "id": "bbc56fd2-ab87-49d6-8e40-944d91e19556",
      "metadata": {
        "id": "bbc56fd2-ab87-49d6-8e40-944d91e19556"
      },
      "source": [
        "### Latent Dirichlet Allocation"
      ]
    },
    {
      "cell_type": "code",
      "execution_count": 19,
      "id": "9e6a6e3d-6f44-44de-8820-5f113c739f74",
      "metadata": {
        "colab": {
          "base_uri": "https://localhost:8080/"
        },
        "id": "9e6a6e3d-6f44-44de-8820-5f113c739f74",
        "outputId": "a8d1a06c-db07-42b6-e71a-eb77393e991f"
      },
      "outputs": [
        {
          "output_type": "stream",
          "name": "stderr",
          "text": [
            "/usr/local/lib/python3.10/dist-packages/ipykernel/ipkernel.py:283: DeprecationWarning: `should_run_async` will not call `transform_cell` automatically in the future. Please pass the result to `transformed_cell` argument and any exception that happen during thetransform in `preprocessing_exc_tuple` in IPython 7.17 and above.\n",
            "  and should_run_async(code)\n"
          ]
        }
      ],
      "source": [
        "num_topics = 10"
      ]
    },
    {
      "cell_type": "code",
      "source": [
        "import nltk\n",
        "nltk.download('stopwords')\n"
      ],
      "metadata": {
        "colab": {
          "base_uri": "https://localhost:8080/"
        },
        "id": "9GH6makMMIL1",
        "outputId": "04a02e2e-33c7-4bd5-b9ac-9f3cdf4fb30b"
      },
      "id": "9GH6makMMIL1",
      "execution_count": 22,
      "outputs": [
        {
          "output_type": "stream",
          "name": "stderr",
          "text": [
            "/usr/local/lib/python3.10/dist-packages/ipykernel/ipkernel.py:283: DeprecationWarning: `should_run_async` will not call `transform_cell` automatically in the future. Please pass the result to `transformed_cell` argument and any exception that happen during thetransform in `preprocessing_exc_tuple` in IPython 7.17 and above.\n",
            "  and should_run_async(code)\n",
            "[nltk_data] Downloading package stopwords to /root/nltk_data...\n",
            "[nltk_data]   Unzipping corpora/stopwords.zip.\n"
          ]
        },
        {
          "output_type": "execute_result",
          "data": {
            "text/plain": [
              "True"
            ]
          },
          "metadata": {},
          "execution_count": 22
        }
      ]
    },
    {
      "cell_type": "code",
      "execution_count": 23,
      "id": "88d6fec2-80f8-4a93-8348-b8cde7591d7d",
      "metadata": {
        "colab": {
          "base_uri": "https://localhost:8080/"
        },
        "id": "88d6fec2-80f8-4a93-8348-b8cde7591d7d",
        "outputId": "72dc8b61-1536-4ab9-f351-bdffad082b82"
      },
      "outputs": [
        {
          "output_type": "stream",
          "name": "stderr",
          "text": [
            "/usr/local/lib/python3.10/dist-packages/ipykernel/ipkernel.py:283: DeprecationWarning: `should_run_async` will not call `transform_cell` automatically in the future. Please pass the result to `transformed_cell` argument and any exception that happen during thetransform in `preprocessing_exc_tuple` in IPython 7.17 and above.\n",
            "  and should_run_async(code)\n"
          ]
        }
      ],
      "source": [
        "list_stopwords = stopwords.words(\"english\")\n",
        "porter = PorterStemmer()\n",
        "def process_step(one_str):\n",
        "    nostop_listing = [word for word in wordpunct_tokenize(one_str)\n",
        "                      if word not in list_stopwords]\n",
        "    clean_listing = [porter.stem(word) for word in nostop_listing\n",
        "                    if word.isalpha()\n",
        "                    and len(word) > 3]\n",
        "    clean_listing_str = \" \".join(clean_listing)\n",
        "    return(clean_listing_str)\n",
        "\n",
        "df[\"text_proc\"] = df['en_text'].apply(process_step)"
      ]
    },
    {
      "cell_type": "code",
      "source": [
        "df_jp = df[(df['lang'] == 'ja') ]\n",
        "\n",
        "\n",
        "df_kr = df[(df['lang'] == 'ko') ]\n",
        "\n",
        "df_zh = df[(df['lang'] == 'zh') ]\n",
        "\n",
        "\n",
        "df_es = df[(df['lang'] == 'es') ]\n",
        "\n",
        "\n",
        "df_jpam = df[(df['is_jpam'] == 1) ]\n",
        "\n",
        "df_koram = df[(df['is_koram'] == 1) ]\n",
        "\n",
        "df_zham = df[(df['is_cham'] == 1) ]"
      ],
      "metadata": {
        "colab": {
          "base_uri": "https://localhost:8080/"
        },
        "id": "c9dB_hLiXnph",
        "outputId": "0ebcb7f4-5cc7-439c-bc04-05215fa05c28"
      },
      "id": "c9dB_hLiXnph",
      "execution_count": 139,
      "outputs": [
        {
          "output_type": "stream",
          "name": "stderr",
          "text": [
            "/usr/local/lib/python3.10/dist-packages/ipykernel/ipkernel.py:283: DeprecationWarning: `should_run_async` will not call `transform_cell` automatically in the future. Please pass the result to `transformed_cell` argument and any exception that happen during thetransform in `preprocessing_exc_tuple` in IPython 7.17 and above.\n",
            "  and should_run_async(code)\n"
          ]
        }
      ]
    },
    {
      "cell_type": "code",
      "source": [
        "df_temp = df[\n",
        "           (df['is_jpam'] == 1) ]\n",
        "\n",
        "          #  | (df['is_koram'] == 1) |\n",
        "          #   (df['is_cham'] == 1) | (df['is_aam'] == 1)]\n"
      ],
      "metadata": {
        "colab": {
          "base_uri": "https://localhost:8080/"
        },
        "id": "QvlE95NHO8xH",
        "outputId": "c8ee085b-9ff6-43ea-8eb4-5d9be5673aa0"
      },
      "id": "QvlE95NHO8xH",
      "execution_count": 130,
      "outputs": [
        {
          "output_type": "stream",
          "name": "stderr",
          "text": [
            "/usr/local/lib/python3.10/dist-packages/ipykernel/ipkernel.py:283: DeprecationWarning: `should_run_async` will not call `transform_cell` automatically in the future. Please pass the result to `transformed_cell` argument and any exception that happen during thetransform in `preprocessing_exc_tuple` in IPython 7.17 and above.\n",
            "  and should_run_async(code)\n"
          ]
        }
      ]
    },
    {
      "cell_type": "code",
      "execution_count": 133,
      "id": "df785468-e921-47b2-8d78-3af04e257c2e",
      "metadata": {
        "colab": {
          "base_uri": "https://localhost:8080/"
        },
        "id": "df785468-e921-47b2-8d78-3af04e257c2e",
        "outputId": "8bc085b6-8879-4485-85fb-d1a174dc2e01"
      },
      "outputs": [
        {
          "output_type": "stream",
          "name": "stderr",
          "text": [
            "/usr/local/lib/python3.10/dist-packages/ipykernel/ipkernel.py:283: DeprecationWarning: `should_run_async` will not call `transform_cell` automatically in the future. Please pass the result to `transformed_cell` argument and any exception that happen during thetransform in `preprocessing_exc_tuple` in IPython 7.17 and above.\n",
            "  and should_run_async(code)\n"
          ]
        }
      ],
      "source": [
        "# Preprocess data\n",
        "documents_clean = [gensim.utils.simple_preprocess(doc) for doc in df_temp.text_proc]\n",
        "dictionary = corpora.Dictionary(documents_clean)\n",
        "corpus = [dictionary.doc2bow(doc) for doc in documents_clean]"
      ]
    },
    {
      "cell_type": "code",
      "execution_count": 134,
      "id": "778947c4-8e50-4f13-9bc6-230e3492fead",
      "metadata": {
        "colab": {
          "base_uri": "https://localhost:8080/"
        },
        "id": "778947c4-8e50-4f13-9bc6-230e3492fead",
        "outputId": "3a22cb65-22e4-4cc3-b7ec-71f5f5c70687"
      },
      "outputs": [
        {
          "output_type": "stream",
          "name": "stderr",
          "text": [
            "/usr/local/lib/python3.10/dist-packages/ipykernel/ipkernel.py:283: DeprecationWarning: `should_run_async` will not call `transform_cell` automatically in the future. Please pass the result to `transformed_cell` argument and any exception that happen during thetransform in `preprocessing_exc_tuple` in IPython 7.17 and above.\n",
            "  and should_run_async(code)\n",
            "WARNING:gensim.models.ldamodel:too few updates, training might not converge; consider increasing the number of passes or iterations to improve accuracy\n"
          ]
        }
      ],
      "source": [
        "lda_model = LdaModel(corpus=corpus, num_topics=10, id2word=dictionary, random_state=42)"
      ]
    },
    {
      "cell_type": "code",
      "execution_count": 135,
      "id": "8f8868cc-eab2-4426-9ec1-75c4e10a4d97",
      "metadata": {
        "colab": {
          "base_uri": "https://localhost:8080/"
        },
        "id": "8f8868cc-eab2-4426-9ec1-75c4e10a4d97",
        "outputId": "e3b32860-3f31-40e0-8563-c9be2ec24fd5"
      },
      "outputs": [
        {
          "output_type": "stream",
          "name": "stdout",
          "text": [
            "(0, '0.052*\"shohei\" + 0.037*\"dodger\" + 0.024*\"shoheiohtani\" + 0.021*\"award\" + 0.019*\"today\" + 0.016*\"ohtani\" + 0.013*\"player\" + 0.013*\"stadium\" + 0.013*\"flower\" + 0.010*\"angel\"')\n",
            "(1, '0.018*\"hanshintig\" + 0.017*\"radio\" + 0.007*\"funni\" + 0.007*\"small\" + 0.006*\"approxim\" + 0.005*\"shihtzu\" + 0.004*\"alon\" + 0.004*\"home\" + 0.004*\"messag\" + 0.003*\"dodger\"')\n",
            "(2, '0.077*\"dodger\" + 0.043*\"shoheiohtani\" + 0.027*\"大谷翔平\" + 0.017*\"shohei\" + 0.013*\"losangelesdodg\" + 0.011*\"basebal\" + 0.011*\"ohtani\" + 0.011*\"repost\" + 0.010*\"오타니쇼헤이\" + 0.008*\"blue\"')\n",
            "(3, '0.029*\"shohei\" + 0.028*\"shoheiohtani\" + 0.021*\"ohtani\" + 0.014*\"dodger\" + 0.013*\"spring\" + 0.013*\"game\" + 0.011*\"good\" + 0.011*\"look\" + 0.010*\"train\" + 0.010*\"also\"')\n",
            "(4, '0.028*\"ohtani\" + 0.025*\"shohei\" + 0.019*\"shoheiohtani\" + 0.018*\"unanim\" + 0.017*\"leagu\" + 0.012*\"time\" + 0.012*\"player\" + 0.012*\"home\" + 0.011*\"showtim\" + 0.010*\"base\"')\n",
            "(5, '0.039*\"ippei\" + 0.017*\"shoheiohtani\" + 0.012*\"billion\" + 0.011*\"http\" + 0.011*\"ohtani\" + 0.010*\"princ\" + 0.009*\"million\" + 0.008*\"agent\" + 0.007*\"shohei\" + 0.007*\"station\"')\n",
            "(6, '0.079*\"shohei\" + 0.052*\"shoheiohtani\" + 0.031*\"ohtani\" + 0.025*\"today\" + 0.023*\"dodger\" + 0.017*\"basebal\" + 0.016*\"love\" + 0.013*\"train\" + 0.009*\"want\" + 0.008*\"stadium\"')\n",
            "(7, '0.127*\"shoheiohtani\" + 0.106*\"basebal\" + 0.061*\"baseballplay\" + 0.047*\"mlbbasebal\" + 0.044*\"ohtani\" + 0.037*\"shotim\" + 0.030*\"shohei\" + 0.029*\"大谷翔平\" + 0.028*\"dodger\" + 0.026*\"twowayplay\"')\n",
            "(8, '0.034*\"shohei\" + 0.023*\"thank\" + 0.017*\"angel\" + 0.017*\"today\" + 0.014*\"dodger\" + 0.014*\"work\" + 0.011*\"エンゼルス\" + 0.010*\"shoheiohtani\" + 0.010*\"told\" + 0.009*\"cool\"')\n",
            "(9, '0.093*\"翔平くん\" + 0.071*\"shoheiohtani\" + 0.061*\"ohtanishohei\" + 0.055*\"大谷翔平\" + 0.017*\"おはようございます\" + 0.014*\"shohei\" + 0.013*\"ohtani\" + 0.008*\"ちなみに\" + 0.007*\"camp\" + 0.006*\"time\"')\n"
          ]
        },
        {
          "output_type": "stream",
          "name": "stderr",
          "text": [
            "/usr/local/lib/python3.10/dist-packages/ipykernel/ipkernel.py:283: DeprecationWarning: `should_run_async` will not call `transform_cell` automatically in the future. Please pass the result to `transformed_cell` argument and any exception that happen during thetransform in `preprocessing_exc_tuple` in IPython 7.17 and above.\n",
            "  and should_run_async(code)\n"
          ]
        }
      ],
      "source": [
        "topics = lda_model.print_topics(num_words = 10)\n",
        "\n",
        "for topic in topics:\n",
        "    print(topic)\n"
      ]
    },
    {
      "cell_type": "code",
      "execution_count": 136,
      "id": "7c38cafc-522c-44c8-bcfe-319de0aefbda",
      "metadata": {
        "scrolled": true,
        "colab": {
          "base_uri": "https://localhost:8080/",
          "height": 916
        },
        "id": "7c38cafc-522c-44c8-bcfe-319de0aefbda",
        "outputId": "22f30cd9-1b29-44c6-9e0b-d55b005cae9a"
      },
      "outputs": [
        {
          "output_type": "stream",
          "name": "stderr",
          "text": [
            "/usr/local/lib/python3.10/dist-packages/ipykernel/ipkernel.py:283: DeprecationWarning: `should_run_async` will not call `transform_cell` automatically in the future. Please pass the result to `transformed_cell` argument and any exception that happen during thetransform in `preprocessing_exc_tuple` in IPython 7.17 and above.\n",
            "  and should_run_async(code)\n"
          ]
        },
        {
          "output_type": "execute_result",
          "data": {
            "text/plain": [
              "<IPython.core.display.HTML object>"
            ],
            "text/html": [
              "\n",
              "<link rel=\"stylesheet\" type=\"text/css\" href=\"https://cdn.jsdelivr.net/gh/bmabey/pyLDAvis@3.4.0/pyLDAvis/js/ldavis.v1.0.0.css\">\n",
              "\n",
              "\n",
              "<div id=\"ldavis_el5881403826049501283905448312\" style=\"background-color:white;\"></div>\n",
              "<script type=\"text/javascript\">\n",
              "\n",
              "var ldavis_el5881403826049501283905448312_data = {\"mdsDat\": {\"x\": [0.2962870239132294, 0.04502275611769804, 0.020380739298706402, 0.06702814270359618, 0.022609172794912143, -0.005776433031074787, -0.012069489592027697, -0.11554513716798133, -0.1286037713270819, -0.1893330037099765], \"y\": [-0.10579195715880843, 0.1629533740174194, -0.06045676987845845, 0.01272255568255792, 0.11262451965275243, -0.04901160087153277, 0.06704444902776038, 0.016187818715881267, -0.08809276130534612, -0.0681796278822256], \"topics\": [1, 2, 3, 4, 5, 6, 7, 8, 9, 10], \"cluster\": [1, 1, 1, 1, 1, 1, 1, 1, 1, 1], \"Freq\": [28.452044183812642, 18.903282623244905, 10.520289979770222, 10.175073076331145, 9.648352161150859, 9.480750661074463, 6.010836770015728, 2.829173343678744, 2.622874660840593, 1.3573225400806974]}, \"tinfo\": {\"Term\": [\"\\u7fd4\\u5e73\\u304f\\u3093\", \"basebal\", \"baseballplay\", \"mlbbasebal\", \"dodger\", \"shohei\", \"ohtanishohei\", \"shotim\", \"\\u5927\\u8c37\\u7fd4\\u5e73\", \"mlbnew\", \"mlbnetwork\", \"wbcmvp\", \"twowayplay\", \"shoheiohtani\", \"today\", \"milb\", \"baseballlif\", \"ippei\", \"thank\", \"train\", \"award\", \"spring\", \"angel\", \"\\u304a\\u306f\\u3088\\u3046\\u3054\\u3056\\u3044\\u307e\\u3059\", \"miketrout\", \"laangel\", \"anaheimangel\", \"dodgern\", \"stadium\", \"ohtani\", \"miketrout\", \"laangel\", \"anaheimangel\", \"angelsbasebal\", \"halo\", \"fighter\", \"nipponham\", \"baseballlov\", \"porsch\", \"losangelesangel\", \"mlbnew\", \"mlbnetwork\", \"shotim\", \"mlbbasebal\", \"wbcmvp\", \"samuraijapan\", \"ebata\", \"baba\", \"twowayplay\", \"golf\", \"\\u5c71\\u672c\\u7531\\u4f38\", \"baseballplay\", \"mike\", \"milb\", \"baseballfan\", \"baseballlif\", \"dodgern\", \"sweat\", \"talent\", \"black\", \"basebal\", \"book\", \"ladodg\", \"throwback\", \"\\u305d\\u30fc\\u3044\\u3048\\u3070\", \"shoheiohtani\", \"pic\", \"ohtani\", \"\\u5927\\u8c37\\u7fd4\\u5e73\", \"buddi\", \"dodger\", \"shohei\", \"ohtanishohei\", \"losangelesdodg\", \"look\", \"angel\", \"great\", \"spring\", \"classic\", \"schedul\", \"convers\", \"immers\", \"arizona\", \"screen\", \"forward\", \"taken\", \"broadcast\", \"befor\", \"confer\", \"annual\", \"fulli\", \"strength\", \"rain\", \"react\", \"outman\", \"pronunci\", \"staff\", \"vote\", \"woman\", \"leaguer\", \"gather\", \"forget\", \"self\", \"press\", \"paid\", \"shoe\", \"mention\", \"begin\", \"charli\", \"variou\", \"howev\", \"watch\", \"almost\", \"februari\", \"seem\", \"morn\", \"still\", \"start\", \"next\", \"laughter\", \"happi\", \"live\", \"video\", \"continu\", \"also\", \"train\", \"manag\", \"game\", \"look\", \"like\", \"well\", \"good\", \"team\", \"year\", \"sport\", \"work\", \"feel\", \"post\", \"first\", \"shohei\", \"time\", \"ohtani\", \"shoheiohtani\", \"today\", \"dodger\", \"congratul\", \"thank\", \"right\", \"cool\", \"hank\", \"\\u30df\\u30c3\\u30ad\\u30fc\", \"youtu\", \"\\u3061\\u306a\\u307f\\u306b\", \"\\u3059\\u307f\\u307e\\u305b\\u3093\", \"iwat\", \"\\u3068\\u30df\\u30c3\\u30ad\\u30fc\", \"\\u7fd4\\u5e73\\u304f\\u3093\", \"yuki\", \"\\u4e00\\u5e73\\u3061\\u3083\\u3093\", \"dash\", \"\\u3068\\u3044\\u3046\\u3053\\u3068\\u3067\", \"chicken\", \"\\u3068\\u4e00\\u5e73\\u3061\\u3083\\u3093\", \"\\u79c1\\u306f\\u7fd4\\u5e73\\u304f\\u3093\", \"nippo\", \"sunflow\", \"\\u697d\\u3057\\u307f\\u3060\\u306d\", \"\\u697d\\u3057\\u307f\\u3059\\u304e\\u308b\", \"abil\", \"prefectur\", \"king\", \"acquir\", \"song\", \"\\u30d9\\u30fc\\u30b9\\u30dc\\u30fc\\u30eb\", \"while\", \"brand\", \"host\", \"canada\", \"\\u3084\\u3063\\u3071\\u308a\", \"hanamaki\", \"consid\", \"\\u30c7\\u30b3\\u30d4\\u30f3\", \"\\u7531\\u4f38\\u304f\\u3093\", \"higashi\", \"strongest\", \"count\", \"winner\", \"ohtanishohei\", \"\\u304a\\u306f\\u3088\\u3046\\u3054\\u3056\\u3044\\u307e\\u3059\", \"camp\", \"\\u5927\\u8c37\\u7fd4\\u5e73\", \"bbwaa\", \"full\", \"\\u3042\\u308a\\u304c\\u3068\\u3046\\u3054\\u3056\\u3044\\u307e\\u3059\", \"http\", \"shoheiohtani\", \"count\\u7de8\\u96c6\\u90e8\", \"dinner\", \"otani\", \"time\", \"ohtani\", \"shohei\", \"home\", \"good\", \"today\", \"cool\", \"sport\", \"award\", \"photo\", \"select\", \"shouhei\", \"june\", \"movi\", \"topic\", \"\\u30a4\\u30b3\\u30e9\\u30d6\", \"\\u30a4\\u30b3\\u30e9\\u30d6\\u6cbc\", \"\\u30cb\\u30a2\\u30b8\\u30e7\\u30a4\", \"\\u30ce\\u30a4\\u30df\\u30fc\", \"\\u30e1\\u30f3\\u30d0\\u30fc\\u7d39\\u4ecb\\u3057\\u307e\\u3059\", \"\\u63a8\\u3057\\u3057\\u304b\\u52dd\\u305f\\u3093\", \"leg\", \"heard\", \"\\u4f50\\u3005\\u6728\\u821e\\u9999\", \"\\u306e\\u30a4\\u30f3\\u30bf\\u30d3\\u30e5\\u30fc\", \"\\u5c71\\u672c\\u674f\\u5948\", \"\\u9f4b\\u85e4\\u6a39\\u611b\\u7f85\", \"\\u7027\\u8107\\u7b19\\u53e4\", \"\\u5927\\u5834\\u82b1\\u83dc\", \"\\u91ce\\u53e3\\u8863\\u7e54\", \"\\u5927\\u8c37\\u6620\\u7f8e\\u91cc\", \"reflect\", \"\\u3082\\u3057\\u304b\\u3057\\u305f\\u3089\", \"\\u97f3\\u5d8b\\u8389\\u6c99\", \"\\u8af8\\u6a4b\\u6c99\\u590f\", \"properli\", \"seiza\", \"sincer\", \"involv\", \"diamond\", \"nationwid\", \"dollar\", \"side\", \"wife\", \"school\", \"belov\", \"admir\", \"love\", \"yesterday\", \"want\", \"shohei\", \"instagood\", \"today\", \"train\", \"smile\", \"unicorn\", \"nippon\", \"ohtani\", \"shoheiohtani\", \"homerunk\", \"stadium\", \"peopl\", \"cute\", \"dodger\", \"kyundesu\", \"losangelesdodg\", \"basebal\", \"player\", \"home\", \"like\", \"ohtanishohei\", \"year\", \"dekopin\", \"angel\", \"\\u5927\\u8c37\\u7fd4\\u5e73\", \"look\", \"martinez\", \"present\", \"beyond\", \"samurai\", \"associ\", \"drive\", \"given\", \"birth\", \"baseballboy\", \"valley\", \"most\", \"reason\", \"flowerlov\", \"\\u8594\\u8587\\u597d\\u304d\\u3068\\u7e4b\\u304c\\u308a\\u305f\\u3044\", \"roselov\", \"\\u82b1\\u597d\\u304d\\u3068\\u7e4b\\u304c\\u308a\\u305f\\u3044\", \"\\u30ac\\u30fc\\u30c7\\u30f3\", \"\\u30ac\\u30fc\\u30c7\\u30cb\\u30f3\\u30b0\", \"\\u30d0\\u30e9\\u597d\\u304d\", \"\\u30ed\\u30fc\\u30ba\\u30ac\\u30fc\\u30c7\\u30f3\", \"\\u8594\\u8587\\u597d\\u304d\", \"\\u5199\\u771f\\u597d\\u304d\\u3068\\u7e4b\\u304c\\u308a\\u305f\\u3044\", \"\\u5199\\u771f\\u597d\\u304d\", \"photooftheday\", \"\\u3068\\u8a9e\\u3063\\u305f\", \"fortun\", \"learn\", \"worn\", \"nikkansport\", \"yunobu\", \"flowerstagram\", \"photographi\", \"flower\", \"surround\", \"photograph\", \"award\", \"glove\", \"gift\", \"valuabl\", \"rose\", \"american\", \"stadium\", \"toward\", \"player\", \"shohei\", \"today\", \"dodger\", \"photo\", \"angel\", \"repost\", \"shoheiohtani\", \"ohtani\", \"good\", \"congratul\", \"time\", \"\\u304a\\u306f\\u3088\\u3046\\u3054\\u3056\\u3044\\u307e\\u3059\", \"\\u5927\\u8c37\\u7fd4\\u5e73\", \"post\", \"shoheiotani\", \"page\", \"price\", \"chavezrevin\", \"winforvin\", \"ebbetsfield\", \"ilovelaweloveit\", \"webleedblu\", \"camelbackranch\", \"bleedblu\", \"spotv\", \"winforgavin\", \"brooklyndodg\", \"convey\", \"irresist\", \"\\u30c0\\u30eb\\u30d3\\u30c3\\u30b7\\u30e5\\u6709\", \"dback\", \"detroit\", \"dodgerfamili\", \"squad\", \"teas\", \"sponsor\", \"\\u30c8\\u30e9\\u30a6\\u30bf\\u30cb\", \"summari\", \"compil\", \"assist\", \"bleed\", \"edit\", \"\\u304a\\u30fc\\u305f\\u306b\\u3055\\u3093\", \"gentleman\", \"dodgerstadium\", \"earn\", \"\\u304a\\u3081\\u3067\\u3068\\u3046\", \"\\u3042\\u308a\\u304c\\u3068\\u3046\\u3054\\u3056\\u3044\\u307e\\u3057\\u305f\", \"\\u304a\\u75b2\\u308c\\u69d8\\u3067\\u3057\\u305f\", \"\\uc624\\ud0c0\\ub2c8\\uc1fc\\ud5e4\\uc774\", \"\\u307e\\u305f\\u660e\\u65e5\\u3067\\u3059\", \"hernandez\", \"blue\", \"\\u304a\\u3081\\u3067\\u3068\\u3046\\u3054\\u3056\\u3044\\u307e\\u3059\", \"dodger\", \"repost\", \"homer\", \"\\u30ed\\u30b5\\u30f3\\u30bc\\u30eb\\u30b9\", \"losangelesdodg\", \"\\u5927\\u8c37\\u7fd4\\u5e73\", \"shoheiohtani\", \"\\u30c9\\u30b8\\u30e3\\u30fc\\u30b9\", \"stadium\", \"shohei\", \"game\", \"field\", \"star\", \"ohtani\", \"basebal\", \"angel\", \"unanim\", \"amount\", \"\\u3068\\u8a71\\u3057\\u305f\", \"slug\", \"slugger\", \"percentag\", \"silver\", \"rais\", \"sale\", \"\\u3055\\u3066\\u3055\\u3066\", \"\\u306e\\u7fd4\\u5e73\\u304f\\u3093\", \"jealou\", \"whether\", \"mitsuyama\", \"\\u3068\\u601d\\u3044\\u307e\\u3059\", \"energi\", \"imposs\", \"fulfil\", \"latest\", \"\\u3063\\u3066\\u611f\\u3058\\u3060\\u306d\", \"rotat\", \"phone\", \"hideki\", \"previou\", \"barri\", \"adjust\", \"misora\", \"buffet\", \"known\", \"soar\", \"hitter\", \"showtim\", \"opportun\", \"jersey\", \"multipl\", \"leagu\", \"helmet\", \"goal\", \"chan\", \"run\", \"base\", \"histori\", \"major\", \"gratitud\", \"record\", \"home\", \"player\", \"second\", \"time\", \"year\", \"ohtani\", \"best\", \"shohei\", \"first\", \"angel\", \"congratul\", \"shoheiohtani\", \"hit\", \"even\", \"also\", \"dodger\", \"basebal\", \"award\", \"today\", \"\\u30a8\\u30f3\\u30bc\\u30eb\\u30b9\", \"told\", \"patient\", \"actual\", \"afternoon\", \"yoshida\", \"secret\", \"tani\", \"mickey\", \"hollywood\", \"tanaka\", \"alright\", \"exchang\", \"\\u3053\\u308c\\u304b\\u3089\\u3082\", \"normal\", \"\\u4eca\\u65e5\\u3082\\u7fd4\\u5e73\\u304f\\u3093\", \"creativ\", \"friendli\", \"settl\", \"wall\", \"repli\", \"tiger\", \"paul\", \"eye\", \"fine\", \"comerica\", \"energet\", \"toy\", \"date\", \"persever\", \"director\", \"\\u30a4\\u30f3\\u30bf\\u30d3\\u30e5\\u30fc\", \"brother\", \"thank\", \"anaheim\", \"\\u3042\\u308a\\u304c\\u3068\\u3046\\u3054\\u3056\\u3044\\u307e\\u3059\", \"work\", \"hard\", \"angel\", \"luck\", \"cool\", \"shohei\", \"today\", \"giant\", \"might\", \"stadium\", \"tomorrow\", \"dodger\", \"park\", \"everyon\", \"shoheiohtani\", \"repost\", \"ohtani\", \"yesterday\", \"good\", \"like\", \"billion\", \"agent\", \"princ\", \"skill\", \"version\", \"station\", \"apolog\", \"money\", \"\\u306b\\u3064\\u3044\\u3066\", \"yonni\", \"snow\", \"bought\", \"\\u30d5\\u30ea\\u30fc\\u30de\\u30f3\", \"presid\", \"dear\", \"appoint\", \"\\u3057\\u3066\\u307e\\u3059\", \"accord\", \"husband\", \"bet\", \"develop\", \"venu\", \"shibuya\", \"plaza\", \"balero\", \"\\u3060\\u3068\\u601d\\u3046\", \"ippei\", \"display\", \"fear\", \"matt\", \"\\u30d5\\u30ec\\u30c7\\u30a3\", \"million\", \"mizuhara\", \"decopin\", \"tiktok\", \"scene\", \"kelli\", \"http\", \"titl\", \"understand\", \"interest\", \"journey\", \"past\", \"school\", \"winter\", \"shoheiohtani\", \"ohtani\", \"shohei\", \"dodger\", \"instagram\", \"support\", \"thank\", \"follow\", \"ohtanishohei\", \"small\", \"alon\", \"radio\", \"hanshin\", \"hanshintig\", \"bettaniman\", \"approxim\", \"angri\", \"bear\", \"signific\", \"exhibit\", \"\\u5927\\u8c37\\u7fd4\\u5e73\\u9078\\u624b\", \"father\", \"deck\", \"funni\", \"yudaiyamamoto\", \"kuriyama\", \"curiou\", \"florida\", \"bark\", \"slow\", \"html\", \"\\u3068\\u7531\\u4f38\\u304f\\u3093\", \"shihtzu\", \"\\u5927\\u8c37\\u7fd4\\u5e73\\u3055\\u3093\", \"signatur\", \"outfit\", \"valentin\", \"imagin\", \"upper\", \"messag\", \"spend\", \"figur\", \"captur\", \"distanc\", \"realli\", \"home\", \"tiger\", \"express\", \"year\", \"dodger\", \"ohtani\", \"shohei\", \"today\", \"shoheiohtani\", \"angel\"], \"Freq\": [1306.0, 4374.0, 2335.0, 1764.0, 3243.0, 4224.0, 1405.0, 1383.0, 2398.0, 861.0, 864.0, 885.0, 980.0, 7992.0, 1020.0, 941.0, 942.0, 172.0, 375.0, 425.0, 361.0, 323.0, 628.0, 366.0, 351.0, 346.0, 344.0, 550.0, 430.0, 3310.0, 350.72409825820307, 345.9559430396501, 343.11976584222526, 332.5670687421701, 332.55911121810925, 168.25223942634003, 130.51776234941556, 82.65774398323981, 56.52303729656085, 56.39979344234306, 839.0986719551429, 839.6901132306385, 1340.9797824848213, 1703.8908968552141, 853.9371418857045, 22.24703960317747, 20.823229408639243, 120.48398763571193, 931.8020589251514, 19.93637993023468, 18.451451530062567, 2212.1069446806023, 17.198774861787705, 887.102537871649, 16.121747147091178, 887.0266353344534, 516.8207838431674, 14.995002972974525, 25.604194455588186, 14.083785702540736, 3867.8618943225056, 43.301572812161844, 554.726857785096, 77.64997037189356, 24.51549294257325, 4632.637631614612, 36.84943206912022, 1610.2055378134937, 1068.8731994070492, 32.28466342908041, 1036.1898117375074, 1111.6044234834535, 311.5844040477671, 160.5762892938147, 121.29361469913192, 121.7693658171278, 92.55319720498862, 321.72725593677484, 30.854948644074746, 27.02046363535965, 19.831502175119496, 17.36610592580143, 40.167502981437565, 14.816093738367776, 151.58939806212598, 40.075693798958284, 103.48835657533292, 19.013243092773514, 94.53204152244072, 11.211190288057601, 14.86217201807556, 13.519735259879983, 29.05680135691173, 10.564959748700215, 10.389105117057632, 10.543336240466779, 41.71757230043952, 76.80947461225405, 15.089630482075144, 10.487264519384473, 11.138154993253082, 29.620224153954016, 18.82316860036487, 109.03404014163709, 8.805853534082352, 13.627749717647376, 15.328809387421133, 21.14413229765966, 21.333619355899618, 66.15257717985016, 44.5614117161235, 164.15787970870971, 27.307713295442312, 24.98515957200824, 173.34111380287928, 236.45998888984187, 119.75025147986202, 195.64298423623018, 129.11588388340903, 41.91161197348681, 168.85624597073704, 68.75468461091654, 141.69056747919677, 80.615743011453, 246.61579932794996, 252.04244839741838, 111.51126132780273, 311.90135756525035, 269.217690466147, 230.93390529051217, 137.32273460835452, 269.59475542157867, 171.17106420288246, 204.51366946222527, 111.17120472499836, 145.7761043415519, 84.4525805810456, 138.53970616008888, 173.5111534010924, 691.5992607218553, 211.32031436204971, 505.5776573919589, 671.5002006402165, 231.4710234632893, 351.381452425417, 131.99364479813195, 137.92970096315076, 124.5991590444264, 125.52886399086168, 51.7488071777399, 61.073348261014026, 43.10591973412116, 104.76250428337512, 37.00960797830446, 48.46697138887684, 27.21912480103354, 1256.1469161684558, 22.311780657046434, 23.14183362995914, 19.776661531057144, 20.526051758431322, 18.828088390761767, 18.83410037442671, 17.60304730518208, 16.662221372072196, 15.782942434086976, 14.425647138441152, 12.605999649632714, 16.129218547343783, 16.019061717237236, 32.58764860489854, 12.474602834884024, 14.834397585479437, 11.91824365008736, 17.645297797442822, 20.248623467521053, 12.398249856459028, 13.951986128946706, 11.366084209173762, 29.71093721174958, 20.620516132352037, 71.4598681435098, 31.541576021281923, 22.953642037761853, 29.563553235733444, 39.6617588145442, 49.39534112053714, 830.2278029694457, 232.94862740754624, 89.36264073313701, 737.9575688941273, 22.774257019283432, 80.41007561799694, 43.12173478762094, 59.9949885745359, 955.1125941883146, 37.2453971917633, 33.828239116464445, 69.31360412096902, 87.25246433019025, 177.50139562461428, 188.62455561383322, 56.29604528840018, 47.762847862038704, 50.38252612768558, 38.34849638749272, 35.36769044423609, 36.496101270015245, 35.51203149204952, 45.57367134135928, 72.55607520100837, 36.60647336982216, 23.563754625502924, 22.991370357181175, 21.928120171354188, 21.928120171354188, 21.928120171354188, 21.928120171354188, 21.928120171354188, 21.928120171354188, 20.12607572711088, 20.05907513420683, 20.07716076414238, 18.675230288518662, 19.115720346159705, 17.341511992506454, 17.339067536514495, 17.338830387798858, 17.338830387798858, 17.338588678530993, 18.93796674250045, 16.767004027032485, 16.426835477026717, 17.279749953923485, 13.740884563157715, 19.634127438544528, 13.530608141406404, 18.588178467670595, 10.757005694071902, 13.87059122895507, 35.28224102243548, 51.04288623244892, 67.41572477114575, 53.628178157818084, 33.0571445520709, 38.19631835945978, 207.78106999653306, 101.87433310232946, 123.73122352868404, 1037.8775839335078, 32.37416841250586, 322.62499338827297, 167.6013401116254, 91.54058997987316, 82.1085349201632, 40.81938989945098, 407.4993025678785, 679.1138504518547, 66.8725021939271, 108.51746453950904, 45.528214797160494, 73.6281454948362, 304.2117212194899, 55.99833971368573, 100.88862142541167, 224.320064654584, 82.76555239647031, 77.98290736009808, 71.95255604265468, 95.20799149469883, 56.24403186382307, 45.36639728315531, 55.91429785730538, 63.890393579196164, 49.49768296834609, 44.074696776330065, 52.19713832352262, 27.530107623569524, 19.992754101907018, 19.461778188718387, 17.035689113907274, 20.736237429400703, 20.621830651910578, 13.525570344032431, 14.096758076552328, 54.67425904545036, 12.728238696961075, 52.419439224368276, 48.40876864005752, 56.47116345846949, 48.24595516967367, 48.24062453775917, 48.21291332415061, 48.19790452493649, 48.12205329417899, 48.097645976824644, 47.61191268485522, 47.52898085270128, 52.154279927610766, 14.769429624119534, 38.88322347290247, 10.445552702040361, 13.27603247995677, 17.26505764273476, 12.914329356137621, 52.24623549037174, 57.367551450565436, 158.76635315342006, 53.72684805518087, 116.611197036934, 255.7872328511629, 58.783487219068455, 36.67293705970754, 43.87895101370209, 56.373453465583395, 89.01911397027843, 161.02692163866521, 27.95839463564256, 161.71413205953954, 639.7973762205382, 236.11466982930168, 457.0898606805984, 108.2352261384372, 125.38257454891814, 88.72299722327864, 291.2249970526105, 193.33480632055483, 85.7535382998541, 68.75178619707803, 75.2916095448487, 69.07840488331819, 86.7908118086607, 52.355863726813574, 29.16577858544467, 24.121334170877176, 23.956759633614737, 59.71733290576286, 57.85923329150951, 59.55978962820857, 58.63280783864312, 57.72510677171009, 58.54052892900035, 59.29384256983553, 29.615558240506424, 53.79055321774614, 56.24818528750133, 13.473509770707564, 15.693379311838475, 12.544931641558895, 12.433490991115995, 12.103067111245158, 67.66619750193546, 11.3790031708478, 11.52183519470973, 10.75720978110475, 10.283668462619527, 9.79985504594665, 9.799824592263386, 9.756278658095837, 30.683496673624862, 61.05944797398769, 12.12973462263222, 8.978483797041916, 62.2213168978971, 51.34217906770336, 72.37812169006321, 26.99459244402552, 37.97760141380793, 118.56179242664426, 30.625090758474595, 18.37012067510582, 92.8575919486069, 42.53403617743877, 938.7820677438259, 131.2451990906827, 42.92118889520475, 33.79451180959595, 161.6021671229938, 323.2405953758282, 519.5666017398199, 53.12336542608389, 86.68187393843299, 206.51706092645261, 90.93137240246708, 52.42051141374252, 41.699302135607624, 132.36264246473584, 135.79123427559128, 53.56529228021454, 139.7012271099892, 25.099640130005273, 25.728611724626525, 23.046396571828243, 52.48380032655921, 19.935692690446608, 48.9717768870569, 14.525151846522007, 14.314703478909966, 33.603103749502, 11.292757848729789, 10.88166047848517, 13.000209188908043, 10.336637256140342, 9.882693707144329, 15.230196040795972, 8.987218359828725, 8.4414300111127, 7.82869400295257, 7.458404270540781, 8.804076562133343, 6.880159117472868, 8.503207679337345, 13.66010015085361, 8.969680621679537, 6.588475792291648, 5.503202407065506, 5.52635646015069, 8.152490633850721, 5.07727936632547, 47.80407191176202, 81.47054105651246, 18.62801987921888, 34.18751301925054, 24.534296157041375, 127.54443953015722, 16.457243211640975, 24.64557534619692, 64.6408142113742, 75.3359661565236, 80.66021116299066, 57.79908652941235, 40.586602522975774, 22.154873479394848, 34.558071264320766, 90.18151556902006, 92.42087162681257, 48.15787999594543, 93.66226581515318, 77.30412981750905, 216.39229313632697, 56.97979064799145, 195.56915982349798, 65.68644381296596, 69.11528759870565, 51.24287670889762, 144.0142408722851, 41.061286205237984, 38.15756696797812, 42.90103795299547, 55.913843887923214, 41.08582053911252, 37.10978567297629, 37.51596001180435, 39.68746309940439, 36.5736140872394, 13.391768841076864, 13.194215396503633, 12.464221739159047, 10.880821852324672, 9.904615100490577, 9.88075783884556, 14.170312249892817, 7.296977769159787, 6.656181493882456, 6.4940762154018135, 5.253362927550009, 5.327667379586427, 4.934485403971228, 4.724493991551955, 4.040508050110662, 3.555546078972782, 3.970747898771342, 2.668945235540586, 7.598242376196166, 23.057616889407026, 6.625397248717388, 10.964211946951, 7.166569738309632, 3.7563981676386686, 10.777060812874986, 1.7374642976528394, 19.77133721717561, 1.7475179976022064, 8.687358790332517, 4.4982295782455495, 33.843760386067636, 82.68657550436174, 6.356574662618937, 21.432700751575634, 49.68539127872417, 26.5983976896196, 63.52452033801238, 11.07035778265527, 34.071344848771965, 122.20539352244059, 61.78391157110451, 17.285586560351053, 12.508597040469075, 28.743302546413855, 22.374904079181402, 51.19670116718709, 18.77838616920024, 18.526620667124735, 36.95154300407351, 17.659439090251595, 26.1820837820958, 15.613779292193806, 13.546872743243979, 12.870076696217868, 40.21537209979946, 25.825802873148206, 32.91122039082517, 14.174183127628304, 14.027128833197466, 24.000757147407292, 10.656969088285408, 11.421577121772485, 13.635616778969952, 8.573845168376044, 7.993892417860837, 5.810005184369295, 10.279884709778592, 4.97396138574408, 4.967843201675764, 8.688016525644988, 4.543919231694808, 4.907882803363769, 4.15262544612329, 7.458859905360052, 5.137508874900553, 5.514548580827865, 5.632639369151143, 3.8577092240479587, 3.538781490489502, 3.6017988255796265, 130.5438231728773, 3.0801140095968047, 4.053849670464285, 3.3978551767452916, 4.530852110325305, 29.777070585806843, 14.771328551416634, 18.5137621433795, 17.363925998515068, 12.628220329446593, 18.34217554923606, 37.34075900948389, 13.703117830329191, 7.618425656969727, 10.808717138481972, 8.649925706188347, 9.923585620412338, 13.32985413296412, 8.382973343288002, 57.73329310088717, 35.38025348301696, 24.791248630204585, 23.484942465117122, 10.13603665258896, 10.588526777838736, 9.406380602051305, 8.938900867054446, 9.551630751253775, 11.86193765206732, 7.263997302814922, 30.087977660449994, 5.946794787115213, 31.287948987183203, 4.322035456898061, 9.859286200786919, 3.355378932257136, 3.353597036354627, 3.63894210374636, 3.2125672861691994, 5.915118124847395, 2.6555734355846012, 2.8615455550640636, 12.317087442089948, 2.9087352769251473, 5.899610134947717, 2.95088187039207, 2.268270138131283, 2.0126010291295757, 2.803791402915384, 2.6933615120795626, 3.8759535236156855, 8.497989112555818, 1.1022002580002943, 1.0965337600824832, 5.714692858517054, 2.4932704399505794, 5.044777464091726, 1.0565972488385598, 6.371327278042289, 3.882363644189067, 3.9849077280417475, 4.548844219814271, 4.132319005728718, 5.5774538196216685, 6.621341042452079, 3.8009147581461513, 3.9113797312616057, 5.302149178988217, 6.041641453798502, 6.0379701844894065, 5.420255194280357, 4.7287408772903055, 5.053691202146886, 4.013883663141065], \"Total\": [1306.0, 4374.0, 2335.0, 1764.0, 3243.0, 4224.0, 1405.0, 1383.0, 2398.0, 861.0, 864.0, 885.0, 980.0, 7992.0, 1020.0, 941.0, 942.0, 172.0, 375.0, 425.0, 361.0, 323.0, 628.0, 366.0, 351.0, 346.0, 344.0, 550.0, 430.0, 3310.0, 351.70868899911846, 346.93980851520854, 344.1044419911363, 333.5617947588871, 333.55384579571336, 169.24969487377672, 131.50143078656964, 83.65112825822075, 57.507667331619714, 57.38671050608439, 861.0695890786291, 864.7256175770212, 1383.0197074407145, 1764.0777034931207, 885.2441654249436, 23.27055681825581, 21.834251943209036, 126.54663895169327, 980.6308996668278, 20.991563344151427, 19.43654488540446, 2335.1561615683677, 18.196484500177625, 941.6730424911915, 17.119698746703016, 942.447624383632, 550.5381557091245, 15.993446440962167, 27.390215645030523, 15.068128448617632, 4374.138102925367, 47.003180914894926, 656.3992930899775, 86.50982402298402, 26.36292170681088, 7992.908643866821, 41.44959957730511, 3310.4739427691657, 2398.4758566415653, 36.49936836951692, 3243.7297714634183, 4224.006318070065, 1405.9874681118072, 492.5860680886365, 492.6910225830695, 628.2239485006074, 248.52835935917022, 323.57837880042393, 31.957417593098178, 28.186422177662834, 20.90478022522992, 18.361755690132625, 42.952199384391655, 15.863592493610925, 163.31257225897812, 43.192466768473444, 111.58136654377451, 20.573751317634407, 102.47821728008984, 12.155828590879826, 16.134966608645755, 14.68103115811009, 31.61197881759516, 11.508889328662963, 11.333095096475532, 11.506612470472609, 45.55768839259856, 83.91944428037515, 16.504186330042366, 11.48757711205444, 12.207541832570906, 32.47492235087709, 20.725642115404494, 120.56859871313341, 9.749685551093858, 15.09137971362717, 16.979389314638343, 23.509317750706302, 23.791694518788074, 76.37094671879764, 51.74476540951147, 205.36611786233314, 31.4700309229754, 28.862913698571294, 232.26184193348055, 326.09051705017544, 158.73299065581568, 272.3713738114578, 172.70190355102062, 50.97190468794678, 245.3813511187216, 90.2839799126337, 208.03272856528494, 110.0729417343706, 409.5878225815957, 425.0781976612456, 163.15587910588553, 586.8273406892339, 492.6910225830695, 437.29061369816725, 229.70245405809652, 571.2569385749339, 327.5096391935676, 424.67057279788514, 182.2146230615886, 269.30447194372516, 124.88785792157931, 273.3916692057057, 403.8436972348556, 4224.006318070065, 590.5453817592069, 3310.4739427691657, 7992.908643866821, 1020.5816731257655, 3243.7297714634183, 308.6901288283994, 375.9414764046899, 242.51799694540063, 289.6462388553996, 52.689005365598085, 62.22262019774384, 44.04822227274698, 107.15971615728391, 37.96253196924986, 50.03454432407816, 28.246508112671897, 1306.3440210839856, 23.251389536295203, 24.124049513312322, 20.718085934313486, 21.51924485871597, 19.793445100350105, 19.840940594292494, 18.60694702500596, 17.62236314166217, 16.778608701707366, 15.401391937039348, 13.54542528738578, 17.338811356761838, 17.242686657798384, 35.12912423094766, 13.463914110086588, 16.029100596501802, 12.884579418384744, 19.089383193011674, 21.906185808786756, 13.435904362145395, 15.123363722464159, 12.324569875857165, 32.31053174345594, 22.442079951337856, 80.66689796698303, 35.61084598302223, 25.549159389164497, 33.69468891253387, 46.246654961780926, 60.374722766883075, 1405.9874681118072, 366.17441580218775, 126.98123419116033, 2398.4758566415653, 27.165049311622823, 158.84799180641338, 66.12617910286856, 114.7206112277369, 7992.908643866821, 56.624544357949155, 49.01798654643485, 187.55069571522642, 590.5453817592069, 3310.4739427691657, 4224.006318070065, 454.36915074025404, 571.2569385749339, 1020.5816731257655, 289.6462388553996, 182.2146230615886, 361.47000415742656, 334.33945546649073, 46.51506894662417, 75.01537584448715, 37.99168166399548, 24.504819574388765, 23.932794531077057, 22.911317954436985, 22.911317954436985, 22.911317954436985, 22.911317954436985, 22.911317954436985, 22.911317954436985, 21.067231353636807, 21.000583652828617, 21.08949351944981, 19.62056776505845, 20.149045447180303, 18.353842136918697, 18.35140618867114, 18.351160704737612, 18.35116071746497, 18.350910622868934, 20.078501672812642, 17.785147335469443, 17.439173282223123, 18.358349660575865, 14.682039913560422, 21.026792913076694, 14.54447088769523, 20.066653694950453, 11.698586637365315, 15.10392431068464, 39.925366942086725, 59.985695737281745, 85.30875280853728, 67.81672400548221, 39.68173367864312, 48.9568089785633, 427.89386908759235, 181.14669366021008, 243.94873575855524, 4224.006318070065, 42.04792811280052, 1020.5816731257655, 425.0781976612456, 203.19050894446053, 197.9846697471797, 68.73843347896465, 3310.4739427691657, 7992.908643866821, 157.25333807480365, 430.57203602257107, 87.66325468002968, 215.00736409559462, 3243.7297714634183, 134.37950671547273, 492.5860680886365, 4374.138102925367, 500.74016981424194, 454.36915074025404, 437.29061369816725, 1405.9874681118072, 424.67057279788514, 138.72899052384474, 628.2239485006074, 2398.4758566415653, 492.6910225830695, 45.27964051851142, 53.92159052989023, 28.50113545164806, 20.962025116699444, 20.639524598782927, 18.089512332668328, 22.03648204601077, 22.08190340574544, 14.532312348801975, 15.1589047938115, 58.83594913935393, 13.713187933246225, 56.72788101428399, 52.523249904332616, 61.341069713841414, 52.50564251299129, 52.50037652134924, 52.501365534879, 52.49838599415425, 52.48765929082569, 52.48067216189893, 51.972444962250016, 51.96678286812554, 57.04769802096872, 16.15778045649488, 42.57682631535666, 11.48532469011848, 14.61224619219036, 19.050981328899194, 14.26191110398196, 58.106127365723786, 64.72379969657784, 184.44376350157802, 61.34738791700516, 137.34154266209632, 361.47000415742656, 73.259530041791, 43.87975894286332, 54.242217717270435, 76.11224964805622, 148.46512665909006, 430.57203602257107, 34.10375319586454, 500.74016981424194, 4224.006318070065, 1020.5816731257655, 3243.7297714634183, 334.33945546649073, 628.2239485006074, 292.8152796559324, 7992.908643866821, 3310.4739427691657, 571.2569385749339, 308.6901288283994, 590.5453817592069, 366.17441580218775, 2398.4758566415653, 273.3916692057057, 30.229040766453902, 25.011272253885952, 24.84844884854783, 62.716489145190394, 60.911698804578215, 62.70290032462071, 61.774249936417505, 60.8412019238247, 61.74258315757813, 62.58112576521461, 31.41367189809554, 57.15685949003754, 59.81329641358529, 14.363718910150812, 16.801120588121677, 13.434628370829166, 13.3231048399102, 13.000190538082876, 72.925883264087, 12.26989240625762, 12.450421912263511, 11.647228807464199, 11.173582023278152, 10.690158819417189, 10.69021997628274, 10.647904468187713, 33.54662349271295, 66.93151498614701, 13.30945088995915, 9.868191506763868, 69.46264958906222, 57.770876648297616, 86.75618606235726, 30.86927650755546, 48.55517921054755, 179.1071437726635, 38.31252021843606, 21.675750070737475, 149.49121671739732, 62.424339379195956, 3243.7297714634183, 292.8152796559324, 69.72860127204855, 50.596301686761976, 492.5860680886365, 2398.4758566415653, 7992.908643866821, 111.23133833828453, 430.57203602257107, 4224.006318070065, 586.8273406892339, 173.13028146124054, 86.85356302691922, 3310.4739427691657, 4374.138102925367, 628.2239485006074, 140.8389736938684, 26.077158145902132, 26.764226004927746, 24.11896316699895, 55.25933233102718, 21.0785650036323, 52.18853344392358, 15.501968359464085, 15.291356992239237, 36.27450272326742, 12.289899769906892, 11.858196826542423, 14.28376073927606, 11.428301099964264, 10.948189161035682, 16.877662250292737, 9.978676258192797, 9.529573403390872, 8.854382425249748, 8.477079666170338, 10.014616600839869, 7.86816356018557, 9.734209626934579, 15.64032637462698, 10.34876183942309, 7.691387180364955, 6.479696448851732, 6.5108148198259395, 9.689554527365951, 6.086404991351635, 57.944028317527206, 102.18252303566202, 22.568564229058087, 42.97815681894095, 30.5518565217093, 203.4864303636196, 20.880274918452017, 34.502517965960976, 116.24626240958409, 163.83019645108794, 199.3637567823865, 131.89755720790134, 82.12470410871775, 37.34959189266085, 83.02526008474788, 454.36915074025404, 500.74016981424194, 161.49479089291447, 590.5453817592069, 424.67057279788514, 3310.4739427691657, 239.3417416161847, 4224.006318070065, 403.8436972348556, 628.2239485006074, 308.6901288283994, 7992.908643866821, 180.554783450108, 201.70438313576958, 409.5878225815957, 3243.7297714634183, 4374.138102925367, 361.47000415742656, 1020.5816731257655, 40.84170273975968, 38.94237858180042, 14.38004391304269, 14.182582483951709, 13.54192835194074, 11.922541997471285, 10.892915996910341, 11.146902699089177, 16.11760316211393, 8.369113081628688, 7.644393618253287, 7.482117718377577, 6.295621063701097, 6.469733177707302, 6.085661149644708, 5.8299052785385665, 5.042958459621786, 4.546902553889293, 5.387064809052521, 3.6633590932057483, 10.547136809039477, 32.1643008405063, 9.543317349782239, 16.01984712016768, 10.56090557380864, 5.8873139795066125, 17.134547553328137, 2.791904748386495, 32.17212374224936, 2.8471494074427395, 14.987775982013625, 7.712244896281992, 69.05069213589681, 375.9414764046899, 12.096576330800973, 66.12617910286856, 269.30447194372516, 112.68797356081005, 628.2239485006074, 29.3794572723397, 289.6462388553996, 4224.006318070065, 1020.5816731257655, 79.19757431325283, 44.14151626155517, 430.57203602257107, 215.49158707063253, 3243.7297714634183, 156.68120100875632, 154.42835102665688, 7992.908643866821, 292.8152796559324, 3310.4739427691657, 181.14669366021008, 571.2569385749339, 437.29061369816725, 41.20349489961131, 26.85416113765616, 34.85406021559013, 15.161276308578904, 15.013848203373078, 25.884685450139653, 11.643757120499705, 12.515904356024624, 15.083117756162409, 9.570057847890258, 9.214367153352205, 6.796830864580488, 12.21687206238683, 5.960616028295431, 5.954623573134044, 10.452168729601372, 5.5307864117398555, 6.029598814320829, 5.13929448617495, 9.278283239425345, 6.402624386076201, 6.937445273257201, 7.144986634068689, 4.911052976298317, 4.563141793292608, 4.683935069739263, 172.6782839312179, 4.10312190400402, 5.402315868565667, 4.5386339268992595, 6.105108124461163, 48.15256865801734, 22.546744752843153, 29.36451512864473, 28.270828007375815, 21.248139257507095, 36.34994091441021, 114.7206112277369, 30.68604060281532, 12.75380439854968, 26.23814443784327, 19.26652909165209, 26.2918702204291, 67.81672400548221, 20.497551012099816, 7992.908643866821, 3310.4739427691657, 4224.006318070065, 3243.7297714634183, 78.95962379623074, 166.65399613822655, 375.9414764046899, 39.63241429014788, 1405.9874681118072, 12.87121235336743, 8.272797241165453, 34.3091359080646, 6.955401993816059, 36.65630925745226, 5.332858349017643, 12.5109469863891, 4.363826093912736, 4.3622595509635875, 4.736512019635102, 4.220987982666341, 8.0107759610908, 3.663917069884852, 3.9709383552579274, 17.627704910841526, 4.191430937601069, 8.50264863481931, 4.25813706546511, 3.3672180507615495, 3.020965190226298, 4.45445308457388, 4.447515730361811, 6.5490956364901365, 14.525085504204302, 2.110469453118498, 2.1076299761225274, 11.366540046229373, 5.0519228047077505, 10.406982683476024, 2.1823643622880624, 21.326456261610623, 12.579587051345605, 16.14241756995842, 26.654095564098657, 29.23143114749351, 126.06415121952772, 454.36915074025404, 32.1643008405063, 43.855363747203164, 424.67057279788514, 3243.7297714634183, 3310.4739427691657, 4224.006318070065, 1020.5816731257655, 7992.908643866821, 628.2239485006074], \"Category\": [\"Default\", \"Default\", \"Default\", \"Default\", \"Default\", \"Default\", \"Default\", \"Default\", \"Default\", \"Default\", \"Default\", \"Default\", \"Default\", \"Default\", \"Default\", \"Default\", \"Default\", \"Default\", \"Default\", \"Default\", \"Default\", \"Default\", \"Default\", \"Default\", \"Default\", \"Default\", \"Default\", \"Default\", \"Default\", \"Default\", \"Topic1\", \"Topic1\", \"Topic1\", \"Topic1\", \"Topic1\", \"Topic1\", \"Topic1\", \"Topic1\", \"Topic1\", \"Topic1\", \"Topic1\", \"Topic1\", \"Topic1\", \"Topic1\", \"Topic1\", \"Topic1\", \"Topic1\", \"Topic1\", \"Topic1\", \"Topic1\", \"Topic1\", \"Topic1\", \"Topic1\", \"Topic1\", \"Topic1\", \"Topic1\", \"Topic1\", \"Topic1\", \"Topic1\", \"Topic1\", \"Topic1\", \"Topic1\", \"Topic1\", \"Topic1\", \"Topic1\", \"Topic1\", \"Topic1\", \"Topic1\", \"Topic1\", \"Topic1\", \"Topic1\", \"Topic1\", \"Topic1\", \"Topic1\", \"Topic1\", \"Topic1\", \"Topic1\", \"Topic2\", \"Topic2\", \"Topic2\", \"Topic2\", \"Topic2\", \"Topic2\", \"Topic2\", \"Topic2\", \"Topic2\", \"Topic2\", \"Topic2\", \"Topic2\", \"Topic2\", \"Topic2\", \"Topic2\", \"Topic2\", \"Topic2\", \"Topic2\", \"Topic2\", \"Topic2\", \"Topic2\", \"Topic2\", \"Topic2\", \"Topic2\", \"Topic2\", \"Topic2\", \"Topic2\", \"Topic2\", \"Topic2\", \"Topic2\", \"Topic2\", \"Topic2\", \"Topic2\", \"Topic2\", \"Topic2\", \"Topic2\", \"Topic2\", \"Topic2\", \"Topic2\", \"Topic2\", \"Topic2\", \"Topic2\", \"Topic2\", \"Topic2\", \"Topic2\", \"Topic2\", \"Topic2\", \"Topic2\", \"Topic2\", \"Topic2\", \"Topic2\", \"Topic2\", \"Topic2\", \"Topic2\", \"Topic2\", \"Topic2\", \"Topic2\", \"Topic2\", \"Topic2\", \"Topic2\", \"Topic2\", \"Topic2\", \"Topic2\", \"Topic2\", \"Topic2\", \"Topic2\", \"Topic2\", \"Topic2\", \"Topic2\", \"Topic2\", \"Topic2\", \"Topic2\", \"Topic3\", \"Topic3\", \"Topic3\", \"Topic3\", \"Topic3\", \"Topic3\", \"Topic3\", \"Topic3\", \"Topic3\", \"Topic3\", \"Topic3\", \"Topic3\", \"Topic3\", \"Topic3\", \"Topic3\", \"Topic3\", \"Topic3\", \"Topic3\", \"Topic3\", \"Topic3\", \"Topic3\", \"Topic3\", \"Topic3\", \"Topic3\", \"Topic3\", \"Topic3\", \"Topic3\", \"Topic3\", \"Topic3\", \"Topic3\", \"Topic3\", \"Topic3\", \"Topic3\", \"Topic3\", \"Topic3\", \"Topic3\", \"Topic3\", \"Topic3\", \"Topic3\", \"Topic3\", \"Topic3\", \"Topic3\", \"Topic3\", \"Topic3\", \"Topic3\", \"Topic3\", \"Topic3\", \"Topic3\", \"Topic3\", \"Topic3\", \"Topic3\", \"Topic3\", \"Topic3\", \"Topic3\", \"Topic3\", \"Topic3\", \"Topic3\", \"Topic3\", \"Topic3\", \"Topic3\", \"Topic4\", \"Topic4\", \"Topic4\", \"Topic4\", \"Topic4\", \"Topic4\", \"Topic4\", \"Topic4\", \"Topic4\", \"Topic4\", \"Topic4\", \"Topic4\", \"Topic4\", \"Topic4\", \"Topic4\", \"Topic4\", \"Topic4\", \"Topic4\", \"Topic4\", \"Topic4\", \"Topic4\", \"Topic4\", \"Topic4\", \"Topic4\", \"Topic4\", \"Topic4\", \"Topic4\", \"Topic4\", \"Topic4\", \"Topic4\", \"Topic4\", \"Topic4\", \"Topic4\", \"Topic4\", \"Topic4\", \"Topic4\", \"Topic4\", \"Topic4\", \"Topic4\", \"Topic4\", \"Topic4\", \"Topic4\", \"Topic4\", \"Topic4\", \"Topic4\", \"Topic4\", \"Topic4\", \"Topic4\", \"Topic4\", \"Topic4\", \"Topic4\", \"Topic4\", \"Topic4\", \"Topic4\", \"Topic4\", \"Topic4\", \"Topic4\", \"Topic4\", \"Topic4\", \"Topic4\", \"Topic4\", \"Topic4\", \"Topic4\", \"Topic4\", \"Topic4\", \"Topic4\", \"Topic5\", \"Topic5\", \"Topic5\", \"Topic5\", \"Topic5\", \"Topic5\", \"Topic5\", \"Topic5\", \"Topic5\", \"Topic5\", \"Topic5\", \"Topic5\", \"Topic5\", \"Topic5\", \"Topic5\", \"Topic5\", \"Topic5\", \"Topic5\", \"Topic5\", \"Topic5\", \"Topic5\", \"Topic5\", \"Topic5\", \"Topic5\", \"Topic5\", \"Topic5\", \"Topic5\", \"Topic5\", \"Topic5\", \"Topic5\", \"Topic5\", \"Topic5\", \"Topic5\", \"Topic5\", \"Topic5\", \"Topic5\", \"Topic5\", \"Topic5\", \"Topic5\", \"Topic5\", \"Topic5\", \"Topic5\", \"Topic5\", \"Topic5\", \"Topic5\", \"Topic5\", \"Topic5\", \"Topic5\", \"Topic5\", \"Topic5\", \"Topic5\", \"Topic5\", \"Topic5\", \"Topic5\", \"Topic5\", \"Topic5\", \"Topic5\", \"Topic5\", \"Topic6\", \"Topic6\", \"Topic6\", \"Topic6\", \"Topic6\", \"Topic6\", \"Topic6\", \"Topic6\", \"Topic6\", \"Topic6\", \"Topic6\", \"Topic6\", \"Topic6\", \"Topic6\", \"Topic6\", \"Topic6\", \"Topic6\", \"Topic6\", \"Topic6\", \"Topic6\", \"Topic6\", \"Topic6\", \"Topic6\", \"Topic6\", \"Topic6\", \"Topic6\", \"Topic6\", \"Topic6\", \"Topic6\", \"Topic6\", \"Topic6\", \"Topic6\", \"Topic6\", \"Topic6\", \"Topic6\", \"Topic6\", \"Topic6\", \"Topic6\", \"Topic6\", \"Topic6\", \"Topic6\", \"Topic6\", \"Topic6\", \"Topic6\", \"Topic6\", \"Topic6\", \"Topic6\", \"Topic6\", \"Topic6\", \"Topic6\", \"Topic6\", \"Topic6\", \"Topic6\", \"Topic6\", \"Topic6\", \"Topic6\", \"Topic7\", \"Topic7\", \"Topic7\", \"Topic7\", \"Topic7\", \"Topic7\", \"Topic7\", \"Topic7\", \"Topic7\", \"Topic7\", \"Topic7\", \"Topic7\", \"Topic7\", \"Topic7\", \"Topic7\", \"Topic7\", \"Topic7\", \"Topic7\", \"Topic7\", \"Topic7\", \"Topic7\", \"Topic7\", \"Topic7\", \"Topic7\", \"Topic7\", \"Topic7\", \"Topic7\", \"Topic7\", \"Topic7\", \"Topic7\", \"Topic7\", \"Topic7\", \"Topic7\", \"Topic7\", \"Topic7\", \"Topic7\", \"Topic7\", \"Topic7\", \"Topic7\", \"Topic7\", \"Topic7\", \"Topic7\", \"Topic7\", \"Topic7\", \"Topic7\", \"Topic7\", \"Topic7\", \"Topic7\", \"Topic7\", \"Topic7\", \"Topic7\", \"Topic7\", \"Topic7\", \"Topic7\", \"Topic7\", \"Topic7\", \"Topic7\", \"Topic7\", \"Topic7\", \"Topic7\", \"Topic7\", \"Topic7\", \"Topic7\", \"Topic7\", \"Topic8\", \"Topic8\", \"Topic8\", \"Topic8\", \"Topic8\", \"Topic8\", \"Topic8\", \"Topic8\", \"Topic8\", \"Topic8\", \"Topic8\", \"Topic8\", \"Topic8\", \"Topic8\", \"Topic8\", \"Topic8\", \"Topic8\", \"Topic8\", \"Topic8\", \"Topic8\", \"Topic8\", \"Topic8\", \"Topic8\", \"Topic8\", \"Topic8\", \"Topic8\", \"Topic8\", \"Topic8\", \"Topic8\", \"Topic8\", \"Topic8\", \"Topic8\", \"Topic8\", \"Topic8\", \"Topic8\", \"Topic8\", \"Topic8\", \"Topic8\", \"Topic8\", \"Topic8\", \"Topic8\", \"Topic8\", \"Topic8\", \"Topic8\", \"Topic8\", \"Topic8\", \"Topic8\", \"Topic8\", \"Topic8\", \"Topic8\", \"Topic8\", \"Topic8\", \"Topic8\", \"Topic8\", \"Topic8\", \"Topic8\", \"Topic9\", \"Topic9\", \"Topic9\", \"Topic9\", \"Topic9\", \"Topic9\", \"Topic9\", \"Topic9\", \"Topic9\", \"Topic9\", \"Topic9\", \"Topic9\", \"Topic9\", \"Topic9\", \"Topic9\", \"Topic9\", \"Topic9\", \"Topic9\", \"Topic9\", \"Topic9\", \"Topic9\", \"Topic9\", \"Topic9\", \"Topic9\", \"Topic9\", \"Topic9\", \"Topic9\", \"Topic9\", \"Topic9\", \"Topic9\", \"Topic9\", \"Topic9\", \"Topic9\", \"Topic9\", \"Topic9\", \"Topic9\", \"Topic9\", \"Topic9\", \"Topic9\", \"Topic9\", \"Topic9\", \"Topic9\", \"Topic9\", \"Topic9\", \"Topic9\", \"Topic9\", \"Topic9\", \"Topic9\", \"Topic9\", \"Topic9\", \"Topic9\", \"Topic9\", \"Topic9\", \"Topic9\", \"Topic10\", \"Topic10\", \"Topic10\", \"Topic10\", \"Topic10\", \"Topic10\", \"Topic10\", \"Topic10\", \"Topic10\", \"Topic10\", \"Topic10\", \"Topic10\", \"Topic10\", \"Topic10\", \"Topic10\", \"Topic10\", \"Topic10\", \"Topic10\", \"Topic10\", \"Topic10\", \"Topic10\", \"Topic10\", \"Topic10\", \"Topic10\", \"Topic10\", \"Topic10\", \"Topic10\", \"Topic10\", \"Topic10\", \"Topic10\", \"Topic10\", \"Topic10\", \"Topic10\", \"Topic10\", \"Topic10\", \"Topic10\", \"Topic10\", \"Topic10\", \"Topic10\", \"Topic10\", \"Topic10\", \"Topic10\", \"Topic10\", \"Topic10\", \"Topic10\", \"Topic10\"], \"logprob\": [30.0, 29.0, 28.0, 27.0, 26.0, 25.0, 24.0, 23.0, 22.0, 21.0, 20.0, 19.0, 18.0, 17.0, 16.0, 15.0, 14.0, 13.0, 12.0, 11.0, 10.0, 9.0, 8.0, 7.0, 6.0, 5.0, 4.0, 3.0, 2.0, 1.0, -4.6455, -4.6591, -4.6674, -4.6986, -4.6986, -5.38, -5.6339, -6.0907, -6.4708, -6.473, -3.7731, -3.7724, -3.3043, -3.0648, -3.7556, -7.4032, -7.4694, -5.7139, -3.6683, -7.5129, -7.5903, -2.8038, -7.6606, -3.7175, -7.7253, -3.7176, -4.2578, -7.7977, -7.2627, -7.8604, -2.245, -6.7373, -4.187, -6.1532, -7.3062, -2.0646, -6.8986, -3.1213, -3.5311, -7.0309, -3.5622, -3.4919, -4.7638, -5.4267, -5.7072, -5.7033, -5.9777, -4.3229, -6.6673, -6.8, -7.1093, -7.2421, -6.4035, -7.4009, -5.0754, -6.4058, -5.4571, -7.1514, -5.5476, -7.6797, -7.3978, -7.4924, -6.7273, -7.739, -7.7558, -7.7411, -6.3657, -5.7552, -7.3826, -7.7464, -7.6862, -6.7081, -7.1615, -5.4049, -7.9212, -7.4845, -7.3668, -7.0452, -7.0363, -5.9046, -6.2997, -4.9957, -6.7894, -6.8783, -4.9413, -4.6308, -5.3112, -4.8203, -5.2359, -6.361, -4.9675, -5.866, -5.1429, -5.7069, -4.5887, -4.567, -5.3824, -4.3539, -4.5011, -4.6544, -5.1742, -4.4997, -4.9539, -4.7759, -5.3855, -5.1145, -5.6604, -5.1654, -4.9403, -3.5576, -4.7432, -3.8709, -3.5871, -4.6521, -4.2347, -5.2138, -5.1698, -5.2715, -5.264, -5.5641, -5.3985, -5.7469, -4.8588, -5.8994, -5.6297, -6.2066, -2.3747, -6.4054, -6.3689, -6.526, -6.4888, -6.5752, -6.5749, -6.6425, -6.6974, -6.7516, -6.8415, -6.9764, -6.7299, -6.7368, -6.0266, -6.9868, -6.8136, -7.0325, -6.6401, -6.5025, -6.993, -6.8749, -7.0799, -6.119, -6.4843, -5.2414, -6.0592, -6.3771, -6.124, -5.8302, -5.6107, -2.7888, -4.0597, -5.0178, -2.9067, -6.3849, -5.1234, -5.7465, -5.4163, -2.6487, -5.893, -5.9892, -5.2719, -5.0417, -4.3316, -4.2708, -5.4799, -5.6443, -5.5909, -5.8638, -5.9447, -5.9133, -5.9407, -5.6578, -5.1928, -5.877, -6.3175, -6.3421, -6.3894, -6.3894, -6.3894, -6.3894, -6.3894, -6.3894, -6.4752, -6.4785, -6.4776, -6.55, -6.5267, -6.6241, -6.6242, -6.6242, -6.6242, -6.6242, -6.536, -6.6578, -6.6783, -6.6276, -6.8568, -6.4999, -6.8722, -6.5547, -7.1016, -6.8474, -5.9138, -5.5445, -5.2663, -5.4951, -5.9789, -5.8344, -4.1407, -4.8534, -4.6591, -2.5322, -5.9998, -3.7007, -4.3556, -4.9604, -5.0691, -5.768, -3.4671, -2.9564, -5.2744, -4.7903, -5.6588, -5.1782, -3.7595, -5.4519, -4.8632, -4.0641, -5.0612, -5.1207, -5.2012, -4.9211, -5.4475, -5.6624, -5.4534, -5.32, -5.5753, -5.6381, -5.469, -6.1087, -6.4287, -6.4556, -6.5887, -6.3921, -6.3977, -6.8194, -6.7781, -5.4226, -6.8802, -5.4647, -5.5443, -5.3903, -5.5477, -5.5478, -5.5484, -5.5487, -5.5503, -5.5508, -5.5609, -5.5627, -5.4698, -6.7315, -5.7635, -7.0778, -6.8381, -6.5753, -6.8657, -5.4681, -5.3745, -4.3566, -5.4401, -4.6652, -3.8797, -5.3502, -5.822, -5.6426, -5.392, -4.9352, -4.3425, -6.0933, -4.3382, -2.9629, -3.9597, -3.2991, -4.7397, -4.5927, -4.9385, -3.7499, -4.1596, -4.9725, -5.1935, -5.1027, -5.1888, -4.9605, -5.466, -6.0335, -6.2234, -6.2302, -5.3169, -5.3485, -5.3195, -5.3352, -5.3508, -5.3368, -5.324, -6.0182, -5.4214, -5.3767, -6.8058, -6.6533, -6.8772, -6.8861, -6.913, -5.1919, -6.9747, -6.9623, -7.0309, -7.0759, -7.1241, -7.1241, -7.1286, -5.9828, -5.2947, -6.9108, -7.2117, -5.2758, -5.468, -5.1246, -6.1109, -5.7695, -4.6311, -5.9847, -6.4958, -4.8754, -5.6562, -2.5619, -4.5294, -5.6471, -5.8862, -4.3214, -3.6281, -3.1535, -5.4339, -4.9443, -4.0761, -4.8964, -5.4472, -5.676, -4.521, -4.4954, -5.4256, -4.0113, -5.7279, -5.7032, -5.8133, -4.9903, -5.9583, -5.0596, -6.2749, -6.2895, -5.4362, -6.5266, -6.5637, -6.3858, -6.6151, -6.66, -6.2275, -6.755, -6.8176, -6.893, -6.9415, -6.7756, -7.0222, -6.8104, -6.3363, -6.757, -7.0655, -7.2455, -7.2413, -6.8525, -7.326, -5.0837, -4.5506, -6.0261, -5.4189, -5.7507, -4.1023, -6.15, -5.7462, -4.782, -4.6288, -4.5606, -4.8938, -5.2474, -5.8527, -5.4082, -4.449, -4.4244, -5.0763, -4.4111, -4.6031, -3.5737, -4.9081, -3.6749, -4.7659, -4.715, -5.0142, -3.9809, -5.2357, -5.3091, -5.1919, -4.927, -5.2351, -5.3369, -5.326, -4.5162, -4.5979, -5.6026, -5.6174, -5.6744, -5.8102, -5.9042, -5.9066, -5.5461, -6.2098, -6.3017, -6.3263, -6.5384, -6.5243, -6.601, -6.6445, -6.8009, -6.9287, -6.8183, -7.2155, -6.1693, -5.0592, -6.3063, -5.8026, -6.2278, -6.8738, -5.8198, -7.6448, -5.213, -7.639, -6.0354, -6.6935, -4.6755, -3.7822, -6.3477, -5.1323, -4.2915, -4.9164, -4.0458, -5.793, -4.6688, -3.3915, -4.0736, -5.3473, -5.6708, -4.8388, -5.0893, -4.2615, -5.2645, -5.278, -4.5876, -5.326, -4.9321, -5.4491, -5.5911, -5.6423, -4.4273, -4.8701, -4.6277, -5.4701, -5.4805, -4.9434, -5.7553, -5.686, -5.5088, -5.9728, -6.0428, -6.3619, -5.7913, -6.5173, -6.5185, -5.9596, -6.6077, -6.5307, -6.6978, -6.1121, -6.4849, -6.4141, -6.3929, -6.7714, -6.8577, -6.8401, -3.2498, -6.9965, -6.7218, -6.8984, -6.6106, -4.7278, -5.4288, -5.203, -5.2671, -5.5856, -5.2123, -4.5014, -5.5039, -6.0909, -5.7412, -5.964, -5.8266, -5.5315, -5.9953, -4.0657, -4.5554, -4.911, -4.9651, -5.8054, -5.7617, -5.8801, -5.9311, -5.8648, -4.9894, -5.4798, -4.0586, -5.6799, -4.0195, -5.999, -5.1743, -6.2522, -6.2527, -6.1711, -6.2957, -5.6852, -6.4861, -6.4114, -4.9518, -6.395, -5.6879, -6.3806, -6.6437, -6.7633, -6.4318, -6.472, -6.108, -5.3229, -7.3654, -7.3706, -5.7197, -6.5492, -5.8444, -7.4077, -5.6109, -6.1063, -6.0802, -5.9479, -6.0439, -5.744, -5.5725, -6.1275, -6.0989, -5.7946, -5.6641, -5.6647, -5.7726, -5.9091, -5.8426, -6.073], \"loglift\": [30.0, 29.0, 28.0, 27.0, 26.0, 25.0, 24.0, 23.0, 22.0, 21.0, 20.0, 19.0, 18.0, 17.0, 16.0, 15.0, 14.0, 13.0, 12.0, 11.0, 10.0, 9.0, 8.0, 7.0, 6.0, 5.0, 4.0, 3.0, 2.0, 1.0, 1.2541, 1.2541, 1.2541, 1.254, 1.254, 1.251, 1.2494, 1.245, 1.2397, 1.2396, 1.2311, 1.2276, 1.2261, 1.2222, 1.2209, 1.212, 1.2095, 1.2079, 1.2059, 1.2054, 1.2049, 1.2028, 1.2006, 1.1973, 1.1969, 1.1963, 1.1938, 1.1925, 1.1895, 1.1894, 1.1339, 1.1749, 1.0887, 1.1489, 1.1843, 0.7115, 1.1393, 0.5362, 0.4487, 1.1342, 0.1158, -0.078, -0.2499, 0.1361, -0.1447, -0.3838, 0.2692, 1.6601, 1.6307, 1.6236, 1.6131, 1.6101, 1.5988, 1.5975, 1.5913, 1.5909, 1.5905, 1.587, 1.5851, 1.5849, 1.5837, 1.5834, 1.5816, 1.5803, 1.5789, 1.5784, 1.5778, 1.5773, 1.5762, 1.5747, 1.5742, 1.5738, 1.5696, 1.5653, 1.564, 1.5638, 1.5636, 1.5598, 1.5568, 1.5222, 1.5164, 1.4419, 1.524, 1.5216, 1.3732, 1.3444, 1.384, 1.335, 1.375, 1.4701, 1.2921, 1.3934, 1.2818, 1.3544, 1.1585, 1.1432, 1.2853, 1.0338, 1.0615, 1.0274, 1.1514, 0.9149, 1.017, 0.9352, 1.1717, 1.0521, 1.2746, 0.9861, 0.821, -0.1437, 0.6382, -0.2133, -0.811, 0.1822, -0.5568, 0.8163, 0.6631, 0.9999, 0.8297, 2.2339, 2.2332, 2.2302, 2.2292, 2.2264, 2.22, 2.2148, 2.2127, 2.2106, 2.2103, 2.2054, 2.2046, 2.2019, 2.1998, 2.1964, 2.1958, 2.1907, 2.1864, 2.18, 2.1795, 2.1783, 2.1768, 2.1755, 2.1744, 2.1739, 2.1732, 2.1732, 2.1715, 2.1712, 2.1709, 2.168, 2.1672, 2.1307, 2.1305, 2.1447, 2.1211, 2.0983, 2.0512, 1.7251, 1.7996, 1.9005, 1.0732, 2.0756, 1.5711, 1.8243, 1.6036, 0.1274, 1.833, 1.881, 1.2565, 0.3396, -0.674, -0.8569, 0.1636, -0.2297, -0.7566, 0.2299, 0.6125, -0.0411, 0.0096, 2.2648, 2.2519, 2.2481, 2.2461, 2.2451, 2.2414, 2.2414, 2.2414, 2.2414, 2.2414, 2.2414, 2.2395, 2.2394, 2.236, 2.2358, 2.2326, 2.2285, 2.2285, 2.2285, 2.2285, 2.2285, 2.2267, 2.2263, 2.2254, 2.2247, 2.219, 2.2167, 2.213, 2.2087, 2.2013, 2.2, 2.1616, 2.1238, 2.0498, 2.0505, 2.1026, 2.037, 1.5628, 1.7097, 1.6064, 0.8816, 2.0238, 1.1336, 1.3545, 1.4879, 1.4051, 1.7641, 0.1904, -0.1803, 1.4302, 0.907, 1.6301, 1.2136, -0.0815, 1.4099, 0.6996, -0.6852, 0.4852, 0.5228, 0.4806, -0.4072, 0.2636, 1.1675, -0.1338, -1.3402, -0.0127, 2.3114, 2.3059, 2.3037, 2.291, 2.2796, 2.2784, 2.2776, 2.27, 2.2666, 2.2657, 2.265, 2.2638, 2.2594, 2.2568, 2.2557, 2.2538, 2.2538, 2.2532, 2.2529, 2.2515, 2.2512, 2.2508, 2.2491, 2.2487, 2.2485, 2.2476, 2.2435, 2.2425, 2.2399, 2.2391, 2.2321, 2.2177, 2.1885, 2.2057, 2.1748, 1.9925, 2.1182, 2.159, 2.1264, 2.0382, 1.8269, 1.3548, 2.1397, 1.2081, 0.451, 0.8746, 0.3788, 1.2105, 0.7269, 1.1444, -0.9738, -0.502, 0.442, 0.8365, 0.2787, 0.6705, -0.9807, 0.6855, 2.3201, 2.3197, 2.3194, 2.3069, 2.3045, 2.3045, 2.3037, 2.3033, 2.3027, 2.3019, 2.297, 2.2952, 2.2945, 2.2919, 2.2877, 2.2874, 2.2868, 2.2844, 2.281, 2.2805, 2.2784, 2.2764, 2.2729, 2.269, 2.2689, 2.2685, 2.2667, 2.2641, 2.2631, 2.2614, 2.2458, 2.2379, 2.1747, 2.2218, 2.1102, 1.9434, 2.1319, 2.1904, 1.8797, 1.9723, 1.116, 1.5534, 1.8707, 1.9523, 1.2414, 0.3517, -0.3774, 1.6169, 0.753, -0.6622, 0.4913, 1.1612, 1.6222, -0.8634, -1.1164, -0.1061, 2.8035, 2.7734, 2.7721, 2.7661, 2.7601, 2.7559, 2.748, 2.7465, 2.7456, 2.7351, 2.727, 2.7257, 2.7174, 2.7112, 2.7092, 2.7089, 2.707, 2.6904, 2.6885, 2.6836, 2.6828, 2.6774, 2.6764, 2.6762, 2.6686, 2.6568, 2.6483, 2.6477, 2.6389, 2.6303, 2.6192, 2.5851, 2.6197, 2.5828, 2.5923, 2.3445, 2.5736, 2.4752, 2.2247, 2.0347, 1.9067, 1.9866, 2.1068, 2.2893, 1.9351, 1.1945, 1.1219, 1.6016, 0.9703, 1.108, 0.0839, 1.3764, -0.261, 0.9955, 0.6045, 1.0158, -1.2048, 1.3306, 1.1465, 0.5554, -1.2491, -1.8562, 0.5353, -0.4918, 3.5365, 3.5024, 3.494, 3.4929, 3.4823, 3.4738, 3.4701, 3.4446, 3.4364, 3.4281, 3.4268, 3.4236, 3.3842, 3.371, 3.3555, 3.3549, 3.3436, 3.3192, 3.2601, 3.2485, 3.2372, 3.2323, 3.2003, 3.186, 3.1775, 3.1158, 3.1015, 3.0909, 3.0783, 3.0771, 3.0198, 3.0261, 2.8521, 2.0508, 2.9218, 2.4385, 1.8751, 2.1214, 1.2737, 2.5892, 1.425, 0.0223, 0.7607, 2.0431, 2.3042, 0.8585, 1.3002, -0.5836, 1.4437, 1.4447, -1.8115, 0.7569, -1.2746, 1.114, -0.1765, 0.0395, 3.6166, 3.6019, 3.5835, 3.5736, 3.5729, 3.5653, 3.5523, 3.5494, 3.54, 3.531, 3.4988, 3.484, 3.4683, 3.4599, 3.4597, 3.456, 3.4444, 3.4351, 3.4277, 3.4226, 3.4208, 3.4114, 3.4031, 3.3995, 3.3867, 3.3782, 3.3612, 3.3541, 3.3537, 3.3514, 3.3427, 3.1603, 3.218, 3.1796, 3.1535, 3.1206, 2.9569, 2.5185, 2.8347, 3.1256, 2.754, 2.8401, 2.6666, 2.0141, 2.7468, -1.2896, -0.8978, -1.4971, -1.2872, 1.5881, 0.8848, -0.0471, 2.1517, -1.3509, 4.218, 4.1696, 4.1684, 4.143, 4.1413, 4.0895, 4.0615, 4.0369, 4.0367, 4.036, 4.0267, 3.9964, 3.9778, 3.972, 3.9412, 3.9343, 3.9342, 3.9329, 3.9046, 3.8935, 3.8367, 3.7981, 3.7751, 3.7636, 3.6501, 3.6462, 3.612, 3.5935, 3.5755, 3.5743, 3.0915, 3.124, 2.9007, 2.5316, 2.3433, 1.1816, 0.071, 2.164, 1.8826, -0.0835, -1.9861, -2.0071, -2.3587, -1.0748, -3.0665, -0.7535]}, \"token.table\": {\"Topic\": [3, 9, 3, 8, 7, 1, 4, 8, 9, 1, 2, 3, 7, 10, 8, 1, 2, 3, 4, 5, 6, 7, 8, 9, 10, 1, 2, 3, 4, 5, 6, 7, 8, 7, 1, 2, 4, 5, 8, 1, 1, 2, 3, 4, 5, 6, 7, 8, 9, 10, 1, 10, 2, 9, 3, 9, 6, 10, 2, 3, 9, 6, 5, 1, 3, 4, 5, 7, 1, 3, 4, 5, 7, 9, 10, 7, 1, 2, 3, 4, 5, 6, 7, 8, 9, 10, 1, 2, 3, 4, 5, 6, 7, 8, 9, 10, 5, 1, 1, 2, 3, 4, 5, 6, 7, 9, 1, 1, 2, 3, 4, 5, 6, 7, 9, 3, 5, 10, 2, 8, 1, 2, 2, 4, 5, 6, 1, 2, 3, 4, 5, 6, 7, 8, 10, 9, 10, 5, 9, 5, 8, 1, 2, 6, 2, 6, 1, 2, 3, 5, 6, 7, 10, 1, 8, 9, 3, 2, 3, 7, 2, 6, 1, 2, 3, 4, 5, 6, 8, 1, 3, 4, 6, 7, 7, 2, 6, 1, 3, 5, 3, 3, 10, 2, 5, 6, 7, 2, 6, 2, 6, 3, 2, 2, 8, 6, 2, 5, 6, 8, 1, 2, 3, 4, 5, 6, 7, 8, 9, 10, 3, 5, 1, 2, 4, 5, 6, 7, 8, 9, 2, 6, 1, 2, 3, 4, 5, 6, 7, 8, 9, 10, 1, 3, 4, 1, 3, 4, 5, 6, 8, 8, 10, 1, 2, 3, 4, 5, 6, 7, 8, 3, 3, 8, 6, 9, 10, 1, 4, 5, 6, 7, 9, 1, 2, 3, 4, 5, 6, 7, 9, 6, 9, 4, 2, 3, 5, 8, 9, 1, 2, 3, 4, 6, 10, 1, 2, 3, 4, 5, 6, 7, 8, 9, 10, 2, 4, 6, 7, 1, 2, 3, 4, 5, 6, 7, 9, 2, 4, 6, 9, 1, 4, 5, 1, 2, 4, 5, 6, 7, 1, 2, 6, 2, 3, 6, 5, 8, 5, 7, 1, 2, 3, 4, 5, 6, 7, 8, 9, 10, 1, 2, 3, 4, 5, 6, 7, 8, 9, 8, 10, 1, 2, 5, 6, 7, 10, 1, 8, 10, 9, 2, 6, 1, 2, 3, 5, 6, 7, 9, 1, 2, 3, 4, 5, 6, 7, 8, 9, 1, 3, 7, 10, 2, 8, 9, 1, 2, 3, 4, 5, 6, 7, 8, 9, 10, 10, 1, 3, 5, 7, 1, 5, 7, 1, 5, 7, 1, 2, 3, 5, 7, 8, 9, 1, 2, 7, 2, 5, 8, 1, 2, 3, 4, 5, 6, 8, 9, 8, 7, 1, 2, 3, 4, 5, 6, 8, 2, 5, 6, 7, 10, 1, 2, 3, 4, 5, 6, 7, 8, 9, 10, 2, 6, 1, 2, 4, 5, 6, 7, 8, 1, 5, 9, 5, 1, 2, 5, 6, 7, 1, 7, 1, 1, 2, 3, 4, 5, 6, 7, 8, 9, 10, 4, 7, 10, 1, 2, 3, 4, 5, 6, 7, 8, 9, 10, 1, 3, 6, 3, 10, 5, 10, 1, 2, 3, 4, 5, 6, 7, 8, 9, 10, 1, 2, 3, 4, 5, 6, 7, 8, 4, 2, 3, 6, 7, 2, 6, 7, 3, 6, 1, 2, 3, 4, 5, 6, 7, 9, 10, 1, 2, 3, 4, 5, 6, 7, 8, 10, 2, 3, 5, 6, 7, 8, 8, 1, 2, 3, 4, 5, 6, 7, 8, 9, 10, 1, 2, 3, 4, 5, 6, 7, 1, 2, 3, 4, 5, 6, 7, 9, 3, 2, 3, 4, 9, 10, 1, 2, 3, 4, 5, 6, 7, 8, 9, 10, 9, 2, 5, 6, 1, 2, 10, 2, 7, 1, 3, 4, 7, 1, 2, 3, 5, 6, 9, 5, 9, 4, 9, 1, 9, 6, 3, 5, 7, 4, 7, 2, 7, 9, 1, 4, 1, 6, 7, 9, 3, 9, 7, 5, 6, 10, 1, 2, 3, 4, 6, 7, 9, 1, 1, 2, 3, 4, 5, 6, 7, 9, 7, 1, 2, 5, 1, 2, 3, 4, 5, 6, 7, 8, 9, 2, 5, 4, 1, 2, 3, 4, 5, 6, 7, 8, 9, 10, 1, 2, 3, 4, 5, 6, 7, 9, 10, 1, 2, 3, 4, 5, 6, 7, 8, 9, 10, 1, 1, 2, 3, 4, 5, 6, 7, 8, 9, 10, 1, 2, 3, 4, 5, 6, 7, 8, 9, 10, 1, 3, 5, 6, 8, 9, 1, 2, 4, 5, 6, 7, 9, 10, 1, 2, 3, 4, 5, 6, 7, 9, 10, 5, 9, 2, 5, 1, 4, 5, 7, 10, 5, 8, 1, 5, 7, 8, 1, 1, 1, 2, 3, 4, 5, 6, 7, 9, 1, 2, 3, 4, 9, 7, 7, 1, 9, 1, 2, 3, 4, 5, 6, 7, 9, 1, 2, 4, 5, 6, 7, 1, 2, 4, 5, 6, 7, 9, 1, 2, 3, 4, 5, 7, 8, 1, 4, 5, 4, 2, 6, 7, 9, 4, 1, 2, 3, 4, 5, 6, 7, 8, 9, 10, 5, 7, 3, 1, 4, 1, 8, 1, 2, 3, 4, 5, 6, 7, 8, 9, 10, 1, 2, 3, 4, 5, 6, 7, 8, 9, 10, 1, 5, 7, 1, 2, 3, 4, 5, 6, 7, 8, 9, 5, 10, 2, 6, 2, 1, 2, 3, 4, 5, 6, 7, 8, 10, 2, 4, 5, 9, 8, 6, 8, 1, 3, 4, 5, 6, 9, 7, 8, 7, 1, 2, 3, 4, 5, 6, 7, 8, 9, 1, 2, 3, 5, 7, 8, 1, 3, 5, 7, 1, 5, 7, 1, 2, 3, 4, 1, 2, 3, 4, 5, 6, 7, 8, 9, 10, 9, 1, 1, 2, 3, 4, 5, 6, 7, 8, 9, 3, 1, 5, 9, 1, 2, 5, 6, 8, 1, 7, 6, 6, 9, 2, 4, 2, 10, 1, 2, 4, 7, 2, 1, 2, 3, 4, 5, 6, 7, 9, 10, 5, 1, 2, 3, 4, 5, 6, 7, 8, 4, 6, 8, 1, 2, 3, 4, 5, 6, 7, 8, 9, 10, 1, 2, 3, 4, 5, 6, 7, 8, 9, 1, 3, 5, 7, 1, 5, 7, 7, 1, 2, 3, 4, 5, 6, 7, 9, 10, 7, 5, 1, 2, 4, 6, 9, 2, 4, 9, 2, 1, 2, 3, 4, 5, 6, 7, 8, 8, 1, 2, 3, 4, 5, 6, 7, 8, 9, 10, 4, 6, 4, 2, 4, 8, 5, 9, 7, 10, 2, 1, 2, 3, 4, 5, 6, 7, 8, 9, 10, 1, 2, 3, 4, 5, 6, 7, 8, 9, 10, 6, 1, 2, 3, 4, 5, 6, 7, 9, 1, 4, 5, 7, 3, 4, 5, 6, 10, 10, 1, 7, 4, 9, 6, 10, 7, 1, 7, 10, 1, 3, 4, 5, 6, 7, 8, 9, 7, 3, 4, 10, 6, 1, 2, 3, 7, 4, 6, 2, 6, 6, 1, 2, 3, 4, 5, 6, 7, 8, 9, 10, 2, 6, 7, 1, 2, 3, 4, 5, 6, 7, 1, 2, 3, 4, 5, 6, 7, 8, 9, 10, 1, 9, 1, 2, 3, 4, 5, 6, 7, 8, 9, 10, 2, 3, 4, 6, 3, 1, 2, 3, 4, 5, 6, 7, 8, 9, 1, 3, 5, 7, 1, 2, 6, 1, 4, 8, 8, 1, 2, 3, 4, 5, 6, 7, 8, 9, 10, 6, 1, 2, 3, 4, 5, 6, 7, 8, 9, 10, 1, 4, 7, 2, 5, 6, 8, 10, 1, 2, 3, 6, 7, 9, 1, 2, 3, 4, 5, 6, 7, 8, 9, 10, 1, 3, 4, 9, 1, 2, 3, 4, 5, 6, 7, 8, 9, 10, 1, 8, 1, 2, 3, 4, 5, 6, 7, 8, 9, 10, 4, 1, 4, 5, 8, 1, 2, 4, 6, 1, 2, 3, 4, 5, 6, 7, 9, 7, 2, 9, 10, 1, 2, 3, 4, 6, 7, 9, 10, 2, 10, 5, 2, 3, 5, 6, 7, 2, 5, 6, 9, 9, 9, 1, 2, 3, 4, 5, 6, 7, 10, 2, 3, 4, 5, 8, 1, 2, 3, 4, 5, 7, 9, 10, 1, 2, 3, 4, 5, 6, 7, 9, 10, 1, 2, 3, 4, 5, 6, 7, 9, 2, 6, 1, 2, 3, 4, 5, 6, 7, 8, 9, 7, 3, 5, 1, 2, 4, 5, 6, 9, 2, 5, 6, 2, 6, 1, 3, 1, 3, 4, 9, 2, 1, 2, 3, 4, 5, 6, 7, 8, 9, 5, 1, 2, 3, 4, 5, 6, 7, 9, 10, 1, 2, 3, 4, 5, 6, 7, 8, 9, 10, 9, 8, 3, 10, 3, 5, 6, 2, 6, 1, 3, 8, 1, 3, 5, 6, 7, 9, 4, 6, 7, 2, 3, 5, 6, 8, 9, 6, 1, 2, 3, 4, 5, 6, 8, 7, 8, 9, 3, 1, 6, 9, 3, 9, 7, 3, 3, 3, 7, 8, 10, 7, 5, 2, 9, 4, 7, 2, 4, 5, 6, 4, 3, 4, 4, 2, 8, 8, 1, 5, 7, 1, 5, 6, 2, 3, 5, 6, 7, 8, 6, 1, 2, 3, 5, 6, 7, 8, 9, 4, 4, 1, 5, 7, 6, 9, 9, 3, 3, 4, 3, 5, 6, 1, 5, 7, 3, 8, 4, 1, 5, 7, 1, 5, 4, 4, 1, 2, 3, 4, 5, 6, 7, 8, 9, 10, 10, 3, 10, 4, 1, 4, 3, 3, 4, 3, 4, 6, 7, 3, 1, 2, 3, 4, 6, 7, 8, 9, 1, 5, 7, 1, 5, 1, 5, 4, 4, 4, 4, 1, 2, 3, 4, 5, 6, 7, 8, 9, 10], \"Freq\": [0.9227852861874685, 0.8292425672043983, 0.8912712827698532, 0.916617267321388, 0.9101089095956617, 0.20426167899093864, 0.7761943801655669, 0.8861367220481741, 0.9681925965485321, 0.03177626366010106, 0.8579591188227288, 0.03177626366010106, 0.03177626366010106, 0.8461466896792766, 0.801912002167889, 0.019531830681822304, 0.6030452723012636, 0.07080288622160584, 0.048829576704555754, 0.09521767457388372, 0.019531830681822304, 0.10498358991479488, 0.017090351846594513, 0.017090351846594513, 0.004882957670455576, 0.006735588501508702, 0.10776941602413923, 0.13471177003017404, 0.08082706201810441, 0.5994673766342744, 0.040413531009052206, 0.013471177003017403, 0.006735588501508702, 0.9586934228079833, 0.08266801883883, 0.24800405651649002, 0.08266801883883, 0.08266801883883, 0.49600811303298004, 0.9967903872883898, 0.19419826367838958, 0.19419826367838958, 0.01591789046544177, 0.08914018660647391, 0.1989736308180221, 0.08595660851338555, 0.10983344421154821, 0.10187449897882732, 0.006367156186176707, 0.006367156186176707, 0.9983157700680523, 0.6874701088993469, 0.9049156886148417, 0.9447122510511385, 0.09567392431849293, 0.8610653188664363, 0.15986000117943416, 0.7993000058971709, 0.9312677947415086, 0.023281694868537716, 0.023281694868537716, 0.9391519270178063, 0.9205638390101482, 0.0691620320150052, 0.0995933261016075, 0.016598887683601248, 0.7082192078336533, 0.10235980738220771, 0.9482669867337028, 0.007902224889447524, 0.015804449778895047, 0.007902224889447524, 0.007902224889447524, 0.8765890215990276, 0.6620400680122307, 0.8696692550904931, 0.05015956842604746, 0.1404467915929329, 0.0752393526390712, 0.04012765474083797, 0.22070210107460883, 0.04514361158344272, 0.40629250425098445, 0.01504787052781424, 0.010031913685209493, 0.005015956842604747, 0.8842884950095955, 0.009373275153927977, 0.004115096409041551, 0.05121008864585041, 0.008458809285252077, 0.031091839534980608, 0.009373275153927977, 0.00022861646716897506, 0.0013716988030138503, 0.00022861646716897506, 0.9633704302504991, 0.934595884935262, 0.9411663598601617, 0.0042442676882081705, 0.01591600383078064, 0.023343472285144936, 0.003183200766156128, 0.006366401532312256, 0.003183200766156128, 0.0010610669220520426, 0.9922161449369721, 0.9472599890340302, 0.00171294753894038, 0.008992974579436996, 0.016701238504668706, 0.00256942130841057, 0.01798594915887399, 0.00342589507788076, 0.001284710654205285, 0.8466761733489375, 0.11043602261073097, 0.6877169881689695, 0.9235068367777199, 0.04860562298830105, 0.04253632583488972, 0.8932628425326842, 0.07560153556533275, 0.8316168912186602, 0.025200511855110914, 0.025200511855110914, 0.16712504776598958, 0.288290707396332, 0.07938439768884505, 0.012534378582449218, 0.15459066918354036, 0.03760313574734765, 0.23815319306653512, 0.01671250477659896, 0.00417812619414974, 0.754449914856614, 0.7500668006186276, 0.9824170004560614, 0.9707914364414106, 0.9510049751660474, 0.04528595119838321, 0.9291133963809803, 0.059618518699339235, 0.9240870398397582, 0.015979258726531966, 0.942776264865386, 0.07358291839175227, 0.23412746761012088, 0.006689356217432024, 0.040136137304592145, 0.6221101282211783, 0.026757424869728097, 0.006689356217432024, 0.914831702089627, 0.0638254675876484, 0.8827643529085125, 0.9129841303536206, 0.9230931936972833, 0.05377241905032718, 0.008962069841721196, 0.033437381316869595, 0.9362466768723486, 0.014482114068196838, 0.014482114068196838, 0.07241057034098419, 0.1593032547501652, 0.24619593915934626, 0.014482114068196838, 0.4923918783186925, 0.8767275004880729, 0.02739773439025228, 0.05479546878050456, 0.02739773439025228, 0.02739773439025228, 0.9215436417772982, 0.016196277331769888, 0.9555803625744235, 0.18900430565881787, 0.7008909668181162, 0.10237733223185967, 0.9257199824668951, 0.7878714154640325, 0.18758843225334107, 0.21506067792454753, 0.20645825080756564, 0.017204854233963802, 0.5591577626038235, 0.8826609631952235, 0.04203147443786778, 0.015944770085662363, 0.9566862051397417, 0.9599137443569098, 0.9700408335464205, 0.16985674680863636, 0.6794269872345454, 0.9354344458940921, 0.9270262746701512, 0.019516342624634763, 0.04879085656158691, 0.009758171312317382, 0.006478989164929853, 0.42761328488537026, 0.06478989164929852, 0.03239494582464926, 0.22352512619007991, 0.058310902484368675, 0.16521422370571123, 0.0032394945824649264, 0.009718483747394778, 0.009718483747394778, 0.9357421435773876, 0.04455914969416131, 0.09084884843118053, 0.7358756722925622, 0.027254654529354157, 0.027254654529354157, 0.027254654529354157, 0.06359419390182637, 0.018169769686236105, 0.018169769686236105, 0.9567189793204358, 0.9050580898525469, 0.07595472355152205, 0.43501341670417176, 0.13119452249808353, 0.13119452249808353, 0.044882336644081214, 0.003452487434160093, 0.05869228638072158, 0.11738457276144316, 0.003452487434160093, 0.003452487434160093, 0.10811592760886361, 0.8649274208709089, 0.021623185521772722, 0.017660186255602364, 0.6534268914572874, 0.10596111753361417, 0.07064074502240945, 0.10596111753361417, 0.03532037251120473, 0.7931851971471512, 0.7045334506329035, 0.07441605578163464, 0.34417425799006024, 0.13022809761786064, 0.34417425799006024, 0.04185903137716949, 0.004651003486352165, 0.004651003486352165, 0.055812041836225984, 0.9653401411409254, 0.3419109067255788, 0.6216561940465068, 0.9006909533619554, 0.8396836405510003, 0.7554889377790753, 0.06810941679908837, 0.10216412519863256, 0.10216412519863256, 0.034054708399544185, 0.06810941679908837, 0.6470394595913396, 0.3315817395218018, 0.08649958422307874, 0.10812448027884841, 0.32437344083654523, 0.06487468816730906, 0.05766638948205249, 0.014416597370513122, 0.007208298685256561, 0.923063393943888, 0.7809297716844845, 0.9402845267535116, 0.28560944637613317, 0.6936229411991806, 0.3336051997307905, 0.6004893595154229, 0.7311505897673813, 0.06841950330480116, 0.410517019828807, 0.06841950330480116, 0.06841950330480116, 0.2394682615668041, 0.13683900660960233, 0.3193854214103062, 0.1082087672924879, 0.005857454639764302, 0.09371927423622883, 0.14088719844064665, 0.2894815740388779, 0.017264076832989524, 0.0157226414014726, 0.00709060298497784, 0.001849722517820306, 0.027425104921354002, 0.013712552460677001, 0.9324535673260361, 0.013712552460677001, 0.9390811420401455, 0.003632809060116617, 0.007265618120233234, 0.03269528154104955, 0.005449213590174925, 0.007265618120233234, 0.003632809060116617, 0.0018164045300583084, 0.0575849038823571, 0.014396225970589274, 0.892566010176535, 0.014396225970589274, 0.10018693142638246, 0.8766356499808465, 0.9397710500630385, 0.017309759830855326, 0.03461951966171065, 0.017309759830855326, 0.03461951966171065, 0.8827977513736216, 0.017309759830855326, 0.961791594904239, 0.01594822559758601, 0.9568935358551605, 0.0448219347884314, 0.029881289858954264, 0.9113793406981051, 0.29180811366266995, 0.6419778500578739, 0.05924991181658795, 0.8887486772488192, 0.05949300562260296, 0.3668735346727182, 0.04957750468550246, 0.14377476358795716, 0.08428175796535418, 0.054535255154052706, 0.18839451780490934, 0.02974650281130148, 0.009915500937100492, 0.004957750468550246, 0.03237747451656022, 0.6022210260080202, 0.02590197961324818, 0.06475494903312044, 0.06475494903312044, 0.03885296941987227, 0.03237747451656022, 0.12303440316292885, 0.019426484709936135, 0.7942028196119825, 0.7107340775002492, 0.25082450720070737, 0.3648356468373925, 0.25082450720070737, 0.02280222792733703, 0.02280222792733703, 0.09120891170934813, 0.24969027294675783, 0.686648250603584, 0.8187958250087474, 0.7404231994790806, 0.8661634186030738, 0.10393961023236885, 0.07206465183870285, 0.6726034171612265, 0.024021550612900948, 0.11210056952687109, 0.032028734150534595, 0.05605028476343554, 0.024021550612900948, 0.05775997078962033, 0.12707193573716472, 0.08086395910546847, 0.16172791821093693, 0.15017592405301286, 0.3003518481060257, 0.06353596786858236, 0.04043197955273423, 0.011551994157924066, 0.9926162651299979, 0.6194858952608397, 0.06194858952608397, 0.2477943581043359, 0.18937769929124823, 0.6628219475193688, 0.09468884964562412, 0.09904822156166516, 0.4308597637932434, 0.05942893293699909, 0.08914339940549865, 0.08914339940549865, 0.04952411078083258, 0.1634295655767475, 0.012381027695208146, 0.007428616617124887, 0.002476205539041629, 0.593962128335487, 0.05421706763164397, 0.04337365410531517, 0.862051375343139, 0.03795194734215077, 0.05288404830853113, 0.9166568373478728, 0.01762801610284371, 0.05162966688724242, 0.8949142260455353, 0.03441977792482828, 0.10092748755390231, 0.4289418221040848, 0.025231871888475577, 0.17662310321932903, 0.025231871888475577, 0.025231871888475577, 0.2270868469962802, 0.030792991256312945, 0.9237897376893884, 0.030792991256312945, 0.02348695491282587, 0.915991241600209, 0.04697390982565174, 0.006123227294554017, 0.9307305487722106, 0.012246454589108034, 0.012246454589108034, 0.018369681883662052, 0.006123227294554017, 0.006123227294554017, 0.006123227294554017, 0.8797197548424504, 0.8394919333066253, 0.0440672867210738, 0.3084710070475166, 0.5036261339551291, 0.050362613395512915, 0.03147663337219557, 0.0440672867210738, 0.006295326674439114, 0.9296579511954122, 0.11345776492831716, 0.11345776492831716, 0.05672888246415858, 0.680746589569903, 0.10224472487858093, 0.5316725693686208, 0.047714204943337765, 0.02726525996762158, 0.0834998586508411, 0.15507116606584775, 0.030673417463574278, 0.01363262998381079, 0.0034081574959526975, 0.0034081574959526975, 0.9010823104984931, 0.9120212142043665, 0.012626649347171498, 0.17677309086040097, 0.06313324673585749, 0.23990633759625846, 0.26515963629060146, 0.012626649347171498, 0.21465303890191545, 0.04557910180418809, 0.8432133833774796, 0.09115820360837618, 0.9529651763903756, 0.09555070850177227, 0.027300202429077793, 0.8053559716577948, 0.027300202429077793, 0.04095030364361669, 0.2608505271667157, 0.7245847976853214, 0.9527637209342156, 0.15229574316774427, 0.47264196155506843, 0.08402523760978994, 0.02625788675305936, 0.15054521738420698, 0.02450736096952207, 0.06126840242380517, 0.02450736096952207, 0.003501051567074581, 0.0017505257835372906, 0.3480627054068156, 0.5890291937653802, 0.053548108524125476, 0.37420276800522995, 0.3138474828430961, 0.03621317109728032, 0.06035528516213386, 0.0442605424522315, 0.11266319896931655, 0.03218948541980473, 0.020118428387377957, 0.004023685677475591, 0.008047371354951182, 0.9983395610553009, 0.9284898261099059, 0.061899321740660394, 0.9869231662124343, 0.8626388532732555, 0.10912173323032506, 0.8456934325350192, 0.05297876118430156, 0.6887238953959203, 0.024451735931216106, 0.04482818254056286, 0.040752893218693506, 0.08150578643738701, 0.032602314574954806, 0.008150578643738702, 0.024451735931216106, 0.004075289321869351, 0.05324436859060392, 0.5146955630425046, 0.0443703071588366, 0.07099249145413856, 0.03549624572706928, 0.01774812286353464, 0.01774812286353464, 0.23959965865771765, 0.952354483600562, 0.047892089730882534, 0.09578417946176507, 0.047892089730882534, 0.7662734356941205, 0.04613450499920702, 0.8304210899857264, 0.924574294670723, 0.900225312686976, 0.07828046197278053, 0.09856134014300935, 0.09856134014300935, 0.2198676049344055, 0.05307149084623581, 0.05307149084623581, 0.022744924648386775, 0.439735209868811, 0.007581641549462259, 0.007581641549462259, 0.0387693965578834, 0.2492318350149647, 0.1550775862315336, 0.0775387931157668, 0.08861576356087635, 0.14953910100897883, 0.22707789412474563, 0.005538485222554772, 0.005538485222554772, 0.01725803381359861, 0.03451606762719722, 0.05177410144079583, 0.03451606762719722, 0.8283856230527333, 0.01725803381359861, 0.8364088203522936, 0.03521365826428345, 0.27290585154819674, 0.12324780392499209, 0.17166658403838184, 0.09023499930222634, 0.07262817017008462, 0.1980768277365944, 0.017606829132141726, 0.004401707283035431, 0.01540597549062401, 0.17209580833525664, 0.08604790416762832, 0.014341317361271387, 0.028682634722542774, 0.05736526944508555, 0.6166766465346697, 0.028682634722542774, 0.21621162651457726, 0.044514158400060025, 0.07630998582867433, 0.42606408754343167, 0.006359165485722861, 0.09538748228584291, 0.1271833097144572, 0.012718330971445722, 0.8931293105813597, 0.8696531841214671, 0.01932562631381038, 0.0966281315690519, 0.01932562631381038, 0.674533870565073, 0.017433658856905083, 0.034867317713810166, 0.5230097657071525, 0.026150488285357622, 0.017433658856905083, 0.008716829428452541, 0.008716829428452541, 0.017433658856905083, 0.32252268885274404, 0.026150488285357622, 0.7783169481259093, 0.01618797477960917, 0.01618797477960917, 0.9550905119969411, 0.2882679919092528, 0.09608933063641759, 0.48044665318208796, 0.9258373919622286, 0.9019232378253303, 0.023782384647284754, 0.023782384647284754, 0.7610363087131121, 0.16647669253099326, 0.07598820398997923, 0.7472173392347957, 0.012664700664996538, 0.012664700664996538, 0.025329401329993076, 0.1266470066499654, 0.533574317085007, 0.41923696342393413, 0.9468444658902513, 0.04983391925738165, 0.2374357624281889, 0.7586362165388475, 0.9523174312141973, 0.9593372068924974, 0.019986191810260363, 0.9276283874272094, 0.18614106774523914, 0.7910995379172664, 0.15571045442221645, 0.3633243936518384, 0.4671313632666494, 0.026321551355482503, 0.9738974001528526, 0.24759324977147704, 0.08253108325715901, 0.11004144434287869, 0.4951864995429541, 0.9393914799312882, 0.05693281696553262, 0.8256313515142324, 0.11761041093770318, 0.11761041093770318, 0.705662465626219, 0.23813154834505323, 0.03720805442891457, 0.05953288708626331, 0.41673020960384316, 0.11162416328674371, 0.11906577417252662, 0.007441610885782914, 0.9972911482276116, 0.8455219343508983, 0.006093851779105573, 0.016758092392540325, 0.05027427717762098, 0.006093851779105573, 0.06093851779105573, 0.010664240613434753, 0.0030469258895527867, 0.9035073950710177, 0.05885595247747145, 0.8239833346846003, 0.09809325412911908, 0.01965733043157821, 0.07371498911841828, 0.03931466086315642, 0.024571663039472762, 0.17691597388420388, 0.024571663039472762, 0.6290345738105028, 0.004914332607894553, 0.009828665215789106, 0.8705055820262171, 0.8706762995219113, 0.9493416417315523, 0.08689873235245997, 0.5282528203531119, 0.020581278715056307, 0.16465022972045046, 0.11205362855975101, 0.013720852476704206, 0.02515489620729104, 0.02972851369952578, 0.013720852476704206, 0.004573617492234735, 0.04430464855305153, 0.7642551875401389, 0.05538081069131441, 0.05538081069131441, 0.011076162138262883, 0.011076162138262883, 0.011076162138262883, 0.05538081069131441, 0.011076162138262883, 0.24559002387667608, 0.5459811274613708, 0.024356035425786057, 0.09945381132195974, 0.020296696188155047, 0.024356035425786057, 0.00811867847526202, 0.01623735695052404, 0.00811867847526202, 0.00405933923763101, 0.9758356857562455, 0.3268464344205315, 0.030451531157192374, 0.028421429080046218, 0.205040309791762, 0.018270918694315425, 0.3288765364976777, 0.05075255192865396, 0.002030102077146158, 0.010150510385730793, 0.002030102077146158, 0.15658088334582965, 0.18929927688077913, 0.023370281096392484, 0.48610184680496366, 0.05608867463134196, 0.03271839353494948, 0.03739244975422797, 0.0023370281096392483, 0.011685140548196242, 0.004674056219278497, 0.37441127308898003, 0.03403738846263455, 0.03403738846263455, 0.10211216538790364, 0.37441127308898003, 0.0680747769252691, 0.012176603993314692, 0.24353207986629383, 0.07305962395988815, 0.12176603993314691, 0.024353207986629384, 0.49924076372590237, 0.012176603993314692, 0.012176603993314692, 0.09193661964375334, 0.6864600933400249, 0.042903755833751556, 0.061291079762502226, 0.030645539881251113, 0.02451643190500089, 0.055161971786252, 0.006129107976250222, 0.006129107976250222, 0.9717391634770538, 0.6609918421091, 0.8834239984749119, 0.0588949332316608, 0.2344505781300577, 0.14067034687803462, 0.046890115626011544, 0.2344505781300577, 0.28134069375606924, 0.06204396459832204, 0.8686155043765085, 0.29450732781742445, 0.33981614748164357, 0.06796322949632871, 0.29450732781742445, 0.9342463924739998, 0.9979850113992486, 0.9419405249761061, 0.004247758849948618, 0.01592909568730732, 0.0233626736747174, 0.0031858191374614635, 0.006371638274922927, 0.0031858191374614635, 0.0010619397124871546, 0.22844056519856112, 0.0830692964358404, 0.0207673241089601, 0.062301972326880305, 0.6230197232688031, 0.9259693023217562, 0.8750206975235602, 0.31046610394244595, 0.6652845084480984, 0.9659438451185237, 0.0022674738148322155, 0.004534947629664431, 0.017006053611241616, 0.003401210722248323, 0.003401210722248323, 0.002834342268540269, 0.0005668684537080539, 0.9714064009734059, 0.0011564361916350072, 0.016190106682890098, 0.004625744766540029, 0.003469308574905021, 0.003469308574905021, 0.9743695639022112, 0.0011613463216951266, 0.015097502182036645, 0.0034840389650853797, 0.0023226926433902533, 0.0023226926433902533, 0.8788817561317547, 0.006133266364480819, 0.7237254310087367, 0.07053256319152942, 0.05519939728032737, 0.03679959818688491, 0.10119889501393352, 0.006133266364480819, 0.033992822912790384, 0.016996411456395192, 0.9348026301017356, 0.9793991719524278, 0.03273123514734457, 0.03273123514734457, 0.8182808786836143, 0.13092494058937829, 0.9269114246087876, 0.04632259306647765, 0.7469518131969521, 0.09843551026626501, 0.01737097239992912, 0.05211291719978736, 0.011580648266619413, 0.0057903241333097065, 0.011580648266619413, 0.0057903241333097065, 0.0057903241333097065, 0.8923424839124703, 0.05249073434779237, 0.9646833323851555, 0.39279335640173624, 0.5964639856470809, 0.9961868796136258, 0.8216034177801551, 0.4863351978699634, 0.15284820504484564, 0.0537687361620208, 0.12294312144911497, 0.0582998094341012, 0.03987344479430756, 0.06524745511795782, 0.0078538603382727, 0.010572504301520944, 0.0018124293088321616, 0.22190809454298002, 0.056188267528510964, 0.5903324309957481, 0.06756816981276635, 0.0028449755710638464, 0.024893536246808654, 0.02631602403234058, 0.0028449755710638464, 0.007112438927659615, 0.0007112438927659616, 0.08861884077786862, 0.04430942038893431, 0.841878987389752, 0.01066378342331912, 0.2292713436013611, 0.3679005281045097, 0.04265513369327648, 0.15995675134978682, 0.015995675134978682, 0.12796540107982945, 0.00533189171165956, 0.04265513369327648, 0.35191007850510514, 0.5278651177576577, 0.8823714894186223, 0.9595673405326739, 0.9231066943477221, 0.03191193307051922, 0.13403011889618072, 0.12126534566797303, 0.21061875826542684, 0.2297659181077384, 0.13403011889618072, 0.012764773228207687, 0.12126534566797303, 0.012764773228207687, 0.49444942071480497, 0.03803457082421577, 0.07606914164843154, 0.3803457082421577, 0.9040306190031179, 0.20957073171685278, 0.7334975610089847, 0.07985101654678411, 0.18251660924979227, 0.5247352515931527, 0.15970203309356823, 0.011407288078112017, 0.04562915231244807, 0.9488311939903671, 0.7024569890051416, 0.8896612210022368, 0.06281041515336419, 0.24226874416297614, 0.10767499740576718, 0.08972916450480597, 0.3230249922173015, 0.04785555440256319, 0.08972916450480597, 0.020936805051121395, 0.011963888600640798, 0.08737341788510268, 0.00728111815709189, 0.02184335447127567, 0.8518908243797512, 0.02184335447127567, 0.00728111815709189, 0.061801068830195593, 0.015450267207548898, 0.8806652308302872, 0.030900534415097797, 0.05258757327766856, 0.9115179368129217, 0.017529191092556184, 0.8926503603730493, 0.024125685415487822, 0.024125685415487822, 0.048251370830975644, 0.0758876604888654, 0.1537723646748062, 0.04193791763858351, 0.16575462685725864, 0.3235210789262157, 0.03594678654735729, 0.18372802013093728, 0.00399408739415081, 0.009985218485377027, 0.00399408739415081, 0.8144892794487795, 0.9911721800730982, 0.018288779663720823, 0.5084280746514388, 0.12436370171330159, 0.05852409492390663, 0.19020330850269654, 0.04389307119292997, 0.029262047461953315, 0.018288779663720823, 0.007315511865488329, 0.9279296386658891, 0.018545447012466597, 0.9643632446482631, 0.8388394716694845, 0.024882100580250113, 0.9040496544157541, 0.024882100580250113, 0.033176134107000155, 0.008294033526750039, 0.06393728468622509, 0.8951219856071513, 0.9658550578460992, 0.02869106192548272, 0.9468050435409298, 0.9559720576518381, 0.95354597061608, 0.0874402668734898, 0.8744026687348979, 0.03163357807399903, 0.9173737641459719, 0.03163357807399903, 0.9676190566369187, 0.955782933163188, 0.015864938451195427, 0.4997455612126559, 0.031729876902390854, 0.2459065459935291, 0.10312209993277027, 0.007932469225597713, 0.039662346127988565, 0.007932469225597713, 0.04759481535358628, 0.9479925501846895, 0.036133581477947256, 0.2529350703456308, 0.036133581477947256, 0.060222635796578765, 0.12044527159315753, 0.04817810863726301, 0.42155845057605135, 0.012044527159315753, 0.9462857492861138, 0.1896249224989563, 0.7584996899958252, 0.006830244659192874, 0.10245366988789312, 0.010245366988789311, 0.03415122329596437, 0.3039458873340829, 0.44738102517713324, 0.013660489318385748, 0.061472201932735865, 0.017075611647982186, 0.003415122329596437, 0.03298724259957121, 0.5154256656183002, 0.10720853844860644, 0.13194897039828485, 0.08246810649892802, 0.05360426922430322, 0.03298724259957121, 0.03298724259957121, 0.008246810649892803, 0.039415468782909836, 0.14452338553733607, 0.7357554172809836, 0.0656924479715164, 0.048906874529497484, 0.9129283245506197, 0.016302291509832492, 0.8986864259232072, 0.0305194042875531, 0.23194747258540355, 0.08545433200514868, 0.0915582128626593, 0.04272716600257434, 0.036623285145063716, 0.45779106431329647, 0.01220776171502124, 0.00610388085751062, 0.915549876123183, 0.9541062892853304, 0.9454006696883568, 0.14118883369705335, 0.1882517782627378, 0.04706294456568445, 0.6118182793538979, 0.9579080249992477, 0.7962637651980168, 0.19169312865878183, 0.9455613541536233, 0.018576450567927415, 0.35914471097993, 0.16718805511134674, 0.024768600757236553, 0.09907440302894621, 0.018576450567927415, 0.29722320908683864, 0.012384300378618276, 0.9180278267854441, 0.021527427658271963, 0.7448489969762099, 0.021527427658271963, 0.06458228297481589, 0.06888776850647028, 0.025832913189926355, 0.021527427658271963, 0.008610971063308786, 0.01722194212661757, 0.004305485531654393, 0.9511674025933776, 0.04755837012966888, 0.9889268368662377, 0.9167387863885821, 0.04824940980992537, 0.742519375909183, 0.13995827441185194, 0.8397496464711116, 0.3442320527856958, 0.5507712844571132, 0.9276819128312251, 0.2632571819892706, 0.1638255125328914, 0.04474425125537063, 0.2457382687993371, 0.15151492488591112, 0.04900560851778688, 0.046401445746310284, 0.028882532556376808, 0.005918551753355904, 0.0011837103506711806, 0.5796388031477163, 0.08407452530007885, 0.11948091021067754, 0.084950301605288, 0.036407272116552, 0.06505766838696578, 0.018015969707159754, 0.004629103327534104, 0.007256432243161567, 0.0006255545037208248, 0.9593423828447177, 0.969617419611126, 0.0028922219824343803, 0.0036152774780429755, 0.015184165407780498, 0.002169166486825785, 0.0028922219824343803, 0.002169166486825785, 0.0007230554956085951, 0.02666120082029795, 0.9731338299408753, 0.195728187226498, 0.792699158267317, 0.050011923061441935, 0.8502026920445129, 0.06668256408192258, 0.016670641020480645, 0.4744665863216328, 0.8445032934400022, 0.03832259440953622, 0.9389035630336374, 0.9625650948804293, 0.9234051088481381, 0.2244944510613611, 0.6734833531840834, 0.9536064979555181, 0.03619298163103273, 0.9410175224068511, 0.9323131085519307, 0.31497534177392883, 0.04429340743695874, 0.4527770538000227, 0.059057876582611656, 0.0639793662978293, 0.059057876582611656, 0.009842979430435276, 0.8682093807266605, 0.821503006636045, 0.935797982531447, 0.6359509232971412, 0.3179754616485706, 0.9444306608753648, 0.10427264113472381, 0.6091717455765444, 0.19208118103764915, 0.08780853990292532, 0.03183327320804624, 0.9549981962413874, 0.9951221128980393, 0.003090441344403849, 0.896503378822623, 0.04877232667961548, 0.02554740921313192, 0.006967475239945068, 0.2531516003846708, 0.3739211712103853, 0.20205678195840698, 0.016257442226538493, 0.06735226065280232, 0.004644983493296713, 0.0023224917466483563, 0.9219080572758702, 0.021950191839901673, 0.06585057551970502, 0.09210905944665156, 0.2878408107707861, 0.02302726486166289, 0.05756816215415722, 0.011513632430831445, 0.48357256209492067, 0.04605452972332578, 0.018357288910475313, 0.7196057252906323, 0.0293716622567605, 0.06975769785980619, 0.08077207120609138, 0.0293716622567605, 0.02570020447466544, 0.011014373346285189, 0.011014373346285189, 0.0036714577820950627, 0.03863288205399478, 0.9271891692958747, 0.08819842644026354, 0.755986512345116, 0.012599775205751935, 0.018899662808627902, 0.06299887602875967, 0.031499438014379835, 0.012599775205751935, 0.006299887602875968, 0.006299887602875968, 0.006299887602875968, 0.9536114901756152, 0.8903480331240125, 0.08903480331240124, 0.9354397973804083, 0.9535951570508862, 0.09600729877925784, 0.4980378624174001, 0.02400182469481446, 0.06000456173703616, 0.08400638643185061, 0.018001368521110846, 0.10800821112666509, 0.054004105563332544, 0.06600501791073977, 0.04890183758204343, 0.04890183758204343, 0.8802330764767818, 0.01630061252734781, 0.9378841549487565, 0.9260874173826151, 0.04630437086913076, 0.9492440781391674, 0.03650938762073721, 0.9157037627268952, 0.8971101901532799, 0.08549366690075097, 0.522122037143872, 0.03358679771100931, 0.06412025017556322, 0.12213380985821566, 0.048853523943286264, 0.09160035739366175, 0.015266726232276958, 0.015266726232276958, 0.0030533452464553915, 0.9638227591452261, 0.021279907916806274, 0.3670784115649082, 0.07447967770882195, 0.10905952807363216, 0.0851196316672251, 0.01861991942720549, 0.07979965468802352, 0.2207790446368651, 0.02393989640640706, 0.0026599884896007842, 0.9016317034615269, 0.05779690406804659, 0.03467814244082795, 0.09327110870141883, 0.03109036956713961, 0.03109036956713961, 0.715078500044211, 0.12436147826855844, 0.03537215110003505, 0.1414886044001402, 0.0707443022000701, 0.03537215110003505, 0.10611645330010513, 0.6013265687005958, 0.1134544474810897, 0.3572968420673123, 0.1473214467291762, 0.042333749060108096, 0.1270012471803243, 0.0355603492104908, 0.15917489646600644, 0.00846674981202162, 0.005080049887212971, 0.0016933499624043238, 0.03258810782868657, 0.456233509601612, 0.03258810782868657, 0.456233509601612, 0.03233450185219369, 0.22634151296535582, 0.04899166947302074, 0.316486184795714, 0.2312406799126579, 0.041153002357337425, 0.037233668799495766, 0.06074967014654572, 0.000979833389460415, 0.004899166947302074, 0.025678965600404963, 0.9501217272149837, 0.00928110478551746, 0.5104607632034603, 0.11137325742620952, 0.06032718110586349, 0.1392165717827619, 0.03712441914206984, 0.01856220957103492, 0.10209215264069206, 0.00464055239275873, 0.00464055239275873, 0.9610244207016523, 0.0586445717136647, 0.08796685757049706, 0.8210240039913059, 0.7163568173863543, 0.0070575249836519905, 0.5928320986267672, 0.3952213990845115, 0.004705016655767994, 0.9504085587315776, 0.004079006689835097, 0.011217268397046516, 0.021414785121634257, 0.0030592550173763225, 0.006118510034752645, 0.0030592550173763225, 0.0010197516724587742, 0.994043028915476, 0.2352239305427289, 0.6272638147806104, 0.0784079768475763, 0.22223942922543768, 0.060610753425119374, 0.07071254566263926, 0.4141734817383157, 0.09091613013767906, 0.1262724029689987, 0.010101792237519894, 0.45821862622040216, 0.19794443396247602, 0.39588886792495204, 0.9235495697364223, 0.11061494630020689, 0.018435824383367817, 0.8111762728681838, 0.018435824383367817, 0.055307473150103446, 0.8642029834069743, 0.05237593838830148, 0.02618796919415074, 0.05237593838830148, 0.8648716874393358, 0.9324724621136571, 0.05768323130095442, 0.6825849037279607, 0.13940114231063985, 0.004806935941746202, 0.08171791100968544, 0.009613871883492404, 0.014420807825238606, 0.004806935941746202, 0.9175465907846427, 0.011916189490709645, 0.02383237898141929, 0.04766475796283858, 0.8189205381377852, 0.08198443799190135, 0.15577043218461256, 0.012297665698785203, 0.5083035155497884, 0.10248054748987669, 0.10657976938947175, 0.028694553297165474, 0.004099221899595068, 0.03895481924317617, 0.7985737944851115, 0.004869352405397021, 0.05843222886476425, 0.034085466837779146, 0.029216114432382125, 0.019477409621588084, 0.004869352405397021, 0.004869352405397021, 0.9647055957607521, 0.002259263690306211, 0.004518527380612422, 0.016944477677296583, 0.0033888955354593165, 0.004518527380612422, 0.002259263690306211, 0.0011296318451531056, 0.01643623019236265, 0.9533013511570336, 0.13931065791707448, 0.5964237542074751, 0.04353458059908577, 0.013060374179725732, 0.10448299343780586, 0.03482766447926862, 0.021767290299542885, 0.039181122539177195, 0.008706916119817155, 0.9101244579275188, 0.9429325095527193, 0.052385139419595515, 0.0703327595641458, 0.0586106329701215, 0.7853824817996281, 0.0117221265940243, 0.0117221265940243, 0.0468885063760972, 0.017495712831708334, 0.017495712831708334, 0.94476849291225, 0.016417207525409528, 0.9521980364737526, 0.16563223053812895, 0.8115979296368319, 0.3902905276477935, 0.048786315955974185, 0.09757263191194837, 0.3902905276477935, 0.908860315803372, 0.06312557633113638, 0.5421373026085831, 0.08911846070278077, 0.04455923035139039, 0.029706153567593593, 0.029706153567593593, 0.014853076783796796, 0.18566345979745996, 0.007426538391898398, 0.8896647256701684, 0.04474056178373992, 0.482727113982457, 0.06593345947077461, 0.13186691894154923, 0.04003102896439887, 0.02354766409670522, 0.18131701354463017, 0.01412859845802313, 0.01177383204835261, 0.07728542937836233, 0.049683490314661495, 0.04416310250192133, 0.563079556899497, 0.04416310250192133, 0.11040775625480333, 0.0165611634382205, 0.08832620500384265, 0.005520387812740166, 0.005520387812740166, 0.9404331868259367, 0.9226220383482858, 0.9762028472736906, 0.7157460172103003, 0.9461800106896064, 0.911518793324295, 0.070116830255715, 0.0971840075119911, 0.8746560676079199, 0.01512260368838731, 0.6502719586006543, 0.3175746774561335, 0.13108507292855281, 0.6363087915073501, 0.18843479233479465, 0.00273093901934485, 0.019116573135413952, 0.0218475121547588, 0.023053111147169045, 0.8299120012980857, 0.13831866688301428, 0.03203878519003657, 0.016019392595018285, 0.22427149633025598, 0.6888338815857863, 0.016019392595018285, 0.016019392595018285, 0.9016149576127878, 0.020595125304012304, 0.06178537591203691, 0.020595125304012304, 0.04119025060802461, 0.06178537591203691, 0.7826147615524676, 0.7728293984717102, 0.9372974802544022, 0.027567572948658886, 0.9040305713825455, 0.9746452114935452, 0.9483015683174916, 0.03793206273269967, 0.8539828030158122, 0.9798458204749817, 0.009331864956904587, 0.8257560711544388, 0.97587067473208, 0.9558703643048646, 0.957615890723729, 0.9133930600678455, 0.305385676284285, 0.61077135256857, 0.9714459889560401, 0.9283453281462621, 0.06629929011801533, 0.9281900616522146, 0.9683715694423687, 0.8950439145919361, 0.07830338445228131, 0.02610112815076044, 0.07830338445228131, 0.8091349726735736, 0.9558537626560113, 0.8925260768368161, 0.9602241147257746, 0.9602241147257746, 0.2593278645708182, 0.5186557291416364, 0.9793910957845477, 0.05714137088504805, 0.9142619341607688, 0.01904712362834935, 0.057142447326640644, 0.9142791572262503, 0.9676486495322132, 0.012396658669201586, 0.8801627655133126, 0.03718997600760476, 0.024793317338403172, 0.012396658669201586, 0.012396658669201586, 0.8949681471140405, 0.05394163272361589, 0.017980544241205296, 0.08091244908542385, 0.3236497963416954, 0.4764844223919404, 0.008990272120602648, 0.017980544241205296, 0.008990272120602648, 0.9602241147257746, 0.9602241147257746, 0.05714461393792284, 0.9143138230067654, 0.01904820464597428, 0.0818540126223298, 0.8185401262232981, 0.8189863140943635, 0.9313458833493194, 0.9803508724984846, 0.9602241147257746, 0.2767000656821319, 0.03952858081173313, 0.6719858737994632, 0.0571562923653631, 0.9145006778458096, 0.019052097455121035, 0.9534054383078578, 0.8576468675068069, 0.9483395123526782, 0.057729184575712626, 0.923666953211402, 0.01924306152523754, 0.05772289531845266, 0.9235663250952426, 0.926371921292761, 0.9263845456701518, 0.4456997126070109, 0.0308529267847697, 0.3076954049616221, 0.026683612354395415, 0.03627303554425627, 0.13466885610108936, 0.010006354632898281, 0.0041693144303742834, 0.0037523829873368554, 0.0008338628860748567, 0.47382822742227687, 0.12483185210235656, 0.7489911126141393, 0.942972710533982, 0.9260905220617062, 0.9602241147257746, 0.9597336166407628, 0.9090087478606989, 0.9263595293582786, 0.8986026340193173, 0.05616266462620733, 0.028081332313103665, 0.028081332313103665, 0.9673806227217027, 0.009185941686358064, 0.0007654951405298386, 0.9614618965054773, 0.00535846598370887, 0.01148242710794758, 0.006889456264768548, 0.0015309902810596771, 0.002296485421589516, 0.05713671629211509, 0.9141874606738415, 0.019045572097371698, 0.05716390199319905, 0.9146224318911848, 0.057117562326479944, 0.9138809972236791, 0.926009162822904, 0.9263719206502803, 0.9174746842105087, 0.926236581593156, 0.005583250220713008, 0.05583250220713008, 0.005583250220713008, 0.016749750662139025, 0.22333000882852033, 0.664406776264848, 0.005583250220713008, 0.016749750662139025, 0.011166500441426017, 0.005583250220713008], \"Term\": [\"abil\", \"accord\", \"acquir\", \"actual\", \"adjust\", \"admir\", \"admir\", \"afternoon\", \"agent\", \"almost\", \"almost\", \"almost\", \"almost\", \"alon\", \"alright\", \"also\", \"also\", \"also\", \"also\", \"also\", \"also\", \"also\", \"also\", \"also\", \"also\", \"american\", \"american\", \"american\", \"american\", \"american\", \"american\", \"american\", \"american\", \"amount\", \"anaheim\", \"anaheim\", \"anaheim\", \"anaheim\", \"anaheim\", \"anaheimangel\", \"angel\", \"angel\", \"angel\", \"angel\", \"angel\", \"angel\", \"angel\", \"angel\", \"angel\", \"angel\", \"angelsbasebal\", \"angri\", \"annual\", \"apolog\", \"appoint\", \"appoint\", \"approxim\", \"approxim\", \"arizona\", \"arizona\", \"arizona\", \"assist\", \"associ\", \"award\", \"award\", \"award\", \"award\", \"award\", \"baba\", \"baba\", \"baba\", \"baba\", \"baba\", \"balero\", \"bark\", \"barri\", \"base\", \"base\", \"base\", \"base\", \"base\", \"base\", \"base\", \"base\", \"base\", \"base\", \"basebal\", \"basebal\", \"basebal\", \"basebal\", \"basebal\", \"basebal\", \"basebal\", \"basebal\", \"basebal\", \"basebal\", \"baseballboy\", \"baseballfan\", \"baseballlif\", \"baseballlif\", \"baseballlif\", \"baseballlif\", \"baseballlif\", \"baseballlif\", \"baseballlif\", \"baseballlif\", \"baseballlov\", \"baseballplay\", \"baseballplay\", \"baseballplay\", \"baseballplay\", \"baseballplay\", \"baseballplay\", \"baseballplay\", \"baseballplay\", \"bbwaa\", \"bbwaa\", \"bear\", \"befor\", \"befor\", \"begin\", \"begin\", \"belov\", \"belov\", \"belov\", \"belov\", \"best\", \"best\", \"best\", \"best\", \"best\", \"best\", \"best\", \"best\", \"best\", \"bet\", \"bettaniman\", \"beyond\", \"billion\", \"birth\", \"birth\", \"black\", \"bleed\", \"bleed\", \"bleedblu\", \"bleedblu\", \"blue\", \"blue\", \"blue\", \"blue\", \"blue\", \"blue\", \"blue\", \"book\", \"book\", \"bought\", \"brand\", \"broadcast\", \"broadcast\", \"broadcast\", \"brooklyndodg\", \"brooklyndodg\", \"brother\", \"brother\", \"brother\", \"brother\", \"brother\", \"brother\", \"brother\", \"buddi\", \"buddi\", \"buddi\", \"buddi\", \"buddi\", \"buffet\", \"camelbackranch\", \"camelbackranch\", \"camp\", \"camp\", \"camp\", \"canada\", \"captur\", \"captur\", \"chan\", \"chan\", \"chan\", \"chan\", \"charli\", \"charli\", \"chavezrevin\", \"chavezrevin\", \"chicken\", \"classic\", \"comerica\", \"comerica\", \"compil\", \"confer\", \"confer\", \"confer\", \"confer\", \"congratul\", \"congratul\", \"congratul\", \"congratul\", \"congratul\", \"congratul\", \"congratul\", \"congratul\", \"congratul\", \"congratul\", \"consid\", \"consid\", \"continu\", \"continu\", \"continu\", \"continu\", \"continu\", \"continu\", \"continu\", \"continu\", \"convers\", \"convey\", \"cool\", \"cool\", \"cool\", \"cool\", \"cool\", \"cool\", \"cool\", \"cool\", \"cool\", \"cool\", \"count\", \"count\", \"count\", \"count\\u7de8\\u96c6\\u90e8\", \"count\\u7de8\\u96c6\\u90e8\", \"count\\u7de8\\u96c6\\u90e8\", \"count\\u7de8\\u96c6\\u90e8\", \"count\\u7de8\\u96c6\\u90e8\", \"count\\u7de8\\u96c6\\u90e8\", \"creativ\", \"curiou\", \"cute\", \"cute\", \"cute\", \"cute\", \"cute\", \"cute\", \"cute\", \"cute\", \"dash\", \"date\", \"date\", \"dback\", \"dear\", \"deck\", \"decopin\", \"decopin\", \"decopin\", \"decopin\", \"decopin\", \"decopin\", \"dekopin\", \"dekopin\", \"dekopin\", \"dekopin\", \"dekopin\", \"dekopin\", \"dekopin\", \"dekopin\", \"detroit\", \"develop\", \"diamond\", \"dinner\", \"dinner\", \"director\", \"director\", \"display\", \"distanc\", \"distanc\", \"distanc\", \"distanc\", \"distanc\", \"distanc\", \"dodger\", \"dodger\", \"dodger\", \"dodger\", \"dodger\", \"dodger\", \"dodger\", \"dodger\", \"dodger\", \"dodger\", \"dodgerfamili\", \"dodgerfamili\", \"dodgerfamili\", \"dodgerfamili\", \"dodgern\", \"dodgern\", \"dodgern\", \"dodgern\", \"dodgern\", \"dodgern\", \"dodgern\", \"dodgern\", \"dodgerstadium\", \"dodgerstadium\", \"dodgerstadium\", \"dodgerstadium\", \"dollar\", \"dollar\", \"drive\", \"earn\", \"earn\", \"earn\", \"earn\", \"earn\", \"earn\", \"ebata\", \"ebbetsfield\", \"ebbetsfield\", \"edit\", \"edit\", \"edit\", \"energet\", \"energet\", \"energi\", \"energi\", \"even\", \"even\", \"even\", \"even\", \"even\", \"even\", \"even\", \"even\", \"even\", \"even\", \"everyon\", \"everyon\", \"everyon\", \"everyon\", \"everyon\", \"everyon\", \"everyon\", \"everyon\", \"everyon\", \"exchang\", \"exhibit\", \"express\", \"express\", \"express\", \"express\", \"express\", \"express\", \"eye\", \"eye\", \"father\", \"fear\", \"februari\", \"februari\", \"feel\", \"feel\", \"feel\", \"feel\", \"feel\", \"feel\", \"feel\", \"field\", \"field\", \"field\", \"field\", \"field\", \"field\", \"field\", \"field\", \"field\", \"fighter\", \"figur\", \"figur\", \"figur\", \"fine\", \"fine\", \"fine\", \"first\", \"first\", \"first\", \"first\", \"first\", \"first\", \"first\", \"first\", \"first\", \"first\", \"florida\", \"flower\", \"flower\", \"flower\", \"flower\", \"flowerlov\", \"flowerlov\", \"flowerlov\", \"flowerstagram\", \"flowerstagram\", \"flowerstagram\", \"follow\", \"follow\", \"follow\", \"follow\", \"follow\", \"follow\", \"follow\", \"forget\", \"forget\", \"forget\", \"fortun\", \"fortun\", \"fortun\", \"forward\", \"forward\", \"forward\", \"forward\", \"forward\", \"forward\", \"forward\", \"forward\", \"friendli\", \"fulfil\", \"full\", \"full\", \"full\", \"full\", \"full\", \"full\", \"full\", \"fulli\", \"funni\", \"funni\", \"funni\", \"funni\", \"game\", \"game\", \"game\", \"game\", \"game\", \"game\", \"game\", \"game\", \"game\", \"game\", \"gather\", \"gentleman\", \"giant\", \"giant\", \"giant\", \"giant\", \"giant\", \"giant\", \"giant\", \"gift\", \"gift\", \"gift\", \"given\", \"glove\", \"glove\", \"glove\", \"glove\", \"glove\", \"goal\", \"goal\", \"golf\", \"good\", \"good\", \"good\", \"good\", \"good\", \"good\", \"good\", \"good\", \"good\", \"good\", \"gratitud\", \"gratitud\", \"gratitud\", \"great\", \"great\", \"great\", \"great\", \"great\", \"great\", \"great\", \"great\", \"great\", \"great\", \"halo\", \"hanamaki\", \"hanamaki\", \"hank\", \"hanshin\", \"hanshintig\", \"hanshintig\", \"happi\", \"happi\", \"happi\", \"happi\", \"happi\", \"happi\", \"happi\", \"happi\", \"happi\", \"happi\", \"hard\", \"hard\", \"hard\", \"hard\", \"hard\", \"hard\", \"hard\", \"hard\", \"heard\", \"helmet\", \"helmet\", \"helmet\", \"helmet\", \"hernandez\", \"hernandez\", \"hideki\", \"higashi\", \"higashi\", \"histori\", \"histori\", \"histori\", \"histori\", \"histori\", \"histori\", \"histori\", \"histori\", \"histori\", \"hit\", \"hit\", \"hit\", \"hit\", \"hit\", \"hit\", \"hit\", \"hit\", \"hit\", \"hitter\", \"hitter\", \"hitter\", \"hitter\", \"hitter\", \"hitter\", \"hollywood\", \"home\", \"home\", \"home\", \"home\", \"home\", \"home\", \"home\", \"home\", \"home\", \"home\", \"homer\", \"homer\", \"homer\", \"homer\", \"homer\", \"homer\", \"homer\", \"homerunk\", \"homerunk\", \"homerunk\", \"homerunk\", \"homerunk\", \"homerunk\", \"homerunk\", \"homerunk\", \"host\", \"howev\", \"howev\", \"howev\", \"howev\", \"html\", \"http\", \"http\", \"http\", \"http\", \"http\", \"http\", \"http\", \"http\", \"http\", \"http\", \"husband\", \"ilovelaweloveit\", \"ilovelaweloveit\", \"ilovelaweloveit\", \"imagin\", \"imagin\", \"imagin\", \"immers\", \"imposs\", \"instagood\", \"instagood\", \"instagood\", \"instagood\", \"instagram\", \"instagram\", \"instagram\", \"instagram\", \"instagram\", \"instagram\", \"interest\", \"interest\", \"involv\", \"involv\", \"ippei\", \"ippei\", \"irresist\", \"iwat\", \"iwat\", \"jealou\", \"jersey\", \"jersey\", \"journey\", \"journey\", \"journey\", \"june\", \"june\", \"kelli\", \"kelli\", \"kelli\", \"kelli\", \"king\", \"king\", \"known\", \"kuriyama\", \"kuriyama\", \"kuriyama\", \"kyundesu\", \"kyundesu\", \"kyundesu\", \"kyundesu\", \"kyundesu\", \"kyundesu\", \"kyundesu\", \"laangel\", \"ladodg\", \"ladodg\", \"ladodg\", \"ladodg\", \"ladodg\", \"ladodg\", \"ladodg\", \"ladodg\", \"latest\", \"laughter\", \"laughter\", \"laughter\", \"leagu\", \"leagu\", \"leagu\", \"leagu\", \"leagu\", \"leagu\", \"leagu\", \"leagu\", \"leagu\", \"leaguer\", \"learn\", \"leg\", \"like\", \"like\", \"like\", \"like\", \"like\", \"like\", \"like\", \"like\", \"like\", \"like\", \"live\", \"live\", \"live\", \"live\", \"live\", \"live\", \"live\", \"live\", \"live\", \"look\", \"look\", \"look\", \"look\", \"look\", \"look\", \"look\", \"look\", \"look\", \"look\", \"losangelesangel\", \"losangelesdodg\", \"losangelesdodg\", \"losangelesdodg\", \"losangelesdodg\", \"losangelesdodg\", \"losangelesdodg\", \"losangelesdodg\", \"losangelesdodg\", \"losangelesdodg\", \"losangelesdodg\", \"love\", \"love\", \"love\", \"love\", \"love\", \"love\", \"love\", \"love\", \"love\", \"love\", \"luck\", \"luck\", \"luck\", \"luck\", \"luck\", \"luck\", \"major\", \"major\", \"major\", \"major\", \"major\", \"major\", \"major\", \"major\", \"manag\", \"manag\", \"manag\", \"manag\", \"manag\", \"manag\", \"manag\", \"manag\", \"manag\", \"martinez\", \"matt\", \"mention\", \"mention\", \"messag\", \"messag\", \"messag\", \"messag\", \"messag\", \"mickey\", \"mickey\", \"might\", \"might\", \"might\", \"might\", \"mike\", \"miketrout\", \"milb\", \"milb\", \"milb\", \"milb\", \"milb\", \"milb\", \"milb\", \"milb\", \"million\", \"million\", \"million\", \"million\", \"million\", \"misora\", \"mitsuyama\", \"mizuhara\", \"mizuhara\", \"mlbbasebal\", \"mlbbasebal\", \"mlbbasebal\", \"mlbbasebal\", \"mlbbasebal\", \"mlbbasebal\", \"mlbbasebal\", \"mlbbasebal\", \"mlbnetwork\", \"mlbnetwork\", \"mlbnetwork\", \"mlbnetwork\", \"mlbnetwork\", \"mlbnetwork\", \"mlbnew\", \"mlbnew\", \"mlbnew\", \"mlbnew\", \"mlbnew\", \"mlbnew\", \"money\", \"morn\", \"morn\", \"morn\", \"morn\", \"morn\", \"morn\", \"morn\", \"most\", \"most\", \"most\", \"movi\", \"multipl\", \"multipl\", \"multipl\", \"multipl\", \"nationwid\", \"next\", \"next\", \"next\", \"next\", \"next\", \"next\", \"next\", \"next\", \"next\", \"next\", \"nikkansport\", \"nikkansport\", \"nippo\", \"nippon\", \"nippon\", \"nipponham\", \"normal\", \"ohtani\", \"ohtani\", \"ohtani\", \"ohtani\", \"ohtani\", \"ohtani\", \"ohtani\", \"ohtani\", \"ohtani\", \"ohtani\", \"ohtanishohei\", \"ohtanishohei\", \"ohtanishohei\", \"ohtanishohei\", \"ohtanishohei\", \"ohtanishohei\", \"ohtanishohei\", \"ohtanishohei\", \"ohtanishohei\", \"ohtanishohei\", \"opportun\", \"opportun\", \"opportun\", \"otani\", \"otani\", \"otani\", \"otani\", \"otani\", \"otani\", \"otani\", \"otani\", \"otani\", \"outfit\", \"outfit\", \"outman\", \"page\", \"paid\", \"park\", \"park\", \"park\", \"park\", \"park\", \"park\", \"park\", \"park\", \"park\", \"past\", \"past\", \"past\", \"past\", \"patient\", \"paul\", \"paul\", \"peopl\", \"peopl\", \"peopl\", \"peopl\", \"peopl\", \"peopl\", \"percentag\", \"persever\", \"phone\", \"photo\", \"photo\", \"photo\", \"photo\", \"photo\", \"photo\", \"photo\", \"photo\", \"photo\", \"photograph\", \"photograph\", \"photograph\", \"photograph\", \"photograph\", \"photograph\", \"photographi\", \"photographi\", \"photographi\", \"photographi\", \"photooftheday\", \"photooftheday\", \"photooftheday\", \"pic\", \"pic\", \"pic\", \"pic\", \"player\", \"player\", \"player\", \"player\", \"player\", \"player\", \"player\", \"player\", \"player\", \"player\", \"plaza\", \"porsch\", \"post\", \"post\", \"post\", \"post\", \"post\", \"post\", \"post\", \"post\", \"post\", \"prefectur\", \"present\", \"present\", \"presid\", \"press\", \"press\", \"press\", \"press\", \"press\", \"previou\", \"previou\", \"price\", \"princ\", \"princ\", \"pronunci\", \"properli\", \"radio\", \"radio\", \"rain\", \"rain\", \"rain\", \"rais\", \"react\", \"realli\", \"realli\", \"realli\", \"realli\", \"realli\", \"realli\", \"realli\", \"realli\", \"realli\", \"reason\", \"record\", \"record\", \"record\", \"record\", \"record\", \"record\", \"record\", \"record\", \"reflect\", \"repli\", \"repli\", \"repost\", \"repost\", \"repost\", \"repost\", \"repost\", \"repost\", \"repost\", \"repost\", \"repost\", \"repost\", \"right\", \"right\", \"right\", \"right\", \"right\", \"right\", \"right\", \"right\", \"right\", \"rose\", \"rose\", \"rose\", \"rose\", \"roselov\", \"roselov\", \"roselov\", \"rotat\", \"run\", \"run\", \"run\", \"run\", \"run\", \"run\", \"run\", \"run\", \"run\", \"sale\", \"samurai\", \"samuraijapan\", \"scene\", \"scene\", \"scene\", \"scene\", \"schedul\", \"school\", \"school\", \"screen\", \"second\", \"second\", \"second\", \"second\", \"second\", \"second\", \"second\", \"second\", \"secret\", \"seem\", \"seem\", \"seem\", \"seem\", \"seem\", \"seem\", \"seem\", \"seem\", \"seem\", \"seem\", \"seiza\", \"seiza\", \"select\", \"self\", \"self\", \"settl\", \"shibuya\", \"shibuya\", \"shihtzu\", \"shihtzu\", \"shoe\", \"shohei\", \"shohei\", \"shohei\", \"shohei\", \"shohei\", \"shohei\", \"shohei\", \"shohei\", \"shohei\", \"shohei\", \"shoheiohtani\", \"shoheiohtani\", \"shoheiohtani\", \"shoheiohtani\", \"shoheiohtani\", \"shoheiohtani\", \"shoheiohtani\", \"shoheiohtani\", \"shoheiohtani\", \"shoheiohtani\", \"shoheiotani\", \"shotim\", \"shotim\", \"shotim\", \"shotim\", \"shotim\", \"shotim\", \"shotim\", \"shotim\", \"shouhei\", \"shouhei\", \"showtim\", \"showtim\", \"side\", \"side\", \"side\", \"side\", \"signatur\", \"signific\", \"silver\", \"silver\", \"sincer\", \"skill\", \"slow\", \"slow\", \"slug\", \"slugger\", \"slugger\", \"small\", \"smile\", \"smile\", \"smile\", \"smile\", \"smile\", \"smile\", \"smile\", \"snow\", \"soar\", \"song\", \"spend\", \"spend\", \"sponsor\", \"sport\", \"sport\", \"sport\", \"sport\", \"spotv\", \"spotv\", \"spring\", \"spring\", \"squad\", \"stadium\", \"stadium\", \"stadium\", \"stadium\", \"stadium\", \"stadium\", \"stadium\", \"stadium\", \"stadium\", \"stadium\", \"staff\", \"staff\", \"staff\", \"star\", \"star\", \"star\", \"star\", \"star\", \"star\", \"star\", \"start\", \"start\", \"start\", \"start\", \"start\", \"start\", \"start\", \"start\", \"start\", \"start\", \"station\", \"station\", \"still\", \"still\", \"still\", \"still\", \"still\", \"still\", \"still\", \"still\", \"still\", \"still\", \"strength\", \"strongest\", \"strongest\", \"summari\", \"sunflow\", \"support\", \"support\", \"support\", \"support\", \"support\", \"support\", \"support\", \"support\", \"support\", \"surround\", \"surround\", \"surround\", \"surround\", \"sweat\", \"taken\", \"taken\", \"talent\", \"talent\", \"tanaka\", \"tani\", \"team\", \"team\", \"team\", \"team\", \"team\", \"team\", \"team\", \"team\", \"team\", \"team\", \"teas\", \"thank\", \"thank\", \"thank\", \"thank\", \"thank\", \"thank\", \"thank\", \"thank\", \"thank\", \"thank\", \"throwback\", \"throwback\", \"throwback\", \"tiger\", \"tiger\", \"tiger\", \"tiger\", \"tiger\", \"tiktok\", \"tiktok\", \"tiktok\", \"tiktok\", \"tiktok\", \"tiktok\", \"time\", \"time\", \"time\", \"time\", \"time\", \"time\", \"time\", \"time\", \"time\", \"time\", \"titl\", \"titl\", \"titl\", \"titl\", \"today\", \"today\", \"today\", \"today\", \"today\", \"today\", \"today\", \"today\", \"today\", \"today\", \"told\", \"told\", \"tomorrow\", \"tomorrow\", \"tomorrow\", \"tomorrow\", \"tomorrow\", \"tomorrow\", \"tomorrow\", \"tomorrow\", \"tomorrow\", \"tomorrow\", \"topic\", \"toward\", \"toward\", \"toward\", \"toy\", \"train\", \"train\", \"train\", \"train\", \"twowayplay\", \"twowayplay\", \"twowayplay\", \"twowayplay\", \"twowayplay\", \"twowayplay\", \"twowayplay\", \"twowayplay\", \"unanim\", \"understand\", \"understand\", \"understand\", \"unicorn\", \"unicorn\", \"unicorn\", \"unicorn\", \"unicorn\", \"unicorn\", \"unicorn\", \"upper\", \"valentin\", \"valentin\", \"valley\", \"valuabl\", \"valuabl\", \"valuabl\", \"valuabl\", \"valuabl\", \"variou\", \"variou\", \"variou\", \"variou\", \"venu\", \"version\", \"video\", \"video\", \"video\", \"video\", \"video\", \"video\", \"video\", \"video\", \"vote\", \"vote\", \"vote\", \"vote\", \"wall\", \"want\", \"want\", \"want\", \"want\", \"want\", \"want\", \"want\", \"want\", \"watch\", \"watch\", \"watch\", \"watch\", \"watch\", \"watch\", \"watch\", \"watch\", \"watch\", \"wbcmvp\", \"wbcmvp\", \"wbcmvp\", \"wbcmvp\", \"wbcmvp\", \"wbcmvp\", \"wbcmvp\", \"wbcmvp\", \"webleedblu\", \"webleedblu\", \"well\", \"well\", \"well\", \"well\", \"well\", \"well\", \"well\", \"well\", \"well\", \"whether\", \"while\", \"while\", \"wife\", \"wife\", \"wife\", \"wife\", \"wife\", \"wife\", \"winforgavin\", \"winforgavin\", \"winforgavin\", \"winforvin\", \"winforvin\", \"winner\", \"winner\", \"winter\", \"winter\", \"winter\", \"winter\", \"woman\", \"work\", \"work\", \"work\", \"work\", \"work\", \"work\", \"work\", \"work\", \"work\", \"worn\", \"year\", \"year\", \"year\", \"year\", \"year\", \"year\", \"year\", \"year\", \"year\", \"yesterday\", \"yesterday\", \"yesterday\", \"yesterday\", \"yesterday\", \"yesterday\", \"yesterday\", \"yesterday\", \"yesterday\", \"yesterday\", \"yonni\", \"yoshida\", \"youtu\", \"yudaiyamamoto\", \"yuki\", \"yunobu\", \"yunobu\", \"\\u3042\\u308a\\u304c\\u3068\\u3046\\u3054\\u3056\\u3044\\u307e\\u3057\\u305f\", \"\\u3042\\u308a\\u304c\\u3068\\u3046\\u3054\\u3056\\u3044\\u307e\\u3057\\u305f\", \"\\u3042\\u308a\\u304c\\u3068\\u3046\\u3054\\u3056\\u3044\\u307e\\u3059\", \"\\u3042\\u308a\\u304c\\u3068\\u3046\\u3054\\u3056\\u3044\\u307e\\u3059\", \"\\u3042\\u308a\\u304c\\u3068\\u3046\\u3054\\u3056\\u3044\\u307e\\u3059\", \"\\u304a\\u306f\\u3088\\u3046\\u3054\\u3056\\u3044\\u307e\\u3059\", \"\\u304a\\u306f\\u3088\\u3046\\u3054\\u3056\\u3044\\u307e\\u3059\", \"\\u304a\\u306f\\u3088\\u3046\\u3054\\u3056\\u3044\\u307e\\u3059\", \"\\u304a\\u306f\\u3088\\u3046\\u3054\\u3056\\u3044\\u307e\\u3059\", \"\\u304a\\u306f\\u3088\\u3046\\u3054\\u3056\\u3044\\u307e\\u3059\", \"\\u304a\\u306f\\u3088\\u3046\\u3054\\u3056\\u3044\\u307e\\u3059\", \"\\u304a\\u3081\\u3067\\u3068\\u3046\", \"\\u304a\\u3081\\u3067\\u3068\\u3046\", \"\\u304a\\u3081\\u3067\\u3068\\u3046\", \"\\u304a\\u3081\\u3067\\u3068\\u3046\\u3054\\u3056\\u3044\\u307e\\u3059\", \"\\u304a\\u3081\\u3067\\u3068\\u3046\\u3054\\u3056\\u3044\\u307e\\u3059\", \"\\u304a\\u3081\\u3067\\u3068\\u3046\\u3054\\u3056\\u3044\\u307e\\u3059\", \"\\u304a\\u3081\\u3067\\u3068\\u3046\\u3054\\u3056\\u3044\\u307e\\u3059\", \"\\u304a\\u3081\\u3067\\u3068\\u3046\\u3054\\u3056\\u3044\\u307e\\u3059\", \"\\u304a\\u3081\\u3067\\u3068\\u3046\\u3054\\u3056\\u3044\\u307e\\u3059\", \"\\u304a\\u30fc\\u305f\\u306b\\u3055\\u3093\", \"\\u304a\\u75b2\\u308c\\u69d8\\u3067\\u3057\\u305f\", \"\\u304a\\u75b2\\u308c\\u69d8\\u3067\\u3057\\u305f\", \"\\u304a\\u75b2\\u308c\\u69d8\\u3067\\u3057\\u305f\", \"\\u304a\\u75b2\\u308c\\u69d8\\u3067\\u3057\\u305f\", \"\\u304a\\u75b2\\u308c\\u69d8\\u3067\\u3057\\u305f\", \"\\u304a\\u75b2\\u308c\\u69d8\\u3067\\u3057\\u305f\", \"\\u3053\\u308c\\u304b\\u3089\\u3082\", \"\\u3055\\u3066\\u3055\\u3066\", \"\\u3055\\u3066\\u3055\\u3066\", \"\\u3057\\u3066\\u307e\\u3059\", \"\\u3059\\u307f\\u307e\\u305b\\u3093\", \"\\u305d\\u30fc\\u3044\\u3048\\u3070\", \"\\u305d\\u30fc\\u3044\\u3048\\u3070\", \"\\u3060\\u3068\\u601d\\u3046\", \"\\u3061\\u306a\\u307f\\u306b\", \"\\u3061\\u306a\\u307f\\u306b\", \"\\u3063\\u3066\\u611f\\u3058\\u3060\\u306d\", \"\\u3068\\u3044\\u3046\\u3053\\u3068\\u3067\", \"\\u3068\\u30df\\u30c3\\u30ad\\u30fc\", \"\\u3068\\u4e00\\u5e73\\u3061\\u3083\\u3093\", \"\\u3068\\u601d\\u3044\\u307e\\u3059\", \"\\u3068\\u7531\\u4f38\\u304f\\u3093\", \"\\u3068\\u7531\\u4f38\\u304f\\u3093\", \"\\u3068\\u8a71\\u3057\\u305f\", \"\\u3068\\u8a9e\\u3063\\u305f\", \"\\u306b\\u3064\\u3044\\u3066\", \"\\u306b\\u3064\\u3044\\u3066\", \"\\u306e\\u30a4\\u30f3\\u30bf\\u30d3\\u30e5\\u30fc\", \"\\u306e\\u7fd4\\u5e73\\u304f\\u3093\", \"\\u307e\\u305f\\u660e\\u65e5\\u3067\\u3059\", \"\\u307e\\u305f\\u660e\\u65e5\\u3067\\u3059\", \"\\u307e\\u305f\\u660e\\u65e5\\u3067\\u3059\", \"\\u307e\\u305f\\u660e\\u65e5\\u3067\\u3059\", \"\\u3082\\u3057\\u304b\\u3057\\u305f\\u3089\", \"\\u3084\\u3063\\u3071\\u308a\", \"\\u30a4\\u30b3\\u30e9\\u30d6\", \"\\u30a4\\u30b3\\u30e9\\u30d6\\u6cbc\", \"\\u30a4\\u30f3\\u30bf\\u30d3\\u30e5\\u30fc\", \"\\u30a4\\u30f3\\u30bf\\u30d3\\u30e5\\u30fc\", \"\\u30a8\\u30f3\\u30bc\\u30eb\\u30b9\", \"\\u30ac\\u30fc\\u30c7\\u30cb\\u30f3\\u30b0\", \"\\u30ac\\u30fc\\u30c7\\u30cb\\u30f3\\u30b0\", \"\\u30ac\\u30fc\\u30c7\\u30cb\\u30f3\\u30b0\", \"\\u30ac\\u30fc\\u30c7\\u30f3\", \"\\u30ac\\u30fc\\u30c7\\u30f3\", \"\\u30c0\\u30eb\\u30d3\\u30c3\\u30b7\\u30e5\\u6709\", \"\\u30c7\\u30b3\\u30d4\\u30f3\", \"\\u30c7\\u30b3\\u30d4\\u30f3\", \"\\u30c7\\u30b3\\u30d4\\u30f3\", \"\\u30c7\\u30b3\\u30d4\\u30f3\", \"\\u30c7\\u30b3\\u30d4\\u30f3\", \"\\u30c7\\u30b3\\u30d4\\u30f3\", \"\\u30c8\\u30e9\\u30a6\\u30bf\\u30cb\", \"\\u30c9\\u30b8\\u30e3\\u30fc\\u30b9\", \"\\u30c9\\u30b8\\u30e3\\u30fc\\u30b9\", \"\\u30c9\\u30b8\\u30e3\\u30fc\\u30b9\", \"\\u30c9\\u30b8\\u30e3\\u30fc\\u30b9\", \"\\u30c9\\u30b8\\u30e3\\u30fc\\u30b9\", \"\\u30c9\\u30b8\\u30e3\\u30fc\\u30b9\", \"\\u30c9\\u30b8\\u30e3\\u30fc\\u30b9\", \"\\u30c9\\u30b8\\u30e3\\u30fc\\u30b9\", \"\\u30cb\\u30a2\\u30b8\\u30e7\\u30a4\", \"\\u30ce\\u30a4\\u30df\\u30fc\", \"\\u30d0\\u30e9\\u597d\\u304d\", \"\\u30d0\\u30e9\\u597d\\u304d\", \"\\u30d0\\u30e9\\u597d\\u304d\", \"\\u30d5\\u30ea\\u30fc\\u30de\\u30f3\", \"\\u30d5\\u30ea\\u30fc\\u30de\\u30f3\", \"\\u30d5\\u30ec\\u30c7\\u30a3\", \"\\u30d9\\u30fc\\u30b9\\u30dc\\u30fc\\u30eb\", \"\\u30df\\u30c3\\u30ad\\u30fc\", \"\\u30e1\\u30f3\\u30d0\\u30fc\\u7d39\\u4ecb\\u3057\\u307e\\u3059\", \"\\u30ed\\u30b5\\u30f3\\u30bc\\u30eb\\u30b9\", \"\\u30ed\\u30b5\\u30f3\\u30bc\\u30eb\\u30b9\", \"\\u30ed\\u30b5\\u30f3\\u30bc\\u30eb\\u30b9\", \"\\u30ed\\u30fc\\u30ba\\u30ac\\u30fc\\u30c7\\u30f3\", \"\\u30ed\\u30fc\\u30ba\\u30ac\\u30fc\\u30c7\\u30f3\", \"\\u30ed\\u30fc\\u30ba\\u30ac\\u30fc\\u30c7\\u30f3\", \"\\u4e00\\u5e73\\u3061\\u3083\\u3093\", \"\\u4eca\\u65e5\\u3082\\u7fd4\\u5e73\\u304f\\u3093\", \"\\u4f50\\u3005\\u6728\\u821e\\u9999\", \"\\u5199\\u771f\\u597d\\u304d\", \"\\u5199\\u771f\\u597d\\u304d\", \"\\u5199\\u771f\\u597d\\u304d\", \"\\u5199\\u771f\\u597d\\u304d\\u3068\\u7e4b\\u304c\\u308a\\u305f\\u3044\", \"\\u5199\\u771f\\u597d\\u304d\\u3068\\u7e4b\\u304c\\u308a\\u305f\\u3044\", \"\\u5927\\u5834\\u82b1\\u83dc\", \"\\u5927\\u8c37\\u6620\\u7f8e\\u91cc\", \"\\u5927\\u8c37\\u7fd4\\u5e73\", \"\\u5927\\u8c37\\u7fd4\\u5e73\", \"\\u5927\\u8c37\\u7fd4\\u5e73\", \"\\u5927\\u8c37\\u7fd4\\u5e73\", \"\\u5927\\u8c37\\u7fd4\\u5e73\", \"\\u5927\\u8c37\\u7fd4\\u5e73\", \"\\u5927\\u8c37\\u7fd4\\u5e73\", \"\\u5927\\u8c37\\u7fd4\\u5e73\", \"\\u5927\\u8c37\\u7fd4\\u5e73\", \"\\u5927\\u8c37\\u7fd4\\u5e73\", \"\\u5927\\u8c37\\u7fd4\\u5e73\\u3055\\u3093\", \"\\u5927\\u8c37\\u7fd4\\u5e73\\u9078\\u624b\", \"\\u5927\\u8c37\\u7fd4\\u5e73\\u9078\\u624b\", \"\\u5c71\\u672c\\u674f\\u5948\", \"\\u5c71\\u672c\\u7531\\u4f38\", \"\\u63a8\\u3057\\u3057\\u304b\\u52dd\\u305f\\u3093\", \"\\u697d\\u3057\\u307f\\u3059\\u304e\\u308b\", \"\\u697d\\u3057\\u307f\\u3060\\u306d\", \"\\u7027\\u8107\\u7b19\\u53e4\", \"\\u7531\\u4f38\\u304f\\u3093\", \"\\u7531\\u4f38\\u304f\\u3093\", \"\\u7531\\u4f38\\u304f\\u3093\", \"\\u7531\\u4f38\\u304f\\u3093\", \"\\u79c1\\u306f\\u7fd4\\u5e73\\u304f\\u3093\", \"\\u7fd4\\u5e73\\u304f\\u3093\", \"\\u7fd4\\u5e73\\u304f\\u3093\", \"\\u7fd4\\u5e73\\u304f\\u3093\", \"\\u7fd4\\u5e73\\u304f\\u3093\", \"\\u7fd4\\u5e73\\u304f\\u3093\", \"\\u7fd4\\u5e73\\u304f\\u3093\", \"\\u7fd4\\u5e73\\u304f\\u3093\", \"\\u7fd4\\u5e73\\u304f\\u3093\", \"\\u82b1\\u597d\\u304d\\u3068\\u7e4b\\u304c\\u308a\\u305f\\u3044\", \"\\u82b1\\u597d\\u304d\\u3068\\u7e4b\\u304c\\u308a\\u305f\\u3044\", \"\\u82b1\\u597d\\u304d\\u3068\\u7e4b\\u304c\\u308a\\u305f\\u3044\", \"\\u8594\\u8587\\u597d\\u304d\", \"\\u8594\\u8587\\u597d\\u304d\", \"\\u8594\\u8587\\u597d\\u304d\\u3068\\u7e4b\\u304c\\u308a\\u305f\\u3044\", \"\\u8594\\u8587\\u597d\\u304d\\u3068\\u7e4b\\u304c\\u308a\\u305f\\u3044\", \"\\u8af8\\u6a4b\\u6c99\\u590f\", \"\\u91ce\\u53e3\\u8863\\u7e54\", \"\\u97f3\\u5d8b\\u8389\\u6c99\", \"\\u9f4b\\u85e4\\u6a39\\u611b\\u7f85\", \"\\uc624\\ud0c0\\ub2c8\\uc1fc\\ud5e4\\uc774\", \"\\uc624\\ud0c0\\ub2c8\\uc1fc\\ud5e4\\uc774\", \"\\uc624\\ud0c0\\ub2c8\\uc1fc\\ud5e4\\uc774\", \"\\uc624\\ud0c0\\ub2c8\\uc1fc\\ud5e4\\uc774\", \"\\uc624\\ud0c0\\ub2c8\\uc1fc\\ud5e4\\uc774\", \"\\uc624\\ud0c0\\ub2c8\\uc1fc\\ud5e4\\uc774\", \"\\uc624\\ud0c0\\ub2c8\\uc1fc\\ud5e4\\uc774\", \"\\uc624\\ud0c0\\ub2c8\\uc1fc\\ud5e4\\uc774\", \"\\uc624\\ud0c0\\ub2c8\\uc1fc\\ud5e4\\uc774\", \"\\uc624\\ud0c0\\ub2c8\\uc1fc\\ud5e4\\uc774\"]}, \"R\": 30, \"lambda.step\": 0.01, \"plot.opts\": {\"xlab\": \"PC1\", \"ylab\": \"PC2\"}, \"topic.order\": [8, 4, 10, 7, 1, 3, 5, 9, 6, 2]};\n",
              "\n",
              "function LDAvis_load_lib(url, callback){\n",
              "  var s = document.createElement('script');\n",
              "  s.src = url;\n",
              "  s.async = true;\n",
              "  s.onreadystatechange = s.onload = callback;\n",
              "  s.onerror = function(){console.warn(\"failed to load library \" + url);};\n",
              "  document.getElementsByTagName(\"head\")[0].appendChild(s);\n",
              "}\n",
              "\n",
              "if(typeof(LDAvis) !== \"undefined\"){\n",
              "   // already loaded: just create the visualization\n",
              "   !function(LDAvis){\n",
              "       new LDAvis(\"#\" + \"ldavis_el5881403826049501283905448312\", ldavis_el5881403826049501283905448312_data);\n",
              "   }(LDAvis);\n",
              "}else if(typeof define === \"function\" && define.amd){\n",
              "   // require.js is available: use it to load d3/LDAvis\n",
              "   require.config({paths: {d3: \"https://d3js.org/d3.v5\"}});\n",
              "   require([\"d3\"], function(d3){\n",
              "      window.d3 = d3;\n",
              "      LDAvis_load_lib(\"https://cdn.jsdelivr.net/gh/bmabey/pyLDAvis@3.4.0/pyLDAvis/js/ldavis.v3.0.0.js\", function(){\n",
              "        new LDAvis(\"#\" + \"ldavis_el5881403826049501283905448312\", ldavis_el5881403826049501283905448312_data);\n",
              "      });\n",
              "    });\n",
              "}else{\n",
              "    // require.js not available: dynamically load d3 & LDAvis\n",
              "    LDAvis_load_lib(\"https://d3js.org/d3.v5.js\", function(){\n",
              "         LDAvis_load_lib(\"https://cdn.jsdelivr.net/gh/bmabey/pyLDAvis@3.4.0/pyLDAvis/js/ldavis.v3.0.0.js\", function(){\n",
              "                 new LDAvis(\"#\" + \"ldavis_el5881403826049501283905448312\", ldavis_el5881403826049501283905448312_data);\n",
              "            })\n",
              "         });\n",
              "}\n",
              "</script>"
            ]
          },
          "metadata": {},
          "execution_count": 136
        }
      ],
      "source": [
        "### visualize\n",
        "lda_display = gensimvis.prepare(lda_model, corpus, dictionary)\n",
        "pyLDAvis.display(lda_display)"
      ]
    },
    {
      "cell_type": "markdown",
      "id": "54b86f9c-d997-4daf-88f1-cab8e9ce603b",
      "metadata": {
        "id": "54b86f9c-d997-4daf-88f1-cab8e9ce603b"
      },
      "source": [
        "## BERTopic"
      ]
    },
    {
      "cell_type": "code",
      "execution_count": 141,
      "id": "b0f1a1ed-8cf5-40e2-ab29-9797d9cf76a3",
      "metadata": {
        "colab": {
          "base_uri": "https://localhost:8080/"
        },
        "id": "b0f1a1ed-8cf5-40e2-ab29-9797d9cf76a3",
        "outputId": "24699e6b-b470-42cd-c01f-a67e97274c32"
      },
      "outputs": [
        {
          "output_type": "stream",
          "name": "stderr",
          "text": [
            "/usr/local/lib/python3.10/dist-packages/ipykernel/ipkernel.py:283: DeprecationWarning: `should_run_async` will not call `transform_cell` automatically in the future. Please pass the result to `transformed_cell` argument and any exception that happen during thetransform in `preprocessing_exc_tuple` in IPython 7.17 and above.\n",
            "  and should_run_async(code)\n"
          ]
        }
      ],
      "source": [
        "groups = [df_jp, df_kr, df_zh , df_es, df_jpam , df_koram , df_zham]"
      ]
    },
    {
      "cell_type": "code",
      "execution_count": 153,
      "id": "cb8b852f-266a-455b-9883-666abbf70b7c",
      "metadata": {
        "colab": {
          "base_uri": "https://localhost:8080/"
        },
        "id": "cb8b852f-266a-455b-9883-666abbf70b7c",
        "outputId": "e090f509-a0d3-42ba-ac48-a07f9ef0a9ee"
      },
      "outputs": [
        {
          "output_type": "stream",
          "name": "stderr",
          "text": [
            "/usr/local/lib/python3.10/dist-packages/ipykernel/ipkernel.py:283: DeprecationWarning: `should_run_async` will not call `transform_cell` automatically in the future. Please pass the result to `transformed_cell` argument and any exception that happen during thetransform in `preprocessing_exc_tuple` in IPython 7.17 and above.\n",
            "  and should_run_async(code)\n"
          ]
        },
        {
          "output_type": "stream",
          "name": "stdout",
          "text": [
            "CPU times: user 483 ms, sys: 21.9 ms, total: 505 ms\n",
            "Wall time: 1.28 s\n"
          ]
        }
      ],
      "source": [
        "%%time\n",
        "topic_model = BERTopic()\n",
        "topics, probs = topic_model.fit_transform(groups[6].en_text)"
      ]
    },
    {
      "cell_type": "code",
      "execution_count": 154,
      "id": "531951d0-1c01-40a2-b001-9e06867a6c78",
      "metadata": {
        "scrolled": true,
        "colab": {
          "base_uri": "https://localhost:8080/",
          "height": 135
        },
        "id": "531951d0-1c01-40a2-b001-9e06867a6c78",
        "outputId": "8e685892-182d-4848-b3e4-4f7869daf99c"
      },
      "outputs": [
        {
          "output_type": "stream",
          "name": "stderr",
          "text": [
            "/usr/local/lib/python3.10/dist-packages/ipykernel/ipkernel.py:283: DeprecationWarning: `should_run_async` will not call `transform_cell` automatically in the future. Please pass the result to `transformed_cell` argument and any exception that happen during thetransform in `preprocessing_exc_tuple` in IPython 7.17 and above.\n",
            "  and should_run_async(code)\n"
          ]
        },
        {
          "output_type": "execute_result",
          "data": {
            "text/plain": [
              "   Topic  Count              Name  \\\n",
              "0     -1     40  -1_the_and_of_to   \n",
              "\n",
              "                                      Representation  \\\n",
              "0  [the, and, of, to, in, ohtani, redactedmention...   \n",
              "\n",
              "                                 Representative_Docs  \n",
              "0  [Ohtani is beginning a record 10-year, $700 mi...  "
            ],
            "text/html": [
              "\n",
              "  <div id=\"df-6111fb5b-6b78-446b-80e2-f843df207d98\" class=\"colab-df-container\">\n",
              "    <div>\n",
              "<style scoped>\n",
              "    .dataframe tbody tr th:only-of-type {\n",
              "        vertical-align: middle;\n",
              "    }\n",
              "\n",
              "    .dataframe tbody tr th {\n",
              "        vertical-align: top;\n",
              "    }\n",
              "\n",
              "    .dataframe thead th {\n",
              "        text-align: right;\n",
              "    }\n",
              "</style>\n",
              "<table border=\"1\" class=\"dataframe\">\n",
              "  <thead>\n",
              "    <tr style=\"text-align: right;\">\n",
              "      <th></th>\n",
              "      <th>Topic</th>\n",
              "      <th>Count</th>\n",
              "      <th>Name</th>\n",
              "      <th>Representation</th>\n",
              "      <th>Representative_Docs</th>\n",
              "    </tr>\n",
              "  </thead>\n",
              "  <tbody>\n",
              "    <tr>\n",
              "      <th>0</th>\n",
              "      <td>-1</td>\n",
              "      <td>40</td>\n",
              "      <td>-1_the_and_of_to</td>\n",
              "      <td>[the, and, of, to, in, ohtani, redactedmention...</td>\n",
              "      <td>[Ohtani is beginning a record 10-year, $700 mi...</td>\n",
              "    </tr>\n",
              "  </tbody>\n",
              "</table>\n",
              "</div>\n",
              "    <div class=\"colab-df-buttons\">\n",
              "\n",
              "  <div class=\"colab-df-container\">\n",
              "    <button class=\"colab-df-convert\" onclick=\"convertToInteractive('df-6111fb5b-6b78-446b-80e2-f843df207d98')\"\n",
              "            title=\"Convert this dataframe to an interactive table.\"\n",
              "            style=\"display:none;\">\n",
              "\n",
              "  <svg xmlns=\"http://www.w3.org/2000/svg\" height=\"24px\" viewBox=\"0 -960 960 960\">\n",
              "    <path d=\"M120-120v-720h720v720H120Zm60-500h600v-160H180v160Zm220 220h160v-160H400v160Zm0 220h160v-160H400v160ZM180-400h160v-160H180v160Zm440 0h160v-160H620v160ZM180-180h160v-160H180v160Zm440 0h160v-160H620v160Z\"/>\n",
              "  </svg>\n",
              "    </button>\n",
              "\n",
              "  <style>\n",
              "    .colab-df-container {\n",
              "      display:flex;\n",
              "      gap: 12px;\n",
              "    }\n",
              "\n",
              "    .colab-df-convert {\n",
              "      background-color: #E8F0FE;\n",
              "      border: none;\n",
              "      border-radius: 50%;\n",
              "      cursor: pointer;\n",
              "      display: none;\n",
              "      fill: #1967D2;\n",
              "      height: 32px;\n",
              "      padding: 0 0 0 0;\n",
              "      width: 32px;\n",
              "    }\n",
              "\n",
              "    .colab-df-convert:hover {\n",
              "      background-color: #E2EBFA;\n",
              "      box-shadow: 0px 1px 2px rgba(60, 64, 67, 0.3), 0px 1px 3px 1px rgba(60, 64, 67, 0.15);\n",
              "      fill: #174EA6;\n",
              "    }\n",
              "\n",
              "    .colab-df-buttons div {\n",
              "      margin-bottom: 4px;\n",
              "    }\n",
              "\n",
              "    [theme=dark] .colab-df-convert {\n",
              "      background-color: #3B4455;\n",
              "      fill: #D2E3FC;\n",
              "    }\n",
              "\n",
              "    [theme=dark] .colab-df-convert:hover {\n",
              "      background-color: #434B5C;\n",
              "      box-shadow: 0px 1px 3px 1px rgba(0, 0, 0, 0.15);\n",
              "      filter: drop-shadow(0px 1px 2px rgba(0, 0, 0, 0.3));\n",
              "      fill: #FFFFFF;\n",
              "    }\n",
              "  </style>\n",
              "\n",
              "    <script>\n",
              "      const buttonEl =\n",
              "        document.querySelector('#df-6111fb5b-6b78-446b-80e2-f843df207d98 button.colab-df-convert');\n",
              "      buttonEl.style.display =\n",
              "        google.colab.kernel.accessAllowed ? 'block' : 'none';\n",
              "\n",
              "      async function convertToInteractive(key) {\n",
              "        const element = document.querySelector('#df-6111fb5b-6b78-446b-80e2-f843df207d98');\n",
              "        const dataTable =\n",
              "          await google.colab.kernel.invokeFunction('convertToInteractive',\n",
              "                                                    [key], {});\n",
              "        if (!dataTable) return;\n",
              "\n",
              "        const docLinkHtml = 'Like what you see? Visit the ' +\n",
              "          '<a target=\"_blank\" href=https://colab.research.google.com/notebooks/data_table.ipynb>data table notebook</a>'\n",
              "          + ' to learn more about interactive tables.';\n",
              "        element.innerHTML = '';\n",
              "        dataTable['output_type'] = 'display_data';\n",
              "        await google.colab.output.renderOutput(dataTable, element);\n",
              "        const docLink = document.createElement('div');\n",
              "        docLink.innerHTML = docLinkHtml;\n",
              "        element.appendChild(docLink);\n",
              "      }\n",
              "    </script>\n",
              "  </div>\n",
              "\n",
              "\n",
              "    </div>\n",
              "  </div>\n"
            ],
            "application/vnd.google.colaboratory.intrinsic+json": {
              "type": "dataframe",
              "summary": "{\n  \"name\": \"topic_model\",\n  \"rows\": 1,\n  \"fields\": [\n    {\n      \"column\": \"Topic\",\n      \"properties\": {\n        \"dtype\": \"number\",\n        \"std\": null,\n        \"min\": -1,\n        \"max\": -1,\n        \"num_unique_values\": 1,\n        \"samples\": [\n          -1\n        ],\n        \"semantic_type\": \"\",\n        \"description\": \"\"\n      }\n    },\n    {\n      \"column\": \"Count\",\n      \"properties\": {\n        \"dtype\": \"number\",\n        \"std\": null,\n        \"min\": 40,\n        \"max\": 40,\n        \"num_unique_values\": 1,\n        \"samples\": [\n          40\n        ],\n        \"semantic_type\": \"\",\n        \"description\": \"\"\n      }\n    },\n    {\n      \"column\": \"Name\",\n      \"properties\": {\n        \"dtype\": \"string\",\n        \"num_unique_values\": 1,\n        \"samples\": [\n          \"-1_the_and_of_to\"\n        ],\n        \"semantic_type\": \"\",\n        \"description\": \"\"\n      }\n    },\n    {\n      \"column\": \"Representation\",\n      \"properties\": {\n        \"dtype\": \"object\",\n        \"semantic_type\": \"\",\n        \"description\": \"\"\n      }\n    },\n    {\n      \"column\": \"Representative_Docs\",\n      \"properties\": {\n        \"dtype\": \"object\",\n        \"semantic_type\": \"\",\n        \"description\": \"\"\n      }\n    }\n  ]\n}"
            }
          },
          "metadata": {},
          "execution_count": 154
        }
      ],
      "source": [
        "topic_model.get_topic_info()"
      ]
    }
  ],
  "metadata": {
    "kernelspec": {
      "display_name": "Python (test_env)",
      "language": "python",
      "name": "test_env"
    },
    "language_info": {
      "codemirror_mode": {
        "name": "ipython",
        "version": 3
      },
      "file_extension": ".py",
      "mimetype": "text/x-python",
      "name": "python",
      "nbconvert_exporter": "python",
      "pygments_lexer": "ipython3",
      "version": "3.11.7"
    },
    "colab": {
      "provenance": [],
      "gpuType": "T4"
    },
    "accelerator": "GPU",
    "widgets": {
      "application/vnd.jupyter.widget-state+json": {
        "e8ddb2a2f80f444cba830866d843b949": {
          "model_module": "@jupyter-widgets/controls",
          "model_name": "HBoxModel",
          "model_module_version": "1.5.0",
          "state": {
            "_dom_classes": [],
            "_model_module": "@jupyter-widgets/controls",
            "_model_module_version": "1.5.0",
            "_model_name": "HBoxModel",
            "_view_count": null,
            "_view_module": "@jupyter-widgets/controls",
            "_view_module_version": "1.5.0",
            "_view_name": "HBoxView",
            "box_style": "",
            "children": [
              "IPY_MODEL_1cfb09aa8b1e41d3995ab49aa829e3d1",
              "IPY_MODEL_35c40eb8b4af4edb88ea470e20b37408",
              "IPY_MODEL_82d35e95cfe54c319c9793bf4f785f72"
            ],
            "layout": "IPY_MODEL_7296fa0a113a4bb3ac4957637958842f"
          }
        },
        "1cfb09aa8b1e41d3995ab49aa829e3d1": {
          "model_module": "@jupyter-widgets/controls",
          "model_name": "HTMLModel",
          "model_module_version": "1.5.0",
          "state": {
            "_dom_classes": [],
            "_model_module": "@jupyter-widgets/controls",
            "_model_module_version": "1.5.0",
            "_model_name": "HTMLModel",
            "_view_count": null,
            "_view_module": "@jupyter-widgets/controls",
            "_view_module_version": "1.5.0",
            "_view_name": "HTMLView",
            "description": "",
            "description_tooltip": null,
            "layout": "IPY_MODEL_5c495acb82dd42639213fe325bcba422",
            "placeholder": "​",
            "style": "IPY_MODEL_04da12162c624421a2e03e31d242a80b",
            "value": "config.json: 100%"
          }
        },
        "35c40eb8b4af4edb88ea470e20b37408": {
          "model_module": "@jupyter-widgets/controls",
          "model_name": "FloatProgressModel",
          "model_module_version": "1.5.0",
          "state": {
            "_dom_classes": [],
            "_model_module": "@jupyter-widgets/controls",
            "_model_module_version": "1.5.0",
            "_model_name": "FloatProgressModel",
            "_view_count": null,
            "_view_module": "@jupyter-widgets/controls",
            "_view_module_version": "1.5.0",
            "_view_name": "ProgressView",
            "bar_style": "success",
            "description": "",
            "description_tooltip": null,
            "layout": "IPY_MODEL_13e465c84dbe439b887cf66fa07e1346",
            "max": 629,
            "min": 0,
            "orientation": "horizontal",
            "style": "IPY_MODEL_4bc5a65594dd4882bdd940a811b75f28",
            "value": 629
          }
        },
        "82d35e95cfe54c319c9793bf4f785f72": {
          "model_module": "@jupyter-widgets/controls",
          "model_name": "HTMLModel",
          "model_module_version": "1.5.0",
          "state": {
            "_dom_classes": [],
            "_model_module": "@jupyter-widgets/controls",
            "_model_module_version": "1.5.0",
            "_model_name": "HTMLModel",
            "_view_count": null,
            "_view_module": "@jupyter-widgets/controls",
            "_view_module_version": "1.5.0",
            "_view_name": "HTMLView",
            "description": "",
            "description_tooltip": null,
            "layout": "IPY_MODEL_7bc0c02c1e55467bad1c1032c087bb95",
            "placeholder": "​",
            "style": "IPY_MODEL_93f8243db56f4227b8b21a605b5ee9ce",
            "value": " 629/629 [00:00&lt;00:00, 23.3kB/s]"
          }
        },
        "7296fa0a113a4bb3ac4957637958842f": {
          "model_module": "@jupyter-widgets/base",
          "model_name": "LayoutModel",
          "model_module_version": "1.2.0",
          "state": {
            "_model_module": "@jupyter-widgets/base",
            "_model_module_version": "1.2.0",
            "_model_name": "LayoutModel",
            "_view_count": null,
            "_view_module": "@jupyter-widgets/base",
            "_view_module_version": "1.2.0",
            "_view_name": "LayoutView",
            "align_content": null,
            "align_items": null,
            "align_self": null,
            "border": null,
            "bottom": null,
            "display": null,
            "flex": null,
            "flex_flow": null,
            "grid_area": null,
            "grid_auto_columns": null,
            "grid_auto_flow": null,
            "grid_auto_rows": null,
            "grid_column": null,
            "grid_gap": null,
            "grid_row": null,
            "grid_template_areas": null,
            "grid_template_columns": null,
            "grid_template_rows": null,
            "height": null,
            "justify_content": null,
            "justify_items": null,
            "left": null,
            "margin": null,
            "max_height": null,
            "max_width": null,
            "min_height": null,
            "min_width": null,
            "object_fit": null,
            "object_position": null,
            "order": null,
            "overflow": null,
            "overflow_x": null,
            "overflow_y": null,
            "padding": null,
            "right": null,
            "top": null,
            "visibility": null,
            "width": null
          }
        },
        "5c495acb82dd42639213fe325bcba422": {
          "model_module": "@jupyter-widgets/base",
          "model_name": "LayoutModel",
          "model_module_version": "1.2.0",
          "state": {
            "_model_module": "@jupyter-widgets/base",
            "_model_module_version": "1.2.0",
            "_model_name": "LayoutModel",
            "_view_count": null,
            "_view_module": "@jupyter-widgets/base",
            "_view_module_version": "1.2.0",
            "_view_name": "LayoutView",
            "align_content": null,
            "align_items": null,
            "align_self": null,
            "border": null,
            "bottom": null,
            "display": null,
            "flex": null,
            "flex_flow": null,
            "grid_area": null,
            "grid_auto_columns": null,
            "grid_auto_flow": null,
            "grid_auto_rows": null,
            "grid_column": null,
            "grid_gap": null,
            "grid_row": null,
            "grid_template_areas": null,
            "grid_template_columns": null,
            "grid_template_rows": null,
            "height": null,
            "justify_content": null,
            "justify_items": null,
            "left": null,
            "margin": null,
            "max_height": null,
            "max_width": null,
            "min_height": null,
            "min_width": null,
            "object_fit": null,
            "object_position": null,
            "order": null,
            "overflow": null,
            "overflow_x": null,
            "overflow_y": null,
            "padding": null,
            "right": null,
            "top": null,
            "visibility": null,
            "width": null
          }
        },
        "04da12162c624421a2e03e31d242a80b": {
          "model_module": "@jupyter-widgets/controls",
          "model_name": "DescriptionStyleModel",
          "model_module_version": "1.5.0",
          "state": {
            "_model_module": "@jupyter-widgets/controls",
            "_model_module_version": "1.5.0",
            "_model_name": "DescriptionStyleModel",
            "_view_count": null,
            "_view_module": "@jupyter-widgets/base",
            "_view_module_version": "1.2.0",
            "_view_name": "StyleView",
            "description_width": ""
          }
        },
        "13e465c84dbe439b887cf66fa07e1346": {
          "model_module": "@jupyter-widgets/base",
          "model_name": "LayoutModel",
          "model_module_version": "1.2.0",
          "state": {
            "_model_module": "@jupyter-widgets/base",
            "_model_module_version": "1.2.0",
            "_model_name": "LayoutModel",
            "_view_count": null,
            "_view_module": "@jupyter-widgets/base",
            "_view_module_version": "1.2.0",
            "_view_name": "LayoutView",
            "align_content": null,
            "align_items": null,
            "align_self": null,
            "border": null,
            "bottom": null,
            "display": null,
            "flex": null,
            "flex_flow": null,
            "grid_area": null,
            "grid_auto_columns": null,
            "grid_auto_flow": null,
            "grid_auto_rows": null,
            "grid_column": null,
            "grid_gap": null,
            "grid_row": null,
            "grid_template_areas": null,
            "grid_template_columns": null,
            "grid_template_rows": null,
            "height": null,
            "justify_content": null,
            "justify_items": null,
            "left": null,
            "margin": null,
            "max_height": null,
            "max_width": null,
            "min_height": null,
            "min_width": null,
            "object_fit": null,
            "object_position": null,
            "order": null,
            "overflow": null,
            "overflow_x": null,
            "overflow_y": null,
            "padding": null,
            "right": null,
            "top": null,
            "visibility": null,
            "width": null
          }
        },
        "4bc5a65594dd4882bdd940a811b75f28": {
          "model_module": "@jupyter-widgets/controls",
          "model_name": "ProgressStyleModel",
          "model_module_version": "1.5.0",
          "state": {
            "_model_module": "@jupyter-widgets/controls",
            "_model_module_version": "1.5.0",
            "_model_name": "ProgressStyleModel",
            "_view_count": null,
            "_view_module": "@jupyter-widgets/base",
            "_view_module_version": "1.2.0",
            "_view_name": "StyleView",
            "bar_color": null,
            "description_width": ""
          }
        },
        "7bc0c02c1e55467bad1c1032c087bb95": {
          "model_module": "@jupyter-widgets/base",
          "model_name": "LayoutModel",
          "model_module_version": "1.2.0",
          "state": {
            "_model_module": "@jupyter-widgets/base",
            "_model_module_version": "1.2.0",
            "_model_name": "LayoutModel",
            "_view_count": null,
            "_view_module": "@jupyter-widgets/base",
            "_view_module_version": "1.2.0",
            "_view_name": "LayoutView",
            "align_content": null,
            "align_items": null,
            "align_self": null,
            "border": null,
            "bottom": null,
            "display": null,
            "flex": null,
            "flex_flow": null,
            "grid_area": null,
            "grid_auto_columns": null,
            "grid_auto_flow": null,
            "grid_auto_rows": null,
            "grid_column": null,
            "grid_gap": null,
            "grid_row": null,
            "grid_template_areas": null,
            "grid_template_columns": null,
            "grid_template_rows": null,
            "height": null,
            "justify_content": null,
            "justify_items": null,
            "left": null,
            "margin": null,
            "max_height": null,
            "max_width": null,
            "min_height": null,
            "min_width": null,
            "object_fit": null,
            "object_position": null,
            "order": null,
            "overflow": null,
            "overflow_x": null,
            "overflow_y": null,
            "padding": null,
            "right": null,
            "top": null,
            "visibility": null,
            "width": null
          }
        },
        "93f8243db56f4227b8b21a605b5ee9ce": {
          "model_module": "@jupyter-widgets/controls",
          "model_name": "DescriptionStyleModel",
          "model_module_version": "1.5.0",
          "state": {
            "_model_module": "@jupyter-widgets/controls",
            "_model_module_version": "1.5.0",
            "_model_name": "DescriptionStyleModel",
            "_view_count": null,
            "_view_module": "@jupyter-widgets/base",
            "_view_module_version": "1.2.0",
            "_view_name": "StyleView",
            "description_width": ""
          }
        },
        "08ea877d119b4d129c4be25c3656fea6": {
          "model_module": "@jupyter-widgets/controls",
          "model_name": "HBoxModel",
          "model_module_version": "1.5.0",
          "state": {
            "_dom_classes": [],
            "_model_module": "@jupyter-widgets/controls",
            "_model_module_version": "1.5.0",
            "_model_name": "HBoxModel",
            "_view_count": null,
            "_view_module": "@jupyter-widgets/controls",
            "_view_module_version": "1.5.0",
            "_view_name": "HBoxView",
            "box_style": "",
            "children": [
              "IPY_MODEL_8fc61332099e44f0b3c3672c1e40c62d",
              "IPY_MODEL_5d737a996d5c4fdb833c6a4464f454d0",
              "IPY_MODEL_4ee0e66e774a4b0fb470e6b8de590190"
            ],
            "layout": "IPY_MODEL_d2c58894169940ebb62ce868e03e8a56"
          }
        },
        "8fc61332099e44f0b3c3672c1e40c62d": {
          "model_module": "@jupyter-widgets/controls",
          "model_name": "HTMLModel",
          "model_module_version": "1.5.0",
          "state": {
            "_dom_classes": [],
            "_model_module": "@jupyter-widgets/controls",
            "_model_module_version": "1.5.0",
            "_model_name": "HTMLModel",
            "_view_count": null,
            "_view_module": "@jupyter-widgets/controls",
            "_view_module_version": "1.5.0",
            "_view_name": "HTMLView",
            "description": "",
            "description_tooltip": null,
            "layout": "IPY_MODEL_e159c994104142ec96d2c67b97ad1a85",
            "placeholder": "​",
            "style": "IPY_MODEL_471b21ccbe6e4738b231e018c35c0c5b",
            "value": "model.safetensors: 100%"
          }
        },
        "5d737a996d5c4fdb833c6a4464f454d0": {
          "model_module": "@jupyter-widgets/controls",
          "model_name": "FloatProgressModel",
          "model_module_version": "1.5.0",
          "state": {
            "_dom_classes": [],
            "_model_module": "@jupyter-widgets/controls",
            "_model_module_version": "1.5.0",
            "_model_name": "FloatProgressModel",
            "_view_count": null,
            "_view_module": "@jupyter-widgets/controls",
            "_view_module_version": "1.5.0",
            "_view_name": "ProgressView",
            "bar_style": "success",
            "description": "",
            "description_tooltip": null,
            "layout": "IPY_MODEL_8fc7fcfa6881478ebaa7293067d04f34",
            "max": 267832558,
            "min": 0,
            "orientation": "horizontal",
            "style": "IPY_MODEL_54c82fa3433b454693e9f7505cc8977f",
            "value": 267832558
          }
        },
        "4ee0e66e774a4b0fb470e6b8de590190": {
          "model_module": "@jupyter-widgets/controls",
          "model_name": "HTMLModel",
          "model_module_version": "1.5.0",
          "state": {
            "_dom_classes": [],
            "_model_module": "@jupyter-widgets/controls",
            "_model_module_version": "1.5.0",
            "_model_name": "HTMLModel",
            "_view_count": null,
            "_view_module": "@jupyter-widgets/controls",
            "_view_module_version": "1.5.0",
            "_view_name": "HTMLView",
            "description": "",
            "description_tooltip": null,
            "layout": "IPY_MODEL_459c622d837e486f9bc97341dfa1c743",
            "placeholder": "​",
            "style": "IPY_MODEL_60d194077c7b42b8ae202bc1a907ac45",
            "value": " 268M/268M [00:01&lt;00:00, 189MB/s]"
          }
        },
        "d2c58894169940ebb62ce868e03e8a56": {
          "model_module": "@jupyter-widgets/base",
          "model_name": "LayoutModel",
          "model_module_version": "1.2.0",
          "state": {
            "_model_module": "@jupyter-widgets/base",
            "_model_module_version": "1.2.0",
            "_model_name": "LayoutModel",
            "_view_count": null,
            "_view_module": "@jupyter-widgets/base",
            "_view_module_version": "1.2.0",
            "_view_name": "LayoutView",
            "align_content": null,
            "align_items": null,
            "align_self": null,
            "border": null,
            "bottom": null,
            "display": null,
            "flex": null,
            "flex_flow": null,
            "grid_area": null,
            "grid_auto_columns": null,
            "grid_auto_flow": null,
            "grid_auto_rows": null,
            "grid_column": null,
            "grid_gap": null,
            "grid_row": null,
            "grid_template_areas": null,
            "grid_template_columns": null,
            "grid_template_rows": null,
            "height": null,
            "justify_content": null,
            "justify_items": null,
            "left": null,
            "margin": null,
            "max_height": null,
            "max_width": null,
            "min_height": null,
            "min_width": null,
            "object_fit": null,
            "object_position": null,
            "order": null,
            "overflow": null,
            "overflow_x": null,
            "overflow_y": null,
            "padding": null,
            "right": null,
            "top": null,
            "visibility": null,
            "width": null
          }
        },
        "e159c994104142ec96d2c67b97ad1a85": {
          "model_module": "@jupyter-widgets/base",
          "model_name": "LayoutModel",
          "model_module_version": "1.2.0",
          "state": {
            "_model_module": "@jupyter-widgets/base",
            "_model_module_version": "1.2.0",
            "_model_name": "LayoutModel",
            "_view_count": null,
            "_view_module": "@jupyter-widgets/base",
            "_view_module_version": "1.2.0",
            "_view_name": "LayoutView",
            "align_content": null,
            "align_items": null,
            "align_self": null,
            "border": null,
            "bottom": null,
            "display": null,
            "flex": null,
            "flex_flow": null,
            "grid_area": null,
            "grid_auto_columns": null,
            "grid_auto_flow": null,
            "grid_auto_rows": null,
            "grid_column": null,
            "grid_gap": null,
            "grid_row": null,
            "grid_template_areas": null,
            "grid_template_columns": null,
            "grid_template_rows": null,
            "height": null,
            "justify_content": null,
            "justify_items": null,
            "left": null,
            "margin": null,
            "max_height": null,
            "max_width": null,
            "min_height": null,
            "min_width": null,
            "object_fit": null,
            "object_position": null,
            "order": null,
            "overflow": null,
            "overflow_x": null,
            "overflow_y": null,
            "padding": null,
            "right": null,
            "top": null,
            "visibility": null,
            "width": null
          }
        },
        "471b21ccbe6e4738b231e018c35c0c5b": {
          "model_module": "@jupyter-widgets/controls",
          "model_name": "DescriptionStyleModel",
          "model_module_version": "1.5.0",
          "state": {
            "_model_module": "@jupyter-widgets/controls",
            "_model_module_version": "1.5.0",
            "_model_name": "DescriptionStyleModel",
            "_view_count": null,
            "_view_module": "@jupyter-widgets/base",
            "_view_module_version": "1.2.0",
            "_view_name": "StyleView",
            "description_width": ""
          }
        },
        "8fc7fcfa6881478ebaa7293067d04f34": {
          "model_module": "@jupyter-widgets/base",
          "model_name": "LayoutModel",
          "model_module_version": "1.2.0",
          "state": {
            "_model_module": "@jupyter-widgets/base",
            "_model_module_version": "1.2.0",
            "_model_name": "LayoutModel",
            "_view_count": null,
            "_view_module": "@jupyter-widgets/base",
            "_view_module_version": "1.2.0",
            "_view_name": "LayoutView",
            "align_content": null,
            "align_items": null,
            "align_self": null,
            "border": null,
            "bottom": null,
            "display": null,
            "flex": null,
            "flex_flow": null,
            "grid_area": null,
            "grid_auto_columns": null,
            "grid_auto_flow": null,
            "grid_auto_rows": null,
            "grid_column": null,
            "grid_gap": null,
            "grid_row": null,
            "grid_template_areas": null,
            "grid_template_columns": null,
            "grid_template_rows": null,
            "height": null,
            "justify_content": null,
            "justify_items": null,
            "left": null,
            "margin": null,
            "max_height": null,
            "max_width": null,
            "min_height": null,
            "min_width": null,
            "object_fit": null,
            "object_position": null,
            "order": null,
            "overflow": null,
            "overflow_x": null,
            "overflow_y": null,
            "padding": null,
            "right": null,
            "top": null,
            "visibility": null,
            "width": null
          }
        },
        "54c82fa3433b454693e9f7505cc8977f": {
          "model_module": "@jupyter-widgets/controls",
          "model_name": "ProgressStyleModel",
          "model_module_version": "1.5.0",
          "state": {
            "_model_module": "@jupyter-widgets/controls",
            "_model_module_version": "1.5.0",
            "_model_name": "ProgressStyleModel",
            "_view_count": null,
            "_view_module": "@jupyter-widgets/base",
            "_view_module_version": "1.2.0",
            "_view_name": "StyleView",
            "bar_color": null,
            "description_width": ""
          }
        },
        "459c622d837e486f9bc97341dfa1c743": {
          "model_module": "@jupyter-widgets/base",
          "model_name": "LayoutModel",
          "model_module_version": "1.2.0",
          "state": {
            "_model_module": "@jupyter-widgets/base",
            "_model_module_version": "1.2.0",
            "_model_name": "LayoutModel",
            "_view_count": null,
            "_view_module": "@jupyter-widgets/base",
            "_view_module_version": "1.2.0",
            "_view_name": "LayoutView",
            "align_content": null,
            "align_items": null,
            "align_self": null,
            "border": null,
            "bottom": null,
            "display": null,
            "flex": null,
            "flex_flow": null,
            "grid_area": null,
            "grid_auto_columns": null,
            "grid_auto_flow": null,
            "grid_auto_rows": null,
            "grid_column": null,
            "grid_gap": null,
            "grid_row": null,
            "grid_template_areas": null,
            "grid_template_columns": null,
            "grid_template_rows": null,
            "height": null,
            "justify_content": null,
            "justify_items": null,
            "left": null,
            "margin": null,
            "max_height": null,
            "max_width": null,
            "min_height": null,
            "min_width": null,
            "object_fit": null,
            "object_position": null,
            "order": null,
            "overflow": null,
            "overflow_x": null,
            "overflow_y": null,
            "padding": null,
            "right": null,
            "top": null,
            "visibility": null,
            "width": null
          }
        },
        "60d194077c7b42b8ae202bc1a907ac45": {
          "model_module": "@jupyter-widgets/controls",
          "model_name": "DescriptionStyleModel",
          "model_module_version": "1.5.0",
          "state": {
            "_model_module": "@jupyter-widgets/controls",
            "_model_module_version": "1.5.0",
            "_model_name": "DescriptionStyleModel",
            "_view_count": null,
            "_view_module": "@jupyter-widgets/base",
            "_view_module_version": "1.2.0",
            "_view_name": "StyleView",
            "description_width": ""
          }
        },
        "8cf28cf682e54c15b4a51183565ed098": {
          "model_module": "@jupyter-widgets/controls",
          "model_name": "HBoxModel",
          "model_module_version": "1.5.0",
          "state": {
            "_dom_classes": [],
            "_model_module": "@jupyter-widgets/controls",
            "_model_module_version": "1.5.0",
            "_model_name": "HBoxModel",
            "_view_count": null,
            "_view_module": "@jupyter-widgets/controls",
            "_view_module_version": "1.5.0",
            "_view_name": "HBoxView",
            "box_style": "",
            "children": [
              "IPY_MODEL_3390615b48ab44d5979c83c3c2097bd5",
              "IPY_MODEL_fd98e21509ba4b23aa2f4af7d9a24a2a",
              "IPY_MODEL_a6f3d180dd4d4d489766ce80b303d7ad"
            ],
            "layout": "IPY_MODEL_caa577c1d3424144b9cd32cbd6dbefb5"
          }
        },
        "3390615b48ab44d5979c83c3c2097bd5": {
          "model_module": "@jupyter-widgets/controls",
          "model_name": "HTMLModel",
          "model_module_version": "1.5.0",
          "state": {
            "_dom_classes": [],
            "_model_module": "@jupyter-widgets/controls",
            "_model_module_version": "1.5.0",
            "_model_name": "HTMLModel",
            "_view_count": null,
            "_view_module": "@jupyter-widgets/controls",
            "_view_module_version": "1.5.0",
            "_view_name": "HTMLView",
            "description": "",
            "description_tooltip": null,
            "layout": "IPY_MODEL_eb6dca650cd7462a9bb28e9e5741dd6e",
            "placeholder": "​",
            "style": "IPY_MODEL_45988724d21d4d2e94fa2af44efb8dad",
            "value": "tokenizer_config.json: 100%"
          }
        },
        "fd98e21509ba4b23aa2f4af7d9a24a2a": {
          "model_module": "@jupyter-widgets/controls",
          "model_name": "FloatProgressModel",
          "model_module_version": "1.5.0",
          "state": {
            "_dom_classes": [],
            "_model_module": "@jupyter-widgets/controls",
            "_model_module_version": "1.5.0",
            "_model_name": "FloatProgressModel",
            "_view_count": null,
            "_view_module": "@jupyter-widgets/controls",
            "_view_module_version": "1.5.0",
            "_view_name": "ProgressView",
            "bar_style": "success",
            "description": "",
            "description_tooltip": null,
            "layout": "IPY_MODEL_9c5a2bccfa274bb9b13316ebeae4c6e0",
            "max": 48,
            "min": 0,
            "orientation": "horizontal",
            "style": "IPY_MODEL_003ffecd028e4f32942f8cfab7aa3407",
            "value": 48
          }
        },
        "a6f3d180dd4d4d489766ce80b303d7ad": {
          "model_module": "@jupyter-widgets/controls",
          "model_name": "HTMLModel",
          "model_module_version": "1.5.0",
          "state": {
            "_dom_classes": [],
            "_model_module": "@jupyter-widgets/controls",
            "_model_module_version": "1.5.0",
            "_model_name": "HTMLModel",
            "_view_count": null,
            "_view_module": "@jupyter-widgets/controls",
            "_view_module_version": "1.5.0",
            "_view_name": "HTMLView",
            "description": "",
            "description_tooltip": null,
            "layout": "IPY_MODEL_3ad2a1bf8dc1409daee2abb77d1d6c8a",
            "placeholder": "​",
            "style": "IPY_MODEL_0f43f094aa16434a8b0cccd55480bbfb",
            "value": " 48.0/48.0 [00:00&lt;00:00, 1.72kB/s]"
          }
        },
        "caa577c1d3424144b9cd32cbd6dbefb5": {
          "model_module": "@jupyter-widgets/base",
          "model_name": "LayoutModel",
          "model_module_version": "1.2.0",
          "state": {
            "_model_module": "@jupyter-widgets/base",
            "_model_module_version": "1.2.0",
            "_model_name": "LayoutModel",
            "_view_count": null,
            "_view_module": "@jupyter-widgets/base",
            "_view_module_version": "1.2.0",
            "_view_name": "LayoutView",
            "align_content": null,
            "align_items": null,
            "align_self": null,
            "border": null,
            "bottom": null,
            "display": null,
            "flex": null,
            "flex_flow": null,
            "grid_area": null,
            "grid_auto_columns": null,
            "grid_auto_flow": null,
            "grid_auto_rows": null,
            "grid_column": null,
            "grid_gap": null,
            "grid_row": null,
            "grid_template_areas": null,
            "grid_template_columns": null,
            "grid_template_rows": null,
            "height": null,
            "justify_content": null,
            "justify_items": null,
            "left": null,
            "margin": null,
            "max_height": null,
            "max_width": null,
            "min_height": null,
            "min_width": null,
            "object_fit": null,
            "object_position": null,
            "order": null,
            "overflow": null,
            "overflow_x": null,
            "overflow_y": null,
            "padding": null,
            "right": null,
            "top": null,
            "visibility": null,
            "width": null
          }
        },
        "eb6dca650cd7462a9bb28e9e5741dd6e": {
          "model_module": "@jupyter-widgets/base",
          "model_name": "LayoutModel",
          "model_module_version": "1.2.0",
          "state": {
            "_model_module": "@jupyter-widgets/base",
            "_model_module_version": "1.2.0",
            "_model_name": "LayoutModel",
            "_view_count": null,
            "_view_module": "@jupyter-widgets/base",
            "_view_module_version": "1.2.0",
            "_view_name": "LayoutView",
            "align_content": null,
            "align_items": null,
            "align_self": null,
            "border": null,
            "bottom": null,
            "display": null,
            "flex": null,
            "flex_flow": null,
            "grid_area": null,
            "grid_auto_columns": null,
            "grid_auto_flow": null,
            "grid_auto_rows": null,
            "grid_column": null,
            "grid_gap": null,
            "grid_row": null,
            "grid_template_areas": null,
            "grid_template_columns": null,
            "grid_template_rows": null,
            "height": null,
            "justify_content": null,
            "justify_items": null,
            "left": null,
            "margin": null,
            "max_height": null,
            "max_width": null,
            "min_height": null,
            "min_width": null,
            "object_fit": null,
            "object_position": null,
            "order": null,
            "overflow": null,
            "overflow_x": null,
            "overflow_y": null,
            "padding": null,
            "right": null,
            "top": null,
            "visibility": null,
            "width": null
          }
        },
        "45988724d21d4d2e94fa2af44efb8dad": {
          "model_module": "@jupyter-widgets/controls",
          "model_name": "DescriptionStyleModel",
          "model_module_version": "1.5.0",
          "state": {
            "_model_module": "@jupyter-widgets/controls",
            "_model_module_version": "1.5.0",
            "_model_name": "DescriptionStyleModel",
            "_view_count": null,
            "_view_module": "@jupyter-widgets/base",
            "_view_module_version": "1.2.0",
            "_view_name": "StyleView",
            "description_width": ""
          }
        },
        "9c5a2bccfa274bb9b13316ebeae4c6e0": {
          "model_module": "@jupyter-widgets/base",
          "model_name": "LayoutModel",
          "model_module_version": "1.2.0",
          "state": {
            "_model_module": "@jupyter-widgets/base",
            "_model_module_version": "1.2.0",
            "_model_name": "LayoutModel",
            "_view_count": null,
            "_view_module": "@jupyter-widgets/base",
            "_view_module_version": "1.2.0",
            "_view_name": "LayoutView",
            "align_content": null,
            "align_items": null,
            "align_self": null,
            "border": null,
            "bottom": null,
            "display": null,
            "flex": null,
            "flex_flow": null,
            "grid_area": null,
            "grid_auto_columns": null,
            "grid_auto_flow": null,
            "grid_auto_rows": null,
            "grid_column": null,
            "grid_gap": null,
            "grid_row": null,
            "grid_template_areas": null,
            "grid_template_columns": null,
            "grid_template_rows": null,
            "height": null,
            "justify_content": null,
            "justify_items": null,
            "left": null,
            "margin": null,
            "max_height": null,
            "max_width": null,
            "min_height": null,
            "min_width": null,
            "object_fit": null,
            "object_position": null,
            "order": null,
            "overflow": null,
            "overflow_x": null,
            "overflow_y": null,
            "padding": null,
            "right": null,
            "top": null,
            "visibility": null,
            "width": null
          }
        },
        "003ffecd028e4f32942f8cfab7aa3407": {
          "model_module": "@jupyter-widgets/controls",
          "model_name": "ProgressStyleModel",
          "model_module_version": "1.5.0",
          "state": {
            "_model_module": "@jupyter-widgets/controls",
            "_model_module_version": "1.5.0",
            "_model_name": "ProgressStyleModel",
            "_view_count": null,
            "_view_module": "@jupyter-widgets/base",
            "_view_module_version": "1.2.0",
            "_view_name": "StyleView",
            "bar_color": null,
            "description_width": ""
          }
        },
        "3ad2a1bf8dc1409daee2abb77d1d6c8a": {
          "model_module": "@jupyter-widgets/base",
          "model_name": "LayoutModel",
          "model_module_version": "1.2.0",
          "state": {
            "_model_module": "@jupyter-widgets/base",
            "_model_module_version": "1.2.0",
            "_model_name": "LayoutModel",
            "_view_count": null,
            "_view_module": "@jupyter-widgets/base",
            "_view_module_version": "1.2.0",
            "_view_name": "LayoutView",
            "align_content": null,
            "align_items": null,
            "align_self": null,
            "border": null,
            "bottom": null,
            "display": null,
            "flex": null,
            "flex_flow": null,
            "grid_area": null,
            "grid_auto_columns": null,
            "grid_auto_flow": null,
            "grid_auto_rows": null,
            "grid_column": null,
            "grid_gap": null,
            "grid_row": null,
            "grid_template_areas": null,
            "grid_template_columns": null,
            "grid_template_rows": null,
            "height": null,
            "justify_content": null,
            "justify_items": null,
            "left": null,
            "margin": null,
            "max_height": null,
            "max_width": null,
            "min_height": null,
            "min_width": null,
            "object_fit": null,
            "object_position": null,
            "order": null,
            "overflow": null,
            "overflow_x": null,
            "overflow_y": null,
            "padding": null,
            "right": null,
            "top": null,
            "visibility": null,
            "width": null
          }
        },
        "0f43f094aa16434a8b0cccd55480bbfb": {
          "model_module": "@jupyter-widgets/controls",
          "model_name": "DescriptionStyleModel",
          "model_module_version": "1.5.0",
          "state": {
            "_model_module": "@jupyter-widgets/controls",
            "_model_module_version": "1.5.0",
            "_model_name": "DescriptionStyleModel",
            "_view_count": null,
            "_view_module": "@jupyter-widgets/base",
            "_view_module_version": "1.2.0",
            "_view_name": "StyleView",
            "description_width": ""
          }
        },
        "bf665b421caf474a82a4fd2219dca3a3": {
          "model_module": "@jupyter-widgets/controls",
          "model_name": "HBoxModel",
          "model_module_version": "1.5.0",
          "state": {
            "_dom_classes": [],
            "_model_module": "@jupyter-widgets/controls",
            "_model_module_version": "1.5.0",
            "_model_name": "HBoxModel",
            "_view_count": null,
            "_view_module": "@jupyter-widgets/controls",
            "_view_module_version": "1.5.0",
            "_view_name": "HBoxView",
            "box_style": "",
            "children": [
              "IPY_MODEL_dd60ddc6ae6148938fd5de0c7fba9a86",
              "IPY_MODEL_5b5741417cca45b283b4996551138e9c",
              "IPY_MODEL_5b8eabf99e9842f9998e6d3f43fc6005"
            ],
            "layout": "IPY_MODEL_10c91df3f2364168a2011bc4175f56fe"
          }
        },
        "dd60ddc6ae6148938fd5de0c7fba9a86": {
          "model_module": "@jupyter-widgets/controls",
          "model_name": "HTMLModel",
          "model_module_version": "1.5.0",
          "state": {
            "_dom_classes": [],
            "_model_module": "@jupyter-widgets/controls",
            "_model_module_version": "1.5.0",
            "_model_name": "HTMLModel",
            "_view_count": null,
            "_view_module": "@jupyter-widgets/controls",
            "_view_module_version": "1.5.0",
            "_view_name": "HTMLView",
            "description": "",
            "description_tooltip": null,
            "layout": "IPY_MODEL_7f3b144c10d94f5eb56b5dd9715d1dec",
            "placeholder": "​",
            "style": "IPY_MODEL_2cd2252e0a9d4c689a6ed1e83bae3b2a",
            "value": "vocab.txt: 100%"
          }
        },
        "5b5741417cca45b283b4996551138e9c": {
          "model_module": "@jupyter-widgets/controls",
          "model_name": "FloatProgressModel",
          "model_module_version": "1.5.0",
          "state": {
            "_dom_classes": [],
            "_model_module": "@jupyter-widgets/controls",
            "_model_module_version": "1.5.0",
            "_model_name": "FloatProgressModel",
            "_view_count": null,
            "_view_module": "@jupyter-widgets/controls",
            "_view_module_version": "1.5.0",
            "_view_name": "ProgressView",
            "bar_style": "success",
            "description": "",
            "description_tooltip": null,
            "layout": "IPY_MODEL_61d0163d547c418c980341ebb4e74763",
            "max": 231508,
            "min": 0,
            "orientation": "horizontal",
            "style": "IPY_MODEL_fa76aabab0fd42bc9c70404138734888",
            "value": 231508
          }
        },
        "5b8eabf99e9842f9998e6d3f43fc6005": {
          "model_module": "@jupyter-widgets/controls",
          "model_name": "HTMLModel",
          "model_module_version": "1.5.0",
          "state": {
            "_dom_classes": [],
            "_model_module": "@jupyter-widgets/controls",
            "_model_module_version": "1.5.0",
            "_model_name": "HTMLModel",
            "_view_count": null,
            "_view_module": "@jupyter-widgets/controls",
            "_view_module_version": "1.5.0",
            "_view_name": "HTMLView",
            "description": "",
            "description_tooltip": null,
            "layout": "IPY_MODEL_1e9b15ca797d48a9bb6453408dedaf32",
            "placeholder": "​",
            "style": "IPY_MODEL_ec3c785682a74de4ab5bed49a07d693c",
            "value": " 232k/232k [00:00&lt;00:00, 1.74MB/s]"
          }
        },
        "10c91df3f2364168a2011bc4175f56fe": {
          "model_module": "@jupyter-widgets/base",
          "model_name": "LayoutModel",
          "model_module_version": "1.2.0",
          "state": {
            "_model_module": "@jupyter-widgets/base",
            "_model_module_version": "1.2.0",
            "_model_name": "LayoutModel",
            "_view_count": null,
            "_view_module": "@jupyter-widgets/base",
            "_view_module_version": "1.2.0",
            "_view_name": "LayoutView",
            "align_content": null,
            "align_items": null,
            "align_self": null,
            "border": null,
            "bottom": null,
            "display": null,
            "flex": null,
            "flex_flow": null,
            "grid_area": null,
            "grid_auto_columns": null,
            "grid_auto_flow": null,
            "grid_auto_rows": null,
            "grid_column": null,
            "grid_gap": null,
            "grid_row": null,
            "grid_template_areas": null,
            "grid_template_columns": null,
            "grid_template_rows": null,
            "height": null,
            "justify_content": null,
            "justify_items": null,
            "left": null,
            "margin": null,
            "max_height": null,
            "max_width": null,
            "min_height": null,
            "min_width": null,
            "object_fit": null,
            "object_position": null,
            "order": null,
            "overflow": null,
            "overflow_x": null,
            "overflow_y": null,
            "padding": null,
            "right": null,
            "top": null,
            "visibility": null,
            "width": null
          }
        },
        "7f3b144c10d94f5eb56b5dd9715d1dec": {
          "model_module": "@jupyter-widgets/base",
          "model_name": "LayoutModel",
          "model_module_version": "1.2.0",
          "state": {
            "_model_module": "@jupyter-widgets/base",
            "_model_module_version": "1.2.0",
            "_model_name": "LayoutModel",
            "_view_count": null,
            "_view_module": "@jupyter-widgets/base",
            "_view_module_version": "1.2.0",
            "_view_name": "LayoutView",
            "align_content": null,
            "align_items": null,
            "align_self": null,
            "border": null,
            "bottom": null,
            "display": null,
            "flex": null,
            "flex_flow": null,
            "grid_area": null,
            "grid_auto_columns": null,
            "grid_auto_flow": null,
            "grid_auto_rows": null,
            "grid_column": null,
            "grid_gap": null,
            "grid_row": null,
            "grid_template_areas": null,
            "grid_template_columns": null,
            "grid_template_rows": null,
            "height": null,
            "justify_content": null,
            "justify_items": null,
            "left": null,
            "margin": null,
            "max_height": null,
            "max_width": null,
            "min_height": null,
            "min_width": null,
            "object_fit": null,
            "object_position": null,
            "order": null,
            "overflow": null,
            "overflow_x": null,
            "overflow_y": null,
            "padding": null,
            "right": null,
            "top": null,
            "visibility": null,
            "width": null
          }
        },
        "2cd2252e0a9d4c689a6ed1e83bae3b2a": {
          "model_module": "@jupyter-widgets/controls",
          "model_name": "DescriptionStyleModel",
          "model_module_version": "1.5.0",
          "state": {
            "_model_module": "@jupyter-widgets/controls",
            "_model_module_version": "1.5.0",
            "_model_name": "DescriptionStyleModel",
            "_view_count": null,
            "_view_module": "@jupyter-widgets/base",
            "_view_module_version": "1.2.0",
            "_view_name": "StyleView",
            "description_width": ""
          }
        },
        "61d0163d547c418c980341ebb4e74763": {
          "model_module": "@jupyter-widgets/base",
          "model_name": "LayoutModel",
          "model_module_version": "1.2.0",
          "state": {
            "_model_module": "@jupyter-widgets/base",
            "_model_module_version": "1.2.0",
            "_model_name": "LayoutModel",
            "_view_count": null,
            "_view_module": "@jupyter-widgets/base",
            "_view_module_version": "1.2.0",
            "_view_name": "LayoutView",
            "align_content": null,
            "align_items": null,
            "align_self": null,
            "border": null,
            "bottom": null,
            "display": null,
            "flex": null,
            "flex_flow": null,
            "grid_area": null,
            "grid_auto_columns": null,
            "grid_auto_flow": null,
            "grid_auto_rows": null,
            "grid_column": null,
            "grid_gap": null,
            "grid_row": null,
            "grid_template_areas": null,
            "grid_template_columns": null,
            "grid_template_rows": null,
            "height": null,
            "justify_content": null,
            "justify_items": null,
            "left": null,
            "margin": null,
            "max_height": null,
            "max_width": null,
            "min_height": null,
            "min_width": null,
            "object_fit": null,
            "object_position": null,
            "order": null,
            "overflow": null,
            "overflow_x": null,
            "overflow_y": null,
            "padding": null,
            "right": null,
            "top": null,
            "visibility": null,
            "width": null
          }
        },
        "fa76aabab0fd42bc9c70404138734888": {
          "model_module": "@jupyter-widgets/controls",
          "model_name": "ProgressStyleModel",
          "model_module_version": "1.5.0",
          "state": {
            "_model_module": "@jupyter-widgets/controls",
            "_model_module_version": "1.5.0",
            "_model_name": "ProgressStyleModel",
            "_view_count": null,
            "_view_module": "@jupyter-widgets/base",
            "_view_module_version": "1.2.0",
            "_view_name": "StyleView",
            "bar_color": null,
            "description_width": ""
          }
        },
        "1e9b15ca797d48a9bb6453408dedaf32": {
          "model_module": "@jupyter-widgets/base",
          "model_name": "LayoutModel",
          "model_module_version": "1.2.0",
          "state": {
            "_model_module": "@jupyter-widgets/base",
            "_model_module_version": "1.2.0",
            "_model_name": "LayoutModel",
            "_view_count": null,
            "_view_module": "@jupyter-widgets/base",
            "_view_module_version": "1.2.0",
            "_view_name": "LayoutView",
            "align_content": null,
            "align_items": null,
            "align_self": null,
            "border": null,
            "bottom": null,
            "display": null,
            "flex": null,
            "flex_flow": null,
            "grid_area": null,
            "grid_auto_columns": null,
            "grid_auto_flow": null,
            "grid_auto_rows": null,
            "grid_column": null,
            "grid_gap": null,
            "grid_row": null,
            "grid_template_areas": null,
            "grid_template_columns": null,
            "grid_template_rows": null,
            "height": null,
            "justify_content": null,
            "justify_items": null,
            "left": null,
            "margin": null,
            "max_height": null,
            "max_width": null,
            "min_height": null,
            "min_width": null,
            "object_fit": null,
            "object_position": null,
            "order": null,
            "overflow": null,
            "overflow_x": null,
            "overflow_y": null,
            "padding": null,
            "right": null,
            "top": null,
            "visibility": null,
            "width": null
          }
        },
        "ec3c785682a74de4ab5bed49a07d693c": {
          "model_module": "@jupyter-widgets/controls",
          "model_name": "DescriptionStyleModel",
          "model_module_version": "1.5.0",
          "state": {
            "_model_module": "@jupyter-widgets/controls",
            "_model_module_version": "1.5.0",
            "_model_name": "DescriptionStyleModel",
            "_view_count": null,
            "_view_module": "@jupyter-widgets/base",
            "_view_module_version": "1.2.0",
            "_view_name": "StyleView",
            "description_width": ""
          }
        }
      }
    }
  },
  "nbformat": 4,
  "nbformat_minor": 5
}