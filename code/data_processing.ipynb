{
  "nbformat": 4,
  "nbformat_minor": 0,
  "metadata": {
    "colab": {
      "provenance": [],
      "gpuType": "T4"
    },
    "kernelspec": {
      "name": "python3",
      "display_name": "Python 3"
    },
    "language_info": {
      "name": "python"
    },
    "accelerator": "GPU"
  },
  "cells": [
    {
      "cell_type": "code",
      "source": [
        "import seaborn as sns\n",
        "import pandas as pd\n",
        "\n",
        "import numpy as np\n",
        "import matplotlib.pyplot as plt\n",
        "\n",
        "from sklearn.preprocessing import LabelEncoder\n",
        "import time\n",
        "from sklearn.preprocessing import MinMaxScaler\n"
      ],
      "metadata": {
        "id": "89b7DbgDtL3M"
      },
      "execution_count": 2,
      "outputs": []
    },
    {
      "cell_type": "code",
      "execution_count": 4,
      "metadata": {
        "id": "58-vfWklMaxq",
        "colab": {
          "base_uri": "https://localhost:8080/"
        },
        "outputId": "cdc9a0b6-3d64-4287-ace9-35c0ca34948f"
      },
      "outputs": [
        {
          "output_type": "stream",
          "name": "stdout",
          "text": [
            "Mounted at /content/drive\n"
          ]
        }
      ],
      "source": [
        "from google.colab import drive\n",
        "drive.mount('/content/drive')"
      ]
    },
    {
      "cell_type": "code",
      "source": [
        "df = pd.read_csv('/content/drive/MyDrive/shohei-ig.csv')\n"
      ],
      "metadata": {
        "id": "6g7T9vCusV5C"
      },
      "execution_count": 33,
      "outputs": []
    },
    {
      "cell_type": "code",
      "source": [
        "df.shape"
      ],
      "metadata": {
        "colab": {
          "base_uri": "https://localhost:8080/"
        },
        "id": "yWE72kdluA_O",
        "outputId": "f2661f38-2e29-411c-f325-f555fd53dde6"
      },
      "execution_count": 34,
      "outputs": [
        {
          "output_type": "execute_result",
          "data": {
            "text/plain": [
              "(69042, 18)"
            ]
          },
          "metadata": {},
          "execution_count": 34
        }
      ]
    },
    {
      "cell_type": "code",
      "source": [
        "df.columns"
      ],
      "metadata": {
        "colab": {
          "base_uri": "https://localhost:8080/"
        },
        "id": "9dvBzGEburzV",
        "outputId": "3e4375e2-f189-451b-892a-f4310487ac7d"
      },
      "execution_count": 35,
      "outputs": [
        {
          "output_type": "execute_result",
          "data": {
            "text/plain": [
              "Index(['content_type', 'creation_time', 'hashtags', 'id', 'is_branded_content',\n",
              "       'lang', 'match_type', 'modified_time', 'multimedia', 'post_owner.type',\n",
              "       'post_owner.id', 'post_owner.name', 'post_owner.username',\n",
              "       'statistics.comment_count', 'statistics.like_count', 'statistics.views',\n",
              "       'statistics.views_date_last_refreshed', 'text'],\n",
              "      dtype='object')"
            ]
          },
          "metadata": {},
          "execution_count": 35
        }
      ]
    },
    {
      "cell_type": "code",
      "source": [
        "df.head()"
      ],
      "metadata": {
        "colab": {
          "base_uri": "https://localhost:8080/",
          "height": 643
        },
        "id": "8X8iAoSX_ssm",
        "outputId": "4e7870f6-1f46-494b-bf9c-f0d7f3cfac19"
      },
      "execution_count": 36,
      "outputs": [
        {
          "output_type": "execute_result",
          "data": {
            "text/plain": [
              "  content_type              creation_time  \\\n",
              "0       videos  2024-11-05T14:31:03-08:00   \n",
              "1       videos  2024-11-05T14:25:52-08:00   \n",
              "2       videos  2024-11-05T14:24:33-08:00   \n",
              "3       photos  2024-11-05T14:09:56-08:00   \n",
              "4       videos  2024-11-05T13:03:19-08:00   \n",
              "\n",
              "                                            hashtags                id  \\\n",
              "0  [\"\\u304f\\u308b\\u307f\\u30d1\\u30f3\\u30ec\\u30b7\\u...  1568573043749773   \n",
              "1  [\"dodgers\",\"ohtani\",\"gambling\",\"mybookie\",\"spo...   579859241147363   \n",
              "2        [\"shoheiohtani\",\"\\u5927\\u8c37\\u7fd4\\u5e73\"]  1116683993212519   \n",
              "3  [\"shoheiohtani\",\"milb\",\"baseballlife\",\"ohtani\"...  1113349633644985   \n",
              "4                                                NaN  2099206697205847   \n",
              "\n",
              "   is_branded_content lang     match_type              modified_time  \\\n",
              "0               False   ja  [\"post_text\"]  2024-11-05T15:46:35-08:00   \n",
              "1               False   en  [\"post_text\"]  2024-11-05T14:46:05-08:00   \n",
              "2               False   ja  [\"post_text\"]  2024-11-05T15:56:04-08:00   \n",
              "3               False   en  [\"post_text\"]  2024-11-05T14:10:37-08:00   \n",
              "4               False   en  [\"post_text\"]  2024-11-05T15:25:53-08:00   \n",
              "\n",
              "                                          multimedia post_owner.type  \\\n",
              "0  [{\"id\":\"1568573043749773\",\"type\":\"video\",\"url\"...        business   \n",
              "1  [{\"id\":\"579859241147363\",\"type\":\"video\",\"url\":...         creator   \n",
              "2  [{\"id\":\"1116683993212519\",\"type\":\"video\",\"url\"...        personal   \n",
              "3  [{\"id\":\"1113349633644985\",\"type\":\"photo\",\"url\"...        personal   \n",
              "4  [{\"id\":\"2099206697205847\",\"type\":\"video\",\"url\"...        business   \n",
              "\n",
              "      post_owner.id       post_owner.name post_owner.username  \\\n",
              "0   423384980520959       タエ🍞〻おうちで作るパンレシピ             t.s.t.m   \n",
              "1  1029391485186220  Drinkin’ Bros Sports   drinkinbrossports   \n",
              "2   349706038046099             nao¹⁷🧚‍♀️         shohime0705   \n",
              "3  1155884915432157    David John Pollard        ohtanicanada   \n",
              "4   810320841121605      CARVANA PPA TOUR             ppatour   \n",
              "\n",
              "   statistics.comment_count  statistics.like_count  statistics.views  \\\n",
              "0                       2.0                    NaN               NaN   \n",
              "1                       3.0                   50.0               NaN   \n",
              "2                      17.0                 1369.0               NaN   \n",
              "3                       6.0                  607.0               NaN   \n",
              "4                      40.0                  623.0               NaN   \n",
              "\n",
              "  statistics.views_date_last_refreshed  \\\n",
              "0                                  NaN   \n",
              "1                                  NaN   \n",
              "2                                  NaN   \n",
              "3                                  NaN   \n",
              "4                                  NaN   \n",
              "\n",
              "                                                text  \n",
              "0  ｛レシピ｝香ばしふわっ♩くるみパン\\n\\nレシピは文末にあります🙏\\n\\n脳みそ🧠がザワザワ...  \n",
              "1  Dicey… \\n\\n#ohtani #dodgers #gambling \\n#sport...  \n",
              "2  😳💙\\nみたかったやつだぁ~しみるぜ🥺🫶\\n公式様ありがとうございます！もっとください~\\n...  \n",
              "3  Via baba: Shohei still holds the MLB record fo...  \n",
              "4  SCORCHED ☄️Is hitting a pickleball like this h...  "
            ],
            "text/html": [
              "\n",
              "  <div id=\"df-ec997478-5473-46e6-b5a4-79d03169261e\" class=\"colab-df-container\">\n",
              "    <div>\n",
              "<style scoped>\n",
              "    .dataframe tbody tr th:only-of-type {\n",
              "        vertical-align: middle;\n",
              "    }\n",
              "\n",
              "    .dataframe tbody tr th {\n",
              "        vertical-align: top;\n",
              "    }\n",
              "\n",
              "    .dataframe thead th {\n",
              "        text-align: right;\n",
              "    }\n",
              "</style>\n",
              "<table border=\"1\" class=\"dataframe\">\n",
              "  <thead>\n",
              "    <tr style=\"text-align: right;\">\n",
              "      <th></th>\n",
              "      <th>content_type</th>\n",
              "      <th>creation_time</th>\n",
              "      <th>hashtags</th>\n",
              "      <th>id</th>\n",
              "      <th>is_branded_content</th>\n",
              "      <th>lang</th>\n",
              "      <th>match_type</th>\n",
              "      <th>modified_time</th>\n",
              "      <th>multimedia</th>\n",
              "      <th>post_owner.type</th>\n",
              "      <th>post_owner.id</th>\n",
              "      <th>post_owner.name</th>\n",
              "      <th>post_owner.username</th>\n",
              "      <th>statistics.comment_count</th>\n",
              "      <th>statistics.like_count</th>\n",
              "      <th>statistics.views</th>\n",
              "      <th>statistics.views_date_last_refreshed</th>\n",
              "      <th>text</th>\n",
              "    </tr>\n",
              "  </thead>\n",
              "  <tbody>\n",
              "    <tr>\n",
              "      <th>0</th>\n",
              "      <td>videos</td>\n",
              "      <td>2024-11-05T14:31:03-08:00</td>\n",
              "      <td>[\"\\u304f\\u308b\\u307f\\u30d1\\u30f3\\u30ec\\u30b7\\u...</td>\n",
              "      <td>1568573043749773</td>\n",
              "      <td>False</td>\n",
              "      <td>ja</td>\n",
              "      <td>[\"post_text\"]</td>\n",
              "      <td>2024-11-05T15:46:35-08:00</td>\n",
              "      <td>[{\"id\":\"1568573043749773\",\"type\":\"video\",\"url\"...</td>\n",
              "      <td>business</td>\n",
              "      <td>423384980520959</td>\n",
              "      <td>タエ🍞〻おうちで作るパンレシピ</td>\n",
              "      <td>t.s.t.m</td>\n",
              "      <td>2.0</td>\n",
              "      <td>NaN</td>\n",
              "      <td>NaN</td>\n",
              "      <td>NaN</td>\n",
              "      <td>｛レシピ｝香ばしふわっ♩くるみパン\\n\\nレシピは文末にあります🙏\\n\\n脳みそ🧠がザワザワ...</td>\n",
              "    </tr>\n",
              "    <tr>\n",
              "      <th>1</th>\n",
              "      <td>videos</td>\n",
              "      <td>2024-11-05T14:25:52-08:00</td>\n",
              "      <td>[\"dodgers\",\"ohtani\",\"gambling\",\"mybookie\",\"spo...</td>\n",
              "      <td>579859241147363</td>\n",
              "      <td>False</td>\n",
              "      <td>en</td>\n",
              "      <td>[\"post_text\"]</td>\n",
              "      <td>2024-11-05T14:46:05-08:00</td>\n",
              "      <td>[{\"id\":\"579859241147363\",\"type\":\"video\",\"url\":...</td>\n",
              "      <td>creator</td>\n",
              "      <td>1029391485186220</td>\n",
              "      <td>Drinkin’ Bros Sports</td>\n",
              "      <td>drinkinbrossports</td>\n",
              "      <td>3.0</td>\n",
              "      <td>50.0</td>\n",
              "      <td>NaN</td>\n",
              "      <td>NaN</td>\n",
              "      <td>Dicey… \\n\\n#ohtani #dodgers #gambling \\n#sport...</td>\n",
              "    </tr>\n",
              "    <tr>\n",
              "      <th>2</th>\n",
              "      <td>videos</td>\n",
              "      <td>2024-11-05T14:24:33-08:00</td>\n",
              "      <td>[\"shoheiohtani\",\"\\u5927\\u8c37\\u7fd4\\u5e73\"]</td>\n",
              "      <td>1116683993212519</td>\n",
              "      <td>False</td>\n",
              "      <td>ja</td>\n",
              "      <td>[\"post_text\"]</td>\n",
              "      <td>2024-11-05T15:56:04-08:00</td>\n",
              "      <td>[{\"id\":\"1116683993212519\",\"type\":\"video\",\"url\"...</td>\n",
              "      <td>personal</td>\n",
              "      <td>349706038046099</td>\n",
              "      <td>nao¹⁷🧚‍♀️</td>\n",
              "      <td>shohime0705</td>\n",
              "      <td>17.0</td>\n",
              "      <td>1369.0</td>\n",
              "      <td>NaN</td>\n",
              "      <td>NaN</td>\n",
              "      <td>😳💙\\nみたかったやつだぁ~しみるぜ🥺🫶\\n公式様ありがとうございます！もっとください~\\n...</td>\n",
              "    </tr>\n",
              "    <tr>\n",
              "      <th>3</th>\n",
              "      <td>photos</td>\n",
              "      <td>2024-11-05T14:09:56-08:00</td>\n",
              "      <td>[\"shoheiohtani\",\"milb\",\"baseballlife\",\"ohtani\"...</td>\n",
              "      <td>1113349633644985</td>\n",
              "      <td>False</td>\n",
              "      <td>en</td>\n",
              "      <td>[\"post_text\"]</td>\n",
              "      <td>2024-11-05T14:10:37-08:00</td>\n",
              "      <td>[{\"id\":\"1113349633644985\",\"type\":\"photo\",\"url\"...</td>\n",
              "      <td>personal</td>\n",
              "      <td>1155884915432157</td>\n",
              "      <td>David John Pollard</td>\n",
              "      <td>ohtanicanada</td>\n",
              "      <td>6.0</td>\n",
              "      <td>607.0</td>\n",
              "      <td>NaN</td>\n",
              "      <td>NaN</td>\n",
              "      <td>Via baba: Shohei still holds the MLB record fo...</td>\n",
              "    </tr>\n",
              "    <tr>\n",
              "      <th>4</th>\n",
              "      <td>videos</td>\n",
              "      <td>2024-11-05T13:03:19-08:00</td>\n",
              "      <td>NaN</td>\n",
              "      <td>2099206697205847</td>\n",
              "      <td>False</td>\n",
              "      <td>en</td>\n",
              "      <td>[\"post_text\"]</td>\n",
              "      <td>2024-11-05T15:25:53-08:00</td>\n",
              "      <td>[{\"id\":\"2099206697205847\",\"type\":\"video\",\"url\"...</td>\n",
              "      <td>business</td>\n",
              "      <td>810320841121605</td>\n",
              "      <td>CARVANA PPA TOUR</td>\n",
              "      <td>ppatour</td>\n",
              "      <td>40.0</td>\n",
              "      <td>623.0</td>\n",
              "      <td>NaN</td>\n",
              "      <td>NaN</td>\n",
              "      <td>SCORCHED ☄️Is hitting a pickleball like this h...</td>\n",
              "    </tr>\n",
              "  </tbody>\n",
              "</table>\n",
              "</div>\n",
              "    <div class=\"colab-df-buttons\">\n",
              "\n",
              "  <div class=\"colab-df-container\">\n",
              "    <button class=\"colab-df-convert\" onclick=\"convertToInteractive('df-ec997478-5473-46e6-b5a4-79d03169261e')\"\n",
              "            title=\"Convert this dataframe to an interactive table.\"\n",
              "            style=\"display:none;\">\n",
              "\n",
              "  <svg xmlns=\"http://www.w3.org/2000/svg\" height=\"24px\" viewBox=\"0 -960 960 960\">\n",
              "    <path d=\"M120-120v-720h720v720H120Zm60-500h600v-160H180v160Zm220 220h160v-160H400v160Zm0 220h160v-160H400v160ZM180-400h160v-160H180v160Zm440 0h160v-160H620v160ZM180-180h160v-160H180v160Zm440 0h160v-160H620v160Z\"/>\n",
              "  </svg>\n",
              "    </button>\n",
              "\n",
              "  <style>\n",
              "    .colab-df-container {\n",
              "      display:flex;\n",
              "      gap: 12px;\n",
              "    }\n",
              "\n",
              "    .colab-df-convert {\n",
              "      background-color: #E8F0FE;\n",
              "      border: none;\n",
              "      border-radius: 50%;\n",
              "      cursor: pointer;\n",
              "      display: none;\n",
              "      fill: #1967D2;\n",
              "      height: 32px;\n",
              "      padding: 0 0 0 0;\n",
              "      width: 32px;\n",
              "    }\n",
              "\n",
              "    .colab-df-convert:hover {\n",
              "      background-color: #E2EBFA;\n",
              "      box-shadow: 0px 1px 2px rgba(60, 64, 67, 0.3), 0px 1px 3px 1px rgba(60, 64, 67, 0.15);\n",
              "      fill: #174EA6;\n",
              "    }\n",
              "\n",
              "    .colab-df-buttons div {\n",
              "      margin-bottom: 4px;\n",
              "    }\n",
              "\n",
              "    [theme=dark] .colab-df-convert {\n",
              "      background-color: #3B4455;\n",
              "      fill: #D2E3FC;\n",
              "    }\n",
              "\n",
              "    [theme=dark] .colab-df-convert:hover {\n",
              "      background-color: #434B5C;\n",
              "      box-shadow: 0px 1px 3px 1px rgba(0, 0, 0, 0.15);\n",
              "      filter: drop-shadow(0px 1px 2px rgba(0, 0, 0, 0.3));\n",
              "      fill: #FFFFFF;\n",
              "    }\n",
              "  </style>\n",
              "\n",
              "    <script>\n",
              "      const buttonEl =\n",
              "        document.querySelector('#df-ec997478-5473-46e6-b5a4-79d03169261e button.colab-df-convert');\n",
              "      buttonEl.style.display =\n",
              "        google.colab.kernel.accessAllowed ? 'block' : 'none';\n",
              "\n",
              "      async function convertToInteractive(key) {\n",
              "        const element = document.querySelector('#df-ec997478-5473-46e6-b5a4-79d03169261e');\n",
              "        const dataTable =\n",
              "          await google.colab.kernel.invokeFunction('convertToInteractive',\n",
              "                                                    [key], {});\n",
              "        if (!dataTable) return;\n",
              "\n",
              "        const docLinkHtml = 'Like what you see? Visit the ' +\n",
              "          '<a target=\"_blank\" href=https://colab.research.google.com/notebooks/data_table.ipynb>data table notebook</a>'\n",
              "          + ' to learn more about interactive tables.';\n",
              "        element.innerHTML = '';\n",
              "        dataTable['output_type'] = 'display_data';\n",
              "        await google.colab.output.renderOutput(dataTable, element);\n",
              "        const docLink = document.createElement('div');\n",
              "        docLink.innerHTML = docLinkHtml;\n",
              "        element.appendChild(docLink);\n",
              "      }\n",
              "    </script>\n",
              "  </div>\n",
              "\n",
              "\n",
              "<div id=\"df-49c2e1d8-1834-4a33-adad-f2415032f890\">\n",
              "  <button class=\"colab-df-quickchart\" onclick=\"quickchart('df-49c2e1d8-1834-4a33-adad-f2415032f890')\"\n",
              "            title=\"Suggest charts\"\n",
              "            style=\"display:none;\">\n",
              "\n",
              "<svg xmlns=\"http://www.w3.org/2000/svg\" height=\"24px\"viewBox=\"0 0 24 24\"\n",
              "     width=\"24px\">\n",
              "    <g>\n",
              "        <path d=\"M19 3H5c-1.1 0-2 .9-2 2v14c0 1.1.9 2 2 2h14c1.1 0 2-.9 2-2V5c0-1.1-.9-2-2-2zM9 17H7v-7h2v7zm4 0h-2V7h2v10zm4 0h-2v-4h2v4z\"/>\n",
              "    </g>\n",
              "</svg>\n",
              "  </button>\n",
              "\n",
              "<style>\n",
              "  .colab-df-quickchart {\n",
              "      --bg-color: #E8F0FE;\n",
              "      --fill-color: #1967D2;\n",
              "      --hover-bg-color: #E2EBFA;\n",
              "      --hover-fill-color: #174EA6;\n",
              "      --disabled-fill-color: #AAA;\n",
              "      --disabled-bg-color: #DDD;\n",
              "  }\n",
              "\n",
              "  [theme=dark] .colab-df-quickchart {\n",
              "      --bg-color: #3B4455;\n",
              "      --fill-color: #D2E3FC;\n",
              "      --hover-bg-color: #434B5C;\n",
              "      --hover-fill-color: #FFFFFF;\n",
              "      --disabled-bg-color: #3B4455;\n",
              "      --disabled-fill-color: #666;\n",
              "  }\n",
              "\n",
              "  .colab-df-quickchart {\n",
              "    background-color: var(--bg-color);\n",
              "    border: none;\n",
              "    border-radius: 50%;\n",
              "    cursor: pointer;\n",
              "    display: none;\n",
              "    fill: var(--fill-color);\n",
              "    height: 32px;\n",
              "    padding: 0;\n",
              "    width: 32px;\n",
              "  }\n",
              "\n",
              "  .colab-df-quickchart:hover {\n",
              "    background-color: var(--hover-bg-color);\n",
              "    box-shadow: 0 1px 2px rgba(60, 64, 67, 0.3), 0 1px 3px 1px rgba(60, 64, 67, 0.15);\n",
              "    fill: var(--button-hover-fill-color);\n",
              "  }\n",
              "\n",
              "  .colab-df-quickchart-complete:disabled,\n",
              "  .colab-df-quickchart-complete:disabled:hover {\n",
              "    background-color: var(--disabled-bg-color);\n",
              "    fill: var(--disabled-fill-color);\n",
              "    box-shadow: none;\n",
              "  }\n",
              "\n",
              "  .colab-df-spinner {\n",
              "    border: 2px solid var(--fill-color);\n",
              "    border-color: transparent;\n",
              "    border-bottom-color: var(--fill-color);\n",
              "    animation:\n",
              "      spin 1s steps(1) infinite;\n",
              "  }\n",
              "\n",
              "  @keyframes spin {\n",
              "    0% {\n",
              "      border-color: transparent;\n",
              "      border-bottom-color: var(--fill-color);\n",
              "      border-left-color: var(--fill-color);\n",
              "    }\n",
              "    20% {\n",
              "      border-color: transparent;\n",
              "      border-left-color: var(--fill-color);\n",
              "      border-top-color: var(--fill-color);\n",
              "    }\n",
              "    30% {\n",
              "      border-color: transparent;\n",
              "      border-left-color: var(--fill-color);\n",
              "      border-top-color: var(--fill-color);\n",
              "      border-right-color: var(--fill-color);\n",
              "    }\n",
              "    40% {\n",
              "      border-color: transparent;\n",
              "      border-right-color: var(--fill-color);\n",
              "      border-top-color: var(--fill-color);\n",
              "    }\n",
              "    60% {\n",
              "      border-color: transparent;\n",
              "      border-right-color: var(--fill-color);\n",
              "    }\n",
              "    80% {\n",
              "      border-color: transparent;\n",
              "      border-right-color: var(--fill-color);\n",
              "      border-bottom-color: var(--fill-color);\n",
              "    }\n",
              "    90% {\n",
              "      border-color: transparent;\n",
              "      border-bottom-color: var(--fill-color);\n",
              "    }\n",
              "  }\n",
              "</style>\n",
              "\n",
              "  <script>\n",
              "    async function quickchart(key) {\n",
              "      const quickchartButtonEl =\n",
              "        document.querySelector('#' + key + ' button');\n",
              "      quickchartButtonEl.disabled = true;  // To prevent multiple clicks.\n",
              "      quickchartButtonEl.classList.add('colab-df-spinner');\n",
              "      try {\n",
              "        const charts = await google.colab.kernel.invokeFunction(\n",
              "            'suggestCharts', [key], {});\n",
              "      } catch (error) {\n",
              "        console.error('Error during call to suggestCharts:', error);\n",
              "      }\n",
              "      quickchartButtonEl.classList.remove('colab-df-spinner');\n",
              "      quickchartButtonEl.classList.add('colab-df-quickchart-complete');\n",
              "    }\n",
              "    (() => {\n",
              "      let quickchartButtonEl =\n",
              "        document.querySelector('#df-49c2e1d8-1834-4a33-adad-f2415032f890 button');\n",
              "      quickchartButtonEl.style.display =\n",
              "        google.colab.kernel.accessAllowed ? 'block' : 'none';\n",
              "    })();\n",
              "  </script>\n",
              "</div>\n",
              "\n",
              "    </div>\n",
              "  </div>\n"
            ],
            "application/vnd.google.colaboratory.intrinsic+json": {
              "type": "dataframe",
              "variable_name": "df",
              "summary": "{\n  \"name\": \"df\",\n  \"rows\": 69042,\n  \"fields\": [\n    {\n      \"column\": \"content_type\",\n      \"properties\": {\n        \"dtype\": \"category\",\n        \"num_unique_values\": 4,\n        \"samples\": [\n          \"photos\",\n          \"stories\",\n          \"videos\"\n        ],\n        \"semantic_type\": \"\",\n        \"description\": \"\"\n      }\n    },\n    {\n      \"column\": \"creation_time\",\n      \"properties\": {\n        \"dtype\": \"object\",\n        \"num_unique_values\": 68770,\n        \"samples\": [\n          \"2023-03-24T11:47:46-07:00\",\n          \"2024-11-04T04:00:00-08:00\",\n          \"2024-07-17T05:22:09-07:00\"\n        ],\n        \"semantic_type\": \"\",\n        \"description\": \"\"\n      }\n    },\n    {\n      \"column\": \"hashtags\",\n      \"properties\": {\n        \"dtype\": \"category\",\n        \"num_unique_values\": 28260,\n        \"samples\": [\n          \"[\\\"stock\\\\u7d4c\\\\u5802\\\"]\",\n          \"[\\\"\\\\u65b0\\\\u57a3\\\\u52c7\\\\u4eba\\\\u306e\\\\u4e00\\\\u4f11\\\\u5165\\\\u9b42\\\\u30c1\\\\u30e3\\\\u30f3\\\\u30cd\\\\u30eb\\\",\\\"\\\\u5927\\\\u8c37\\\\u7fd4\\\\u5e73\\\",\\\"\\\\u30a6\\\\u30a8\\\\u30a4\\\\u30c8\\\\u5834\\\",\\\"\\\\u540c\\\\u671f\\\",\\\"\\\\u5317\\\\u6d77\\\\u9053\\\\u65e5\\\\u672c\\\\u30cf\\\\u30e0\\\\u30d5\\\\u30a1\\\\u30a4\\\\u30bf\\\\u30fc\\\\u30ba\\\"]\",\n          \"[\\\"lisem\\\",\\\"\\\\u30ea\\\\u30bc\\\\u30e0\\\",\\\"puma\\\",\\\"\\\\u30a6\\\\u30f3\\\\u30d1\\\\u30eb\\\\u30f3\\\\u30d1\\\"]\"\n        ],\n        \"semantic_type\": \"\",\n        \"description\": \"\"\n      }\n    },\n    {\n      \"column\": \"id\",\n      \"properties\": {\n        \"dtype\": \"number\",\n        \"std\": 2124058472883320,\n        \"min\": 13302264040838,\n        \"max\": 28516723627926347,\n        \"num_unique_values\": 69042,\n        \"samples\": [\n          2374926656186376,\n          3957570461146163,\n          1188385352225150\n        ],\n        \"semantic_type\": \"\",\n        \"description\": \"\"\n      }\n    },\n    {\n      \"column\": \"is_branded_content\",\n      \"properties\": {\n        \"dtype\": \"boolean\",\n        \"num_unique_values\": 2,\n        \"samples\": [\n          true,\n          false\n        ],\n        \"semantic_type\": \"\",\n        \"description\": \"\"\n      }\n    },\n    {\n      \"column\": \"lang\",\n      \"properties\": {\n        \"dtype\": \"category\",\n        \"num_unique_values\": 56,\n        \"samples\": [\n          \"ja\",\n          \"ss\"\n        ],\n        \"semantic_type\": \"\",\n        \"description\": \"\"\n      }\n    },\n    {\n      \"column\": \"match_type\",\n      \"properties\": {\n        \"dtype\": \"category\",\n        \"num_unique_values\": 2,\n        \"samples\": [\n          \"[\\\"multimedia_text\\\"]\",\n          \"[\\\"post_text\\\"]\"\n        ],\n        \"semantic_type\": \"\",\n        \"description\": \"\"\n      }\n    },\n    {\n      \"column\": \"modified_time\",\n      \"properties\": {\n        \"dtype\": \"object\",\n        \"num_unique_values\": 66967,\n        \"samples\": [\n          \"2024-09-15T23:24:11-07:00\",\n          \"2024-10-17T05:35:40-07:00\"\n        ],\n        \"semantic_type\": \"\",\n        \"description\": \"\"\n      }\n    },\n    {\n      \"column\": \"multimedia\",\n      \"properties\": {\n        \"dtype\": \"string\",\n        \"num_unique_values\": 68165,\n        \"samples\": [\n          \"[{\\\"id\\\":\\\"1074324073744657\\\",\\\"type\\\":\\\"photo\\\",\\\"url\\\":\\\"https://lookaside.facebook.com/mcl/multimedia/lookaside/?download_info=AZuhaUGTSGOniYwHmgmFoxgvVsb1yCLEjHabpJdVglUnL7WqeSnE-blyZOcOdB6_xobTwX1mSSNFF-29G8cQkA7Yip639gTyLLr-GlIHny9Iw8-ygM8FiNh-0YtbP4x9MU1sYslbEET2adpUbgzS\\\"},{\\\"id\\\":\\\"562422712865749\\\",\\\"type\\\":\\\"photo\\\",\\\"url\\\":\\\"https://lookaside.facebook.com/mcl/multimedia/lookaside/?download_info=AZsoQte5h_aRWl398kFxDMJ-sIE3nlPCKQMZ9z5_yQG8CKK6dQierrIdJYRbk2MqpmAo5sf38TbrYQiV9mrR3543sMnW-kDAwxJj73xmUG0lGNuDUn7brexC7W6eIhRGQD0yYzc1a0C7EtNRktA\\\"},{\\\"id\\\":\\\"1076304797229511\\\",\\\"type\\\":\\\"photo\\\",\\\"url\\\":\\\"https://lookaside.facebook.com/mcl/multimedia/lookaside/?download_info=AZv4erWI8O7Ka8lpSQjJbQAnvK14LSpA00_b0bK70x1SObVQoYgYmztfb8WgxjU8D6iKwY2_Z1MdPoBwNJ1FyO5sYlnH9NlDpLd05JJEkszabrExabS3HgaVP6tdgaA_idfbPhgMg7eL-n3YKvis\\\"},{\\\"id\\\":\\\"867829162142454\\\",\\\"type\\\":\\\"photo\\\",\\\"url\\\":\\\"https://lookaside.facebook.com/mcl/multimedia/lookaside/?download_info=AZu6ZyB4DPwR23OS-FWXqjXPI0SKR__qrrX8_b2hAZFPRs9s0_tKvGBVpIZM0wiXaOTS4N1BaHffvNc5qpM_jYsSYvLNpOTDPJS4-srhvGDUomopKhj7l9TApfZ313vWQqSn3hNMJmozf74jei0\\\"},{\\\"id\\\":\\\"989024322940965\\\",\\\"type\\\":\\\"photo\\\",\\\"url\\\":\\\"https://lookaside.facebook.com/mcl/multimedia/lookaside/?download_info=AZsGaIsaO9zDlcqVwiS9WUYAOrww0SiN08mdOfzQlBl-2OJB5JNPQifD0JRedD2zQd9zaGSk43q-UNXtKdKPF6sKSw51cw0KLJHQqNOKquLmfJFEg_I44r1NQA72sP1xg3V4QrkFdJqyXAJJUHc\\\"},{\\\"id\\\":\\\"9004335306266362\\\",\\\"type\\\":\\\"video\\\",\\\"url\\\":\\\"https://lookaside.facebook.com/mcl/multimedia/lookaside/?download_info=AZvrJtQPJWSa7T_otNi64--U7ztytp9nP2UmPKJRFmQLbOVZyYYyujmCWLxWSWrrlVewveU6uCBvEQxexSK0kdltahNoN0ZZdj098Q-lZgoN9F0Kt0hU1-g5qSvkDDxh0r2fOViyxC1WtDzg5av2\\\"},{\\\"id\\\":\\\"1818667045208885\\\",\\\"type\\\":\\\"photo\\\",\\\"url\\\":\\\"https://lookaside.facebook.com/mcl/multimedia/lookaside/?download_info=AZuZCiYkD8ND0n-W_BtznI6V-0M7wqeq-xp5x_AY82A4ZWzt6AalQOTcPIMBlUR79mCqBefnkE6EeAKFpph5heETJmwVx5IpUwP_TFCVl0YX3kimlIfUUPWgcVHVOHa85bSZk3ag5O_ihlSkwtNf\\\"},{\\\"id\\\":\\\"744803484496680\\\",\\\"type\\\":\\\"video\\\",\\\"url\\\":\\\"https://lookaside.facebook.com/mcl/multimedia/lookaside/?download_info=AZvFROtbSXBO1531BcpZ38aOJV_DSFTYaXIEej_kWTpUpSbeI1-z0k6Y8kQcSoKfHdhjOAOoZQLpDVXRNjh4zoNTtoK818cxeO0NBnKzsuxANOIF_L1ehT4ejOshsOs6f0YsgdCD-TvFA4gEEFg\\\"},{\\\"id\\\":\\\"2289701981377692\\\",\\\"type\\\":\\\"photo\\\",\\\"url\\\":\\\"https://lookaside.facebook.com/mcl/multimedia/lookaside/?download_info=AZvfWilAS_iXvC5bQ-txv7mb1huB3FMZzvA15OWS5g8eMZJoZDlmn4_COm7FdVStU1ZFgZaT-NutMcQVabFvKpRtloAFn46p5b08AyGt0Q7b8Zv_nhx4q2w61Oe2PPdEeHMhDBNcdNQ1wtp-AVxu\\\"},{\\\"id\\\":\\\"571397912232874\\\",\\\"type\\\":\\\"video\\\",\\\"url\\\":\\\"https://lookaside.facebook.com/mcl/multimedia/lookaside/?download_info=AZvSwi5wHCUJ2zQGmgWLYRPPEEdEee91c-TD6s5NtncYHQK0wyciy1ddDGLWxpf1HQVAG2GjtLPNaTs9ppTeG35LEe2Im1E2s4ELQPjiZw5Vje2mZFCL8iSYfFIFaAv3hyj0C49QPqRFJgdfx00\\\"}]\",\n          \"[{\\\"id\\\":\\\"594491136342324\\\",\\\"type\\\":\\\"video\\\",\\\"url\\\":\\\"https://lookaside.facebook.com/mcl/multimedia/lookaside/?download_info=AZuKn48p9AgmDVM1N_ksYgNjMhFqajsoTz33DpPaBK7PoYUMPlFsmkw1eGlrfYwIiKMNT3J2P_qHwkhB0IPifJa42DsX5P_L92N6578L0WGBjjgU9PY3a4YsA_YGKKSd7AfVQaesuzkAqMPFV-I\\\"}]\"\n        ],\n        \"semantic_type\": \"\",\n        \"description\": \"\"\n      }\n    },\n    {\n      \"column\": \"post_owner.type\",\n      \"properties\": {\n        \"dtype\": \"category\",\n        \"num_unique_values\": 3,\n        \"samples\": [\n          \"business\",\n          \"creator\"\n        ],\n        \"semantic_type\": \"\",\n        \"description\": \"\"\n      }\n    },\n    {\n      \"column\": \"post_owner.id\",\n      \"properties\": {\n        \"dtype\": \"number\",\n        \"std\": 2216704062154880,\n        \"min\": 13902274246638,\n        \"max\": 28831214443144847,\n        \"num_unique_values\": 10195,\n        \"samples\": [\n          674730411383561,\n          829365579406543\n        ],\n        \"semantic_type\": \"\",\n        \"description\": \"\"\n      }\n    },\n    {\n      \"column\": \"post_owner.name\",\n      \"properties\": {\n        \"dtype\": \"category\",\n        \"num_unique_values\": 9355,\n        \"samples\": [\n          \"\\u3084\\u3063\\u305f\\u305b\\u309948\\u30ad\\u30ed  \\u3075\\u309a\\u306b\\u3061\\u3083\\u3093\",\n          \"\\u6797\\u5b50\\u5d34\"\n        ],\n        \"semantic_type\": \"\",\n        \"description\": \"\"\n      }\n    },\n    {\n      \"column\": \"post_owner.username\",\n      \"properties\": {\n        \"dtype\": \"category\",\n        \"num_unique_values\": 9468,\n        \"samples\": [\n          \"notisportscom\",\n          \"nomurasayako\"\n        ],\n        \"semantic_type\": \"\",\n        \"description\": \"\"\n      }\n    },\n    {\n      \"column\": \"statistics.comment_count\",\n      \"properties\": {\n        \"dtype\": \"number\",\n        \"std\": 188.14396960520085,\n        \"min\": 0.0,\n        \"max\": 11324.0,\n        \"num_unique_values\": 1162,\n        \"samples\": [\n          242.0,\n          254.0\n        ],\n        \"semantic_type\": \"\",\n        \"description\": \"\"\n      }\n    },\n    {\n      \"column\": \"statistics.like_count\",\n      \"properties\": {\n        \"dtype\": \"number\",\n        \"std\": 27976.384945946134,\n        \"min\": 0.0,\n        \"max\": 1348939.0,\n        \"num_unique_values\": 13690,\n        \"samples\": [\n          5948.0,\n          17614.0\n        ],\n        \"semantic_type\": \"\",\n        \"description\": \"\"\n      }\n    },\n    {\n      \"column\": \"statistics.views\",\n      \"properties\": {\n        \"dtype\": \"number\",\n        \"std\": 999093.2017074637,\n        \"min\": 101.0,\n        \"max\": 87259987.0,\n        \"num_unique_values\": 54306,\n        \"samples\": [\n          64742.0,\n          16903.0\n        ],\n        \"semantic_type\": \"\",\n        \"description\": \"\"\n      }\n    },\n    {\n      \"column\": \"statistics.views_date_last_refreshed\",\n      \"properties\": {\n        \"dtype\": \"date\",\n        \"min\": \"2024-10-02 00:00:00\",\n        \"max\": \"2024-11-05 00:00:00\",\n        \"num_unique_values\": 33,\n        \"samples\": [\n          \"2024-10-03\",\n          \"2024-10-21\"\n        ],\n        \"semantic_type\": \"\",\n        \"description\": \"\"\n      }\n    },\n    {\n      \"column\": \"text\",\n      \"properties\": {\n        \"dtype\": \"string\",\n        \"num_unique_values\": 64089,\n        \"samples\": [\n          \"Es una simple verdad, Ohtani es un extraterrestre, pero todav\\u00eda le falta mucha llama a ese caldo para ser considerado uno de los mejores \\ud83d\\udc40\\ud83d\\udd25\\n\\n#ElDugout por <redacted_mention>, te invitamos a descargar la app Canela.TV en el link en la bio.\",\n          \"\\ud83d\\udca3 NEW ARRIVAL \\u26be\\ufe0f\\ud83d\\udc99\\u26be\\ufe0f Dodgers New Era D Logo 2020 Champions Fitted Cap. Grey UV\\u203c\\ufe0f\\ud83d\\udd25\\n\\nNotifications On for more \\ud83d\\udd25\\ud83d\\udd25\\ud83d\\udd25 from the 4Q\\u203c\\ufe0f\\n\\nwww.the4thquartershop.com\\n\\n\\ud83d\\udea8 Hats, Jerseys, Hoodies, Jackets, Novelties & More! \\ud83d\\udea8\\n\\n\\u26be\\ufe0f\\ud83d\\udd25\\u26be\\ufe0f New Arrivals every week! \\u2705\\n\\ud83d\\udcf2 DM or Call us with any questions. \\u260e\\ufe0f (323)-254-1240 \\ud83d\\udccd5689 York Blvd LA CA 90042. \\u23f0 \\ud83d\\udc99\\u26be\\ufe0f\\ud83d\\udc99\\n\\u26be\\ufe0f\\n\\u26be\\ufe0f\\n\\u26be\\ufe0f\\n\\u26be\\ufe0f #the4thquartershop #the4thquarter #the4thquartershopexclusive #fittedsociety #fotd #fitted #neweracap #newerafitted #fittedhat #cap #fittedcap #59fifty #dodgers #dodgersstadium #dodgersbaseball #dodgersnation #dodgersfan #dodgersbabe #losangeles #shohei #shoheiohtani\"\n        ],\n        \"semantic_type\": \"\",\n        \"description\": \"\"\n      }\n    }\n  ]\n}"
            }
          },
          "metadata": {},
          "execution_count": 36
        }
      ]
    },
    {
      "cell_type": "markdown",
      "source": [
        "Data exploration should include summaries of distributions of\n",
        "key variables (i.e. histograms for continuous variables, bar charts for categorical, and time\n",
        "series for temporal data). Note observations you have about the data."
      ],
      "metadata": {
        "id": "VddbdOruup6O"
      }
    },
    {
      "cell_type": "code",
      "source": [
        "selected_cols = ['content_type', 'creation_time', 'hashtags', 'id', 'is_branded_content',\n",
        "       'lang', 'post_owner.type',\n",
        "       'post_owner.id', 'post_owner.name', 'post_owner.username',\n",
        "       'statistics.comment_count', 'statistics.like_count', 'statistics.views',\n",
        "        'text']\n",
        "\n",
        "df1 = df[selected_cols]"
      ],
      "metadata": {
        "id": "VnBvwJgOtcPE"
      },
      "execution_count": 37,
      "outputs": []
    },
    {
      "cell_type": "code",
      "source": [
        "lang_counts = df1['lang'].value_counts()\n",
        "\n",
        "# Plot the bar chart\n",
        "plt.bar(lang_counts.index[0:10], lang_counts.values[0:10])\n",
        "plt.xlabel('Language')\n",
        "plt.ylabel('Count')\n",
        "plt.title('Counts of Languages Used In Ohtani Instagram Posts, 2024 MLB Season')\n",
        "# plt.xticks(rotation=45)  # Rotate x labels if needed for readability\n",
        "plt.show()\n"
      ],
      "metadata": {
        "colab": {
          "base_uri": "https://localhost:8080/",
          "height": 463
        },
        "id": "GFKlrO4auvYP",
        "outputId": "91aff416-1b8a-4916-f7f7-beecfeda368b"
      },
      "execution_count": 44,
      "outputs": [
        {
          "output_type": "display_data",
          "data": {
            "text/plain": [
              "<Figure size 640x480 with 1 Axes>"
            ],
            "image/png": "[encoded data removed]"
          },
          "metadata": {}
        }
      ]
    },
    {
      "cell_type": "code",
      "source": [
        "owner_counts = df1['post_owner.type'].value_counts()\n",
        "\n",
        "# Plot the bar chart\n",
        "plt.bar(owner_counts.index, owner_counts.values)\n",
        "plt.xlabel('Post Owner Type')\n",
        "plt.ylabel('Count')\n",
        "plt.title('Instagram Post Owner Types')\n",
        "# plt.xticks(rotation=45)  # Rotate x labels if needed for readability\n",
        "plt.show()"
      ],
      "metadata": {
        "colab": {
          "base_uri": "https://localhost:8080/",
          "height": 472
        },
        "id": "_xjtSSd_vbPy",
        "outputId": "cf8d8cec-07df-4265-931b-e05c218f64a3"
      },
      "execution_count": 45,
      "outputs": [
        {
          "output_type": "display_data",
          "data": {
            "text/plain": [
              "<Figure size 640x480 with 1 Axes>"
            ],
            "image/png": "[encoded data removed]"
          },
          "metadata": {}
        }
      ]
    },
    {
      "cell_type": "code",
      "source": [
        "df1['creation_time'] = pd.to_datetime(df1['creation_time'], utc=True)"
      ],
      "metadata": {
        "id": "h4wS48IlxEkV",
        "colab": {
          "base_uri": "https://localhost:8080/"
        },
        "outputId": "6d57f9a8-5da7-478b-f275-de918bb29591"
      },
      "execution_count": 39,
      "outputs": [
        {
          "output_type": "stream",
          "name": "stderr",
          "text": [
            "<ipython-input-39-21fe0a3e1ff7>:1: SettingWithCopyWarning: \n",
            "A value is trying to be set on a copy of a slice from a DataFrame.\n",
            "Try using .loc[row_indexer,col_indexer] = value instead\n",
            "\n",
            "See the caveats in the documentation: https://pandas.pydata.org/pandas-docs/stable/user_guide/indexing.html#returning-a-view-versus-a-copy\n",
            "  df1['creation_time'] = pd.to_datetime(df1['creation_time'], utc=True)\n"
          ]
        }
      ]
    },
    {
      "cell_type": "code",
      "source": [
        "# plt.hist(df1['creation_time'], bins=30)\n",
        "\n",
        "time_series_data = df1['creation_time'].dt.to_period('W').value_counts().sort_index()\n",
        "\n",
        "# Plot the time series\n",
        "plt.figure(figsize=(10, 6))\n",
        "time_series_data.plot(kind='line', color='blue')\n",
        "\n",
        "# Shade the area for Oct 25-30\n",
        "plt.axvspan('2024-10-13', '2024-10-20', color='orange', alpha=0.3, label='National League Championship Series, Games 1-6')\n",
        "\n",
        "# Shade the area for Oct 25-30\n",
        "plt.axvspan('2024-10-25', '2024-10-30', color='red', alpha=0.3, label='World Series 2024, Games 1-5')\n",
        "\n",
        "# Add labels and title\n",
        "plt.xlabel('Week')\n",
        "plt.ylabel('Count')\n",
        "plt.title('Timeline of Ohtani Instagram Post Creation')\n",
        "plt.xticks(rotation=45)\n",
        "plt.grid(axis='y', linestyle='--', alpha=0.7)\n",
        "plt.legend()  # Include legend for the shaded area\n",
        "plt.show()"
      ],
      "metadata": {
        "colab": {
          "base_uri": "https://localhost:8080/",
          "height": 497
        },
        "id": "19VIJ6Q-wBqo",
        "outputId": "2676ea09-e5ef-4afa-92a1-4d69f41554da"
      },
      "execution_count": 46,
      "outputs": [
        {
          "output_type": "stream",
          "name": "stderr",
          "text": [
            "<ipython-input-46-e7eab132e7e6>:3: UserWarning: Converting to PeriodArray/Index representation will drop timezone information.\n",
            "  time_series_data = df1['creation_time'].dt.to_period('W').value_counts().sort_index()\n"
          ]
        },
        {
          "output_type": "display_data",
          "data": {
            "text/plain": [
              "<Figure size 1000x600 with 1 Axes>"
            ],
            "image/png": "[encoded data removed]"
          },
          "metadata": {}
        }
      ]
    },
    {
      "cell_type": "code",
      "source": [
        "df1['creation_time'].min(), df1['creation_time'].max()"
      ],
      "metadata": {
        "colab": {
          "base_uri": "https://localhost:8080/"
        },
        "id": "SQNVtsbNwPj7",
        "outputId": "e416d686-6665-486b-c61c-9beab19d5bc4"
      },
      "execution_count": null,
      "outputs": [
        {
          "output_type": "execute_result",
          "data": {
            "text/plain": [
              "(Timestamp('2022-11-01 03:00:19+0000', tz='UTC'),\n",
              " Timestamp('2024-11-05 22:31:03+0000', tz='UTC'))"
            ]
          },
          "metadata": {},
          "execution_count": 53
        }
      ]
    },
    {
      "cell_type": "code",
      "source": [
        "df1[(df1['creation_time'].dt.month == 9) & (df1['creation_time'].dt.year == 2024) & (df['lang'] == 'en')].text"
      ],
      "metadata": {
        "colab": {
          "base_uri": "https://localhost:8080/",
          "height": 458
        },
        "id": "DxkTBbm5HlIN",
        "outputId": "803c3f3f-4fbe-4890-d191-8c027102cfa0"
      },
      "execution_count": 41,
      "outputs": [
        {
          "output_type": "execute_result",
          "data": {
            "text/plain": [
              "5843     Protector size confirmed and in stock: Shohei ...\n",
              "5845     Shohei Ohtani named NL Player of the Week... l...\n",
              "5846     WYA 🕺🏽🛸💕 #baseball #mlb #mlbb #beisbol #pelota...\n",
              "5848     𝙅𝙐𝙎𝙏 𝙂𝙍𝘼𝘿𝙀𝘿 💎 In the wake of Shohei Ohtani's h...\n",
              "5851     Is Shohei on his way to becoming the biggest s...\n",
              "                               ...                        \n",
              "11209    Via dodgers; And he did it again number 44.  5...\n",
              "11212    SHOHEI OHTANI. MOOKIE BETTS. FREDDIE FREEMAN.\\...\n",
              "11213                                  STAY HOT SHOHEI 🔥🔥🔥\n",
              "11214    SHOHEI, MOOKIE, AND FREDDIE GO BACK-TO-BACK-TO...\n",
              "11218    Shohei Ohtani 44th Home Run of the season #Dod...\n",
              "Name: text, Length: 1861, dtype: object"
            ],
            "text/html": [
              "<div>\n",
              "<style scoped>\n",
              "    .dataframe tbody tr th:only-of-type {\n",
              "        vertical-align: middle;\n",
              "    }\n",
              "\n",
              "    .dataframe tbody tr th {\n",
              "        vertical-align: top;\n",
              "    }\n",
              "\n",
              "    .dataframe thead th {\n",
              "        text-align: right;\n",
              "    }\n",
              "</style>\n",
              "<table border=\"1\" class=\"dataframe\">\n",
              "  <thead>\n",
              "    <tr style=\"text-align: right;\">\n",
              "      <th></th>\n",
              "      <th>text</th>\n",
              "    </tr>\n",
              "  </thead>\n",
              "  <tbody>\n",
              "    <tr>\n",
              "      <th>5843</th>\n",
              "      <td>Protector size confirmed and in stock: Shohei ...</td>\n",
              "    </tr>\n",
              "    <tr>\n",
              "      <th>5845</th>\n",
              "      <td>Shohei Ohtani named NL Player of the Week... l...</td>\n",
              "    </tr>\n",
              "    <tr>\n",
              "      <th>5846</th>\n",
              "      <td>WYA 🕺🏽🛸💕 #baseball #mlb #mlbb #beisbol #pelota...</td>\n",
              "    </tr>\n",
              "    <tr>\n",
              "      <th>5848</th>\n",
              "      <td>𝙅𝙐𝙎𝙏 𝙂𝙍𝘼𝘿𝙀𝘿 💎 In the wake of Shohei Ohtani's h...</td>\n",
              "    </tr>\n",
              "    <tr>\n",
              "      <th>5851</th>\n",
              "      <td>Is Shohei on his way to becoming the biggest s...</td>\n",
              "    </tr>\n",
              "    <tr>\n",
              "      <th>...</th>\n",
              "      <td>...</td>\n",
              "    </tr>\n",
              "    <tr>\n",
              "      <th>11209</th>\n",
              "      <td>Via dodgers; And he did it again number 44.  5...</td>\n",
              "    </tr>\n",
              "    <tr>\n",
              "      <th>11212</th>\n",
              "      <td>SHOHEI OHTANI. MOOKIE BETTS. FREDDIE FREEMAN.\\...</td>\n",
              "    </tr>\n",
              "    <tr>\n",
              "      <th>11213</th>\n",
              "      <td>STAY HOT SHOHEI 🔥🔥🔥</td>\n",
              "    </tr>\n",
              "    <tr>\n",
              "      <th>11214</th>\n",
              "      <td>SHOHEI, MOOKIE, AND FREDDIE GO BACK-TO-BACK-TO...</td>\n",
              "    </tr>\n",
              "    <tr>\n",
              "      <th>11218</th>\n",
              "      <td>Shohei Ohtani 44th Home Run of the season #Dod...</td>\n",
              "    </tr>\n",
              "  </tbody>\n",
              "</table>\n",
              "<p>1861 rows × 1 columns</p>\n",
              "</div><br><label><b>dtype:</b> object</label>"
            ]
          },
          "metadata": {},
          "execution_count": 41
        }
      ]
    },
    {
      "cell_type": "code",
      "source": [
        "# df['creation_time'].min(), df['creation_time'].max()\n",
        "start_date = pd.Timestamp('2023-11-01', tz='UTC')\n",
        "end_date = pd.Timestamp('2024-11-05', tz='UTC')\n",
        "\n",
        "\n",
        "# Filter the DataFrame\n",
        "df1 = df1[(df1['creation_time'] >= start_date) & (df1['creation_time'] <= end_date)]\n"
      ],
      "metadata": {
        "id": "ixiEYSWk_Q-G"
      },
      "execution_count": 42,
      "outputs": []
    },
    {
      "cell_type": "code",
      "source": [
        "df1['log10_likes'] = np.log10(df1['statistics.like_count'] + 1)\n"
      ],
      "metadata": {
        "id": "eRXvZbij4Daj"
      },
      "execution_count": 47,
      "outputs": []
    },
    {
      "cell_type": "code",
      "source": [
        "# df1['log10_reactions'] = np.log10(df1['statistics.reaction_count'] + 1)\n"
      ],
      "metadata": {
        "colab": {
          "base_uri": "https://localhost:8080/"
        },
        "id": "O6PJnXNDAinL",
        "outputId": "7dd5a557-6282-4244-803c-9e93b8dad2bc"
      },
      "execution_count": null,
      "outputs": [
        {
          "output_type": "stream",
          "name": "stderr",
          "text": [
            "<ipython-input-29-1c7b078136b9>:1: SettingWithCopyWarning: \n",
            "A value is trying to be set on a copy of a slice from a DataFrame.\n",
            "Try using .loc[row_indexer,col_indexer] = value instead\n",
            "\n",
            "See the caveats in the documentation: https://pandas.pydata.org/pandas-docs/stable/user_guide/indexing.html#returning-a-view-versus-a-copy\n",
            "  df1['log10_reactions'] = np.log10(df1['statistics.reaction_count'] + 1)\n"
          ]
        }
      ]
    },
    {
      "cell_type": "code",
      "source": [
        "plt.hist(df1['log10_likes'], bins=100, color='lightblue')\n",
        "plt.xlabel('Log10 of Like Count')\n",
        "plt.ylabel('Frequency (Log Scale)')\n",
        "plt.title('Distribution of Like Counts (Log10 Scale)')\n",
        "plt.grid(axis='y', linestyle='--', alpha=0.7)\n",
        "\n",
        "plt.ticklabel_format(style='plain', axis='x')\n",
        "\n",
        "plt.yscale(\"log\")\n",
        "\n",
        "plt.show()"
      ],
      "metadata": {
        "colab": {
          "base_uri": "https://localhost:8080/",
          "height": 472
        },
        "id": "lu2TQhDawjuT",
        "outputId": "de3ae65c-ebca-4083-e191-cec5d6d4749d"
      },
      "execution_count": 49,
      "outputs": [
        {
          "output_type": "display_data",
          "data": {
            "text/plain": [
              "<Figure size 640x480 with 1 Axes>"
            ],
            "image/png": "[encoded data removed]"
          },
          "metadata": {}
        }
      ]
    },
    {
      "cell_type": "code",
      "source": [
        "# plt.hist(df1['log10_reactions'], bins=100, color='green')\n",
        "# plt.xlabel('Log10 of Reaction Count')\n",
        "# plt.ylabel('Frequency (Log Scale)')\n",
        "# plt.title('Distribution of Reaction Counts (Log10 Scale)')\n",
        "# plt.grid(axis='y', linestyle='--', alpha=0.7)\n",
        "\n",
        "# plt.ticklabel_format(style='plain', axis='x')\n",
        "\n",
        "# plt.yscale(\"log\")\n",
        "\n",
        "# plt.show()"
      ],
      "metadata": {
        "id": "9m-B6wDZAnYG"
      },
      "execution_count": null,
      "outputs": []
    },
    {
      "cell_type": "code",
      "source": [
        "\n",
        "df1.isna().sum()"
      ],
      "metadata": {
        "id": "WZkS0tnSxLfF",
        "colab": {
          "base_uri": "https://localhost:8080/",
          "height": 554
        },
        "outputId": "f0886030-3318-489a-ae7e-15518710db4c"
      },
      "execution_count": null,
      "outputs": [
        {
          "output_type": "execute_result",
          "data": {
            "text/plain": [
              "content_type                    0\n",
              "creation_time                   0\n",
              "hashtags                    10613\n",
              "id                              0\n",
              "is_branded_content              0\n",
              "lang                          540\n",
              "post_owner.type                 0\n",
              "post_owner.id                   0\n",
              "post_owner.name               234\n",
              "post_owner.username             0\n",
              "statistics.comment_count      474\n",
              "statistics.like_count        3245\n",
              "statistics.views              140\n",
              "text                          472\n",
              "log10_likes                  3245\n",
              "dtype: int64"
            ],
            "text/html": [
              "<div>\n",
              "<style scoped>\n",
              "    .dataframe tbody tr th:only-of-type {\n",
              "        vertical-align: middle;\n",
              "    }\n",
              "\n",
              "    .dataframe tbody tr th {\n",
              "        vertical-align: top;\n",
              "    }\n",
              "\n",
              "    .dataframe thead th {\n",
              "        text-align: right;\n",
              "    }\n",
              "</style>\n",
              "<table border=\"1\" class=\"dataframe\">\n",
              "  <thead>\n",
              "    <tr style=\"text-align: right;\">\n",
              "      <th></th>\n",
              "      <th>0</th>\n",
              "    </tr>\n",
              "  </thead>\n",
              "  <tbody>\n",
              "    <tr>\n",
              "      <th>content_type</th>\n",
              "      <td>0</td>\n",
              "    </tr>\n",
              "    <tr>\n",
              "      <th>creation_time</th>\n",
              "      <td>0</td>\n",
              "    </tr>\n",
              "    <tr>\n",
              "      <th>hashtags</th>\n",
              "      <td>10613</td>\n",
              "    </tr>\n",
              "    <tr>\n",
              "      <th>id</th>\n",
              "      <td>0</td>\n",
              "    </tr>\n",
              "    <tr>\n",
              "      <th>is_branded_content</th>\n",
              "      <td>0</td>\n",
              "    </tr>\n",
              "    <tr>\n",
              "      <th>lang</th>\n",
              "      <td>540</td>\n",
              "    </tr>\n",
              "    <tr>\n",
              "      <th>post_owner.type</th>\n",
              "      <td>0</td>\n",
              "    </tr>\n",
              "    <tr>\n",
              "      <th>post_owner.id</th>\n",
              "      <td>0</td>\n",
              "    </tr>\n",
              "    <tr>\n",
              "      <th>post_owner.name</th>\n",
              "      <td>234</td>\n",
              "    </tr>\n",
              "    <tr>\n",
              "      <th>post_owner.username</th>\n",
              "      <td>0</td>\n",
              "    </tr>\n",
              "    <tr>\n",
              "      <th>statistics.comment_count</th>\n",
              "      <td>474</td>\n",
              "    </tr>\n",
              "    <tr>\n",
              "      <th>statistics.like_count</th>\n",
              "      <td>3245</td>\n",
              "    </tr>\n",
              "    <tr>\n",
              "      <th>statistics.views</th>\n",
              "      <td>140</td>\n",
              "    </tr>\n",
              "    <tr>\n",
              "      <th>text</th>\n",
              "      <td>472</td>\n",
              "    </tr>\n",
              "    <tr>\n",
              "      <th>log10_likes</th>\n",
              "      <td>3245</td>\n",
              "    </tr>\n",
              "  </tbody>\n",
              "</table>\n",
              "</div><br><label><b>dtype:</b> int64</label>"
            ]
          },
          "metadata": {},
          "execution_count": 59
        }
      ]
    },
    {
      "cell_type": "code",
      "source": [
        "label_encoder = LabelEncoder()\n",
        "\n",
        "df1['post_owner_label'] = LabelEncoder().fit_transform(df1['post_owner.type'].astype(str))\n",
        "# 0: business\n",
        "# 1: creator\n",
        "# 2: personal"
      ],
      "metadata": {
        "id": "5XRA9RWk7hwx"
      },
      "execution_count": null,
      "outputs": []
    },
    {
      "cell_type": "code",
      "source": [
        "\n",
        "# df_en['content_type'], content_type_mapping = pd.factorize(df_en['content_type'])\n",
        "df1['content_type_label'] = label_encoder.fit_transform(df1['content_type'])\n",
        "# 0: albums\n",
        "# 1: photos\n",
        "# 2: stories\n",
        "# 3: videos"
      ],
      "metadata": {
        "id": "E1PynrP3u7oG"
      },
      "execution_count": null,
      "outputs": []
    },
    {
      "cell_type": "code",
      "source": [
        "df1[['content_type','content_type_label']].value_counts()\n"
      ],
      "metadata": {
        "colab": {
          "base_uri": "https://localhost:8080/",
          "height": 241
        },
        "id": "0hnhizMLoSW8",
        "outputId": "17ff45ac-3456-44e1-9f64-5caadcaebc6c"
      },
      "execution_count": null,
      "outputs": [
        {
          "output_type": "execute_result",
          "data": {
            "text/plain": [
              "content_type  content_type_label\n",
              "videos        3                     16517\n",
              "albums        0                     13442\n",
              "photos        1                     13211\n",
              "stories       2                       472\n",
              "Name: count, dtype: int64"
            ],
            "text/html": [
              "<div>\n",
              "<style scoped>\n",
              "    .dataframe tbody tr th:only-of-type {\n",
              "        vertical-align: middle;\n",
              "    }\n",
              "\n",
              "    .dataframe tbody tr th {\n",
              "        vertical-align: top;\n",
              "    }\n",
              "\n",
              "    .dataframe thead th {\n",
              "        text-align: right;\n",
              "    }\n",
              "</style>\n",
              "<table border=\"1\" class=\"dataframe\">\n",
              "  <thead>\n",
              "    <tr style=\"text-align: right;\">\n",
              "      <th></th>\n",
              "      <th></th>\n",
              "      <th>count</th>\n",
              "    </tr>\n",
              "    <tr>\n",
              "      <th>content_type</th>\n",
              "      <th>content_type_label</th>\n",
              "      <th></th>\n",
              "    </tr>\n",
              "  </thead>\n",
              "  <tbody>\n",
              "    <tr>\n",
              "      <th>videos</th>\n",
              "      <th>3</th>\n",
              "      <td>16517</td>\n",
              "    </tr>\n",
              "    <tr>\n",
              "      <th>albums</th>\n",
              "      <th>0</th>\n",
              "      <td>13442</td>\n",
              "    </tr>\n",
              "    <tr>\n",
              "      <th>photos</th>\n",
              "      <th>1</th>\n",
              "      <td>13211</td>\n",
              "    </tr>\n",
              "    <tr>\n",
              "      <th>stories</th>\n",
              "      <th>2</th>\n",
              "      <td>472</td>\n",
              "    </tr>\n",
              "  </tbody>\n",
              "</table>\n",
              "</div><br><label><b>dtype:</b> int64</label>"
            ]
          },
          "metadata": {},
          "execution_count": 64
        }
      ]
    },
    {
      "cell_type": "code",
      "source": [
        "# filtered_df = df1.dropna(subset=['log10_reactions', 'lang'])\n"
      ],
      "metadata": {
        "id": "UDcpYvE2Amn9"
      },
      "execution_count": null,
      "outputs": []
    },
    {
      "cell_type": "code",
      "source": [
        "df1.shape"
      ],
      "metadata": {
        "colab": {
          "base_uri": "https://localhost:8080/"
        },
        "id": "JR5iusXpBCTU",
        "outputId": "5b7eda95-616a-4133-9911-3cafda1ec3e4"
      },
      "execution_count": null,
      "outputs": [
        {
          "output_type": "execute_result",
          "data": {
            "text/plain": [
              "(43642, 17)"
            ]
          },
          "metadata": {},
          "execution_count": 65
        }
      ]
    },
    {
      "cell_type": "code",
      "source": [
        "# df_en = df1[df1['lang'] == 'en']\n",
        "# df_en = df_en[df_en['content_type'].isin(['photos', 'videos'])]\n"
      ],
      "metadata": {
        "id": "7jp8o2zOtzB7"
      },
      "execution_count": null,
      "outputs": []
    },
    {
      "cell_type": "code",
      "source": [
        "# df_en = df_en[df_en['statistics.like_count'] > 1000]"
      ],
      "metadata": {
        "id": "qghv6zhILMpk"
      },
      "execution_count": null,
      "outputs": []
    },
    {
      "cell_type": "code",
      "source": [
        "# df_en.dtypes"
      ],
      "metadata": {
        "colab": {
          "base_uri": "https://localhost:8080/",
          "height": 523
        },
        "id": "vJK-sX2Pt95i",
        "outputId": "d883c0d6-61d3-449c-f8af-26de617b1a2d"
      },
      "execution_count": null,
      "outputs": [
        {
          "output_type": "execute_result",
          "data": {
            "text/plain": [
              "content_type                             object\n",
              "creation_time               datetime64[ns, UTC]\n",
              "hashtags                                 object\n",
              "id                                        int64\n",
              "is_branded_content                         bool\n",
              "lang                                     object\n",
              "post_owner.type                          object\n",
              "post_owner.id                             int64\n",
              "statistics.comment_count                float64\n",
              "statistics.like_count                   float64\n",
              "statistics.views                        float64\n",
              "text                                     object\n",
              "log10_likes                             float64\n",
              "post_owner_label                          int64\n",
              "dtype: object"
            ],
            "text/html": [
              "<div>\n",
              "<style scoped>\n",
              "    .dataframe tbody tr th:only-of-type {\n",
              "        vertical-align: middle;\n",
              "    }\n",
              "\n",
              "    .dataframe tbody tr th {\n",
              "        vertical-align: top;\n",
              "    }\n",
              "\n",
              "    .dataframe thead th {\n",
              "        text-align: right;\n",
              "    }\n",
              "</style>\n",
              "<table border=\"1\" class=\"dataframe\">\n",
              "  <thead>\n",
              "    <tr style=\"text-align: right;\">\n",
              "      <th></th>\n",
              "      <th>0</th>\n",
              "    </tr>\n",
              "  </thead>\n",
              "  <tbody>\n",
              "    <tr>\n",
              "      <th>content_type</th>\n",
              "      <td>object</td>\n",
              "    </tr>\n",
              "    <tr>\n",
              "      <th>creation_time</th>\n",
              "      <td>datetime64[ns, UTC]</td>\n",
              "    </tr>\n",
              "    <tr>\n",
              "      <th>hashtags</th>\n",
              "      <td>object</td>\n",
              "    </tr>\n",
              "    <tr>\n",
              "      <th>id</th>\n",
              "      <td>int64</td>\n",
              "    </tr>\n",
              "    <tr>\n",
              "      <th>is_branded_content</th>\n",
              "      <td>bool</td>\n",
              "    </tr>\n",
              "    <tr>\n",
              "      <th>lang</th>\n",
              "      <td>object</td>\n",
              "    </tr>\n",
              "    <tr>\n",
              "      <th>post_owner.type</th>\n",
              "      <td>object</td>\n",
              "    </tr>\n",
              "    <tr>\n",
              "      <th>post_owner.id</th>\n",
              "      <td>int64</td>\n",
              "    </tr>\n",
              "    <tr>\n",
              "      <th>statistics.comment_count</th>\n",
              "      <td>float64</td>\n",
              "    </tr>\n",
              "    <tr>\n",
              "      <th>statistics.like_count</th>\n",
              "      <td>float64</td>\n",
              "    </tr>\n",
              "    <tr>\n",
              "      <th>statistics.views</th>\n",
              "      <td>float64</td>\n",
              "    </tr>\n",
              "    <tr>\n",
              "      <th>text</th>\n",
              "      <td>object</td>\n",
              "    </tr>\n",
              "    <tr>\n",
              "      <th>log10_likes</th>\n",
              "      <td>float64</td>\n",
              "    </tr>\n",
              "    <tr>\n",
              "      <th>post_owner_label</th>\n",
              "      <td>int64</td>\n",
              "    </tr>\n",
              "  </tbody>\n",
              "</table>\n",
              "</div><br><label><b>dtype:</b> object</label>"
            ]
          },
          "metadata": {},
          "execution_count": 99
        }
      ]
    },
    {
      "cell_type": "code",
      "source": [
        "# Function to tally hashtags\n",
        "def count_hashtags(hashtags):\n",
        "    if pd.isna(hashtags):\n",
        "        return 0  # Return 0 if NaN\n",
        "    else:\n",
        "        # Convert the string representation of the list to an actual list and count its length\n",
        "        return len(eval(hashtags))\n",
        "\n",
        "# Apply the function to the column and create a new column for counts\n",
        "df1['hashtag_count'] = df1['hashtags'].apply(count_hashtags)\n"
      ],
      "metadata": {
        "id": "59rtY1qyui_v"
      },
      "execution_count": null,
      "outputs": []
    },
    {
      "cell_type": "code",
      "source": [
        "# df1['is_branded_content'].value_counts()"
      ],
      "metadata": {
        "colab": {
          "base_uri": "https://localhost:8080/",
          "height": 178
        },
        "id": "V9npPvfEpjr9",
        "outputId": "928e5805-8544-451a-f8fc-16bf16af6a64"
      },
      "execution_count": null,
      "outputs": [
        {
          "output_type": "execute_result",
          "data": {
            "text/plain": [
              "is_branded_content\n",
              "False    43475\n",
              "True       167\n",
              "Name: count, dtype: int64"
            ],
            "text/html": [
              "<div>\n",
              "<style scoped>\n",
              "    .dataframe tbody tr th:only-of-type {\n",
              "        vertical-align: middle;\n",
              "    }\n",
              "\n",
              "    .dataframe tbody tr th {\n",
              "        vertical-align: top;\n",
              "    }\n",
              "\n",
              "    .dataframe thead th {\n",
              "        text-align: right;\n",
              "    }\n",
              "</style>\n",
              "<table border=\"1\" class=\"dataframe\">\n",
              "  <thead>\n",
              "    <tr style=\"text-align: right;\">\n",
              "      <th></th>\n",
              "      <th>count</th>\n",
              "    </tr>\n",
              "    <tr>\n",
              "      <th>is_branded_content</th>\n",
              "      <th></th>\n",
              "    </tr>\n",
              "  </thead>\n",
              "  <tbody>\n",
              "    <tr>\n",
              "      <th>False</th>\n",
              "      <td>43475</td>\n",
              "    </tr>\n",
              "    <tr>\n",
              "      <th>True</th>\n",
              "      <td>167</td>\n",
              "    </tr>\n",
              "  </tbody>\n",
              "</table>\n",
              "</div><br><label><b>dtype:</b> int64</label>"
            ]
          },
          "metadata": {},
          "execution_count": 67
        }
      ]
    },
    {
      "cell_type": "code",
      "source": [
        "df1['is_branded_content'] = df1['is_branded_content'].astype(int)\n"
      ],
      "metadata": {
        "id": "-7W6mRO1vy_U"
      },
      "execution_count": null,
      "outputs": []
    },
    {
      "cell_type": "code",
      "source": [
        "# df_en.drop('lang', axis = 1, inplace = True)"
      ],
      "metadata": {
        "id": "x7VdTdvDwDGQ"
      },
      "execution_count": null,
      "outputs": []
    },
    {
      "cell_type": "code",
      "source": [
        "# df_en['post_owner.type'], owner_type_mapping = pd.factorize(df_en['post_owner.type'])\n",
        "# filtered_df['post_owner.type'] = label_encoder.fit_transform(filtered_df['post_owner.type'])\n",
        "\n"
      ],
      "metadata": {
        "id": "tBOIxrY-wLn0",
        "colab": {
          "base_uri": "https://localhost:8080/"
        },
        "outputId": "cd4cf773-df1c-4942-bbb2-2dba06d3adde"
      },
      "execution_count": null,
      "outputs": [
        {
          "output_type": "stream",
          "name": "stderr",
          "text": [
            "<ipython-input-50-319adfe31e12>:2: SettingWithCopyWarning: \n",
            "A value is trying to be set on a copy of a slice from a DataFrame.\n",
            "Try using .loc[row_indexer,col_indexer] = value instead\n",
            "\n",
            "See the caveats in the documentation: https://pandas.pydata.org/pandas-docs/stable/user_guide/indexing.html#returning-a-view-versus-a-copy\n",
            "  filtered_df['post_owner.type'] = label_encoder.fit_transform(filtered_df['post_owner.type'])\n"
          ]
        }
      ]
    },
    {
      "cell_type": "code",
      "source": [
        "columns_to_fill = ['statistics.like_count', 'statistics.views']\n",
        "\n",
        "df1 = df1.dropna(subset=columns_to_fill)\n"
      ],
      "metadata": {
        "id": "rFpxwuaSwfLp"
      },
      "execution_count": null,
      "outputs": []
    },
    {
      "cell_type": "code",
      "source": [
        "df1.shape"
      ],
      "metadata": {
        "colab": {
          "base_uri": "https://localhost:8080/"
        },
        "id": "c7olpu1bqOjo",
        "outputId": "81ef5ef7-9278-4a4c-ec7e-60b971b3950c"
      },
      "execution_count": null,
      "outputs": [
        {
          "output_type": "execute_result",
          "data": {
            "text/plain": [
              "(40276, 18)"
            ]
          },
          "metadata": {},
          "execution_count": 73
        }
      ]
    },
    {
      "cell_type": "code",
      "source": [
        "df1.isna().sum()"
      ],
      "metadata": {
        "colab": {
          "base_uri": "https://localhost:8080/",
          "height": 649
        },
        "id": "4h9pe8f3p10p",
        "outputId": "b0bd56e5-32c3-4ee8-fa6e-4f5b4f967604"
      },
      "execution_count": null,
      "outputs": [
        {
          "output_type": "execute_result",
          "data": {
            "text/plain": [
              "content_type                   0\n",
              "creation_time                  0\n",
              "hashtags                    9562\n",
              "id                             0\n",
              "is_branded_content             0\n",
              "lang                         505\n",
              "post_owner.type                0\n",
              "post_owner.id                  0\n",
              "post_owner.name              190\n",
              "post_owner.username            0\n",
              "statistics.comment_count       0\n",
              "statistics.like_count          0\n",
              "statistics.views               0\n",
              "text                           0\n",
              "log10_likes                    0\n",
              "post_owner_label               0\n",
              "content_type_label             0\n",
              "hashtag_count                  0\n",
              "dtype: int64"
            ],
            "text/html": [
              "<div>\n",
              "<style scoped>\n",
              "    .dataframe tbody tr th:only-of-type {\n",
              "        vertical-align: middle;\n",
              "    }\n",
              "\n",
              "    .dataframe tbody tr th {\n",
              "        vertical-align: top;\n",
              "    }\n",
              "\n",
              "    .dataframe thead th {\n",
              "        text-align: right;\n",
              "    }\n",
              "</style>\n",
              "<table border=\"1\" class=\"dataframe\">\n",
              "  <thead>\n",
              "    <tr style=\"text-align: right;\">\n",
              "      <th></th>\n",
              "      <th>0</th>\n",
              "    </tr>\n",
              "  </thead>\n",
              "  <tbody>\n",
              "    <tr>\n",
              "      <th>content_type</th>\n",
              "      <td>0</td>\n",
              "    </tr>\n",
              "    <tr>\n",
              "      <th>creation_time</th>\n",
              "      <td>0</td>\n",
              "    </tr>\n",
              "    <tr>\n",
              "      <th>hashtags</th>\n",
              "      <td>9562</td>\n",
              "    </tr>\n",
              "    <tr>\n",
              "      <th>id</th>\n",
              "      <td>0</td>\n",
              "    </tr>\n",
              "    <tr>\n",
              "      <th>is_branded_content</th>\n",
              "      <td>0</td>\n",
              "    </tr>\n",
              "    <tr>\n",
              "      <th>lang</th>\n",
              "      <td>505</td>\n",
              "    </tr>\n",
              "    <tr>\n",
              "      <th>post_owner.type</th>\n",
              "      <td>0</td>\n",
              "    </tr>\n",
              "    <tr>\n",
              "      <th>post_owner.id</th>\n",
              "      <td>0</td>\n",
              "    </tr>\n",
              "    <tr>\n",
              "      <th>post_owner.name</th>\n",
              "      <td>190</td>\n",
              "    </tr>\n",
              "    <tr>\n",
              "      <th>post_owner.username</th>\n",
              "      <td>0</td>\n",
              "    </tr>\n",
              "    <tr>\n",
              "      <th>statistics.comment_count</th>\n",
              "      <td>0</td>\n",
              "    </tr>\n",
              "    <tr>\n",
              "      <th>statistics.like_count</th>\n",
              "      <td>0</td>\n",
              "    </tr>\n",
              "    <tr>\n",
              "      <th>statistics.views</th>\n",
              "      <td>0</td>\n",
              "    </tr>\n",
              "    <tr>\n",
              "      <th>text</th>\n",
              "      <td>0</td>\n",
              "    </tr>\n",
              "    <tr>\n",
              "      <th>log10_likes</th>\n",
              "      <td>0</td>\n",
              "    </tr>\n",
              "    <tr>\n",
              "      <th>post_owner_label</th>\n",
              "      <td>0</td>\n",
              "    </tr>\n",
              "    <tr>\n",
              "      <th>content_type_label</th>\n",
              "      <td>0</td>\n",
              "    </tr>\n",
              "    <tr>\n",
              "      <th>hashtag_count</th>\n",
              "      <td>0</td>\n",
              "    </tr>\n",
              "  </tbody>\n",
              "</table>\n",
              "</div><br><label><b>dtype:</b> int64</label>"
            ]
          },
          "metadata": {},
          "execution_count": 74
        }
      ]
    },
    {
      "cell_type": "code",
      "source": [
        "# Removing \\r in text bc one row has it and it's causing issues\n",
        "df1['text'] = df1['text'].str.replace('\\r', '', regex=False)\n"
      ],
      "metadata": {
        "id": "_eFx_KeV0UeP"
      },
      "execution_count": null,
      "outputs": []
    },
    {
      "cell_type": "code",
      "source": [
        "# df_test = pd.read_csv('/content/drive/MyDrive/shohei-fb1-cleaned.csv')\n",
        "# filtered_df.iloc[3260].text, df_test.iloc[3260].text\n",
        "# filtered_df.shape, df_test.shape\n",
        "# df_test.isna().sum()\n",
        "# df_test[df_test.text.isna()]\n"
      ],
      "metadata": {
        "id": "TTH5oVdw8FLD",
        "colab": {
          "base_uri": "https://localhost:8080/",
          "height": 73
        },
        "outputId": "af029cb2-070b-4611-8fc4-a306ff83301c"
      },
      "execution_count": null,
      "outputs": [
        {
          "output_type": "execute_result",
          "data": {
            "text/plain": [
              "Empty DataFrame\n",
              "Columns: [content_type, creation_time, id, surface.name, is_branded_content, lang, post_owner.type, post_owner.name, statistics.comment_count, statistics.like_count, statistics.reaction_count, statistics.views, statistics.share_count, text, log10_likes, log10_reactions, post_owner_label]\n",
              "Index: []"
            ],
            "text/html": [
              "\n",
              "  <div id=\"df-b7b127b2-783a-4cc6-a85e-ee1fbfa400de\" class=\"colab-df-container\">\n",
              "    <div>\n",
              "<style scoped>\n",
              "    .dataframe tbody tr th:only-of-type {\n",
              "        vertical-align: middle;\n",
              "    }\n",
              "\n",
              "    .dataframe tbody tr th {\n",
              "        vertical-align: top;\n",
              "    }\n",
              "\n",
              "    .dataframe thead th {\n",
              "        text-align: right;\n",
              "    }\n",
              "</style>\n",
              "<table border=\"1\" class=\"dataframe\">\n",
              "  <thead>\n",
              "    <tr style=\"text-align: right;\">\n",
              "      <th></th>\n",
              "      <th>content_type</th>\n",
              "      <th>creation_time</th>\n",
              "      <th>id</th>\n",
              "      <th>surface.name</th>\n",
              "      <th>is_branded_content</th>\n",
              "      <th>lang</th>\n",
              "      <th>post_owner.type</th>\n",
              "      <th>post_owner.name</th>\n",
              "      <th>statistics.comment_count</th>\n",
              "      <th>statistics.like_count</th>\n",
              "      <th>statistics.reaction_count</th>\n",
              "      <th>statistics.views</th>\n",
              "      <th>statistics.share_count</th>\n",
              "      <th>text</th>\n",
              "      <th>log10_likes</th>\n",
              "      <th>log10_reactions</th>\n",
              "      <th>post_owner_label</th>\n",
              "    </tr>\n",
              "  </thead>\n",
              "  <tbody>\n",
              "  </tbody>\n",
              "</table>\n",
              "</div>\n",
              "    <div class=\"colab-df-buttons\">\n",
              "\n",
              "  <div class=\"colab-df-container\">\n",
              "    <button class=\"colab-df-convert\" onclick=\"convertToInteractive('df-b7b127b2-783a-4cc6-a85e-ee1fbfa400de')\"\n",
              "            title=\"Convert this dataframe to an interactive table.\"\n",
              "            style=\"display:none;\">\n",
              "\n",
              "  <svg xmlns=\"http://www.w3.org/2000/svg\" height=\"24px\" viewBox=\"0 -960 960 960\">\n",
              "    <path d=\"M120-120v-720h720v720H120Zm60-500h600v-160H180v160Zm220 220h160v-160H400v160Zm0 220h160v-160H400v160ZM180-400h160v-160H180v160Zm440 0h160v-160H620v160ZM180-180h160v-160H180v160Zm440 0h160v-160H620v160Z\"/>\n",
              "  </svg>\n",
              "    </button>\n",
              "\n",
              "  <style>\n",
              "    .colab-df-container {\n",
              "      display:flex;\n",
              "      gap: 12px;\n",
              "    }\n",
              "\n",
              "    .colab-df-convert {\n",
              "      background-color: #E8F0FE;\n",
              "      border: none;\n",
              "      border-radius: 50%;\n",
              "      cursor: pointer;\n",
              "      display: none;\n",
              "      fill: #1967D2;\n",
              "      height: 32px;\n",
              "      padding: 0 0 0 0;\n",
              "      width: 32px;\n",
              "    }\n",
              "\n",
              "    .colab-df-convert:hover {\n",
              "      background-color: #E2EBFA;\n",
              "      box-shadow: 0px 1px 2px rgba(60, 64, 67, 0.3), 0px 1px 3px 1px rgba(60, 64, 67, 0.15);\n",
              "      fill: #174EA6;\n",
              "    }\n",
              "\n",
              "    .colab-df-buttons div {\n",
              "      margin-bottom: 4px;\n",
              "    }\n",
              "\n",
              "    [theme=dark] .colab-df-convert {\n",
              "      background-color: #3B4455;\n",
              "      fill: #D2E3FC;\n",
              "    }\n",
              "\n",
              "    [theme=dark] .colab-df-convert:hover {\n",
              "      background-color: #434B5C;\n",
              "      box-shadow: 0px 1px 3px 1px rgba(0, 0, 0, 0.15);\n",
              "      filter: drop-shadow(0px 1px 2px rgba(0, 0, 0, 0.3));\n",
              "      fill: #FFFFFF;\n",
              "    }\n",
              "  </style>\n",
              "\n",
              "    <script>\n",
              "      const buttonEl =\n",
              "        document.querySelector('#df-b7b127b2-783a-4cc6-a85e-ee1fbfa400de button.colab-df-convert');\n",
              "      buttonEl.style.display =\n",
              "        google.colab.kernel.accessAllowed ? 'block' : 'none';\n",
              "\n",
              "      async function convertToInteractive(key) {\n",
              "        const element = document.querySelector('#df-b7b127b2-783a-4cc6-a85e-ee1fbfa400de');\n",
              "        const dataTable =\n",
              "          await google.colab.kernel.invokeFunction('convertToInteractive',\n",
              "                                                    [key], {});\n",
              "        if (!dataTable) return;\n",
              "\n",
              "        const docLinkHtml = 'Like what you see? Visit the ' +\n",
              "          '<a target=\"_blank\" href=https://colab.research.google.com/notebooks/data_table.ipynb>data table notebook</a>'\n",
              "          + ' to learn more about interactive tables.';\n",
              "        element.innerHTML = '';\n",
              "        dataTable['output_type'] = 'display_data';\n",
              "        await google.colab.output.renderOutput(dataTable, element);\n",
              "        const docLink = document.createElement('div');\n",
              "        docLink.innerHTML = docLinkHtml;\n",
              "        element.appendChild(docLink);\n",
              "      }\n",
              "    </script>\n",
              "  </div>\n",
              "\n",
              "\n",
              "    </div>\n",
              "  </div>\n"
            ],
            "application/vnd.google.colaboratory.intrinsic+json": {
              "type": "dataframe",
              "repr_error": "Out of range float values are not JSON compliant: nan"
            }
          },
          "metadata": {},
          "execution_count": 52
        }
      ]
    },
    {
      "cell_type": "code",
      "source": [
        "# filtered_df.shape, df_test.shape\n"
      ],
      "metadata": {
        "colab": {
          "base_uri": "https://localhost:8080/"
        },
        "id": "DCG4ec9J4-jZ",
        "outputId": "0d4cfd0f-9f25-410e-c592-fcf529803051"
      },
      "execution_count": null,
      "outputs": [
        {
          "output_type": "execute_result",
          "data": {
            "text/plain": [
              "((70338, 17), (70338, 17))"
            ]
          },
          "metadata": {},
          "execution_count": 54
        }
      ]
    },
    {
      "cell_type": "code",
      "source": [
        "filtered_df = df1[df1['post_owner.type'].isin(['creator', 'personal'])]\n"
      ],
      "metadata": {
        "id": "xmR1z586CdUW"
      },
      "execution_count": null,
      "outputs": []
    },
    {
      "cell_type": "code",
      "source": [
        "filtered_df = filtered_df[filtered_df['is_branded_content'] == 0]\n",
        "filtered_df = filtered_df.drop(columns=['is_branded_content'])\n"
      ],
      "metadata": {
        "id": "R1a-HboZrQUq"
      },
      "execution_count": null,
      "outputs": []
    },
    {
      "cell_type": "code",
      "source": [
        "filtered_df.lang.value_counts()"
      ],
      "metadata": {
        "colab": {
          "base_uri": "https://localhost:8080/",
          "height": 1000
        },
        "id": "4R8r5IwEsQYC",
        "outputId": "2843d369-9b0f-4f10-fe84-2ab29cdb164a"
      },
      "execution_count": null,
      "outputs": [
        {
          "output_type": "execute_result",
          "data": {
            "text/plain": [
              "lang\n",
              "ja    9171\n",
              "en    7661\n",
              "es    5282\n",
              "zh     353\n",
              "pt     124\n",
              "id      97\n",
              "de      94\n",
              "ss      74\n",
              "om      26\n",
              "fr      24\n",
              "ko      20\n",
              "tr      16\n",
              "ar       9\n",
              "pl       8\n",
              "ms       7\n",
              "it       7\n",
              "fi       7\n",
              "nl       4\n",
              "hi       4\n",
              "af       3\n",
              "cs       3\n",
              "tl       3\n",
              "vi       3\n",
              "th       3\n",
              "no       2\n",
              "mn       2\n",
              "da       2\n",
              "ro       2\n",
              "hr       2\n",
              "sq       1\n",
              "ka       1\n",
              "he       1\n",
              "rw       1\n",
              "si       1\n",
              "bn       1\n",
              "jv       1\n",
              "ru       1\n",
              "mr       1\n",
              "el       1\n",
              "sw       1\n",
              "sk       1\n",
              "fa       1\n",
              "Name: count, dtype: int64"
            ],
            "text/html": [
              "<div>\n",
              "<style scoped>\n",
              "    .dataframe tbody tr th:only-of-type {\n",
              "        vertical-align: middle;\n",
              "    }\n",
              "\n",
              "    .dataframe tbody tr th {\n",
              "        vertical-align: top;\n",
              "    }\n",
              "\n",
              "    .dataframe thead th {\n",
              "        text-align: right;\n",
              "    }\n",
              "</style>\n",
              "<table border=\"1\" class=\"dataframe\">\n",
              "  <thead>\n",
              "    <tr style=\"text-align: right;\">\n",
              "      <th></th>\n",
              "      <th>count</th>\n",
              "    </tr>\n",
              "    <tr>\n",
              "      <th>lang</th>\n",
              "      <th></th>\n",
              "    </tr>\n",
              "  </thead>\n",
              "  <tbody>\n",
              "    <tr>\n",
              "      <th>ja</th>\n",
              "      <td>9171</td>\n",
              "    </tr>\n",
              "    <tr>\n",
              "      <th>en</th>\n",
              "      <td>7661</td>\n",
              "    </tr>\n",
              "    <tr>\n",
              "      <th>es</th>\n",
              "      <td>5282</td>\n",
              "    </tr>\n",
              "    <tr>\n",
              "      <th>zh</th>\n",
              "      <td>353</td>\n",
              "    </tr>\n",
              "    <tr>\n",
              "      <th>pt</th>\n",
              "      <td>124</td>\n",
              "    </tr>\n",
              "    <tr>\n",
              "      <th>id</th>\n",
              "      <td>97</td>\n",
              "    </tr>\n",
              "    <tr>\n",
              "      <th>de</th>\n",
              "      <td>94</td>\n",
              "    </tr>\n",
              "    <tr>\n",
              "      <th>ss</th>\n",
              "      <td>74</td>\n",
              "    </tr>\n",
              "    <tr>\n",
              "      <th>om</th>\n",
              "      <td>26</td>\n",
              "    </tr>\n",
              "    <tr>\n",
              "      <th>fr</th>\n",
              "      <td>24</td>\n",
              "    </tr>\n",
              "    <tr>\n",
              "      <th>ko</th>\n",
              "      <td>20</td>\n",
              "    </tr>\n",
              "    <tr>\n",
              "      <th>tr</th>\n",
              "      <td>16</td>\n",
              "    </tr>\n",
              "    <tr>\n",
              "      <th>ar</th>\n",
              "      <td>9</td>\n",
              "    </tr>\n",
              "    <tr>\n",
              "      <th>pl</th>\n",
              "      <td>8</td>\n",
              "    </tr>\n",
              "    <tr>\n",
              "      <th>ms</th>\n",
              "      <td>7</td>\n",
              "    </tr>\n",
              "    <tr>\n",
              "      <th>it</th>\n",
              "      <td>7</td>\n",
              "    </tr>\n",
              "    <tr>\n",
              "      <th>fi</th>\n",
              "      <td>7</td>\n",
              "    </tr>\n",
              "    <tr>\n",
              "      <th>nl</th>\n",
              "      <td>4</td>\n",
              "    </tr>\n",
              "    <tr>\n",
              "      <th>hi</th>\n",
              "      <td>4</td>\n",
              "    </tr>\n",
              "    <tr>\n",
              "      <th>af</th>\n",
              "      <td>3</td>\n",
              "    </tr>\n",
              "    <tr>\n",
              "      <th>cs</th>\n",
              "      <td>3</td>\n",
              "    </tr>\n",
              "    <tr>\n",
              "      <th>tl</th>\n",
              "      <td>3</td>\n",
              "    </tr>\n",
              "    <tr>\n",
              "      <th>vi</th>\n",
              "      <td>3</td>\n",
              "    </tr>\n",
              "    <tr>\n",
              "      <th>th</th>\n",
              "      <td>3</td>\n",
              "    </tr>\n",
              "    <tr>\n",
              "      <th>no</th>\n",
              "      <td>2</td>\n",
              "    </tr>\n",
              "    <tr>\n",
              "      <th>mn</th>\n",
              "      <td>2</td>\n",
              "    </tr>\n",
              "    <tr>\n",
              "      <th>da</th>\n",
              "      <td>2</td>\n",
              "    </tr>\n",
              "    <tr>\n",
              "      <th>ro</th>\n",
              "      <td>2</td>\n",
              "    </tr>\n",
              "    <tr>\n",
              "      <th>hr</th>\n",
              "      <td>2</td>\n",
              "    </tr>\n",
              "    <tr>\n",
              "      <th>sq</th>\n",
              "      <td>1</td>\n",
              "    </tr>\n",
              "    <tr>\n",
              "      <th>ka</th>\n",
              "      <td>1</td>\n",
              "    </tr>\n",
              "    <tr>\n",
              "      <th>he</th>\n",
              "      <td>1</td>\n",
              "    </tr>\n",
              "    <tr>\n",
              "      <th>rw</th>\n",
              "      <td>1</td>\n",
              "    </tr>\n",
              "    <tr>\n",
              "      <th>si</th>\n",
              "      <td>1</td>\n",
              "    </tr>\n",
              "    <tr>\n",
              "      <th>bn</th>\n",
              "      <td>1</td>\n",
              "    </tr>\n",
              "    <tr>\n",
              "      <th>jv</th>\n",
              "      <td>1</td>\n",
              "    </tr>\n",
              "    <tr>\n",
              "      <th>ru</th>\n",
              "      <td>1</td>\n",
              "    </tr>\n",
              "    <tr>\n",
              "      <th>mr</th>\n",
              "      <td>1</td>\n",
              "    </tr>\n",
              "    <tr>\n",
              "      <th>el</th>\n",
              "      <td>1</td>\n",
              "    </tr>\n",
              "    <tr>\n",
              "      <th>sw</th>\n",
              "      <td>1</td>\n",
              "    </tr>\n",
              "    <tr>\n",
              "      <th>sk</th>\n",
              "      <td>1</td>\n",
              "    </tr>\n",
              "    <tr>\n",
              "      <th>fa</th>\n",
              "      <td>1</td>\n",
              "    </tr>\n",
              "  </tbody>\n",
              "</table>\n",
              "</div><br><label><b>dtype:</b> int64</label>"
            ]
          },
          "metadata": {},
          "execution_count": 91
        }
      ]
    },
    {
      "cell_type": "code",
      "source": [
        "target_languages = ['en', 'es', 'ja', 'zh', 'ko']\n",
        "\n",
        "# Update the 'lang' column to group non-target languages under \"other\"\n",
        "filtered_df['lang'] = filtered_df['lang'].apply(lambda x: x if x in target_languages else 'other')\n"
      ],
      "metadata": {
        "id": "-IKAsjjytlZh"
      },
      "execution_count": null,
      "outputs": []
    },
    {
      "cell_type": "code",
      "source": [
        "filtered_df['lang'].value_counts()"
      ],
      "metadata": {
        "colab": {
          "base_uri": "https://localhost:8080/",
          "height": 304
        },
        "id": "6KIhiDfStnXB",
        "outputId": "ba5d037e-4f26-41d6-891b-f58d7ad5b624"
      },
      "execution_count": null,
      "outputs": [
        {
          "output_type": "execute_result",
          "data": {
            "text/plain": [
              "lang\n",
              "ja       9171\n",
              "en       7661\n",
              "es       5282\n",
              "other     757\n",
              "zh        353\n",
              "ko         20\n",
              "Name: count, dtype: int64"
            ],
            "text/html": [
              "<div>\n",
              "<style scoped>\n",
              "    .dataframe tbody tr th:only-of-type {\n",
              "        vertical-align: middle;\n",
              "    }\n",
              "\n",
              "    .dataframe tbody tr th {\n",
              "        vertical-align: top;\n",
              "    }\n",
              "\n",
              "    .dataframe thead th {\n",
              "        text-align: right;\n",
              "    }\n",
              "</style>\n",
              "<table border=\"1\" class=\"dataframe\">\n",
              "  <thead>\n",
              "    <tr style=\"text-align: right;\">\n",
              "      <th></th>\n",
              "      <th>count</th>\n",
              "    </tr>\n",
              "    <tr>\n",
              "      <th>lang</th>\n",
              "      <th></th>\n",
              "    </tr>\n",
              "  </thead>\n",
              "  <tbody>\n",
              "    <tr>\n",
              "      <th>ja</th>\n",
              "      <td>9171</td>\n",
              "    </tr>\n",
              "    <tr>\n",
              "      <th>en</th>\n",
              "      <td>7661</td>\n",
              "    </tr>\n",
              "    <tr>\n",
              "      <th>es</th>\n",
              "      <td>5282</td>\n",
              "    </tr>\n",
              "    <tr>\n",
              "      <th>other</th>\n",
              "      <td>757</td>\n",
              "    </tr>\n",
              "    <tr>\n",
              "      <th>zh</th>\n",
              "      <td>353</td>\n",
              "    </tr>\n",
              "    <tr>\n",
              "      <th>ko</th>\n",
              "      <td>20</td>\n",
              "    </tr>\n",
              "  </tbody>\n",
              "</table>\n",
              "</div><br><label><b>dtype:</b> int64</label>"
            ]
          },
          "metadata": {},
          "execution_count": 94
        }
      ]
    },
    {
      "cell_type": "code",
      "source": [
        "# Assuming 'filtered_df' is your DataFrame\n",
        "filtered_df['username'] = filtered_df['post_owner.name'] + ' ' + filtered_df['post_owner.username']\n"
      ],
      "metadata": {
        "id": "RZ4TfZ2220zQ"
      },
      "execution_count": null,
      "outputs": []
    },
    {
      "cell_type": "code",
      "source": [
        "filtered_df.to_csv('/content/drive/MyDrive/shohei-ig-cleaned.csv', index = False)\n"
      ],
      "metadata": {
        "id": "FwotmCQvuUx6"
      },
      "execution_count": null,
      "outputs": []
    },
    {
      "cell_type": "markdown",
      "source": [
        "start joining new data here"
      ],
      "metadata": {
        "id": "qnYXuR-JVpJo"
      }
    },
    {
      "cell_type": "code",
      "source": [
        "df1 = pd.read_csv('/content/drive/MyDrive/shohei-ig-cleaned.csv')\n"
      ],
      "metadata": {
        "id": "A7GBcW1rVrBI"
      },
      "execution_count": 24,
      "outputs": []
    },
    {
      "cell_type": "code",
      "source": [
        "# df_en = df1[df1['lang'] == 'en']\n",
        "# df_en.shape"
      ],
      "metadata": {
        "id": "GMSp_ZSeWxhI"
      },
      "execution_count": 25,
      "outputs": []
    },
    {
      "cell_type": "code",
      "source": [
        "dfuser1 = pd.read_csv('/content/drive/MyDrive/final_results_usernamept1.csv')\n",
        "dfuser2 = pd.read_csv('/content/drive/MyDrive/final_results_usernamept2.csv')\n",
        "dfuser3 = pd.read_csv('/content/drive/MyDrive/final_results_usernamept3.csv')"
      ],
      "metadata": {
        "id": "j8c_7SmSVvqh"
      },
      "execution_count": 20,
      "outputs": []
    },
    {
      "cell_type": "code",
      "source": [
        "dfuser1 = dfuser1.dropna(subset=['name_origin'])\n",
        "dfuser2 = dfuser2.dropna(subset=['name_origin'])\n",
        "dfuser3 = dfuser3.dropna(subset=['name_origin'])"
      ],
      "metadata": {
        "id": "C4RtD8DFV_4c"
      },
      "execution_count": 21,
      "outputs": []
    },
    {
      "cell_type": "code",
      "source": [
        "df_combined = pd.concat([dfuser1, dfuser2, dfuser3], ignore_index=True)\n",
        "df_combined.name_origin.value_counts()"
      ],
      "metadata": {
        "colab": {
          "base_uri": "https://localhost:8080/",
          "height": 335
        },
        "id": "FyB28L21WsXu",
        "outputId": "c71f0d89-59e1-47e3-9270-3bb1106c7861"
      },
      "execution_count": 22,
      "outputs": [
        {
          "output_type": "execute_result",
          "data": {
            "text/plain": [
              "name_origin\n",
              "5.0    5641\n",
              "2.0    1278\n",
              "4.0     407\n",
              "6.0     101\n",
              "3.0      53\n",
              "1.0      44\n",
              "0.0      40\n",
              "Name: count, dtype: int64"
            ],
            "text/html": [
              "<div>\n",
              "<style scoped>\n",
              "    .dataframe tbody tr th:only-of-type {\n",
              "        vertical-align: middle;\n",
              "    }\n",
              "\n",
              "    .dataframe tbody tr th {\n",
              "        vertical-align: top;\n",
              "    }\n",
              "\n",
              "    .dataframe thead th {\n",
              "        text-align: right;\n",
              "    }\n",
              "</style>\n",
              "<table border=\"1\" class=\"dataframe\">\n",
              "  <thead>\n",
              "    <tr style=\"text-align: right;\">\n",
              "      <th></th>\n",
              "      <th>count</th>\n",
              "    </tr>\n",
              "    <tr>\n",
              "      <th>name_origin</th>\n",
              "      <th></th>\n",
              "    </tr>\n",
              "  </thead>\n",
              "  <tbody>\n",
              "    <tr>\n",
              "      <th>5.0</th>\n",
              "      <td>5641</td>\n",
              "    </tr>\n",
              "    <tr>\n",
              "      <th>2.0</th>\n",
              "      <td>1278</td>\n",
              "    </tr>\n",
              "    <tr>\n",
              "      <th>4.0</th>\n",
              "      <td>407</td>\n",
              "    </tr>\n",
              "    <tr>\n",
              "      <th>6.0</th>\n",
              "      <td>101</td>\n",
              "    </tr>\n",
              "    <tr>\n",
              "      <th>3.0</th>\n",
              "      <td>53</td>\n",
              "    </tr>\n",
              "    <tr>\n",
              "      <th>1.0</th>\n",
              "      <td>44</td>\n",
              "    </tr>\n",
              "    <tr>\n",
              "      <th>0.0</th>\n",
              "      <td>40</td>\n",
              "    </tr>\n",
              "  </tbody>\n",
              "</table>\n",
              "</div><br><label><b>dtype:</b> int64</label>"
            ]
          },
          "metadata": {},
          "execution_count": 22
        }
      ]
    },
    {
      "cell_type": "code",
      "source": [
        "# Step 1: Join df_combined with df1 on 'id'\n",
        "df_final = pd.merge(df1, df_combined[['id', 'name_origin']], on='id', how='left')\n",
        "\n",
        "name_origin_dict = {\n",
        "    0: 'cham',  # Chinese-American\n",
        "    1: 'koram',  # Korean-American\n",
        "    2: 'jpam',  # Japanese-American\n",
        "    3: 'aam',   # Other Asian-American\n",
        "    4: 'hl'    # Hispanic/Latino-American\n",
        "}\n",
        "\n",
        "# Create binary columns based on the new dictionary\n",
        "for key, value in name_origin_dict.items():\n",
        "    df_final[f'is_{value}'] = (df_final['name_origin'] == key).astype(int)\n"
      ],
      "metadata": {
        "id": "Srp6lvP2YlJT"
      },
      "execution_count": 26,
      "outputs": []
    },
    {
      "cell_type": "code",
      "source": [
        "\n",
        "df_final[df_final['is_jpam']==1]['username'].value_counts()"
      ],
      "metadata": {
        "colab": {
          "base_uri": "https://localhost:8080/",
          "height": 490
        },
        "id": "wrelSDaiZNLR",
        "outputId": "7dcadf70-5973-463b-e7c7-fcd05bb94d15"
      },
      "execution_count": 32,
      "outputs": [
        {
          "output_type": "execute_result",
          "data": {
            "text/plain": [
              "username\n",
              "❤︎Sho0705Time❤︎ __sho0705time__            870\n",
              "Ohtani Central ohtani_central              159\n",
              "Fukki75🦄 shohei_unicorn                     21\n",
              "Sandra Rider icu_japan                      20\n",
              "Rob Fukuzaki abc7rob                        19\n",
              "                                          ... \n",
              "hiro o hirori030303                          1\n",
              "JOURNAL STANDARD MEN'S 表参道 jsomotesando      1\n",
              "Andrew アンドリュー aarxci                         1\n",
              "momo momounr                                 1\n",
              "⛩️BEST JUDO PAGE⛩️ best_judo_page            1\n",
              "Name: count, Length: 108, dtype: int64"
            ],
            "text/html": [
              "<div>\n",
              "<style scoped>\n",
              "    .dataframe tbody tr th:only-of-type {\n",
              "        vertical-align: middle;\n",
              "    }\n",
              "\n",
              "    .dataframe tbody tr th {\n",
              "        vertical-align: top;\n",
              "    }\n",
              "\n",
              "    .dataframe thead th {\n",
              "        text-align: right;\n",
              "    }\n",
              "</style>\n",
              "<table border=\"1\" class=\"dataframe\">\n",
              "  <thead>\n",
              "    <tr style=\"text-align: right;\">\n",
              "      <th></th>\n",
              "      <th>count</th>\n",
              "    </tr>\n",
              "    <tr>\n",
              "      <th>username</th>\n",
              "      <th></th>\n",
              "    </tr>\n",
              "  </thead>\n",
              "  <tbody>\n",
              "    <tr>\n",
              "      <th>❤︎Sho0705Time❤︎ __sho0705time__</th>\n",
              "      <td>870</td>\n",
              "    </tr>\n",
              "    <tr>\n",
              "      <th>Ohtani Central ohtani_central</th>\n",
              "      <td>159</td>\n",
              "    </tr>\n",
              "    <tr>\n",
              "      <th>Fukki75🦄 shohei_unicorn</th>\n",
              "      <td>21</td>\n",
              "    </tr>\n",
              "    <tr>\n",
              "      <th>Sandra Rider icu_japan</th>\n",
              "      <td>20</td>\n",
              "    </tr>\n",
              "    <tr>\n",
              "      <th>Rob Fukuzaki abc7rob</th>\n",
              "      <td>19</td>\n",
              "    </tr>\n",
              "    <tr>\n",
              "      <th>...</th>\n",
              "      <td>...</td>\n",
              "    </tr>\n",
              "    <tr>\n",
              "      <th>hiro o hirori030303</th>\n",
              "      <td>1</td>\n",
              "    </tr>\n",
              "    <tr>\n",
              "      <th>JOURNAL STANDARD MEN'S 表参道 jsomotesando</th>\n",
              "      <td>1</td>\n",
              "    </tr>\n",
              "    <tr>\n",
              "      <th>Andrew アンドリュー aarxci</th>\n",
              "      <td>1</td>\n",
              "    </tr>\n",
              "    <tr>\n",
              "      <th>momo momounr</th>\n",
              "      <td>1</td>\n",
              "    </tr>\n",
              "    <tr>\n",
              "      <th>⛩️BEST JUDO PAGE⛩️ best_judo_page</th>\n",
              "      <td>1</td>\n",
              "    </tr>\n",
              "  </tbody>\n",
              "</table>\n",
              "<p>108 rows × 1 columns</p>\n",
              "</div><br><label><b>dtype:</b> int64</label>"
            ]
          },
          "metadata": {},
          "execution_count": 32
        }
      ]
    },
    {
      "cell_type": "code",
      "source": [
        "ohtanifans = df_final[df_final['username'].str.contains('shohei|ohtani|sho', case=False, na=False)]"
      ],
      "metadata": {
        "id": "CKg4_u8VacJM"
      },
      "execution_count": 36,
      "outputs": []
    },
    {
      "cell_type": "code",
      "source": [
        "ohtanifans['name_origin'].value_counts()"
      ],
      "metadata": {
        "colab": {
          "base_uri": "https://localhost:8080/",
          "height": 304
        },
        "id": "qELsXf1obBu4",
        "outputId": "ef4204ef-ae7b-48ad-a055-57243eb5dfdc"
      },
      "execution_count": 39,
      "outputs": [
        {
          "output_type": "execute_result",
          "data": {
            "text/plain": [
              "name_origin\n",
              "5.0    1155\n",
              "2.0    1089\n",
              "3.0      35\n",
              "4.0      27\n",
              "6.0      25\n",
              "0.0       1\n",
              "Name: count, dtype: int64"
            ],
            "text/html": [
              "<div>\n",
              "<style scoped>\n",
              "    .dataframe tbody tr th:only-of-type {\n",
              "        vertical-align: middle;\n",
              "    }\n",
              "\n",
              "    .dataframe tbody tr th {\n",
              "        vertical-align: top;\n",
              "    }\n",
              "\n",
              "    .dataframe thead th {\n",
              "        text-align: right;\n",
              "    }\n",
              "</style>\n",
              "<table border=\"1\" class=\"dataframe\">\n",
              "  <thead>\n",
              "    <tr style=\"text-align: right;\">\n",
              "      <th></th>\n",
              "      <th>count</th>\n",
              "    </tr>\n",
              "    <tr>\n",
              "      <th>name_origin</th>\n",
              "      <th></th>\n",
              "    </tr>\n",
              "  </thead>\n",
              "  <tbody>\n",
              "    <tr>\n",
              "      <th>5.0</th>\n",
              "      <td>1155</td>\n",
              "    </tr>\n",
              "    <tr>\n",
              "      <th>2.0</th>\n",
              "      <td>1089</td>\n",
              "    </tr>\n",
              "    <tr>\n",
              "      <th>3.0</th>\n",
              "      <td>35</td>\n",
              "    </tr>\n",
              "    <tr>\n",
              "      <th>4.0</th>\n",
              "      <td>27</td>\n",
              "    </tr>\n",
              "    <tr>\n",
              "      <th>6.0</th>\n",
              "      <td>25</td>\n",
              "    </tr>\n",
              "    <tr>\n",
              "      <th>0.0</th>\n",
              "      <td>1</td>\n",
              "    </tr>\n",
              "  </tbody>\n",
              "</table>\n",
              "</div><br><label><b>dtype:</b> int64</label>"
            ]
          },
          "metadata": {},
          "execution_count": 39
        }
      ]
    },
    {
      "cell_type": "code",
      "source": [
        "dftext1 = pd.read_csv('/content/drive/MyDrive/all_text_results1.csv')\n",
        "dftext2 = pd.read_csv('/content/drive/MyDrive/all_text_results2.csv')\n"
      ],
      "metadata": {
        "id": "BbUk6tod2dPJ"
      },
      "execution_count": 14,
      "outputs": []
    },
    {
      "cell_type": "code",
      "source": [
        "dftext1 = dftext1.dropna(subset=['en_text'])\n",
        "dftext2 = dftext2.dropna(subset=['en_text'])\n"
      ],
      "metadata": {
        "id": "kfg6ebY92mWI"
      },
      "execution_count": 15,
      "outputs": []
    },
    {
      "cell_type": "code",
      "source": [
        "df_combined1 = pd.concat([dftext1, dftext2], ignore_index=True)"
      ],
      "metadata": {
        "id": "RFJ-NTuE3y-p"
      },
      "execution_count": 17,
      "outputs": []
    },
    {
      "cell_type": "code",
      "source": [
        "df_complete = pd.merge(df_final, df_combined1[['id', 'en_text']], on='id', how='left')\n"
      ],
      "metadata": {
        "id": "25QQFSkA4RiT"
      },
      "execution_count": 27,
      "outputs": []
    },
    {
      "cell_type": "code",
      "source": [
        "df_complete['en_text'] = df_complete['en_text'].fillna(df_complete['text'])\n"
      ],
      "metadata": {
        "id": "oyX87RWC4iGw"
      },
      "execution_count": 29,
      "outputs": []
    },
    {
      "cell_type": "code",
      "source": [
        "df_complete.to_csv('/content/drive/MyDrive/shohei-cleaned-gptig.csv', index = False)\n"
      ],
      "metadata": {
        "id": "_KDG6UL049dh"
      },
      "execution_count": 31,
      "outputs": []
    }
  ]
}