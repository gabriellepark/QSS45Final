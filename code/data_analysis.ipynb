{
  "nbformat": 4,
  "nbformat_minor": 0,
  "metadata": {
    "colab": {
      "provenance": [],
      "gpuType": "T4"
    },
    "kernelspec": {
      "name": "python3",
      "display_name": "Python 3"
    },
    "language_info": {
      "name": "python"
    },
    "accelerator": "GPU",
    "widgets": {
      "application/vnd.jupyter.widget-state+json": {
        "7c8de2ca8baf4446a729798f5c89cc49": {
          "model_module": "catboost-widget",
          "model_name": "CatboostWidgetModel",
          "model_module_version": "^1.0.0",
          "state": {
            "_dom_classes": [],
            "_model_module": "catboost-widget",
            "_model_module_version": "^1.0.0",
            "_model_name": "CatboostWidgetModel",
            "_view_count": null,
            "_view_module": "catboost-widget",
            "_view_module_version": "^1.0.0",
            "_view_name": "CatboostWidgetView",
            "data": {
              "catboost_info": {
                "path": "catboost_info",
                "name": "catboost_info",
                "content": {
                  "passed_iterations": 999,
                  "total_iterations": 1000,
                  "data": {
                    "iterations": [
                      {
                        "learn": [
                          0.8170096018
                        ],
                        "iteration": 0,
                        "passed_time": 0.07073143363,
                        "remaining_time": 70.66070219,
                        "test": [
                          0.8223127318
                        ]
                      },
                      {
                        "learn": [
                          0.8114968569
                        ],
                        "iteration": 1,
                        "passed_time": 0.125646571,
                        "remaining_time": 62.69763894,
                        "test": [
                          0.816909113
                        ]
                      },
                      {
                        "learn": [
                          0.8066841006
                        ],
                        "iteration": 2,
                        "passed_time": 0.1689869809,
                        "remaining_time": 56.16000666,
                        "test": [
                          0.8121639426
                        ]
                      },
                      {
                        "learn": [
                          0.8017372664
                        ],
                        "iteration": 3,
                        "passed_time": 0.2257701238,
                        "remaining_time": 56.21676082,
                        "test": [
                          0.8072224025
                        ]
                      },
                      {
                        "learn": [
                          0.7982254321
                        ],
                        "iteration": 4,
                        "passed_time": 0.2656532206,
                        "remaining_time": 52.8649909,
                        "test": [
                          0.8037385028
                        ]
                      },
                      {
                        "learn": [
                          0.7943035493
                        ],
                        "iteration": 5,
                        "passed_time": 0.3298300773,
                        "remaining_time": 54.64184947,
                        "test": [
                          0.7998747382
                        ]
                      },
                      {
                        "learn": [
                          0.79023094
                        ],
                        "iteration": 6,
                        "passed_time": 0.3968268862,
                        "remaining_time": 56.29272829,
                        "test": [
                          0.7957961922
                        ]
                      },
                      {
                        "learn": [
                          0.7872469778
                        ],
                        "iteration": 7,
                        "passed_time": 0.4532762992,
                        "remaining_time": 56.20626111,
                        "test": [
                          0.7927543867
                        ]
                      },
                      {
                        "learn": [
                          0.7840527766
                        ],
                        "iteration": 8,
                        "passed_time": 0.5205019854,
                        "remaining_time": 57.31305194,
                        "test": [
                          0.7895422139
                        ]
                      },
                      {
                        "learn": [
                          0.7824569565
                        ],
                        "iteration": 9,
                        "passed_time": 0.5523247951,
                        "remaining_time": 54.68015471,
                        "test": [
                          0.7878924446
                        ]
                      },
                      {
                        "learn": [
                          0.7792942599
                        ],
                        "iteration": 10,
                        "passed_time": 0.6023968432,
                        "remaining_time": 54.16095254,
                        "test": [
                          0.7848848985
                        ]
                      },
                      {
                        "learn": [
                          0.7760795313
                        ],
                        "iteration": 11,
                        "passed_time": 0.6617912065,
                        "remaining_time": 54.48747601,
                        "test": [
                          0.7817237665
                        ]
                      },
                      {
                        "learn": [
                          0.7734857453
                        ],
                        "iteration": 12,
                        "passed_time": 0.7100876185,
                        "remaining_time": 53.91203689,
                        "test": [
                          0.7790951913
                        ]
                      },
                      {
                        "learn": [
                          0.7714894148
                        ],
                        "iteration": 13,
                        "passed_time": 0.8081021808,
                        "remaining_time": 56.91348216,
                        "test": [
                          0.7772326496
                        ]
                      },
                      {
                        "learn": [
                          0.7694984863
                        ],
                        "iteration": 14,
                        "passed_time": 0.8835623156,
                        "remaining_time": 58.02059205,
                        "test": [
                          0.7752559346
                        ]
                      },
                      {
                        "learn": [
                          0.767608403
                        ],
                        "iteration": 15,
                        "passed_time": 0.9394214233,
                        "remaining_time": 57.77441754,
                        "test": [
                          0.7734130497
                        ]
                      },
                      {
                        "learn": [
                          0.765236827
                        ],
                        "iteration": 16,
                        "passed_time": 1.03844034,
                        "remaining_time": 60.04628555,
                        "test": [
                          0.7710663072
                        ]
                      },
                      {
                        "learn": [
                          0.7631793553
                        ],
                        "iteration": 17,
                        "passed_time": 1.119180376,
                        "remaining_time": 61.05750718,
                        "test": [
                          0.7691354291
                        ]
                      },
                      {
                        "learn": [
                          0.7609731554
                        ],
                        "iteration": 18,
                        "passed_time": 1.188930057,
                        "remaining_time": 61.38633612,
                        "test": [
                          0.7670465701
                        ]
                      },
                      {
                        "learn": [
                          0.7592850636
                        ],
                        "iteration": 19,
                        "passed_time": 1.248988661,
                        "remaining_time": 61.20044437,
                        "test": [
                          0.7654666649
                        ]
                      },
                      {
                        "learn": [
                          0.7571683821
                        ],
                        "iteration": 20,
                        "passed_time": 1.29805802,
                        "remaining_time": 60.51422867,
                        "test": [
                          0.7633959661
                        ]
                      },
                      {
                        "learn": [
                          0.755024201
                        ],
                        "iteration": 21,
                        "passed_time": 1.365666634,
                        "remaining_time": 60.71008947,
                        "test": [
                          0.7612096608
                        ]
                      },
                      {
                        "learn": [
                          0.7532252048
                        ],
                        "iteration": 22,
                        "passed_time": 1.431166246,
                        "remaining_time": 60.79345314,
                        "test": [
                          0.7594575434
                        ]
                      },
                      {
                        "learn": [
                          0.7518055823
                        ],
                        "iteration": 23,
                        "passed_time": 1.503537831,
                        "remaining_time": 61.14387181,
                        "test": [
                          0.7581195549
                        ]
                      },
                      {
                        "learn": [
                          0.7503641621
                        ],
                        "iteration": 24,
                        "passed_time": 1.606997205,
                        "remaining_time": 62.67289101,
                        "test": [
                          0.7567686146
                        ]
                      },
                      {
                        "learn": [
                          0.7488028643
                        ],
                        "iteration": 25,
                        "passed_time": 1.652723791,
                        "remaining_time": 61.91357586,
                        "test": [
                          0.7551396758
                        ]
                      },
                      {
                        "learn": [
                          0.7474649262
                        ],
                        "iteration": 26,
                        "passed_time": 1.700003344,
                        "remaining_time": 61.26308347,
                        "test": [
                          0.753968398
                        ]
                      },
                      {
                        "learn": [
                          0.7463463456
                        ],
                        "iteration": 27,
                        "passed_time": 1.746507743,
                        "remaining_time": 60.6287688,
                        "test": [
                          0.7530090559
                        ]
                      },
                      {
                        "learn": [
                          0.7454838793
                        ],
                        "iteration": 28,
                        "passed_time": 1.784520375,
                        "remaining_time": 59.75066497,
                        "test": [
                          0.7522219258
                        ]
                      },
                      {
                        "learn": [
                          0.7445270961
                        ],
                        "iteration": 29,
                        "passed_time": 1.823497576,
                        "remaining_time": 58.95975496,
                        "test": [
                          0.7514140971
                        ]
                      },
                      {
                        "learn": [
                          0.7432096374
                        ],
                        "iteration": 30,
                        "passed_time": 1.879387406,
                        "remaining_time": 58.7460128,
                        "test": [
                          0.7501380399
                        ]
                      },
                      {
                        "learn": [
                          0.741965677
                        ],
                        "iteration": 31,
                        "passed_time": 1.910931309,
                        "remaining_time": 57.8056721,
                        "test": [
                          0.7488468084
                        ]
                      },
                      {
                        "learn": [
                          0.740860437
                        ],
                        "iteration": 32,
                        "passed_time": 1.979035363,
                        "remaining_time": 57.99173321,
                        "test": [
                          0.74774139
                        ]
                      },
                      {
                        "learn": [
                          0.7404829741
                        ],
                        "iteration": 33,
                        "passed_time": 2.012908534,
                        "remaining_time": 57.19028365,
                        "test": [
                          0.7473820687
                        ]
                      },
                      {
                        "learn": [
                          0.7397744766
                        ],
                        "iteration": 34,
                        "passed_time": 2.054555186,
                        "remaining_time": 56.64702154,
                        "test": [
                          0.7467749298
                        ]
                      },
                      {
                        "learn": [
                          0.73921508
                        ],
                        "iteration": 35,
                        "passed_time": 2.088478994,
                        "remaining_time": 55.92482639,
                        "test": [
                          0.7462946936
                        ]
                      },
                      {
                        "learn": [
                          0.7384060764
                        ],
                        "iteration": 36,
                        "passed_time": 2.132632287,
                        "remaining_time": 55.50607816,
                        "test": [
                          0.7455561289
                        ]
                      },
                      {
                        "learn": [
                          0.7378650637
                        ],
                        "iteration": 37,
                        "passed_time": 2.192181614,
                        "remaining_time": 55.49680823,
                        "test": [
                          0.7450272707
                        ]
                      },
                      {
                        "learn": [
                          0.7371180925
                        ],
                        "iteration": 38,
                        "passed_time": 2.223335204,
                        "remaining_time": 54.78525976,
                        "test": [
                          0.7443994834
                        ]
                      },
                      {
                        "learn": [
                          0.736189937
                        ],
                        "iteration": 39,
                        "passed_time": 2.260234649,
                        "remaining_time": 54.24563158,
                        "test": [
                          0.7435945364
                        ]
                      },
                      {
                        "learn": [
                          0.7355844401
                        ],
                        "iteration": 40,
                        "passed_time": 2.301749715,
                        "remaining_time": 53.83848724,
                        "test": [
                          0.7431475953
                        ]
                      },
                      {
                        "learn": [
                          0.7347295015
                        ],
                        "iteration": 41,
                        "passed_time": 2.339958021,
                        "remaining_time": 53.37332819,
                        "test": [
                          0.7422348931
                        ]
                      },
                      {
                        "learn": [
                          0.734177493
                        ],
                        "iteration": 42,
                        "passed_time": 2.373016201,
                        "remaining_time": 52.81340708,
                        "test": [
                          0.7418715568
                        ]
                      },
                      {
                        "learn": [
                          0.7336385325
                        ],
                        "iteration": 43,
                        "passed_time": 2.401908712,
                        "remaining_time": 52.18692564,
                        "test": [
                          0.7414090796
                        ]
                      },
                      {
                        "learn": [
                          0.7335081368
                        ],
                        "iteration": 44,
                        "passed_time": 2.419312843,
                        "remaining_time": 51.34319478,
                        "test": [
                          0.7413315034
                        ]
                      },
                      {
                        "learn": [
                          0.7330394926
                        ],
                        "iteration": 45,
                        "passed_time": 2.440756888,
                        "remaining_time": 50.61917546,
                        "test": [
                          0.7409922117
                        ]
                      },
                      {
                        "learn": [
                          0.7327544264
                        ],
                        "iteration": 46,
                        "passed_time": 2.480558525,
                        "remaining_time": 50.29728244,
                        "test": [
                          0.7407110333
                        ]
                      },
                      {
                        "learn": [
                          0.7322076175
                        ],
                        "iteration": 47,
                        "passed_time": 2.52072336,
                        "remaining_time": 49.99434663,
                        "test": [
                          0.7401863146
                        ]
                      },
                      {
                        "learn": [
                          0.7314629207
                        ],
                        "iteration": 48,
                        "passed_time": 2.561266168,
                        "remaining_time": 49.70947195,
                        "test": [
                          0.739497962
                        ]
                      },
                      {
                        "learn": [
                          0.7310907694
                        ],
                        "iteration": 49,
                        "passed_time": 2.585804556,
                        "remaining_time": 49.13028656,
                        "test": [
                          0.739183836
                        ]
                      },
                      {
                        "learn": [
                          0.7307211816
                        ],
                        "iteration": 50,
                        "passed_time": 2.604475333,
                        "remaining_time": 48.46366845,
                        "test": [
                          0.7388463044
                        ]
                      },
                      {
                        "learn": [
                          0.7304338853
                        ],
                        "iteration": 51,
                        "passed_time": 2.675570389,
                        "remaining_time": 48.77770632,
                        "test": [
                          0.7386103805
                        ]
                      },
                      {
                        "learn": [
                          0.7296209445
                        ],
                        "iteration": 52,
                        "passed_time": 2.699708264,
                        "remaining_time": 48.2381835,
                        "test": [
                          0.7378761161
                        ]
                      },
                      {
                        "learn": [
                          0.7290099481
                        ],
                        "iteration": 53,
                        "passed_time": 2.714470785,
                        "remaining_time": 47.55350671,
                        "test": [
                          0.7373160987
                        ]
                      },
                      {
                        "learn": [
                          0.7285048572
                        ],
                        "iteration": 54,
                        "passed_time": 2.72511136,
                        "remaining_time": 46.82236791,
                        "test": [
                          0.7368235704
                        ]
                      },
                      {
                        "learn": [
                          0.728137291
                        ],
                        "iteration": 55,
                        "passed_time": 2.738410501,
                        "remaining_time": 46.16177702,
                        "test": [
                          0.7364430779
                        ]
                      },
                      {
                        "learn": [
                          0.7278139136
                        ],
                        "iteration": 56,
                        "passed_time": 2.753962115,
                        "remaining_time": 45.56116272,
                        "test": [
                          0.7361963791
                        ]
                      },
                      {
                        "learn": [
                          0.7276192097
                        ],
                        "iteration": 57,
                        "passed_time": 2.775584759,
                        "remaining_time": 45.07932487,
                        "test": [
                          0.7360827684
                        ]
                      },
                      {
                        "learn": [
                          0.7270488731
                        ],
                        "iteration": 58,
                        "passed_time": 2.798563761,
                        "remaining_time": 44.63472032,
                        "test": [
                          0.7356198467
                        ]
                      },
                      {
                        "learn": [
                          0.726655576
                        ],
                        "iteration": 59,
                        "passed_time": 2.819074333,
                        "remaining_time": 44.16549789,
                        "test": [
                          0.7352610804
                        ]
                      },
                      {
                        "learn": [
                          0.7261157317
                        ],
                        "iteration": 60,
                        "passed_time": 2.849580158,
                        "remaining_time": 43.86484867,
                        "test": [
                          0.7347668947
                        ]
                      },
                      {
                        "learn": [
                          0.7259329017
                        ],
                        "iteration": 61,
                        "passed_time": 2.868322834,
                        "remaining_time": 43.39494868,
                        "test": [
                          0.7346787309
                        ]
                      },
                      {
                        "learn": [
                          0.7256762798
                        ],
                        "iteration": 62,
                        "passed_time": 2.885702359,
                        "remaining_time": 42.91909698,
                        "test": [
                          0.7344856466
                        ]
                      },
                      {
                        "learn": [
                          0.7253360885
                        ],
                        "iteration": 63,
                        "passed_time": 2.916095689,
                        "remaining_time": 42.64789945,
                        "test": [
                          0.7341434476
                        ]
                      },
                      {
                        "learn": [
                          0.7248406249
                        ],
                        "iteration": 64,
                        "passed_time": 2.936436021,
                        "remaining_time": 42.23950277,
                        "test": [
                          0.7337862911
                        ]
                      },
                      {
                        "learn": [
                          0.7247070939
                        ],
                        "iteration": 65,
                        "passed_time": 2.977306294,
                        "remaining_time": 42.13339512,
                        "test": [
                          0.7336868304
                        ]
                      },
                      {
                        "learn": [
                          0.7244089769
                        ],
                        "iteration": 66,
                        "passed_time": 3.005870532,
                        "remaining_time": 41.85786875,
                        "test": [
                          0.7334653668
                        ]
                      },
                      {
                        "learn": [
                          0.7241298264
                        ],
                        "iteration": 67,
                        "passed_time": 3.021292579,
                        "remaining_time": 41.40948064,
                        "test": [
                          0.7332826504
                        ]
                      },
                      {
                        "learn": [
                          0.7240449908
                        ],
                        "iteration": 68,
                        "passed_time": 3.056992363,
                        "remaining_time": 41.24724478,
                        "test": [
                          0.7332234666
                        ]
                      },
                      {
                        "learn": [
                          0.723797725
                        ],
                        "iteration": 69,
                        "passed_time": 3.087238124,
                        "remaining_time": 41.01616365,
                        "test": [
                          0.7329918286
                        ]
                      },
                      {
                        "learn": [
                          0.7236878726
                        ],
                        "iteration": 70,
                        "passed_time": 3.110085679,
                        "remaining_time": 40.69393797,
                        "test": [
                          0.7329608809
                        ]
                      },
                      {
                        "learn": [
                          0.7236775393
                        ],
                        "iteration": 71,
                        "passed_time": 3.137570995,
                        "remaining_time": 40.43980394,
                        "test": [
                          0.7329586302
                        ]
                      },
                      {
                        "learn": [
                          0.7233837646
                        ],
                        "iteration": 72,
                        "passed_time": 3.170242132,
                        "remaining_time": 40.25773228,
                        "test": [
                          0.7326716221
                        ]
                      },
                      {
                        "learn": [
                          0.7232026456
                        ],
                        "iteration": 73,
                        "passed_time": 3.195716471,
                        "remaining_time": 39.98964125,
                        "test": [
                          0.7325342284
                        ]
                      },
                      {
                        "learn": [
                          0.7231609402
                        ],
                        "iteration": 74,
                        "passed_time": 3.217586817,
                        "remaining_time": 39.68357074,
                        "test": [
                          0.7325438878
                        ]
                      },
                      {
                        "learn": [
                          0.7226620689
                        ],
                        "iteration": 75,
                        "passed_time": 3.266934138,
                        "remaining_time": 39.71904136,
                        "test": [
                          0.7321294334
                        ]
                      },
                      {
                        "learn": [
                          0.72240026
                        ],
                        "iteration": 76,
                        "passed_time": 3.279106041,
                        "remaining_time": 39.3066867,
                        "test": [
                          0.7318568903
                        ]
                      },
                      {
                        "learn": [
                          0.7220886323
                        ],
                        "iteration": 77,
                        "passed_time": 3.318022286,
                        "remaining_time": 39.22072497,
                        "test": [
                          0.7315893362
                        ]
                      },
                      {
                        "learn": [
                          0.7216382139
                        ],
                        "iteration": 78,
                        "passed_time": 3.370848537,
                        "remaining_time": 39.29812029,
                        "test": [
                          0.7312477866
                        ]
                      },
                      {
                        "learn": [
                          0.7213063887
                        ],
                        "iteration": 79,
                        "passed_time": 3.400528062,
                        "remaining_time": 39.10607271,
                        "test": [
                          0.7308770582
                        ]
                      },
                      {
                        "learn": [
                          0.7211542336
                        ],
                        "iteration": 80,
                        "passed_time": 3.423424497,
                        "remaining_time": 38.84107547,
                        "test": [
                          0.7307679265
                        ]
                      },
                      {
                        "learn": [
                          0.7209819849
                        ],
                        "iteration": 81,
                        "passed_time": 3.448357959,
                        "remaining_time": 38.60478788,
                        "test": [
                          0.7306434191
                        ]
                      },
                      {
                        "learn": [
                          0.7207183715
                        ],
                        "iteration": 82,
                        "passed_time": 3.471899576,
                        "remaining_time": 38.3582158,
                        "test": [
                          0.7304769626
                        ]
                      },
                      {
                        "learn": [
                          0.720514424
                        ],
                        "iteration": 83,
                        "passed_time": 3.493051934,
                        "remaining_time": 38.09089966,
                        "test": [
                          0.7303464725
                        ]
                      },
                      {
                        "learn": [
                          0.72022372
                        ],
                        "iteration": 84,
                        "passed_time": 3.513450042,
                        "remaining_time": 37.82125633,
                        "test": [
                          0.7301773647
                        ]
                      },
                      {
                        "learn": [
                          0.7201763122
                        ],
                        "iteration": 85,
                        "passed_time": 3.534879895,
                        "remaining_time": 37.5683747,
                        "test": [
                          0.7301466409
                        ]
                      },
                      {
                        "learn": [
                          0.7200723818
                        ],
                        "iteration": 86,
                        "passed_time": 3.569303476,
                        "remaining_time": 37.45717326,
                        "test": [
                          0.730073256
                        ]
                      },
                      {
                        "learn": [
                          0.7199392164
                        ],
                        "iteration": 87,
                        "passed_time": 3.603352279,
                        "remaining_time": 37.34383271,
                        "test": [
                          0.7299879771
                        ]
                      },
                      {
                        "learn": [
                          0.7197600842
                        ],
                        "iteration": 88,
                        "passed_time": 3.627465868,
                        "remaining_time": 37.13057759,
                        "test": [
                          0.7298883764
                        ]
                      },
                      {
                        "learn": [
                          0.7195599297
                        ],
                        "iteration": 89,
                        "passed_time": 3.665984696,
                        "remaining_time": 37.06717859,
                        "test": [
                          0.7296960009
                        ]
                      },
                      {
                        "learn": [
                          0.7193757149
                        ],
                        "iteration": 90,
                        "passed_time": 3.716632818,
                        "remaining_time": 37.12548606,
                        "test": [
                          0.7295495016
                        ]
                      },
                      {
                        "learn": [
                          0.7189967009
                        ],
                        "iteration": 91,
                        "passed_time": 3.784020904,
                        "remaining_time": 37.34664109,
                        "test": [
                          0.7293087061
                        ]
                      },
                      {
                        "learn": [
                          0.7187139338
                        ],
                        "iteration": 92,
                        "passed_time": 3.81959146,
                        "remaining_time": 37.25128445,
                        "test": [
                          0.7291357816
                        ]
                      },
                      {
                        "learn": [
                          0.7185591596
                        ],
                        "iteration": 93,
                        "passed_time": 3.863471529,
                        "remaining_time": 37.23728941,
                        "test": [
                          0.7290735036
                        ]
                      },
                      {
                        "learn": [
                          0.718208716
                        ],
                        "iteration": 94,
                        "passed_time": 3.914368733,
                        "remaining_time": 37.28951267,
                        "test": [
                          0.7286971418
                        ]
                      },
                      {
                        "learn": [
                          0.7182085962
                        ],
                        "iteration": 95,
                        "passed_time": 3.923877472,
                        "remaining_time": 36.9498462,
                        "test": [
                          0.7286973718
                        ]
                      },
                      {
                        "learn": [
                          0.7181835217
                        ],
                        "iteration": 96,
                        "passed_time": 3.940278547,
                        "remaining_time": 36.68114977,
                        "test": [
                          0.7286948386
                        ]
                      },
                      {
                        "learn": [
                          0.7180622648
                        ],
                        "iteration": 97,
                        "passed_time": 3.990154947,
                        "remaining_time": 36.72571186,
                        "test": [
                          0.7285950284
                        ]
                      },
                      {
                        "learn": [
                          0.718044417
                        ],
                        "iteration": 98,
                        "passed_time": 4.014012682,
                        "remaining_time": 36.53156996,
                        "test": [
                          0.7285953442
                        ]
                      },
                      {
                        "learn": [
                          0.7180234471
                        ],
                        "iteration": 99,
                        "passed_time": 4.033209029,
                        "remaining_time": 36.29888126,
                        "test": [
                          0.7285936038
                        ]
                      },
                      {
                        "learn": [
                          0.7180022595
                        ],
                        "iteration": 100,
                        "passed_time": 4.054757099,
                        "remaining_time": 36.09135279,
                        "test": [
                          0.7285804956
                        ]
                      },
                      {
                        "learn": [
                          0.7179620059
                        ],
                        "iteration": 101,
                        "passed_time": 4.086503434,
                        "remaining_time": 35.97725572,
                        "test": [
                          0.728549689
                        ]
                      },
                      {
                        "learn": [
                          0.717857776
                        ],
                        "iteration": 102,
                        "passed_time": 4.109702023,
                        "remaining_time": 35.79031762,
                        "test": [
                          0.7284920876
                        ]
                      },
                      {
                        "learn": [
                          0.7176449499
                        ],
                        "iteration": 103,
                        "passed_time": 4.148127824,
                        "remaining_time": 35.73771663,
                        "test": [
                          0.7283369956
                        ]
                      },
                      {
                        "learn": [
                          0.7175232262
                        ],
                        "iteration": 104,
                        "passed_time": 4.17173748,
                        "remaining_time": 35.55909566,
                        "test": [
                          0.7282486905
                        ]
                      },
                      {
                        "learn": [
                          0.7174312609
                        ],
                        "iteration": 105,
                        "passed_time": 4.207190877,
                        "remaining_time": 35.48328909,
                        "test": [
                          0.7281715623
                        ]
                      },
                      {
                        "learn": [
                          0.7174166921
                        ],
                        "iteration": 106,
                        "passed_time": 4.225541774,
                        "remaining_time": 35.26550284,
                        "test": [
                          0.728160612
                        ]
                      },
                      {
                        "learn": [
                          0.7174166911
                        ],
                        "iteration": 107,
                        "passed_time": 4.228618144,
                        "remaining_time": 34.92525356,
                        "test": [
                          0.728160777
                        ]
                      },
                      {
                        "learn": [
                          0.7173438212
                        ],
                        "iteration": 108,
                        "passed_time": 4.259161576,
                        "remaining_time": 34.81571527,
                        "test": [
                          0.7281398482
                        ]
                      },
                      {
                        "learn": [
                          0.7171952612
                        ],
                        "iteration": 109,
                        "passed_time": 4.285891247,
                        "remaining_time": 34.67675646,
                        "test": [
                          0.7280212319
                        ]
                      },
                      {
                        "learn": [
                          0.7171026271
                        ],
                        "iteration": 110,
                        "passed_time": 4.304430513,
                        "remaining_time": 34.47422275,
                        "test": [
                          0.7279690453
                        ]
                      },
                      {
                        "learn": [
                          0.7169105111
                        ],
                        "iteration": 111,
                        "passed_time": 4.324183211,
                        "remaining_time": 34.28459546,
                        "test": [
                          0.7278450635
                        ]
                      },
                      {
                        "learn": [
                          0.7168499484
                        ],
                        "iteration": 112,
                        "passed_time": 4.335687152,
                        "remaining_time": 34.0332257,
                        "test": [
                          0.7278192594
                        ]
                      },
                      {
                        "learn": [
                          0.7167083742
                        ],
                        "iteration": 113,
                        "passed_time": 4.354144462,
                        "remaining_time": 33.84010521,
                        "test": [
                          0.7277263298
                        ]
                      },
                      {
                        "learn": [
                          0.7165403146
                        ],
                        "iteration": 114,
                        "passed_time": 4.3748107,
                        "remaining_time": 33.66702147,
                        "test": [
                          0.7276192787
                        ]
                      },
                      {
                        "learn": [
                          0.7164071717
                        ],
                        "iteration": 115,
                        "passed_time": 4.394591878,
                        "remaining_time": 33.48982086,
                        "test": [
                          0.7275975618
                        ]
                      },
                      {
                        "learn": [
                          0.7163583938
                        ],
                        "iteration": 116,
                        "passed_time": 4.410146765,
                        "remaining_time": 33.28341533,
                        "test": [
                          0.7275387617
                        ]
                      },
                      {
                        "learn": [
                          0.7162063957
                        ],
                        "iteration": 117,
                        "passed_time": 4.428974713,
                        "remaining_time": 33.10470929,
                        "test": [
                          0.7274668831
                        ]
                      },
                      {
                        "learn": [
                          0.7161420718
                        ],
                        "iteration": 118,
                        "passed_time": 4.466716276,
                        "remaining_time": 33.06871461,
                        "test": [
                          0.7274511214
                        ]
                      },
                      {
                        "learn": [
                          0.7160786254
                        ],
                        "iteration": 119,
                        "passed_time": 4.501347054,
                        "remaining_time": 33.00987839,
                        "test": [
                          0.7274581515
                        ]
                      },
                      {
                        "learn": [
                          0.715796057
                        ],
                        "iteration": 120,
                        "passed_time": 4.531493111,
                        "remaining_time": 32.91886318,
                        "test": [
                          0.7271693337
                        ]
                      },
                      {
                        "learn": [
                          0.7156091434
                        ],
                        "iteration": 121,
                        "passed_time": 4.547980765,
                        "remaining_time": 32.7305501,
                        "test": [
                          0.7269716664
                        ]
                      },
                      {
                        "learn": [
                          0.7155957224
                        ],
                        "iteration": 122,
                        "passed_time": 4.560540535,
                        "remaining_time": 32.51702479,
                        "test": [
                          0.7269686688
                        ]
                      },
                      {
                        "learn": [
                          0.7153763579
                        ],
                        "iteration": 123,
                        "passed_time": 4.586618136,
                        "remaining_time": 32.4022378,
                        "test": [
                          0.7267310008
                        ]
                      },
                      {
                        "learn": [
                          0.7152333439
                        ],
                        "iteration": 124,
                        "passed_time": 4.606277349,
                        "remaining_time": 32.24394144,
                        "test": [
                          0.7266278907
                        ]
                      },
                      {
                        "learn": [
                          0.7152332768
                        ],
                        "iteration": 125,
                        "passed_time": 4.628290919,
                        "remaining_time": 32.1041767,
                        "test": [
                          0.7266279805
                        ]
                      },
                      {
                        "learn": [
                          0.7151825742
                        ],
                        "iteration": 126,
                        "passed_time": 4.675695841,
                        "remaining_time": 32.14080685,
                        "test": [
                          0.7266238861
                        ]
                      },
                      {
                        "learn": [
                          0.7149999345
                        ],
                        "iteration": 127,
                        "passed_time": 4.708847905,
                        "remaining_time": 32.07902635,
                        "test": [
                          0.7265282818
                        ]
                      },
                      {
                        "learn": [
                          0.7149635045
                        ],
                        "iteration": 128,
                        "passed_time": 4.74824994,
                        "remaining_time": 32.05988913,
                        "test": [
                          0.7265122695
                        ]
                      },
                      {
                        "learn": [
                          0.7148501698
                        ],
                        "iteration": 129,
                        "passed_time": 4.770928002,
                        "remaining_time": 31.92851817,
                        "test": [
                          0.7264364852
                        ]
                      },
                      {
                        "learn": [
                          0.7148469231
                        ],
                        "iteration": 130,
                        "passed_time": 4.779536082,
                        "remaining_time": 31.70547218,
                        "test": [
                          0.7264346976
                        ]
                      },
                      {
                        "learn": [
                          0.7147699222
                        ],
                        "iteration": 131,
                        "passed_time": 4.79301879,
                        "remaining_time": 31.51772962,
                        "test": [
                          0.7264065822
                        ]
                      },
                      {
                        "learn": [
                          0.7146130125
                        ],
                        "iteration": 132,
                        "passed_time": 4.801607063,
                        "remaining_time": 31.30070168,
                        "test": [
                          0.7263445442
                        ]
                      },
                      {
                        "learn": [
                          0.7145736257
                        ],
                        "iteration": 133,
                        "passed_time": 4.809681038,
                        "remaining_time": 31.08346103,
                        "test": [
                          0.7263351336
                        ]
                      },
                      {
                        "learn": [
                          0.7143074117
                        ],
                        "iteration": 134,
                        "passed_time": 4.824486015,
                        "remaining_time": 30.91244743,
                        "test": [
                          0.7261524975
                        ]
                      },
                      {
                        "learn": [
                          0.7141934837
                        ],
                        "iteration": 135,
                        "passed_time": 4.838244955,
                        "remaining_time": 30.7370856,
                        "test": [
                          0.7261193586
                        ]
                      },
                      {
                        "learn": [
                          0.7140299242
                        ],
                        "iteration": 136,
                        "passed_time": 4.856351614,
                        "remaining_time": 30.59147039,
                        "test": [
                          0.7260386391
                        ]
                      },
                      {
                        "learn": [
                          0.7139722491
                        ],
                        "iteration": 137,
                        "passed_time": 4.86944079,
                        "remaining_time": 30.41636204,
                        "test": [
                          0.7260162059
                        ]
                      },
                      {
                        "learn": [
                          0.7135163761
                        ],
                        "iteration": 138,
                        "passed_time": 4.88679134,
                        "remaining_time": 30.26998089,
                        "test": [
                          0.7256006277
                        ]
                      },
                      {
                        "learn": [
                          0.7134485986
                        ],
                        "iteration": 139,
                        "passed_time": 4.895814773,
                        "remaining_time": 30.07429075,
                        "test": [
                          0.7256153841
                        ]
                      },
                      {
                        "learn": [
                          0.7134035007
                        ],
                        "iteration": 140,
                        "passed_time": 4.906299625,
                        "remaining_time": 29.89015162,
                        "test": [
                          0.7256058443
                        ]
                      },
                      {
                        "learn": [
                          0.7133877659
                        ],
                        "iteration": 141,
                        "passed_time": 4.920884811,
                        "remaining_time": 29.73323357,
                        "test": [
                          0.7256108182
                        ]
                      },
                      {
                        "learn": [
                          0.713292017
                        ],
                        "iteration": 142,
                        "passed_time": 4.948385143,
                        "remaining_time": 29.65570677,
                        "test": [
                          0.7256341711
                        ]
                      },
                      {
                        "learn": [
                          0.713090371
                        ],
                        "iteration": 143,
                        "passed_time": 4.981958502,
                        "remaining_time": 29.61497554,
                        "test": [
                          0.7254790009
                        ]
                      },
                      {
                        "learn": [
                          0.7128173059
                        ],
                        "iteration": 144,
                        "passed_time": 4.996418035,
                        "remaining_time": 29.46163738,
                        "test": [
                          0.7252972578
                        ]
                      },
                      {
                        "learn": [
                          0.7128173055
                        ],
                        "iteration": 145,
                        "passed_time": 4.999600951,
                        "remaining_time": 29.24424118,
                        "test": [
                          0.7252973628
                        ]
                      },
                      {
                        "learn": [
                          0.7127528993
                        ],
                        "iteration": 146,
                        "passed_time": 5.019498592,
                        "remaining_time": 29.12675033,
                        "test": [
                          0.7252745558
                        ]
                      },
                      {
                        "learn": [
                          0.7126524387
                        ],
                        "iteration": 147,
                        "passed_time": 5.030243904,
                        "remaining_time": 28.95789058,
                        "test": [
                          0.7252307964
                        ]
                      },
                      {
                        "learn": [
                          0.7126130992
                        ],
                        "iteration": 148,
                        "passed_time": 5.03787665,
                        "remaining_time": 28.77337603,
                        "test": [
                          0.7252244863
                        ]
                      },
                      {
                        "learn": [
                          0.7123757977
                        ],
                        "iteration": 149,
                        "passed_time": 5.050888527,
                        "remaining_time": 28.62170166,
                        "test": [
                          0.7250128318
                        ]
                      },
                      {
                        "learn": [
                          0.7123730775
                        ],
                        "iteration": 150,
                        "passed_time": 5.057594405,
                        "remaining_time": 28.43640828,
                        "test": [
                          0.7250132354
                        ]
                      },
                      {
                        "learn": [
                          0.7123697992
                        ],
                        "iteration": 151,
                        "passed_time": 5.0617214,
                        "remaining_time": 28.23907728,
                        "test": [
                          0.7250248506
                        ]
                      },
                      {
                        "learn": [
                          0.7122962509
                        ],
                        "iteration": 152,
                        "passed_time": 5.074318553,
                        "remaining_time": 28.09116218,
                        "test": [
                          0.7250089409
                        ]
                      },
                      {
                        "learn": [
                          0.7122503653
                        ],
                        "iteration": 153,
                        "passed_time": 5.087459561,
                        "remaining_time": 27.94799213,
                        "test": [
                          0.7249855247
                        ]
                      },
                      {
                        "learn": [
                          0.712151398
                        ],
                        "iteration": 154,
                        "passed_time": 5.102988562,
                        "remaining_time": 27.81951829,
                        "test": [
                          0.7248959313
                        ]
                      },
                      {
                        "learn": [
                          0.712147942
                        ],
                        "iteration": 155,
                        "passed_time": 5.110192741,
                        "remaining_time": 27.64745304,
                        "test": [
                          0.7248964657
                        ]
                      },
                      {
                        "learn": [
                          0.7119862676
                        ],
                        "iteration": 156,
                        "passed_time": 5.119654144,
                        "remaining_time": 27.48960792,
                        "test": [
                          0.7248158589
                        ]
                      },
                      {
                        "learn": [
                          0.7118985296
                        ],
                        "iteration": 157,
                        "passed_time": 5.127876719,
                        "remaining_time": 27.32703923,
                        "test": [
                          0.7247651888
                        ]
                      },
                      {
                        "learn": [
                          0.7118972006
                        ],
                        "iteration": 158,
                        "passed_time": 5.132044517,
                        "remaining_time": 27.14496502,
                        "test": [
                          0.7247651886
                        ]
                      },
                      {
                        "learn": [
                          0.7117224658
                        ],
                        "iteration": 159,
                        "passed_time": 5.14910388,
                        "remaining_time": 27.03279537,
                        "test": [
                          0.7246930463
                        ]
                      },
                      {
                        "learn": [
                          0.7116282796
                        ],
                        "iteration": 160,
                        "passed_time": 5.17108697,
                        "remaining_time": 26.94746564,
                        "test": [
                          0.724662636
                        ]
                      },
                      {
                        "learn": [
                          0.711615963
                        ],
                        "iteration": 161,
                        "passed_time": 5.187632169,
                        "remaining_time": 26.83478863,
                        "test": [
                          0.7246535532
                        ]
                      },
                      {
                        "learn": [
                          0.7114748109
                        ],
                        "iteration": 162,
                        "passed_time": 5.204561854,
                        "remaining_time": 26.72526547,
                        "test": [
                          0.7245622565
                        ]
                      },
                      {
                        "learn": [
                          0.7114578443
                        ],
                        "iteration": 163,
                        "passed_time": 5.214868932,
                        "remaining_time": 26.58311236,
                        "test": [
                          0.7245529991
                        ]
                      },
                      {
                        "learn": [
                          0.7114389002
                        ],
                        "iteration": 164,
                        "passed_time": 5.226001508,
                        "remaining_time": 26.44673491,
                        "test": [
                          0.7245533335
                        ]
                      },
                      {
                        "learn": [
                          0.7113865275
                        ],
                        "iteration": 165,
                        "passed_time": 5.24458145,
                        "remaining_time": 26.34928271,
                        "test": [
                          0.724550733
                        ]
                      },
                      {
                        "learn": [
                          0.7113612514
                        ],
                        "iteration": 166,
                        "passed_time": 5.268671323,
                        "remaining_time": 26.28025875,
                        "test": [
                          0.7245604893
                        ]
                      },
                      {
                        "learn": [
                          0.7111244205
                        ],
                        "iteration": 167,
                        "passed_time": 5.283319555,
                        "remaining_time": 26.16501113,
                        "test": [
                          0.7243141849
                        ]
                      },
                      {
                        "learn": [
                          0.7110603524
                        ],
                        "iteration": 168,
                        "passed_time": 5.299228613,
                        "remaining_time": 26.05715371,
                        "test": [
                          0.7243063197
                        ]
                      },
                      {
                        "learn": [
                          0.7110551456
                        ],
                        "iteration": 169,
                        "passed_time": 5.312686789,
                        "remaining_time": 25.93841197,
                        "test": [
                          0.7243034007
                        ]
                      },
                      {
                        "learn": [
                          0.7110263128
                        ],
                        "iteration": 170,
                        "passed_time": 5.320535192,
                        "remaining_time": 25.7937057,
                        "test": [
                          0.7242870317
                        ]
                      },
                      {
                        "learn": [
                          0.7109436076
                        ],
                        "iteration": 171,
                        "passed_time": 5.333306781,
                        "remaining_time": 25.67429078,
                        "test": [
                          0.7242701946
                        ]
                      },
                      {
                        "learn": [
                          0.7109422929
                        ],
                        "iteration": 172,
                        "passed_time": 5.337215112,
                        "remaining_time": 25.51373929,
                        "test": [
                          0.7242704601
                        ]
                      },
                      {
                        "learn": [
                          0.7109403451
                        ],
                        "iteration": 173,
                        "passed_time": 5.342066724,
                        "remaining_time": 25.35946617,
                        "test": [
                          0.7242705687
                        ]
                      },
                      {
                        "learn": [
                          0.7107901891
                        ],
                        "iteration": 174,
                        "passed_time": 5.355745786,
                        "remaining_time": 25.24851585,
                        "test": [
                          0.7241816659
                        ]
                      },
                      {
                        "learn": [
                          0.7107325292
                        ],
                        "iteration": 175,
                        "passed_time": 5.364111453,
                        "remaining_time": 25.11379453,
                        "test": [
                          0.724139122
                        ]
                      },
                      {
                        "learn": [
                          0.7103670698
                        ],
                        "iteration": 176,
                        "passed_time": 5.376240951,
                        "remaining_time": 24.99800171,
                        "test": [
                          0.7238094423
                        ]
                      },
                      {
                        "learn": [
                          0.7103488581
                        ],
                        "iteration": 177,
                        "passed_time": 5.383909049,
                        "remaining_time": 24.862771,
                        "test": [
                          0.7238094621
                        ]
                      },
                      {
                        "learn": [
                          0.7102897792
                        ],
                        "iteration": 178,
                        "passed_time": 5.397021995,
                        "remaining_time": 24.75393887,
                        "test": [
                          0.7238082497
                        ]
                      },
                      {
                        "learn": [
                          0.7102822651
                        ],
                        "iteration": 179,
                        "passed_time": 5.412619322,
                        "remaining_time": 24.65748802,
                        "test": [
                          0.7238013481
                        ]
                      },
                      {
                        "learn": [
                          0.7102744397
                        ],
                        "iteration": 180,
                        "passed_time": 5.439662047,
                        "remaining_time": 24.61371943,
                        "test": [
                          0.7238050608
                        ]
                      },
                      {
                        "learn": [
                          0.7102502731
                        ],
                        "iteration": 181,
                        "passed_time": 5.455775426,
                        "remaining_time": 24.52101263,
                        "test": [
                          0.7238020767
                        ]
                      },
                      {
                        "learn": [
                          0.7102457354
                        ],
                        "iteration": 182,
                        "passed_time": 5.467730804,
                        "remaining_time": 24.4105796,
                        "test": [
                          0.7238000907
                        ]
                      },
                      {
                        "learn": [
                          0.7101659112
                        ],
                        "iteration": 183,
                        "passed_time": 5.505634722,
                        "remaining_time": 24.41629312,
                        "test": [
                          0.7237139716
                        ]
                      },
                      {
                        "learn": [
                          0.710147184
                        ],
                        "iteration": 184,
                        "passed_time": 5.526964517,
                        "remaining_time": 24.34851936,
                        "test": [
                          0.7237333528
                        ]
                      },
                      {
                        "learn": [
                          0.7098342775
                        ],
                        "iteration": 185,
                        "passed_time": 5.547400124,
                        "remaining_time": 24.27733173,
                        "test": [
                          0.72351343
                        ]
                      },
                      {
                        "learn": [
                          0.7098315341
                        ],
                        "iteration": 186,
                        "passed_time": 5.562454775,
                        "remaining_time": 24.18329269,
                        "test": [
                          0.7235140791
                        ]
                      },
                      {
                        "learn": [
                          0.7097058056
                        ],
                        "iteration": 187,
                        "passed_time": 5.593793238,
                        "remaining_time": 24.16042612,
                        "test": [
                          0.7234179451
                        ]
                      },
                      {
                        "learn": [
                          0.7096282071
                        ],
                        "iteration": 188,
                        "passed_time": 5.612834992,
                        "remaining_time": 24.08470465,
                        "test": [
                          0.7233748582
                        ]
                      },
                      {
                        "learn": [
                          0.7094854803
                        ],
                        "iteration": 189,
                        "passed_time": 5.63575014,
                        "remaining_time": 24.0260927,
                        "test": [
                          0.7233059721
                        ]
                      },
                      {
                        "learn": [
                          0.709412743
                        ],
                        "iteration": 190,
                        "passed_time": 5.651572749,
                        "remaining_time": 23.93781337,
                        "test": [
                          0.7233092219
                        ]
                      },
                      {
                        "learn": [
                          0.7092963293
                        ],
                        "iteration": 191,
                        "passed_time": 5.672204395,
                        "remaining_time": 23.87052683,
                        "test": [
                          0.7232768636
                        ]
                      },
                      {
                        "learn": [
                          0.7092465011
                        ],
                        "iteration": 192,
                        "passed_time": 5.70496755,
                        "remaining_time": 23.85444981,
                        "test": [
                          0.7232569577
                        ]
                      },
                      {
                        "learn": [
                          0.7090795803
                        ],
                        "iteration": 193,
                        "passed_time": 5.733655051,
                        "remaining_time": 23.82126789,
                        "test": [
                          0.7231725561
                        ]
                      },
                      {
                        "learn": [
                          0.7090625393
                        ],
                        "iteration": 194,
                        "passed_time": 5.766601198,
                        "remaining_time": 23.80571264,
                        "test": [
                          0.7231791483
                        ]
                      },
                      {
                        "learn": [
                          0.7089480322
                        ],
                        "iteration": 195,
                        "passed_time": 5.786227089,
                        "remaining_time": 23.73533969,
                        "test": [
                          0.7231319865
                        ]
                      },
                      {
                        "learn": [
                          0.7089392097
                        ],
                        "iteration": 196,
                        "passed_time": 5.802638102,
                        "remaining_time": 23.65237765,
                        "test": [
                          0.7231330231
                        ]
                      },
                      {
                        "learn": [
                          0.7089131525
                        ],
                        "iteration": 197,
                        "passed_time": 5.818691289,
                        "remaining_time": 23.56863846,
                        "test": [
                          0.723134097
                        ]
                      },
                      {
                        "learn": [
                          0.7089049295
                        ],
                        "iteration": 198,
                        "passed_time": 5.836483881,
                        "remaining_time": 23.49258085,
                        "test": [
                          0.7231313
                        ]
                      },
                      {
                        "learn": [
                          0.7088964486
                        ],
                        "iteration": 199,
                        "passed_time": 5.853104889,
                        "remaining_time": 23.41241956,
                        "test": [
                          0.7231317246
                        ]
                      },
                      {
                        "learn": [
                          0.708852258
                        ],
                        "iteration": 200,
                        "passed_time": 5.868811891,
                        "remaining_time": 23.32925722,
                        "test": [
                          0.72313828
                        ]
                      },
                      {
                        "learn": [
                          0.708709364
                        ],
                        "iteration": 201,
                        "passed_time": 5.905335176,
                        "remaining_time": 23.32899738,
                        "test": [
                          0.7230443972
                        ]
                      },
                      {
                        "learn": [
                          0.7085770232
                        ],
                        "iteration": 202,
                        "passed_time": 5.935061483,
                        "remaining_time": 23.30169459,
                        "test": [
                          0.7229800096
                        ]
                      },
                      {
                        "learn": [
                          0.7085759752
                        ],
                        "iteration": 203,
                        "passed_time": 5.943598409,
                        "remaining_time": 23.19168791,
                        "test": [
                          0.7229802482
                        ]
                      },
                      {
                        "learn": [
                          0.7084128337
                        ],
                        "iteration": 204,
                        "passed_time": 5.985623917,
                        "remaining_time": 23.21254153,
                        "test": [
                          0.7229178021
                        ]
                      },
                      {
                        "learn": [
                          0.708403744
                        ],
                        "iteration": 205,
                        "passed_time": 6.017407109,
                        "remaining_time": 23.19330701,
                        "test": [
                          0.7228976417
                        ]
                      },
                      {
                        "learn": [
                          0.7082692567
                        ],
                        "iteration": 206,
                        "passed_time": 6.045490886,
                        "remaining_time": 23.1597791,
                        "test": [
                          0.722887329
                        ]
                      },
                      {
                        "learn": [
                          0.7082645196
                        ],
                        "iteration": 207,
                        "passed_time": 6.07752059,
                        "remaining_time": 23.1413284,
                        "test": [
                          0.7228917275
                        ]
                      },
                      {
                        "learn": [
                          0.7082633038
                        ],
                        "iteration": 208,
                        "passed_time": 6.09642686,
                        "remaining_time": 23.07307965,
                        "test": [
                          0.7228927701
                        ]
                      },
                      {
                        "learn": [
                          0.7082429798
                        ],
                        "iteration": 209,
                        "passed_time": 6.1195552,
                        "remaining_time": 23.02118385,
                        "test": [
                          0.7228998627
                        ]
                      },
                      {
                        "learn": [
                          0.7081184426
                        ],
                        "iteration": 210,
                        "passed_time": 6.160849578,
                        "remaining_time": 23.03748966,
                        "test": [
                          0.7228484692
                        ]
                      },
                      {
                        "learn": [
                          0.708090135
                        ],
                        "iteration": 211,
                        "passed_time": 6.184297057,
                        "remaining_time": 22.98691547,
                        "test": [
                          0.7228242458
                        ]
                      },
                      {
                        "learn": [
                          0.7079293874
                        ],
                        "iteration": 212,
                        "passed_time": 6.237397533,
                        "remaining_time": 23.04615896,
                        "test": [
                          0.7227159716
                        ]
                      },
                      {
                        "learn": [
                          0.7078223165
                        ],
                        "iteration": 213,
                        "passed_time": 6.271836535,
                        "remaining_time": 23.03581082,
                        "test": [
                          0.7226365554
                        ]
                      },
                      {
                        "learn": [
                          0.7076777601
                        ],
                        "iteration": 214,
                        "passed_time": 6.31204646,
                        "remaining_time": 23.04630917,
                        "test": [
                          0.7225998932
                        ]
                      },
                      {
                        "learn": [
                          0.7076033821
                        ],
                        "iteration": 215,
                        "passed_time": 6.327609053,
                        "remaining_time": 22.9668773,
                        "test": [
                          0.7226020557
                        ]
                      },
                      {
                        "learn": [
                          0.7074411435
                        ],
                        "iteration": 216,
                        "passed_time": 6.337173961,
                        "remaining_time": 22.86639268,
                        "test": [
                          0.7225160787
                        ]
                      },
                      {
                        "learn": [
                          0.7073589187
                        ],
                        "iteration": 217,
                        "passed_time": 6.346779864,
                        "remaining_time": 22.76688924,
                        "test": [
                          0.7224784776
                        ]
                      },
                      {
                        "learn": [
                          0.707190834
                        ],
                        "iteration": 218,
                        "passed_time": 6.355775093,
                        "remaining_time": 22.66602899,
                        "test": [
                          0.7224203544
                        ]
                      },
                      {
                        "learn": [
                          0.7070762103
                        ],
                        "iteration": 219,
                        "passed_time": 6.36625379,
                        "remaining_time": 22.57126344,
                        "test": [
                          0.7223544672
                        ]
                      },
                      {
                        "learn": [
                          0.7070141571
                        ],
                        "iteration": 220,
                        "passed_time": 6.374903577,
                        "remaining_time": 22.47081397,
                        "test": [
                          0.7223413933
                        ]
                      },
                      {
                        "learn": [
                          0.706834716
                        ],
                        "iteration": 221,
                        "passed_time": 6.385226392,
                        "remaining_time": 22.37705465,
                        "test": [
                          0.7222115394
                        ]
                      },
                      {
                        "learn": [
                          0.7067289841
                        ],
                        "iteration": 222,
                        "passed_time": 6.39453255,
                        "remaining_time": 22.28050131,
                        "test": [
                          0.7221711444
                        ]
                      },
                      {
                        "learn": [
                          0.7066203503
                        ],
                        "iteration": 223,
                        "passed_time": 6.404184737,
                        "remaining_time": 22.1859257,
                        "test": [
                          0.722092784
                        ]
                      },
                      {
                        "learn": [
                          0.7064751423
                        ],
                        "iteration": 224,
                        "passed_time": 6.414429078,
                        "remaining_time": 22.0941446,
                        "test": [
                          0.7220601486
                        ]
                      },
                      {
                        "learn": [
                          0.7064359956
                        ],
                        "iteration": 225,
                        "passed_time": 6.421125577,
                        "remaining_time": 21.9909345,
                        "test": [
                          0.7220620452
                        ]
                      },
                      {
                        "learn": [
                          0.7063034643
                        ],
                        "iteration": 226,
                        "passed_time": 6.428647232,
                        "remaining_time": 21.89138463,
                        "test": [
                          0.7219872523
                        ]
                      },
                      {
                        "learn": [
                          0.7060796925
                        ],
                        "iteration": 227,
                        "passed_time": 6.439544479,
                        "remaining_time": 21.80407166,
                        "test": [
                          0.7217440368
                        ]
                      },
                      {
                        "learn": [
                          0.706044237
                        ],
                        "iteration": 228,
                        "passed_time": 6.447021575,
                        "remaining_time": 21.70591107,
                        "test": [
                          0.7217394946
                        ]
                      },
                      {
                        "learn": [
                          0.7060198315
                        ],
                        "iteration": 229,
                        "passed_time": 6.453220535,
                        "remaining_time": 21.60426005,
                        "test": [
                          0.7217312462
                        ]
                      },
                      {
                        "learn": [
                          0.7059661619
                        ],
                        "iteration": 230,
                        "passed_time": 6.460613176,
                        "remaining_time": 21.50740923,
                        "test": [
                          0.7216949046
                        ]
                      },
                      {
                        "learn": [
                          0.7059191165
                        ],
                        "iteration": 231,
                        "passed_time": 6.467104369,
                        "remaining_time": 21.4083455,
                        "test": [
                          0.7216790843
                        ]
                      },
                      {
                        "learn": [
                          0.7058533698
                        ],
                        "iteration": 232,
                        "passed_time": 6.474240857,
                        "remaining_time": 21.31220059,
                        "test": [
                          0.7215931917
                        ]
                      },
                      {
                        "learn": [
                          0.7057661152
                        ],
                        "iteration": 233,
                        "passed_time": 6.482220762,
                        "remaining_time": 21.21957737,
                        "test": [
                          0.7216023101
                        ]
                      },
                      {
                        "learn": [
                          0.7056332025
                        ],
                        "iteration": 234,
                        "passed_time": 6.490508517,
                        "remaining_time": 21.12867666,
                        "test": [
                          0.7214837956
                        ]
                      },
                      {
                        "learn": [
                          0.7053881221
                        ],
                        "iteration": 235,
                        "passed_time": 6.501671758,
                        "remaining_time": 21.04778484,
                        "test": [
                          0.7212838767
                        ]
                      },
                      {
                        "learn": [
                          0.7052938386
                        ],
                        "iteration": 236,
                        "passed_time": 6.510649631,
                        "remaining_time": 20.96044586,
                        "test": [
                          0.721170542
                        ]
                      },
                      {
                        "learn": [
                          0.7052357575
                        ],
                        "iteration": 237,
                        "passed_time": 6.518879305,
                        "remaining_time": 20.87136987,
                        "test": [
                          0.7211513799
                        ]
                      },
                      {
                        "learn": [
                          0.7051831801
                        ],
                        "iteration": 238,
                        "passed_time": 6.527321736,
                        "remaining_time": 20.78364787,
                        "test": [
                          0.7211342286
                        ]
                      },
                      {
                        "learn": [
                          0.7050874855
                        ],
                        "iteration": 239,
                        "passed_time": 6.539455035,
                        "remaining_time": 20.70827428,
                        "test": [
                          0.7210590929
                        ]
                      },
                      {
                        "learn": [
                          0.7049307951
                        ],
                        "iteration": 240,
                        "passed_time": 6.548858416,
                        "remaining_time": 20.62482796,
                        "test": [
                          0.7209816116
                        ]
                      },
                      {
                        "learn": [
                          0.7046968319
                        ],
                        "iteration": 241,
                        "passed_time": 6.560017318,
                        "remaining_time": 20.54749226,
                        "test": [
                          0.720833993
                        ]
                      },
                      {
                        "learn": [
                          0.7046585507
                        ],
                        "iteration": 242,
                        "passed_time": 6.567929482,
                        "remaining_time": 20.4605869,
                        "test": [
                          0.7208304089
                        ]
                      },
                      {
                        "learn": [
                          0.7046324252
                        ],
                        "iteration": 243,
                        "passed_time": 6.575614017,
                        "remaining_time": 20.37362376,
                        "test": [
                          0.7208361099
                        ]
                      },
                      {
                        "learn": [
                          0.704592955
                        ],
                        "iteration": 244,
                        "passed_time": 6.581595138,
                        "remaining_time": 20.28205849,
                        "test": [
                          0.720780881
                        ]
                      },
                      {
                        "learn": [
                          0.7044529047
                        ],
                        "iteration": 245,
                        "passed_time": 6.590285893,
                        "remaining_time": 20.19949416,
                        "test": [
                          0.7207335323
                        ]
                      },
                      {
                        "learn": [
                          0.7042465714
                        ],
                        "iteration": 246,
                        "passed_time": 6.601454192,
                        "remaining_time": 20.125081,
                        "test": [
                          0.7205620396
                        ]
                      },
                      {
                        "learn": [
                          0.7040482715
                        ],
                        "iteration": 247,
                        "passed_time": 6.611889182,
                        "remaining_time": 20.04895429,
                        "test": [
                          0.7204423061
                        ]
                      },
                      {
                        "learn": [
                          0.7038603154
                        ],
                        "iteration": 248,
                        "passed_time": 6.622342778,
                        "remaining_time": 19.97341135,
                        "test": [
                          0.7202352181
                        ]
                      },
                      {
                        "learn": [
                          0.7037787278
                        ],
                        "iteration": 249,
                        "passed_time": 6.630570818,
                        "remaining_time": 19.89171245,
                        "test": [
                          0.7201866819
                        ]
                      },
                      {
                        "learn": [
                          0.7037245532
                        ],
                        "iteration": 250,
                        "passed_time": 6.638283988,
                        "remaining_time": 19.80906258,
                        "test": [
                          0.7202037212
                        ]
                      },
                      {
                        "learn": [
                          0.7036727935
                        ],
                        "iteration": 251,
                        "passed_time": 6.645550305,
                        "remaining_time": 19.72568107,
                        "test": [
                          0.7201689833
                        ]
                      },
                      {
                        "learn": [
                          0.7035686804
                        ],
                        "iteration": 252,
                        "passed_time": 6.655572123,
                        "remaining_time": 19.65103706,
                        "test": [
                          0.7201331127
                        ]
                      },
                      {
                        "learn": [
                          0.7035196078
                        ],
                        "iteration": 253,
                        "passed_time": 6.662656472,
                        "remaining_time": 19.56827452,
                        "test": [
                          0.7200921794
                        ]
                      },
                      {
                        "learn": [
                          0.7034810916
                        ],
                        "iteration": 254,
                        "passed_time": 6.66951981,
                        "remaining_time": 19.48545984,
                        "test": [
                          0.720085719
                        ]
                      },
                      {
                        "learn": [
                          0.7033172098
                        ],
                        "iteration": 255,
                        "passed_time": 6.679064656,
                        "remaining_time": 19.41103166,
                        "test": [
                          0.7200008269
                        ]
                      },
                      {
                        "learn": [
                          0.7032165282
                        ],
                        "iteration": 256,
                        "passed_time": 6.68771471,
                        "remaining_time": 19.33452152,
                        "test": [
                          0.719949999
                        ]
                      },
                      {
                        "learn": [
                          0.7031515529
                        ],
                        "iteration": 257,
                        "passed_time": 6.694610664,
                        "remaining_time": 19.25349269,
                        "test": [
                          0.719949812
                        ]
                      },
                      {
                        "learn": [
                          0.7031139488
                        ],
                        "iteration": 258,
                        "passed_time": 6.701986878,
                        "remaining_time": 19.17441033,
                        "test": [
                          0.7199294046
                        ]
                      },
                      {
                        "learn": [
                          0.7030608858
                        ],
                        "iteration": 259,
                        "passed_time": 6.711211368,
                        "remaining_time": 19.10114005,
                        "test": [
                          0.7198830658
                        ]
                      },
                      {
                        "learn": [
                          0.7029657739
                        ],
                        "iteration": 260,
                        "passed_time": 6.720875826,
                        "remaining_time": 19.02960627,
                        "test": [
                          0.7198237886
                        ]
                      },
                      {
                        "learn": [
                          0.7028276669
                        ],
                        "iteration": 261,
                        "passed_time": 6.729160293,
                        "remaining_time": 18.95465762,
                        "test": [
                          0.7197600567
                        ]
                      },
                      {
                        "learn": [
                          0.702801704
                        ],
                        "iteration": 262,
                        "passed_time": 6.739498648,
                        "remaining_time": 18.8859715,
                        "test": [
                          0.7197557374
                        ]
                      },
                      {
                        "learn": [
                          0.702701679
                        ],
                        "iteration": 263,
                        "passed_time": 6.748484162,
                        "remaining_time": 18.81395585,
                        "test": [
                          0.7196884065
                        ]
                      },
                      {
                        "learn": [
                          0.702642049
                        ],
                        "iteration": 264,
                        "passed_time": 6.759723887,
                        "remaining_time": 18.74866814,
                        "test": [
                          0.7196917405
                        ]
                      },
                      {
                        "learn": [
                          0.702590909
                        ],
                        "iteration": 265,
                        "passed_time": 6.772478837,
                        "remaining_time": 18.68796792,
                        "test": [
                          0.7196438911
                        ]
                      },
                      {
                        "learn": [
                          0.7023799091
                        ],
                        "iteration": 266,
                        "passed_time": 6.785091845,
                        "remaining_time": 18.62723716,
                        "test": [
                          0.7194776181
                        ]
                      },
                      {
                        "learn": [
                          0.7022106631
                        ],
                        "iteration": 267,
                        "passed_time": 6.804716653,
                        "remaining_time": 18.58601713,
                        "test": [
                          0.7193757645
                        ]
                      },
                      {
                        "learn": [
                          0.7021443119
                        ],
                        "iteration": 268,
                        "passed_time": 6.816181311,
                        "remaining_time": 18.52278267,
                        "test": [
                          0.7193482941
                        ]
                      },
                      {
                        "learn": [
                          0.7021291252
                        ],
                        "iteration": 269,
                        "passed_time": 6.826781521,
                        "remaining_time": 18.45759448,
                        "test": [
                          0.7193403771
                        ]
                      },
                      {
                        "learn": [
                          0.7020498885
                        ],
                        "iteration": 270,
                        "passed_time": 6.834374355,
                        "remaining_time": 18.38471921,
                        "test": [
                          0.7193039038
                        ]
                      },
                      {
                        "learn": [
                          0.7020237004
                        ],
                        "iteration": 271,
                        "passed_time": 6.840813148,
                        "remaining_time": 18.30923519,
                        "test": [
                          0.7193024902
                        ]
                      },
                      {
                        "learn": [
                          0.7019372426
                        ],
                        "iteration": 272,
                        "passed_time": 6.850473893,
                        "remaining_time": 18.24283707,
                        "test": [
                          0.7192834367
                        ]
                      },
                      {
                        "learn": [
                          0.7017347637
                        ],
                        "iteration": 273,
                        "passed_time": 6.860140411,
                        "remaining_time": 18.17686839,
                        "test": [
                          0.7190871628
                        ]
                      },
                      {
                        "learn": [
                          0.7016481201
                        ],
                        "iteration": 274,
                        "passed_time": 6.867505922,
                        "remaining_time": 18.10524289,
                        "test": [
                          0.7190340597
                        ]
                      },
                      {
                        "learn": [
                          0.701535505
                        ],
                        "iteration": 275,
                        "passed_time": 6.876519113,
                        "remaining_time": 18.03840521,
                        "test": [
                          0.7190360251
                        ]
                      },
                      {
                        "learn": [
                          0.701407396
                        ],
                        "iteration": 276,
                        "passed_time": 6.884354896,
                        "remaining_time": 17.96891188,
                        "test": [
                          0.7189615474
                        ]
                      },
                      {
                        "learn": [
                          0.701400682
                        ],
                        "iteration": 277,
                        "passed_time": 6.889509954,
                        "remaining_time": 17.89289995,
                        "test": [
                          0.7189591761
                        ]
                      },
                      {
                        "learn": [
                          0.7012412964
                        ],
                        "iteration": 278,
                        "passed_time": 6.899541768,
                        "remaining_time": 17.82999862,
                        "test": [
                          0.7189006199
                        ]
                      },
                      {
                        "learn": [
                          0.7011646395
                        ],
                        "iteration": 279,
                        "passed_time": 6.907650366,
                        "remaining_time": 17.76252951,
                        "test": [
                          0.7188513599
                        ]
                      },
                      {
                        "learn": [
                          0.7011436161
                        ],
                        "iteration": 280,
                        "passed_time": 6.913347198,
                        "remaining_time": 17.68931187,
                        "test": [
                          0.7188359255
                        ]
                      },
                      {
                        "learn": [
                          0.7010431496
                        ],
                        "iteration": 281,
                        "passed_time": 6.924014151,
                        "remaining_time": 17.62922752,
                        "test": [
                          0.7187756566
                        ]
                      },
                      {
                        "learn": [
                          0.7008995887
                        ],
                        "iteration": 282,
                        "passed_time": 6.932532247,
                        "remaining_time": 17.56404813,
                        "test": [
                          0.7186503333
                        ]
                      },
                      {
                        "learn": [
                          0.7008904524
                        ],
                        "iteration": 283,
                        "passed_time": 6.941625806,
                        "remaining_time": 17.50071858,
                        "test": [
                          0.7186498252
                        ]
                      },
                      {
                        "learn": [
                          0.7008809903
                        ],
                        "iteration": 284,
                        "passed_time": 6.947681158,
                        "remaining_time": 17.43014747,
                        "test": [
                          0.718646678
                        ]
                      },
                      {
                        "learn": [
                          0.7008591181
                        ],
                        "iteration": 285,
                        "passed_time": 6.955604118,
                        "remaining_time": 17.36469,
                        "test": [
                          0.7186485014
                        ]
                      },
                      {
                        "learn": [
                          0.7008111919
                        ],
                        "iteration": 286,
                        "passed_time": 6.964325032,
                        "remaining_time": 17.30161585,
                        "test": [
                          0.7186430725
                        ]
                      },
                      {
                        "learn": [
                          0.7007160975
                        ],
                        "iteration": 287,
                        "passed_time": 6.975495442,
                        "remaining_time": 17.24497484,
                        "test": [
                          0.7185546898
                        ]
                      },
                      {
                        "learn": [
                          0.7006693802
                        ],
                        "iteration": 288,
                        "passed_time": 6.993372095,
                        "remaining_time": 17.20514726,
                        "test": [
                          0.7185521742
                        ]
                      },
                      {
                        "learn": [
                          0.7006627858
                        ],
                        "iteration": 289,
                        "passed_time": 7.008160306,
                        "remaining_time": 17.15790971,
                        "test": [
                          0.7185522337
                        ]
                      },
                      {
                        "learn": [
                          0.7006330402
                        ],
                        "iteration": 290,
                        "passed_time": 7.016634844,
                        "remaining_time": 17.09551239,
                        "test": [
                          0.7185081112
                        ]
                      },
                      {
                        "learn": [
                          0.7005016479
                        ],
                        "iteration": 291,
                        "passed_time": 7.027936188,
                        "remaining_time": 17.04033843,
                        "test": [
                          0.7184028937
                        ]
                      },
                      {
                        "learn": [
                          0.7004880014
                        ],
                        "iteration": 292,
                        "passed_time": 7.035145111,
                        "remaining_time": 16.97558906,
                        "test": [
                          0.7184055607
                        ]
                      },
                      {
                        "learn": [
                          0.7004810849
                        ],
                        "iteration": 293,
                        "passed_time": 7.041951793,
                        "remaining_time": 16.91026519,
                        "test": [
                          0.7184039981
                        ]
                      },
                      {
                        "learn": [
                          0.7004652839
                        ],
                        "iteration": 294,
                        "passed_time": 7.049055345,
                        "remaining_time": 16.84604752,
                        "test": [
                          0.7183925395
                        ]
                      },
                      {
                        "learn": [
                          0.7004269834
                        ],
                        "iteration": 295,
                        "passed_time": 7.05868523,
                        "remaining_time": 16.78822433,
                        "test": [
                          0.7183910201
                        ]
                      },
                      {
                        "learn": [
                          0.7003775923
                        ],
                        "iteration": 296,
                        "passed_time": 7.066079417,
                        "remaining_time": 16.72543377,
                        "test": [
                          0.7183755608
                        ]
                      },
                      {
                        "learn": [
                          0.7003261833
                        ],
                        "iteration": 297,
                        "passed_time": 7.076545414,
                        "remaining_time": 16.67025128,
                        "test": [
                          0.7183430434
                        ]
                      },
                      {
                        "learn": [
                          0.7002829779
                        ],
                        "iteration": 298,
                        "passed_time": 7.084884848,
                        "remaining_time": 16.6103822,
                        "test": [
                          0.7183391622
                        ]
                      },
                      {
                        "learn": [
                          0.7002752946
                        ],
                        "iteration": 299,
                        "passed_time": 7.092513699,
                        "remaining_time": 16.54919863,
                        "test": [
                          0.7183397548
                        ]
                      },
                      {
                        "learn": [
                          0.7001933017
                        ],
                        "iteration": 300,
                        "passed_time": 7.100949298,
                        "remaining_time": 16.49024438,
                        "test": [
                          0.718320266
                        ]
                      },
                      {
                        "learn": [
                          0.7001867013
                        ],
                        "iteration": 301,
                        "passed_time": 7.109977196,
                        "remaining_time": 16.43299365,
                        "test": [
                          0.7183241054
                        ]
                      },
                      {
                        "learn": [
                          0.700065781
                        ],
                        "iteration": 302,
                        "passed_time": 7.119033388,
                        "remaining_time": 16.37612631,
                        "test": [
                          0.7183038375
                        ]
                      },
                      {
                        "learn": [
                          0.7000544756
                        ],
                        "iteration": 303,
                        "passed_time": 7.12510662,
                        "remaining_time": 16.3127441,
                        "test": [
                          0.7183068959
                        ]
                      },
                      {
                        "learn": [
                          0.7000423588
                        ],
                        "iteration": 304,
                        "passed_time": 7.132518174,
                        "remaining_time": 16.25278732,
                        "test": [
                          0.7183018843
                        ]
                      },
                      {
                        "learn": [
                          0.6999545151
                        ],
                        "iteration": 305,
                        "passed_time": 7.14167052,
                        "remaining_time": 16.19712203,
                        "test": [
                          0.718238987
                        ]
                      },
                      {
                        "learn": [
                          0.699938758
                        ],
                        "iteration": 306,
                        "passed_time": 7.148884554,
                        "remaining_time": 16.13738435,
                        "test": [
                          0.7182280569
                        ]
                      },
                      {
                        "learn": [
                          0.699906114
                        ],
                        "iteration": 307,
                        "passed_time": 7.157189061,
                        "remaining_time": 16.08043776,
                        "test": [
                          0.7181942144
                        ]
                      },
                      {
                        "learn": [
                          0.6998945967
                        ],
                        "iteration": 308,
                        "passed_time": 7.16314904,
                        "remaining_time": 16.01856306,
                        "test": [
                          0.7181880352
                        ]
                      },
                      {
                        "learn": [
                          0.6998864923
                        ],
                        "iteration": 309,
                        "passed_time": 7.172380773,
                        "remaining_time": 15.9643314,
                        "test": [
                          0.7181927866
                        ]
                      },
                      {
                        "learn": [
                          0.6998200502
                        ],
                        "iteration": 310,
                        "passed_time": 7.182381426,
                        "remaining_time": 15.91209261,
                        "test": [
                          0.7181656616
                        ]
                      },
                      {
                        "learn": [
                          0.6998146653
                        ],
                        "iteration": 311,
                        "passed_time": 7.188842629,
                        "remaining_time": 15.85231964,
                        "test": [
                          0.7181656463
                        ]
                      },
                      {
                        "learn": [
                          0.6997582379
                        ],
                        "iteration": 312,
                        "passed_time": 7.1963429,
                        "remaining_time": 15.79516796,
                        "test": [
                          0.7181449323
                        ]
                      },
                      {
                        "learn": [
                          0.6996713576
                        ],
                        "iteration": 313,
                        "passed_time": 7.205727822,
                        "remaining_time": 15.74244996,
                        "test": [
                          0.7181393683
                        ]
                      },
                      {
                        "learn": [
                          0.699626614
                        ],
                        "iteration": 314,
                        "passed_time": 7.212230523,
                        "remaining_time": 15.68373939,
                        "test": [
                          0.7181320236
                        ]
                      },
                      {
                        "learn": [
                          0.6995901362
                        ],
                        "iteration": 315,
                        "passed_time": 7.222088295,
                        "remaining_time": 15.6326215,
                        "test": [
                          0.7181105513
                        ]
                      },
                      {
                        "learn": [
                          0.6994637501
                        ],
                        "iteration": 316,
                        "passed_time": 7.232103989,
                        "remaining_time": 15.58210418,
                        "test": [
                          0.7180509044
                        ]
                      },
                      {
                        "learn": [
                          0.6994361802
                        ],
                        "iteration": 317,
                        "passed_time": 7.237302475,
                        "remaining_time": 15.52151034,
                        "test": [
                          0.7180436273
                        ]
                      },
                      {
                        "learn": [
                          0.6993627729
                        ],
                        "iteration": 318,
                        "passed_time": 7.245098884,
                        "remaining_time": 15.46680984,
                        "test": [
                          0.718001375
                        ]
                      },
                      {
                        "learn": [
                          0.6992126877
                        ],
                        "iteration": 319,
                        "passed_time": 7.252572536,
                        "remaining_time": 15.41171664,
                        "test": [
                          0.7179156931
                        ]
                      },
                      {
                        "learn": [
                          0.6991960853
                        ],
                        "iteration": 320,
                        "passed_time": 7.259835974,
                        "remaining_time": 15.35647547,
                        "test": [
                          0.7178966143
                        ]
                      },
                      {
                        "learn": [
                          0.6991874056
                        ],
                        "iteration": 321,
                        "passed_time": 7.268071575,
                        "remaining_time": 15.30357928,
                        "test": [
                          0.7179022311
                        ]
                      },
                      {
                        "learn": [
                          0.6991630089
                        ],
                        "iteration": 322,
                        "passed_time": 7.27529314,
                        "remaining_time": 15.24883423,
                        "test": [
                          0.717909893
                        ]
                      },
                      {
                        "learn": [
                          0.6991176868
                        ],
                        "iteration": 323,
                        "passed_time": 7.287605967,
                        "remaining_time": 15.20500504,
                        "test": [
                          0.7178809223
                        ]
                      },
                      {
                        "learn": [
                          0.6990083626
                        ],
                        "iteration": 324,
                        "passed_time": 7.295408872,
                        "remaining_time": 15.15200304,
                        "test": [
                          0.7177952073
                        ]
                      },
                      {
                        "learn": [
                          0.6990057447
                        ],
                        "iteration": 325,
                        "passed_time": 7.308255898,
                        "remaining_time": 15.10970698,
                        "test": [
                          0.717795508
                        ]
                      },
                      {
                        "learn": [
                          0.6989431806
                        ],
                        "iteration": 326,
                        "passed_time": 7.321186525,
                        "remaining_time": 15.06776309,
                        "test": [
                          0.7177512554
                        ]
                      },
                      {
                        "learn": [
                          0.6989242015
                        ],
                        "iteration": 327,
                        "passed_time": 7.332315355,
                        "remaining_time": 15.02230463,
                        "test": [
                          0.7177473356
                        ]
                      },
                      {
                        "learn": [
                          0.6988802516
                        ],
                        "iteration": 328,
                        "passed_time": 7.338714216,
                        "remaining_time": 14.96740802,
                        "test": [
                          0.7177432583
                        ]
                      },
                      {
                        "learn": [
                          0.6988688841
                        ],
                        "iteration": 329,
                        "passed_time": 7.344107531,
                        "remaining_time": 14.91076378,
                        "test": [
                          0.7177425564
                        ]
                      },
                      {
                        "learn": [
                          0.6988556817
                        ],
                        "iteration": 330,
                        "passed_time": 7.351299111,
                        "remaining_time": 14.85806376,
                        "test": [
                          0.7177505504
                        ]
                      },
                      {
                        "learn": [
                          0.6988531387
                        ],
                        "iteration": 331,
                        "passed_time": 7.358696746,
                        "remaining_time": 14.80605249,
                        "test": [
                          0.7177504715
                        ]
                      },
                      {
                        "learn": [
                          0.6988151664
                        ],
                        "iteration": 332,
                        "passed_time": 7.369324166,
                        "remaining_time": 14.76077844,
                        "test": [
                          0.7177245738
                        ]
                      },
                      {
                        "learn": [
                          0.6988112471
                        ],
                        "iteration": 333,
                        "passed_time": 7.375194426,
                        "remaining_time": 14.70622601,
                        "test": [
                          0.7177246938
                        ]
                      },
                      {
                        "learn": [
                          0.6988037244
                        ],
                        "iteration": 334,
                        "passed_time": 7.395261787,
                        "remaining_time": 14.68014653,
                        "test": [
                          0.7177242263
                        ]
                      },
                      {
                        "learn": [
                          0.69878519
                        ],
                        "iteration": 335,
                        "passed_time": 7.40587012,
                        "remaining_time": 14.63541,
                        "test": [
                          0.7177260225
                        ]
                      },
                      {
                        "learn": [
                          0.6985913417
                        ],
                        "iteration": 336,
                        "passed_time": 7.418697562,
                        "remaining_time": 14.59524179,
                        "test": [
                          0.7175498473
                        ]
                      },
                      {
                        "learn": [
                          0.6984596188
                        ],
                        "iteration": 337,
                        "passed_time": 7.431006134,
                        "remaining_time": 14.55421911,
                        "test": [
                          0.7174022806
                        ]
                      },
                      {
                        "learn": [
                          0.6983755779
                        ],
                        "iteration": 338,
                        "passed_time": 7.442501814,
                        "remaining_time": 14.51178082,
                        "test": [
                          0.717360518
                        ]
                      },
                      {
                        "learn": [
                          0.6983616113
                        ],
                        "iteration": 339,
                        "passed_time": 7.448668199,
                        "remaining_time": 14.45917944,
                        "test": [
                          0.717362282
                        ]
                      },
                      {
                        "learn": [
                          0.6983395013
                        ],
                        "iteration": 340,
                        "passed_time": 7.456273832,
                        "remaining_time": 14.40963183,
                        "test": [
                          0.7173690037
                        ]
                      },
                      {
                        "learn": [
                          0.6982413389
                        ],
                        "iteration": 341,
                        "passed_time": 7.468063481,
                        "remaining_time": 14.36837945,
                        "test": [
                          0.7173155107
                        ]
                      },
                      {
                        "learn": [
                          0.6982310878
                        ],
                        "iteration": 342,
                        "passed_time": 7.477166804,
                        "remaining_time": 14.32215333,
                        "test": [
                          0.7173234841
                        ]
                      },
                      {
                        "learn": [
                          0.6982187162
                        ],
                        "iteration": 343,
                        "passed_time": 7.487215814,
                        "remaining_time": 14.27794644,
                        "test": [
                          0.7173204546
                        ]
                      },
                      {
                        "learn": [
                          0.6980989892
                        ],
                        "iteration": 344,
                        "passed_time": 7.49996552,
                        "remaining_time": 14.23906497,
                        "test": [
                          0.7172764998
                        ]
                      },
                      {
                        "learn": [
                          0.6980801337
                        ],
                        "iteration": 345,
                        "passed_time": 7.50839199,
                        "remaining_time": 14.19216289,
                        "test": [
                          0.7172786345
                        ]
                      },
                      {
                        "learn": [
                          0.6980408252
                        ],
                        "iteration": 346,
                        "passed_time": 7.519240412,
                        "remaining_time": 14.15004031,
                        "test": [
                          0.7173013703
                        ]
                      },
                      {
                        "learn": [
                          0.6979798723
                        ],
                        "iteration": 347,
                        "passed_time": 7.530515145,
                        "remaining_time": 14.10889619,
                        "test": [
                          0.7173329623
                        ]
                      },
                      {
                        "learn": [
                          0.6979444126
                        ],
                        "iteration": 348,
                        "passed_time": 7.539765811,
                        "remaining_time": 14.06414769,
                        "test": [
                          0.7173172474
                        ]
                      },
                      {
                        "learn": [
                          0.6978590201
                        ],
                        "iteration": 349,
                        "passed_time": 7.553898046,
                        "remaining_time": 14.0286678,
                        "test": [
                          0.7172412262
                        ]
                      },
                      {
                        "learn": [
                          0.6977776362
                        ],
                        "iteration": 350,
                        "passed_time": 7.569136657,
                        "remaining_time": 13.99535524,
                        "test": [
                          0.7172316594
                        ]
                      },
                      {
                        "learn": [
                          0.6977664469
                        ],
                        "iteration": 351,
                        "passed_time": 7.576834351,
                        "remaining_time": 13.94826324,
                        "test": [
                          0.717241995
                        ]
                      },
                      {
                        "learn": [
                          0.6977226474
                        ],
                        "iteration": 352,
                        "passed_time": 7.584833302,
                        "remaining_time": 13.90194659,
                        "test": [
                          0.7172825031
                        ]
                      },
                      {
                        "learn": [
                          0.6976562616
                        ],
                        "iteration": 353,
                        "passed_time": 7.598014991,
                        "remaining_time": 13.86530419,
                        "test": [
                          0.7172646391
                        ]
                      },
                      {
                        "learn": [
                          0.6976183488
                        ],
                        "iteration": 354,
                        "passed_time": 7.606374748,
                        "remaining_time": 13.82003299,
                        "test": [
                          0.7172557273
                        ]
                      },
                      {
                        "learn": [
                          0.6975304202
                        ],
                        "iteration": 355,
                        "passed_time": 7.621579888,
                        "remaining_time": 13.78735238,
                        "test": [
                          0.7171661889
                        ]
                      },
                      {
                        "learn": [
                          0.6974499817
                        ],
                        "iteration": 356,
                        "passed_time": 7.637003236,
                        "remaining_time": 13.75516269,
                        "test": [
                          0.7171043188
                        ]
                      },
                      {
                        "learn": [
                          0.6974390538
                        ],
                        "iteration": 357,
                        "passed_time": 7.645264916,
                        "remaining_time": 13.71022368,
                        "test": [
                          0.7171067191
                        ]
                      },
                      {
                        "learn": [
                          0.6973267242
                        ],
                        "iteration": 358,
                        "passed_time": 7.657295091,
                        "remaining_time": 13.6722177,
                        "test": [
                          0.7171118876
                        ]
                      },
                      {
                        "learn": [
                          0.6972459806
                        ],
                        "iteration": 359,
                        "passed_time": 7.669695914,
                        "remaining_time": 13.63501496,
                        "test": [
                          0.7171202572
                        ]
                      },
                      {
                        "learn": [
                          0.6972198542
                        ],
                        "iteration": 360,
                        "passed_time": 7.677462784,
                        "remaining_time": 13.58974714,
                        "test": [
                          0.7171184261
                        ]
                      },
                      {
                        "learn": [
                          0.6972130549
                        ],
                        "iteration": 361,
                        "passed_time": 7.683518988,
                        "remaining_time": 13.54167159,
                        "test": [
                          0.7171166715
                        ]
                      },
                      {
                        "learn": [
                          0.6971843437
                        ],
                        "iteration": 362,
                        "passed_time": 7.692313175,
                        "remaining_time": 13.49863221,
                        "test": [
                          0.7171173152
                        ]
                      },
                      {
                        "learn": [
                          0.6970934428
                        ],
                        "iteration": 363,
                        "passed_time": 7.703751288,
                        "remaining_time": 13.4604006,
                        "test": [
                          0.7170912169
                        ]
                      },
                      {
                        "learn": [
                          0.6969733781
                        ],
                        "iteration": 364,
                        "passed_time": 7.71674307,
                        "remaining_time": 13.42501877,
                        "test": [
                          0.7170493355
                        ]
                      },
                      {
                        "learn": [
                          0.6969302209
                        ],
                        "iteration": 365,
                        "passed_time": 7.727244873,
                        "remaining_time": 13.38544604,
                        "test": [
                          0.7170854299
                        ]
                      },
                      {
                        "learn": [
                          0.6968463177
                        ],
                        "iteration": 366,
                        "passed_time": 7.73872579,
                        "remaining_time": 13.3477205,
                        "test": [
                          0.7170450384
                        ]
                      },
                      {
                        "learn": [
                          0.6967526514
                        ],
                        "iteration": 367,
                        "passed_time": 7.75115657,
                        "remaining_time": 13.31176889,
                        "test": [
                          0.7170060293
                        ]
                      },
                      {
                        "learn": [
                          0.6966993259
                        ],
                        "iteration": 368,
                        "passed_time": 7.759303743,
                        "remaining_time": 13.26861968,
                        "test": [
                          0.7169971235
                        ]
                      },
                      {
                        "learn": [
                          0.6966222533
                        ],
                        "iteration": 369,
                        "passed_time": 7.771473488,
                        "remaining_time": 13.23250891,
                        "test": [
                          0.7169791764
                        ]
                      },
                      {
                        "learn": [
                          0.6965720896
                        ],
                        "iteration": 370,
                        "passed_time": 7.783805986,
                        "remaining_time": 13.19680314,
                        "test": [
                          0.7169512079
                        ]
                      },
                      {
                        "learn": [
                          0.6965634176
                        ],
                        "iteration": 371,
                        "passed_time": 7.799745591,
                        "remaining_time": 13.16731245,
                        "test": [
                          0.7169511789
                        ]
                      },
                      {
                        "learn": [
                          0.6964429989
                        ],
                        "iteration": 372,
                        "passed_time": 7.823364509,
                        "remaining_time": 13.15080307,
                        "test": [
                          0.7168393448
                        ]
                      },
                      {
                        "learn": [
                          0.6964120315
                        ],
                        "iteration": 373,
                        "passed_time": 7.856085858,
                        "remaining_time": 13.1494913,
                        "test": [
                          0.7168289368
                        ]
                      },
                      {
                        "learn": [
                          0.6963668477
                        ],
                        "iteration": 374,
                        "passed_time": 7.865985377,
                        "remaining_time": 13.10997563,
                        "test": [
                          0.7168302996
                        ]
                      },
                      {
                        "learn": [
                          0.696331838
                        ],
                        "iteration": 375,
                        "passed_time": 7.875806595,
                        "remaining_time": 13.07048754,
                        "test": [
                          0.7168302154
                        ]
                      },
                      {
                        "learn": [
                          0.6963284444
                        ],
                        "iteration": 376,
                        "passed_time": 7.882994804,
                        "remaining_time": 13.02680574,
                        "test": [
                          0.716830482
                        ]
                      },
                      {
                        "learn": [
                          0.6962711946
                        ],
                        "iteration": 377,
                        "passed_time": 7.892726305,
                        "remaining_time": 12.98750201,
                        "test": [
                          0.7168630188
                        ]
                      },
                      {
                        "learn": [
                          0.6962570293
                        ],
                        "iteration": 378,
                        "passed_time": 7.90134507,
                        "remaining_time": 12.9465311,
                        "test": [
                          0.7168656522
                        ]
                      },
                      {
                        "learn": [
                          0.6961616754
                        ],
                        "iteration": 379,
                        "passed_time": 7.912473727,
                        "remaining_time": 12.90982556,
                        "test": [
                          0.7168068497
                        ]
                      },
                      {
                        "learn": [
                          0.6960599079
                        ],
                        "iteration": 380,
                        "passed_time": 7.924210982,
                        "remaining_time": 12.87424304,
                        "test": [
                          0.7167841457
                        ]
                      },
                      {
                        "learn": [
                          0.6959657298
                        ],
                        "iteration": 381,
                        "passed_time": 7.934382305,
                        "remaining_time": 12.836252,
                        "test": [
                          0.7167305931
                        ]
                      },
                      {
                        "learn": [
                          0.6958590808
                        ],
                        "iteration": 382,
                        "passed_time": 7.942457459,
                        "remaining_time": 12.79502938,
                        "test": [
                          0.7167168681
                        ]
                      },
                      {
                        "learn": [
                          0.6958433141
                        ],
                        "iteration": 383,
                        "passed_time": 7.950252018,
                        "remaining_time": 12.75352928,
                        "test": [
                          0.7167149443
                        ]
                      },
                      {
                        "learn": [
                          0.695812509
                        ],
                        "iteration": 384,
                        "passed_time": 7.961040654,
                        "remaining_time": 12.71698702,
                        "test": [
                          0.7167120141
                        ]
                      },
                      {
                        "learn": [
                          0.6957786399
                        ],
                        "iteration": 385,
                        "passed_time": 7.968668335,
                        "remaining_time": 12.67555015,
                        "test": [
                          0.7167073433
                        ]
                      },
                      {
                        "learn": [
                          0.6957136674
                        ],
                        "iteration": 386,
                        "passed_time": 7.981811847,
                        "remaining_time": 12.64302497,
                        "test": [
                          0.7167288825
                        ]
                      },
                      {
                        "learn": [
                          0.6956931379
                        ],
                        "iteration": 387,
                        "passed_time": 8.023840673,
                        "remaining_time": 12.65616106,
                        "test": [
                          0.7167220677
                        ]
                      },
                      {
                        "learn": [
                          0.6956017979
                        ],
                        "iteration": 388,
                        "passed_time": 8.036849208,
                        "remaining_time": 12.62343153,
                        "test": [
                          0.7166827536
                        ]
                      },
                      {
                        "learn": [
                          0.6955947507
                        ],
                        "iteration": 389,
                        "passed_time": 8.050026649,
                        "remaining_time": 12.59106732,
                        "test": [
                          0.7166845135
                        ]
                      },
                      {
                        "learn": [
                          0.6955164335
                        ],
                        "iteration": 390,
                        "passed_time": 8.061875469,
                        "remaining_time": 12.55673187,
                        "test": [
                          0.7166641215
                        ]
                      },
                      {
                        "learn": [
                          0.6954864428
                        ],
                        "iteration": 391,
                        "passed_time": 8.071265287,
                        "remaining_time": 12.51869718,
                        "test": [
                          0.7166633283
                        ]
                      },
                      {
                        "learn": [
                          0.6954842536
                        ],
                        "iteration": 392,
                        "passed_time": 8.079462285,
                        "remaining_time": 12.47896592,
                        "test": [
                          0.7166640179
                        ]
                      },
                      {
                        "learn": [
                          0.6954447709
                        ],
                        "iteration": 393,
                        "passed_time": 8.091568598,
                        "remaining_time": 12.44540754,
                        "test": [
                          0.716649992
                        ]
                      },
                      {
                        "learn": [
                          0.695393598
                        ],
                        "iteration": 394,
                        "passed_time": 8.103273973,
                        "remaining_time": 12.41134368,
                        "test": [
                          0.7165907512
                        ]
                      },
                      {
                        "learn": [
                          0.6953888645
                        ],
                        "iteration": 395,
                        "passed_time": 8.11219245,
                        "remaining_time": 12.37314202,
                        "test": [
                          0.7165884066
                        ]
                      },
                      {
                        "learn": [
                          0.6952579718
                        ],
                        "iteration": 396,
                        "passed_time": 8.127102115,
                        "remaining_time": 12.34418785,
                        "test": [
                          0.7165161522
                        ]
                      },
                      {
                        "learn": [
                          0.6952415586
                        ],
                        "iteration": 397,
                        "passed_time": 8.134693172,
                        "remaining_time": 12.3042344,
                        "test": [
                          0.7165196041
                        ]
                      },
                      {
                        "learn": [
                          0.6952036985
                        ],
                        "iteration": 398,
                        "passed_time": 8.144342412,
                        "remaining_time": 12.26754333,
                        "test": [
                          0.7165263788
                        ]
                      },
                      {
                        "learn": [
                          0.6951977902
                        ],
                        "iteration": 399,
                        "passed_time": 8.154930288,
                        "remaining_time": 12.23239543,
                        "test": [
                          0.7165214088
                        ]
                      },
                      {
                        "learn": [
                          0.695042946
                        ],
                        "iteration": 400,
                        "passed_time": 8.167567461,
                        "remaining_time": 12.2004312,
                        "test": [
                          0.7164114312
                        ]
                      },
                      {
                        "learn": [
                          0.695017194
                        ],
                        "iteration": 401,
                        "passed_time": 8.177427782,
                        "remaining_time": 12.16443237,
                        "test": [
                          0.7163953666
                        ]
                      },
                      {
                        "learn": [
                          0.6949116631
                        ],
                        "iteration": 402,
                        "passed_time": 8.187366769,
                        "remaining_time": 12.1286798,
                        "test": [
                          0.7163015288
                        ]
                      },
                      {
                        "learn": [
                          0.6947913761
                        ],
                        "iteration": 403,
                        "passed_time": 8.200150419,
                        "remaining_time": 12.09725161,
                        "test": [
                          0.7162692777
                        ]
                      },
                      {
                        "learn": [
                          0.6947591368
                        ],
                        "iteration": 404,
                        "passed_time": 8.209330373,
                        "remaining_time": 12.06062116,
                        "test": [
                          0.7162510608
                        ]
                      },
                      {
                        "learn": [
                          0.6947417538
                        ],
                        "iteration": 405,
                        "passed_time": 8.217191674,
                        "remaining_time": 12.02219669,
                        "test": [
                          0.7162609579
                        ]
                      },
                      {
                        "learn": [
                          0.6946674514
                        ],
                        "iteration": 406,
                        "passed_time": 8.224673884,
                        "remaining_time": 11.98337006,
                        "test": [
                          0.7162247865
                        ]
                      },
                      {
                        "learn": [
                          0.6946053863
                        ],
                        "iteration": 407,
                        "passed_time": 8.233395136,
                        "remaining_time": 11.9464949,
                        "test": [
                          0.716180808
                        ]
                      },
                      {
                        "learn": [
                          0.6945755048
                        ],
                        "iteration": 408,
                        "passed_time": 8.242441414,
                        "remaining_time": 11.91022708,
                        "test": [
                          0.716182396
                        ]
                      },
                      {
                        "learn": [
                          0.6945413516
                        ],
                        "iteration": 409,
                        "passed_time": 8.253395874,
                        "remaining_time": 11.87683796,
                        "test": [
                          0.7161675086
                        ]
                      },
                      {
                        "learn": [
                          0.6944932455
                        ],
                        "iteration": 410,
                        "passed_time": 8.266554639,
                        "remaining_time": 11.84671699,
                        "test": [
                          0.7161645276
                        ]
                      },
                      {
                        "learn": [
                          0.694451383
                        ],
                        "iteration": 411,
                        "passed_time": 8.275215891,
                        "remaining_time": 11.81025957,
                        "test": [
                          0.7161284877
                        ]
                      },
                      {
                        "learn": [
                          0.6944399528
                        ],
                        "iteration": 412,
                        "passed_time": 8.284969534,
                        "remaining_time": 11.77548939,
                        "test": [
                          0.7161200932
                        ]
                      },
                      {
                        "learn": [
                          0.694436564
                        ],
                        "iteration": 413,
                        "passed_time": 8.296323791,
                        "remaining_time": 11.74310566,
                        "test": [
                          0.7161149662
                        ]
                      },
                      {
                        "learn": [
                          0.6943084877
                        ],
                        "iteration": 414,
                        "passed_time": 8.307546849,
                        "remaining_time": 11.71063833,
                        "test": [
                          0.7159924455
                        ]
                      },
                      {
                        "learn": [
                          0.6942921512
                        ],
                        "iteration": 415,
                        "passed_time": 8.320538452,
                        "remaining_time": 11.6807559,
                        "test": [
                          0.7159906978
                        ]
                      },
                      {
                        "learn": [
                          0.6941564919
                        ],
                        "iteration": 416,
                        "passed_time": 8.333163644,
                        "remaining_time": 11.65044222,
                        "test": [
                          0.7159153067
                        ]
                      },
                      {
                        "learn": [
                          0.6941276278
                        ],
                        "iteration": 417,
                        "passed_time": 8.343062416,
                        "remaining_time": 11.61641705,
                        "test": [
                          0.7159149247
                        ]
                      },
                      {
                        "learn": [
                          0.6941120397
                        ],
                        "iteration": 418,
                        "passed_time": 8.352910194,
                        "remaining_time": 11.58243633,
                        "test": [
                          0.7159174044
                        ]
                      },
                      {
                        "learn": [
                          0.6940979641
                        ],
                        "iteration": 419,
                        "passed_time": 8.361936692,
                        "remaining_time": 11.54743638,
                        "test": [
                          0.7159269508
                        ]
                      },
                      {
                        "learn": [
                          0.6940959735
                        ],
                        "iteration": 420,
                        "passed_time": 8.37252075,
                        "remaining_time": 11.51470193,
                        "test": [
                          0.7159275697
                        ]
                      },
                      {
                        "learn": [
                          0.6939818555
                        ],
                        "iteration": 421,
                        "passed_time": 8.386320084,
                        "remaining_time": 11.48647632,
                        "test": [
                          0.7158693628
                        ]
                      },
                      {
                        "learn": [
                          0.6939754051
                        ],
                        "iteration": 422,
                        "passed_time": 8.393674587,
                        "remaining_time": 11.44952775,
                        "test": [
                          0.7158692148
                        ]
                      },
                      {
                        "learn": [
                          0.6939652595
                        ],
                        "iteration": 423,
                        "passed_time": 8.400563583,
                        "remaining_time": 11.41208638,
                        "test": [
                          0.7158822754
                        ]
                      },
                      {
                        "learn": [
                          0.6939560522
                        ],
                        "iteration": 424,
                        "passed_time": 8.40807587,
                        "remaining_time": 11.37563206,
                        "test": [
                          0.7158799242
                        ]
                      },
                      {
                        "learn": [
                          0.6939529185
                        ],
                        "iteration": 425,
                        "passed_time": 8.414007532,
                        "remaining_time": 11.33718386,
                        "test": [
                          0.7158798047
                        ]
                      },
                      {
                        "learn": [
                          0.6939078531
                        ],
                        "iteration": 426,
                        "passed_time": 8.423646093,
                        "remaining_time": 11.30386232,
                        "test": [
                          0.7158793675
                        ]
                      },
                      {
                        "learn": [
                          0.6938426875
                        ],
                        "iteration": 427,
                        "passed_time": 8.432775536,
                        "remaining_time": 11.26997104,
                        "test": [
                          0.7158700035
                        ]
                      },
                      {
                        "learn": [
                          0.6937973226
                        ],
                        "iteration": 428,
                        "passed_time": 8.446676046,
                        "remaining_time": 11.24254551,
                        "test": [
                          0.715866149
                        ]
                      },
                      {
                        "learn": [
                          0.6937693718
                        ],
                        "iteration": 429,
                        "passed_time": 8.453170612,
                        "remaining_time": 11.20536569,
                        "test": [
                          0.7158621106
                        ]
                      },
                      {
                        "learn": [
                          0.6937459995
                        ],
                        "iteration": 430,
                        "passed_time": 8.463534922,
                        "remaining_time": 11.17343705,
                        "test": [
                          0.7158684211
                        ]
                      },
                      {
                        "learn": [
                          0.6936480606
                        ],
                        "iteration": 431,
                        "passed_time": 8.475189447,
                        "remaining_time": 11.14330464,
                        "test": [
                          0.7158968158
                        ]
                      },
                      {
                        "learn": [
                          0.6935917217
                        ],
                        "iteration": 432,
                        "passed_time": 8.48577147,
                        "remaining_time": 11.11185317,
                        "test": [
                          0.7158791968
                        ]
                      },
                      {
                        "learn": [
                          0.6935647861
                        ],
                        "iteration": 433,
                        "passed_time": 8.495227088,
                        "remaining_time": 11.07902887,
                        "test": [
                          0.7158663092
                        ]
                      },
                      {
                        "learn": [
                          0.6935345949
                        ],
                        "iteration": 434,
                        "passed_time": 8.50438738,
                        "remaining_time": 11.04592844,
                        "test": [
                          0.7158564987
                        ]
                      },
                      {
                        "learn": [
                          0.69350804
                        ],
                        "iteration": 435,
                        "passed_time": 8.515242795,
                        "remaining_time": 11.01513059,
                        "test": [
                          0.7158501387
                        ]
                      },
                      {
                        "learn": [
                          0.6934563454
                        ],
                        "iteration": 436,
                        "passed_time": 8.530340613,
                        "remaining_time": 10.98988962,
                        "test": [
                          0.7158242571
                        ]
                      },
                      {
                        "learn": [
                          0.6934424021
                        ],
                        "iteration": 437,
                        "passed_time": 8.538617201,
                        "remaining_time": 10.95594262,
                        "test": [
                          0.7158127364
                        ]
                      },
                      {
                        "learn": [
                          0.6933739349
                        ],
                        "iteration": 438,
                        "passed_time": 8.550120108,
                        "remaining_time": 10.92623549,
                        "test": [
                          0.7157970655
                        ]
                      },
                      {
                        "learn": [
                          0.6933409406
                        ],
                        "iteration": 439,
                        "passed_time": 8.562416588,
                        "remaining_time": 10.89762111,
                        "test": [
                          0.7157955891
                        ]
                      },
                      {
                        "learn": [
                          0.6932922073
                        ],
                        "iteration": 440,
                        "passed_time": 8.574837304,
                        "remaining_time": 10.86923821,
                        "test": [
                          0.7157948556
                        ]
                      },
                      {
                        "learn": [
                          0.6932027443
                        ],
                        "iteration": 441,
                        "passed_time": 8.587686362,
                        "remaining_time": 10.8414683,
                        "test": [
                          0.7157867347
                        ]
                      },
                      {
                        "learn": [
                          0.6931823329
                        ],
                        "iteration": 442,
                        "passed_time": 8.598481761,
                        "remaining_time": 10.81118361,
                        "test": [
                          0.7157904713
                        ]
                      },
                      {
                        "learn": [
                          0.6931625703
                        ],
                        "iteration": 443,
                        "passed_time": 8.610562549,
                        "remaining_time": 10.78259635,
                        "test": [
                          0.7157646064
                        ]
                      },
                      {
                        "learn": [
                          0.6931543098
                        ],
                        "iteration": 444,
                        "passed_time": 8.620056689,
                        "remaining_time": 10.75085722,
                        "test": [
                          0.7157628467
                        ]
                      },
                      {
                        "learn": [
                          0.6930814376
                        ],
                        "iteration": 445,
                        "passed_time": 8.63555188,
                        "remaining_time": 10.72667207,
                        "test": [
                          0.7156947854
                        ]
                      },
                      {
                        "learn": [
                          0.6930445443
                        ],
                        "iteration": 446,
                        "passed_time": 8.646996242,
                        "remaining_time": 10.69751437,
                        "test": [
                          0.7156817687
                        ]
                      },
                      {
                        "learn": [
                          0.6929940564
                        ],
                        "iteration": 447,
                        "passed_time": 8.658914709,
                        "remaining_time": 10.66901991,
                        "test": [
                          0.7156581535
                        ]
                      },
                      {
                        "learn": [
                          0.6929639682
                        ],
                        "iteration": 448,
                        "passed_time": 8.667298221,
                        "remaining_time": 10.63626129,
                        "test": [
                          0.7156433561
                        ]
                      },
                      {
                        "learn": [
                          0.692960471
                        ],
                        "iteration": 449,
                        "passed_time": 8.676000818,
                        "remaining_time": 10.604001,
                        "test": [
                          0.7156446695
                        ]
                      },
                      {
                        "learn": [
                          0.6929254517
                        ],
                        "iteration": 450,
                        "passed_time": 8.687126952,
                        "remaining_time": 10.57479534,
                        "test": [
                          0.7156413547
                        ]
                      },
                      {
                        "learn": [
                          0.6928692287
                        ],
                        "iteration": 451,
                        "passed_time": 8.696734793,
                        "remaining_time": 10.54382891,
                        "test": [
                          0.7156046555
                        ]
                      },
                      {
                        "learn": [
                          0.6928602338
                        ],
                        "iteration": 452,
                        "passed_time": 8.707069811,
                        "remaining_time": 10.51383485,
                        "test": [
                          0.7156050645
                        ]
                      },
                      {
                        "learn": [
                          0.6928240902
                        ],
                        "iteration": 453,
                        "passed_time": 8.717368883,
                        "remaining_time": 10.48388416,
                        "test": [
                          0.7155969488
                        ]
                      },
                      {
                        "learn": [
                          0.6928045486
                        ],
                        "iteration": 454,
                        "passed_time": 8.725130912,
                        "remaining_time": 10.45098098,
                        "test": [
                          0.7155963319
                        ]
                      },
                      {
                        "learn": [
                          0.692746049
                        ],
                        "iteration": 455,
                        "passed_time": 8.73466726,
                        "remaining_time": 10.4203048,
                        "test": [
                          0.7155847372
                        ]
                      },
                      {
                        "learn": [
                          0.6927299758
                        ],
                        "iteration": 456,
                        "passed_time": 8.740750327,
                        "remaining_time": 10.385618,
                        "test": [
                          0.7155939711
                        ]
                      },
                      {
                        "learn": [
                          0.6927081381
                        ],
                        "iteration": 457,
                        "passed_time": 8.7540541,
                        "remaining_time": 10.35960114,
                        "test": [
                          0.7156002172
                        ]
                      },
                      {
                        "learn": [
                          0.6926471846
                        ],
                        "iteration": 458,
                        "passed_time": 8.76374385,
                        "remaining_time": 10.32938001,
                        "test": [
                          0.7155673958
                        ]
                      },
                      {
                        "learn": [
                          0.6926372845
                        ],
                        "iteration": 459,
                        "passed_time": 8.773986888,
                        "remaining_time": 10.29989765,
                        "test": [
                          0.715571096
                        ]
                      },
                      {
                        "learn": [
                          0.6926248327
                        ],
                        "iteration": 460,
                        "passed_time": 8.783093632,
                        "remaining_time": 10.26917021,
                        "test": [
                          0.7155720872
                        ]
                      },
                      {
                        "learn": [
                          0.6925829421
                        ],
                        "iteration": 461,
                        "passed_time": 8.794033194,
                        "remaining_time": 10.24067069,
                        "test": [
                          0.7155714211
                        ]
                      },
                      {
                        "learn": [
                          0.6925690744
                        ],
                        "iteration": 462,
                        "passed_time": 8.803757545,
                        "remaining_time": 10.21083758,
                        "test": [
                          0.7155557755
                        ]
                      },
                      {
                        "learn": [
                          0.6924896137
                        ],
                        "iteration": 463,
                        "passed_time": 8.821842675,
                        "remaining_time": 10.1907493,
                        "test": [
                          0.7155122916
                        ]
                      },
                      {
                        "learn": [
                          0.6924502178
                        ],
                        "iteration": 464,
                        "passed_time": 8.833862245,
                        "remaining_time": 10.16369097,
                        "test": [
                          0.7155030402
                        ]
                      },
                      {
                        "learn": [
                          0.6924022384
                        ],
                        "iteration": 465,
                        "passed_time": 8.842432617,
                        "remaining_time": 10.13274467,
                        "test": [
                          0.7154379895
                        ]
                      },
                      {
                        "learn": [
                          0.6923680847
                        ],
                        "iteration": 466,
                        "passed_time": 8.860586577,
                        "remaining_time": 10.11283222,
                        "test": [
                          0.7154069526
                        ]
                      },
                      {
                        "learn": [
                          0.6923617342
                        ],
                        "iteration": 467,
                        "passed_time": 8.871398294,
                        "remaining_time": 10.08458097,
                        "test": [
                          0.7154067504
                        ]
                      },
                      {
                        "learn": [
                          0.6923599855
                        ],
                        "iteration": 468,
                        "passed_time": 8.884435495,
                        "remaining_time": 10.05892377,
                        "test": [
                          0.7154067181
                        ]
                      },
                      {
                        "learn": [
                          0.6923562803
                        ],
                        "iteration": 469,
                        "passed_time": 8.89311064,
                        "remaining_time": 10.02840136,
                        "test": [
                          0.7154063015
                        ]
                      },
                      {
                        "learn": [
                          0.6922150329
                        ],
                        "iteration": 470,
                        "passed_time": 8.906060572,
                        "remaining_time": 10.00277291,
                        "test": [
                          0.7153272
                        ]
                      },
                      {
                        "learn": [
                          0.6921923246
                        ],
                        "iteration": 471,
                        "passed_time": 8.917292475,
                        "remaining_time": 9.975276328,
                        "test": [
                          0.7153292725
                        ]
                      },
                      {
                        "learn": [
                          0.6921492518
                        ],
                        "iteration": 472,
                        "passed_time": 8.928883838,
                        "remaining_time": 9.948249012,
                        "test": [
                          0.7153083592
                        ]
                      },
                      {
                        "learn": [
                          0.6921217384
                        ],
                        "iteration": 473,
                        "passed_time": 8.936510637,
                        "remaining_time": 9.916887331,
                        "test": [
                          0.7153087133
                        ]
                      },
                      {
                        "learn": [
                          0.692072355
                        ],
                        "iteration": 474,
                        "passed_time": 8.947460216,
                        "remaining_time": 9.889298134,
                        "test": [
                          0.7152563635
                        ]
                      },
                      {
                        "learn": [
                          0.6920409852
                        ],
                        "iteration": 475,
                        "passed_time": 8.955296452,
                        "remaining_time": 9.858351556,
                        "test": [
                          0.7152573351
                        ]
                      },
                      {
                        "learn": [
                          0.6920038228
                        ],
                        "iteration": 476,
                        "passed_time": 8.965122905,
                        "remaining_time": 9.829684024,
                        "test": [
                          0.7152117225
                        ]
                      },
                      {
                        "learn": [
                          0.691977874
                        ],
                        "iteration": 477,
                        "passed_time": 8.972281384,
                        "remaining_time": 9.798181763,
                        "test": [
                          0.7152117119
                        ]
                      },
                      {
                        "learn": [
                          0.6919764352
                        ],
                        "iteration": 478,
                        "passed_time": 8.978818708,
                        "remaining_time": 9.766105526,
                        "test": [
                          0.7152118791
                        ]
                      },
                      {
                        "learn": [
                          0.6919428031
                        ],
                        "iteration": 479,
                        "passed_time": 8.986178071,
                        "remaining_time": 9.735026244,
                        "test": [
                          0.7151646652
                        ]
                      },
                      {
                        "learn": [
                          0.6919201615
                        ],
                        "iteration": 480,
                        "passed_time": 8.994133253,
                        "remaining_time": 9.704688479,
                        "test": [
                          0.7151608612
                        ]
                      },
                      {
                        "learn": [
                          0.6918544749
                        ],
                        "iteration": 481,
                        "passed_time": 9.03937645,
                        "remaining_time": 9.7145166,
                        "test": [
                          0.7150905914
                        ]
                      },
                      {
                        "learn": [
                          0.6918515061
                        ],
                        "iteration": 482,
                        "passed_time": 9.048874989,
                        "remaining_time": 9.685855837,
                        "test": [
                          0.7150886416
                        ]
                      },
                      {
                        "learn": [
                          0.6918392457
                        ],
                        "iteration": 483,
                        "passed_time": 9.061074271,
                        "remaining_time": 9.660153561,
                        "test": [
                          0.7150955128
                        ]
                      },
                      {
                        "learn": [
                          0.6917800422
                        ],
                        "iteration": 484,
                        "passed_time": 9.076514799,
                        "remaining_time": 9.637948704,
                        "test": [
                          0.7150638761
                        ]
                      },
                      {
                        "learn": [
                          0.6917700871
                        ],
                        "iteration": 485,
                        "passed_time": 9.090566447,
                        "remaining_time": 9.614302785,
                        "test": [
                          0.7150622712
                        ]
                      },
                      {
                        "learn": [
                          0.6917662634
                        ],
                        "iteration": 486,
                        "passed_time": 9.100075903,
                        "remaining_time": 9.585911578,
                        "test": [
                          0.7150612465
                        ]
                      },
                      {
                        "learn": [
                          0.6916955008
                        ],
                        "iteration": 487,
                        "passed_time": 9.111216954,
                        "remaining_time": 9.559309591,
                        "test": [
                          0.715000211
                        ]
                      },
                      {
                        "learn": [
                          0.6916400216
                        ],
                        "iteration": 488,
                        "passed_time": 9.123813443,
                        "remaining_time": 9.534291758,
                        "test": [
                          0.715016137
                        ]
                      },
                      {
                        "learn": [
                          0.6915311933
                        ],
                        "iteration": 489,
                        "passed_time": 9.135746721,
                        "remaining_time": 9.508634342,
                        "test": [
                          0.7149410576
                        ]
                      },
                      {
                        "learn": [
                          0.6915040062
                        ],
                        "iteration": 490,
                        "passed_time": 9.147954332,
                        "remaining_time": 9.483317219,
                        "test": [
                          0.7149475561
                        ]
                      },
                      {
                        "learn": [
                          0.691438989
                        ],
                        "iteration": 491,
                        "passed_time": 9.164073296,
                        "remaining_time": 9.46209194,
                        "test": [
                          0.7148970475
                        ]
                      },
                      {
                        "learn": [
                          0.6914050174
                        ],
                        "iteration": 492,
                        "passed_time": 9.17633519,
                        "remaining_time": 9.436920774,
                        "test": [
                          0.7148498922
                        ]
                      },
                      {
                        "learn": [
                          0.6913207334
                        ],
                        "iteration": 493,
                        "passed_time": 9.188572274,
                        "remaining_time": 9.411776459,
                        "test": [
                          0.7148064723
                        ]
                      },
                      {
                        "learn": [
                          0.6911847814
                        ],
                        "iteration": 494,
                        "passed_time": 9.2019528,
                        "remaining_time": 9.387850837,
                        "test": [
                          0.714697858
                        ]
                      },
                      {
                        "learn": [
                          0.6911736836
                        ],
                        "iteration": 495,
                        "passed_time": 9.216300932,
                        "remaining_time": 9.364950947,
                        "test": [
                          0.7146888821
                        ]
                      },
                      {
                        "learn": [
                          0.6911594173
                        ],
                        "iteration": 496,
                        "passed_time": 9.229427872,
                        "remaining_time": 9.340849537,
                        "test": [
                          0.7146949782
                        ]
                      },
                      {
                        "learn": [
                          0.6911523171
                        ],
                        "iteration": 497,
                        "passed_time": 9.237590803,
                        "remaining_time": 9.311788319,
                        "test": [
                          0.714710493
                        ]
                      },
                      {
                        "learn": [
                          0.691103644
                        ],
                        "iteration": 498,
                        "passed_time": 9.249873478,
                        "remaining_time": 9.286947119,
                        "test": [
                          0.7147041651
                        ]
                      },
                      {
                        "learn": [
                          0.6910625636
                        ],
                        "iteration": 499,
                        "passed_time": 9.260715624,
                        "remaining_time": 9.260715624,
                        "test": [
                          0.7146869596
                        ]
                      },
                      {
                        "learn": [
                          0.6910230735
                        ],
                        "iteration": 500,
                        "passed_time": 9.273171134,
                        "remaining_time": 9.236152487,
                        "test": [
                          0.7146605496
                        ]
                      },
                      {
                        "learn": [
                          0.6910116977
                        ],
                        "iteration": 501,
                        "passed_time": 9.287384987,
                        "remaining_time": 9.21338192,
                        "test": [
                          0.7146649588
                        ]
                      },
                      {
                        "learn": [
                          0.6909851447
                        ],
                        "iteration": 502,
                        "passed_time": 9.301210014,
                        "remaining_time": 9.190261187,
                        "test": [
                          0.7146849464
                        ]
                      },
                      {
                        "learn": [
                          0.6909297646
                        ],
                        "iteration": 503,
                        "passed_time": 9.313233155,
                        "remaining_time": 9.165404058,
                        "test": [
                          0.7146643189
                        ]
                      },
                      {
                        "learn": [
                          0.6909215887
                        ],
                        "iteration": 504,
                        "passed_time": 9.320875615,
                        "remaining_time": 9.136303821,
                        "test": [
                          0.7146640012
                        ]
                      },
                      {
                        "learn": [
                          0.6908899432
                        ],
                        "iteration": 505,
                        "passed_time": 9.33425495,
                        "remaining_time": 9.11288922,
                        "test": [
                          0.7146602803
                        ]
                      },
                      {
                        "learn": [
                          0.690864577
                        ],
                        "iteration": 506,
                        "passed_time": 9.343232402,
                        "remaining_time": 9.085233874,
                        "test": [
                          0.7146758945
                        ]
                      },
                      {
                        "learn": [
                          0.6908615479
                        ],
                        "iteration": 507,
                        "passed_time": 9.349935836,
                        "remaining_time": 9.055449668,
                        "test": [
                          0.7146752229
                        ]
                      },
                      {
                        "learn": [
                          0.6908602459
                        ],
                        "iteration": 508,
                        "passed_time": 9.359003579,
                        "remaining_time": 9.028036851,
                        "test": [
                          0.7146753679
                        ]
                      },
                      {
                        "learn": [
                          0.6908457443
                        ],
                        "iteration": 509,
                        "passed_time": 9.366623137,
                        "remaining_time": 8.999304583,
                        "test": [
                          0.7146884557
                        ]
                      },
                      {
                        "learn": [
                          0.6908162069
                        ],
                        "iteration": 510,
                        "passed_time": 9.381254711,
                        "remaining_time": 8.977365076,
                        "test": [
                          0.7146827136
                        ]
                      },
                      {
                        "learn": [
                          0.6907771161
                        ],
                        "iteration": 511,
                        "passed_time": 9.393742876,
                        "remaining_time": 8.953411179,
                        "test": [
                          0.71468628
                        ]
                      },
                      {
                        "learn": [
                          0.6907467987
                        ],
                        "iteration": 512,
                        "passed_time": 9.404771418,
                        "remaining_time": 8.928116336,
                        "test": [
                          0.7147056228
                        ]
                      },
                      {
                        "learn": [
                          0.6907400796
                        ],
                        "iteration": 513,
                        "passed_time": 9.412562421,
                        "remaining_time": 8.89981583,
                        "test": [
                          0.7146991538
                        ]
                      },
                      {
                        "learn": [
                          0.6906415621
                        ],
                        "iteration": 514,
                        "passed_time": 9.427332175,
                        "remaining_time": 8.878167194,
                        "test": [
                          0.714618339
                        ]
                      },
                      {
                        "learn": [
                          0.6906024081
                        ],
                        "iteration": 515,
                        "passed_time": 9.438049033,
                        "remaining_time": 8.852743667,
                        "test": [
                          0.7146100164
                        ]
                      },
                      {
                        "learn": [
                          0.6905461694
                        ],
                        "iteration": 516,
                        "passed_time": 9.451249641,
                        "remaining_time": 8.82969744,
                        "test": [
                          0.7146249209
                        ]
                      },
                      {
                        "learn": [
                          0.6905325759
                        ],
                        "iteration": 517,
                        "passed_time": 9.461092996,
                        "remaining_time": 8.803565298,
                        "test": [
                          0.7146264787
                        ]
                      },
                      {
                        "learn": [
                          0.6904125217
                        ],
                        "iteration": 518,
                        "passed_time": 9.476986947,
                        "remaining_time": 8.78310351,
                        "test": [
                          0.7145833798
                        ]
                      },
                      {
                        "learn": [
                          0.6903612424
                        ],
                        "iteration": 519,
                        "passed_time": 9.489211976,
                        "remaining_time": 8.759272593,
                        "test": [
                          0.7145960098
                        ]
                      },
                      {
                        "learn": [
                          0.6903251452
                        ],
                        "iteration": 520,
                        "passed_time": 9.50003628,
                        "remaining_time": 8.734198422,
                        "test": [
                          0.7145414609
                        ]
                      },
                      {
                        "learn": [
                          0.6903230826
                        ],
                        "iteration": 521,
                        "passed_time": 9.510477361,
                        "remaining_time": 8.708827928,
                        "test": [
                          0.7145415074
                        ]
                      },
                      {
                        "learn": [
                          0.6902996016
                        ],
                        "iteration": 522,
                        "passed_time": 9.518516447,
                        "remaining_time": 8.681323796,
                        "test": [
                          0.7145275505
                        ]
                      },
                      {
                        "learn": [
                          0.6902548904
                        ],
                        "iteration": 523,
                        "passed_time": 9.530232165,
                        "remaining_time": 8.657233798,
                        "test": [
                          0.7145012864
                        ]
                      },
                      {
                        "learn": [
                          0.6902475953
                        ],
                        "iteration": 524,
                        "passed_time": 9.537030291,
                        "remaining_time": 8.628741692,
                        "test": [
                          0.7144862651
                        ]
                      },
                      {
                        "learn": [
                          0.6902450019
                        ],
                        "iteration": 525,
                        "passed_time": 9.543809233,
                        "remaining_time": 8.600314784,
                        "test": [
                          0.7144879476
                        ]
                      },
                      {
                        "learn": [
                          0.6902436992
                        ],
                        "iteration": 526,
                        "passed_time": 9.549784211,
                        "remaining_time": 8.571248447,
                        "test": [
                          0.7144883332
                        ]
                      },
                      {
                        "learn": [
                          0.6901813322
                        ],
                        "iteration": 527,
                        "passed_time": 9.561471574,
                        "remaining_time": 8.547376104,
                        "test": [
                          0.7144402752
                        ]
                      },
                      {
                        "learn": [
                          0.6901054159
                        ],
                        "iteration": 528,
                        "passed_time": 9.573843229,
                        "remaining_time": 8.524159095,
                        "test": [
                          0.7144076187
                        ]
                      },
                      {
                        "learn": [
                          0.6900678826
                        ],
                        "iteration": 529,
                        "passed_time": 9.584369707,
                        "remaining_time": 8.499346722,
                        "test": [
                          0.7143823986
                        ]
                      },
                      {
                        "learn": [
                          0.6900075108
                        ],
                        "iteration": 530,
                        "passed_time": 9.596145747,
                        "remaining_time": 8.475691818,
                        "test": [
                          0.7143316544
                        ]
                      },
                      {
                        "learn": [
                          0.6899844697
                        ],
                        "iteration": 531,
                        "passed_time": 9.603608787,
                        "remaining_time": 8.448287429,
                        "test": [
                          0.7143225165
                        ]
                      },
                      {
                        "learn": [
                          0.6899836875
                        ],
                        "iteration": 532,
                        "passed_time": 9.611324599,
                        "remaining_time": 8.421179339,
                        "test": [
                          0.7143222032
                        ]
                      },
                      {
                        "learn": [
                          0.6899575022
                        ],
                        "iteration": 533,
                        "passed_time": 9.623986442,
                        "remaining_time": 8.398460078,
                        "test": [
                          0.7143026551
                        ]
                      },
                      {
                        "learn": [
                          0.6899239529
                        ],
                        "iteration": 534,
                        "passed_time": 9.633832767,
                        "remaining_time": 8.373331283,
                        "test": [
                          0.7142910174
                        ]
                      },
                      {
                        "learn": [
                          0.6899096023
                        ],
                        "iteration": 535,
                        "passed_time": 9.641863511,
                        "remaining_time": 8.346687816,
                        "test": [
                          0.7142930714
                        ]
                      },
                      {
                        "learn": [
                          0.6898928509
                        ],
                        "iteration": 536,
                        "passed_time": 9.649764466,
                        "remaining_time": 8.320001765,
                        "test": [
                          0.7142967252
                        ]
                      },
                      {
                        "learn": [
                          0.6898900251
                        ],
                        "iteration": 537,
                        "passed_time": 9.657948512,
                        "remaining_time": 8.293628648,
                        "test": [
                          0.7142965593
                        ]
                      },
                      {
                        "learn": [
                          0.6898454517
                        ],
                        "iteration": 538,
                        "passed_time": 9.668746624,
                        "remaining_time": 8.269558801,
                        "test": [
                          0.7142420888
                        ]
                      },
                      {
                        "learn": [
                          0.689804197
                        ],
                        "iteration": 539,
                        "passed_time": 9.684687062,
                        "remaining_time": 8.249918608,
                        "test": [
                          0.7142032886
                        ]
                      },
                      {
                        "learn": [
                          0.6897587667
                        ],
                        "iteration": 540,
                        "passed_time": 9.697205314,
                        "remaining_time": 8.227388612,
                        "test": [
                          0.7142024496
                        ]
                      },
                      {
                        "learn": [
                          0.6897112289
                        ],
                        "iteration": 541,
                        "passed_time": 9.709303979,
                        "remaining_time": 8.204541001,
                        "test": [
                          0.7141559452
                        ]
                      },
                      {
                        "learn": [
                          0.6896807503
                        ],
                        "iteration": 542,
                        "passed_time": 9.718725445,
                        "remaining_time": 8.179479795,
                        "test": [
                          0.7141656771
                        ]
                      },
                      {
                        "learn": [
                          0.6896300027
                        ],
                        "iteration": 543,
                        "passed_time": 9.72946194,
                        "remaining_time": 8.155578391,
                        "test": [
                          0.7141575617
                        ]
                      },
                      {
                        "learn": [
                          0.6896074233
                        ],
                        "iteration": 544,
                        "passed_time": 9.742890983,
                        "remaining_time": 8.133973206,
                        "test": [
                          0.7141543506
                        ]
                      },
                      {
                        "learn": [
                          0.6895741636
                        ],
                        "iteration": 545,
                        "passed_time": 9.753387787,
                        "remaining_time": 8.109959808,
                        "test": [
                          0.7141403034
                        ]
                      },
                      {
                        "learn": [
                          0.689563295
                        ],
                        "iteration": 546,
                        "passed_time": 9.760053814,
                        "remaining_time": 8.082823359,
                        "test": [
                          0.7141293518
                        ]
                      },
                      {
                        "learn": [
                          0.6895298943
                        ],
                        "iteration": 547,
                        "passed_time": 9.77331426,
                        "remaining_time": 8.061200813,
                        "test": [
                          0.7141341389
                        ]
                      },
                      {
                        "learn": [
                          0.6894932736
                        ],
                        "iteration": 548,
                        "passed_time": 9.784976905,
                        "remaining_time": 8.038296146,
                        "test": [
                          0.7141283808
                        ]
                      },
                      {
                        "learn": [
                          0.6894447993
                        ],
                        "iteration": 549,
                        "passed_time": 9.794713499,
                        "remaining_time": 8.013856499,
                        "test": [
                          0.7141085504
                        ]
                      },
                      {
                        "learn": [
                          0.6894353008
                        ],
                        "iteration": 550,
                        "passed_time": 9.8024796,
                        "remaining_time": 7.987864502,
                        "test": [
                          0.7140994243
                        ]
                      },
                      {
                        "learn": [
                          0.6893871477
                        ],
                        "iteration": 551,
                        "passed_time": 9.821390776,
                        "remaining_time": 7.970983818,
                        "test": [
                          0.7141015595
                        ]
                      },
                      {
                        "learn": [
                          0.6893811586
                        ],
                        "iteration": 552,
                        "passed_time": 9.83165772,
                        "remaining_time": 7.9471085,
                        "test": [
                          0.7141014743
                        ]
                      },
                      {
                        "learn": [
                          0.6893748332
                        ],
                        "iteration": 553,
                        "passed_time": 9.841308016,
                        "remaining_time": 7.922785876,
                        "test": [
                          0.7141022704
                        ]
                      },
                      {
                        "learn": [
                          0.6893178724
                        ],
                        "iteration": 554,
                        "passed_time": 9.853689976,
                        "remaining_time": 7.900706377,
                        "test": [
                          0.7140516722
                        ]
                      },
                      {
                        "learn": [
                          0.6892676146
                        ],
                        "iteration": 555,
                        "passed_time": 9.864110838,
                        "remaining_time": 7.877095705,
                        "test": [
                          0.7140259739
                        ]
                      },
                      {
                        "learn": [
                          0.6892126768
                        ],
                        "iteration": 556,
                        "passed_time": 9.876138064,
                        "remaining_time": 7.854809986,
                        "test": [
                          0.7140120102
                        ]
                      },
                      {
                        "learn": [
                          0.689183095
                        ],
                        "iteration": 557,
                        "passed_time": 9.897580386,
                        "remaining_time": 7.840018872,
                        "test": [
                          0.7140047419
                        ]
                      },
                      {
                        "learn": [
                          0.6891345799
                        ],
                        "iteration": 558,
                        "passed_time": 9.918050277,
                        "remaining_time": 7.824436802,
                        "test": [
                          0.7139750509
                        ]
                      },
                      {
                        "learn": [
                          0.6890496809
                        ],
                        "iteration": 559,
                        "passed_time": 9.929622408,
                        "remaining_time": 7.801846178,
                        "test": [
                          0.7138966286
                        ]
                      },
                      {
                        "learn": [
                          0.6890361903
                        ],
                        "iteration": 560,
                        "passed_time": 9.93984764,
                        "remaining_time": 7.778240845,
                        "test": [
                          0.7138931163
                        ]
                      },
                      {
                        "learn": [
                          0.689009534
                        ],
                        "iteration": 561,
                        "passed_time": 9.947598745,
                        "remaining_time": 7.752754894,
                        "test": [
                          0.7138946189
                        ]
                      },
                      {
                        "learn": [
                          0.6889981506
                        ],
                        "iteration": 562,
                        "passed_time": 9.954779375,
                        "remaining_time": 7.726889142,
                        "test": [
                          0.7138938532
                        ]
                      },
                      {
                        "learn": [
                          0.6889625985
                        ],
                        "iteration": 563,
                        "passed_time": 9.963994973,
                        "remaining_time": 7.702662781,
                        "test": [
                          0.7138933393
                        ]
                      },
                      {
                        "learn": [
                          0.6889433182
                        ],
                        "iteration": 564,
                        "passed_time": 9.973159161,
                        "remaining_time": 7.678449973,
                        "test": [
                          0.7138854163
                        ]
                      },
                      {
                        "learn": [
                          0.6889163456
                        ],
                        "iteration": 565,
                        "passed_time": 9.983277355,
                        "remaining_time": 7.655021859,
                        "test": [
                          0.7138885382
                        ]
                      },
                      {
                        "learn": [
                          0.6888315306
                        ],
                        "iteration": 566,
                        "passed_time": 9.995425132,
                        "remaining_time": 7.633190621,
                        "test": [
                          0.7138672767
                        ]
                      },
                      {
                        "learn": [
                          0.6887427817
                        ],
                        "iteration": 567,
                        "passed_time": 10.00755951,
                        "remaining_time": 7.611383289,
                        "test": [
                          0.7138604468
                        ]
                      },
                      {
                        "learn": [
                          0.6887249535
                        ],
                        "iteration": 568,
                        "passed_time": 10.04719997,
                        "remaining_time": 7.610444968,
                        "test": [
                          0.7138466731
                        ]
                      },
                      {
                        "learn": [
                          0.6886908146
                        ],
                        "iteration": 569,
                        "passed_time": 10.06695532,
                        "remaining_time": 7.594369801,
                        "test": [
                          0.7138317426
                        ]
                      },
                      {
                        "learn": [
                          0.6886756355
                        ],
                        "iteration": 570,
                        "passed_time": 10.09037461,
                        "remaining_time": 7.581034512,
                        "test": [
                          0.7138006095
                        ]
                      },
                      {
                        "learn": [
                          0.6886739015
                        ],
                        "iteration": 571,
                        "passed_time": 10.09818157,
                        "remaining_time": 7.555982014,
                        "test": [
                          0.7138006575
                        ]
                      },
                      {
                        "learn": [
                          0.6886360671
                        ],
                        "iteration": 572,
                        "passed_time": 10.10659715,
                        "remaining_time": 7.531443253,
                        "test": [
                          0.7137609751
                        ]
                      },
                      {
                        "learn": [
                          0.6886162722
                        ],
                        "iteration": 573,
                        "passed_time": 10.11533219,
                        "remaining_time": 7.507197756,
                        "test": [
                          0.7137398914
                        ]
                      },
                      {
                        "learn": [
                          0.6885778573
                        ],
                        "iteration": 574,
                        "passed_time": 10.1283646,
                        "remaining_time": 7.486182533,
                        "test": [
                          0.7137489713
                        ]
                      },
                      {
                        "learn": [
                          0.6885737568
                        ],
                        "iteration": 575,
                        "passed_time": 10.13986305,
                        "remaining_time": 7.464065853,
                        "test": [
                          0.7137489311
                        ]
                      },
                      {
                        "learn": [
                          0.6885388289
                        ],
                        "iteration": 576,
                        "passed_time": 10.15294161,
                        "remaining_time": 7.443144366,
                        "test": [
                          0.7137249438
                        ]
                      },
                      {
                        "learn": [
                          0.6884946456
                        ],
                        "iteration": 577,
                        "passed_time": 10.16606711,
                        "remaining_time": 7.422284294,
                        "test": [
                          0.7137437913
                        ]
                      },
                      {
                        "learn": [
                          0.6884808791
                        ],
                        "iteration": 578,
                        "passed_time": 10.17474797,
                        "remaining_time": 7.398219166,
                        "test": [
                          0.7137325986
                        ]
                      },
                      {
                        "learn": [
                          0.688452144
                        ],
                        "iteration": 579,
                        "passed_time": 10.18284601,
                        "remaining_time": 7.373785042,
                        "test": [
                          0.7137338497
                        ]
                      },
                      {
                        "learn": [
                          0.6883944771
                        ],
                        "iteration": 580,
                        "passed_time": 10.19269438,
                        "remaining_time": 7.350669443,
                        "test": [
                          0.7137091494
                        ]
                      },
                      {
                        "learn": [
                          0.6883638273
                        ],
                        "iteration": 581,
                        "passed_time": 10.20140554,
                        "remaining_time": 7.326782672,
                        "test": [
                          0.7136917926
                        ]
                      },
                      {
                        "learn": [
                          0.6882940076
                        ],
                        "iteration": 582,
                        "passed_time": 10.21299109,
                        "remaining_time": 7.305003918,
                        "test": [
                          0.7136768256
                        ]
                      },
                      {
                        "learn": [
                          0.6882013457
                        ],
                        "iteration": 583,
                        "passed_time": 10.22394778,
                        "remaining_time": 7.282812117,
                        "test": [
                          0.7136544361
                        ]
                      },
                      {
                        "learn": [
                          0.6881640531
                        ],
                        "iteration": 584,
                        "passed_time": 10.23392455,
                        "remaining_time": 7.25996357,
                        "test": [
                          0.71364407
                        ]
                      },
                      {
                        "learn": [
                          0.6881307725
                        ],
                        "iteration": 585,
                        "passed_time": 10.24324751,
                        "remaining_time": 7.236697049,
                        "test": [
                          0.7136377888
                        ]
                      },
                      {
                        "learn": [
                          0.688091701
                        ],
                        "iteration": 586,
                        "passed_time": 10.25291113,
                        "remaining_time": 7.213717714,
                        "test": [
                          0.7135953144
                        ]
                      },
                      {
                        "learn": [
                          0.6880525779
                        ],
                        "iteration": 587,
                        "passed_time": 10.26903091,
                        "remaining_time": 7.195307371,
                        "test": [
                          0.713598586
                        ]
                      },
                      {
                        "learn": [
                          0.6880372483
                        ],
                        "iteration": 588,
                        "passed_time": 10.28178356,
                        "remaining_time": 7.17455525,
                        "test": [
                          0.713588457
                        ]
                      },
                      {
                        "learn": [
                          0.6879823298
                        ],
                        "iteration": 589,
                        "passed_time": 10.29296878,
                        "remaining_time": 7.152741018,
                        "test": [
                          0.7136028987
                        ]
                      },
                      {
                        "learn": [
                          0.6879750298
                        ],
                        "iteration": 590,
                        "passed_time": 10.29919099,
                        "remaining_time": 7.127528114,
                        "test": [
                          0.7135916133
                        ]
                      },
                      {
                        "learn": [
                          0.6879709528
                        ],
                        "iteration": 591,
                        "passed_time": 10.30846402,
                        "remaining_time": 7.10448196,
                        "test": [
                          0.7135924357
                        ]
                      },
                      {
                        "learn": [
                          0.6879362955
                        ],
                        "iteration": 592,
                        "passed_time": 10.32193405,
                        "remaining_time": 7.084362828,
                        "test": [
                          0.7136108575
                        ]
                      },
                      {
                        "learn": [
                          0.6879209393
                        ],
                        "iteration": 593,
                        "passed_time": 10.33125179,
                        "remaining_time": 7.06142799,
                        "test": [
                          0.7136157459
                        ]
                      },
                      {
                        "learn": [
                          0.6879030079
                        ],
                        "iteration": 594,
                        "passed_time": 10.34064587,
                        "remaining_time": 7.038590889,
                        "test": [
                          0.7136076008
                        ]
                      },
                      {
                        "learn": [
                          0.6878996699
                        ],
                        "iteration": 595,
                        "passed_time": 10.34761138,
                        "remaining_time": 7.014152683,
                        "test": [
                          0.7135999861
                        ]
                      },
                      {
                        "learn": [
                          0.6878354715
                        ],
                        "iteration": 596,
                        "passed_time": 10.35908776,
                        "remaining_time": 6.992818034,
                        "test": [
                          0.713597125
                        ]
                      },
                      {
                        "learn": [
                          0.6878299919
                        ],
                        "iteration": 597,
                        "passed_time": 10.36603859,
                        "remaining_time": 6.9684741,
                        "test": [
                          0.7135931934
                        ]
                      },
                      {
                        "learn": [
                          0.6878064102
                        ],
                        "iteration": 598,
                        "passed_time": 10.37748088,
                        "remaining_time": 6.947195048,
                        "test": [
                          0.7136034604
                        ]
                      },
                      {
                        "learn": [
                          0.6878019614
                        ],
                        "iteration": 599,
                        "passed_time": 10.38803482,
                        "remaining_time": 6.925356545,
                        "test": [
                          0.7136066251
                        ]
                      },
                      {
                        "learn": [
                          0.6877651975
                        ],
                        "iteration": 600,
                        "passed_time": 10.40025912,
                        "remaining_time": 6.904664541,
                        "test": [
                          0.7136162568
                        ]
                      },
                      {
                        "learn": [
                          0.6877116112
                        ],
                        "iteration": 601,
                        "passed_time": 10.40882183,
                        "remaining_time": 6.881579884,
                        "test": [
                          0.7136267715
                        ]
                      },
                      {
                        "learn": [
                          0.6877007804
                        ],
                        "iteration": 602,
                        "passed_time": 10.42094057,
                        "remaining_time": 6.860884586,
                        "test": [
                          0.7136297907
                        ]
                      },
                      {
                        "learn": [
                          0.6876949944
                        ],
                        "iteration": 603,
                        "passed_time": 10.42889724,
                        "remaining_time": 6.837488917,
                        "test": [
                          0.713636832
                        ]
                      },
                      {
                        "learn": [
                          0.68765305
                        ],
                        "iteration": 604,
                        "passed_time": 10.43935266,
                        "remaining_time": 6.815775706,
                        "test": [
                          0.7136345052
                        ]
                      },
                      {
                        "learn": [
                          0.687637053
                        ],
                        "iteration": 605,
                        "passed_time": 10.44843522,
                        "remaining_time": 6.793207056,
                        "test": [
                          0.7136361505
                        ]
                      },
                      {
                        "learn": [
                          0.6876007065
                        ],
                        "iteration": 606,
                        "passed_time": 10.4593604,
                        "remaining_time": 6.771875846,
                        "test": [
                          0.7136092025
                        ]
                      },
                      {
                        "learn": [
                          0.6875943212
                        ],
                        "iteration": 607,
                        "passed_time": 10.47087085,
                        "remaining_time": 6.750956204,
                        "test": [
                          0.7136096618
                        ]
                      },
                      {
                        "learn": [
                          0.6875696233
                        ],
                        "iteration": 608,
                        "passed_time": 10.48078333,
                        "remaining_time": 6.729041516,
                        "test": [
                          0.7135917593
                        ]
                      },
                      {
                        "learn": [
                          0.6875553323
                        ],
                        "iteration": 609,
                        "passed_time": 10.48785037,
                        "remaining_time": 6.705346959,
                        "test": [
                          0.7135904286
                        ]
                      },
                      {
                        "learn": [
                          0.6875028012
                        ],
                        "iteration": 610,
                        "passed_time": 10.49782292,
                        "remaining_time": 6.683556654,
                        "test": [
                          0.7135669289
                        ]
                      },
                      {
                        "learn": [
                          0.6874432339
                        ],
                        "iteration": 611,
                        "passed_time": 10.50738776,
                        "remaining_time": 6.661546489,
                        "test": [
                          0.7135627224
                        ]
                      },
                      {
                        "learn": [
                          0.6874389359
                        ],
                        "iteration": 612,
                        "passed_time": 10.51487789,
                        "remaining_time": 6.638267116,
                        "test": [
                          0.7135591622
                        ]
                      },
                      {
                        "learn": [
                          0.6874026974
                        ],
                        "iteration": 613,
                        "passed_time": 10.52678161,
                        "remaining_time": 6.617813843,
                        "test": [
                          0.7135211775
                        ]
                      },
                      {
                        "learn": [
                          0.6873804108
                        ],
                        "iteration": 614,
                        "passed_time": 10.53512282,
                        "remaining_time": 6.59515819,
                        "test": [
                          0.7135011165
                        ]
                      },
                      {
                        "learn": [
                          0.6873209586
                        ],
                        "iteration": 615,
                        "passed_time": 10.54417107,
                        "remaining_time": 6.572989759,
                        "test": [
                          0.71346756
                        ]
                      },
                      {
                        "learn": [
                          0.6873033223
                        ],
                        "iteration": 616,
                        "passed_time": 10.55375577,
                        "remaining_time": 6.551196859,
                        "test": [
                          0.7134653399
                        ]
                      },
                      {
                        "learn": [
                          0.6872830259
                        ],
                        "iteration": 617,
                        "passed_time": 10.56519128,
                        "remaining_time": 6.53058749,
                        "test": [
                          0.7134769734
                        ]
                      },
                      {
                        "learn": [
                          0.6872729757
                        ],
                        "iteration": 618,
                        "passed_time": 10.57172718,
                        "remaining_time": 6.506992014,
                        "test": [
                          0.7134800727
                        ]
                      },
                      {
                        "learn": [
                          0.6872395466
                        ],
                        "iteration": 619,
                        "passed_time": 10.58285487,
                        "remaining_time": 6.486265889,
                        "test": [
                          0.7134973039
                        ]
                      },
                      {
                        "learn": [
                          0.6872161812
                        ],
                        "iteration": 620,
                        "passed_time": 10.59300788,
                        "remaining_time": 6.464975826,
                        "test": [
                          0.7134941846
                        ]
                      },
                      {
                        "learn": [
                          0.6872054588
                        ],
                        "iteration": 621,
                        "passed_time": 10.60049047,
                        "remaining_time": 6.442098711,
                        "test": [
                          0.7134946345
                        ]
                      },
                      {
                        "learn": [
                          0.6870769986
                        ],
                        "iteration": 622,
                        "passed_time": 10.61305542,
                        "remaining_time": 6.422346536,
                        "test": [
                          0.7133751804
                        ]
                      },
                      {
                        "learn": [
                          0.6870562659
                        ],
                        "iteration": 623,
                        "passed_time": 10.62388898,
                        "remaining_time": 6.40157413,
                        "test": [
                          0.7133741188
                        ]
                      },
                      {
                        "learn": [
                          0.6870175247
                        ],
                        "iteration": 624,
                        "passed_time": 10.63347457,
                        "remaining_time": 6.380084741,
                        "test": [
                          0.7133689518
                        ]
                      },
                      {
                        "learn": [
                          0.6870009364
                        ],
                        "iteration": 625,
                        "passed_time": 10.64725307,
                        "remaining_time": 6.361138415,
                        "test": [
                          0.7133830705
                        ]
                      },
                      {
                        "learn": [
                          0.6869768686
                        ],
                        "iteration": 626,
                        "passed_time": 10.65706519,
                        "remaining_time": 6.33984899,
                        "test": [
                          0.7133917711
                        ]
                      },
                      {
                        "learn": [
                          0.6869646469
                        ],
                        "iteration": 627,
                        "passed_time": 10.66705796,
                        "remaining_time": 6.31870312,
                        "test": [
                          0.7133844043
                        ]
                      },
                      {
                        "learn": [
                          0.6869633027
                        ],
                        "iteration": 628,
                        "passed_time": 10.67247333,
                        "remaining_time": 6.294892857,
                        "test": [
                          0.7133844652
                        ]
                      },
                      {
                        "learn": [
                          0.6869346922
                        ],
                        "iteration": 629,
                        "passed_time": 10.68047329,
                        "remaining_time": 6.272658916,
                        "test": [
                          0.71338246
                        ]
                      },
                      {
                        "learn": [
                          0.6869170767
                        ],
                        "iteration": 630,
                        "passed_time": 10.6903951,
                        "remaining_time": 6.251593967,
                        "test": [
                          0.7133787874
                        ]
                      },
                      {
                        "learn": [
                          0.686910175
                        ],
                        "iteration": 631,
                        "passed_time": 10.69913299,
                        "remaining_time": 6.229874905,
                        "test": [
                          0.7133819322
                        ]
                      },
                      {
                        "learn": [
                          0.6868658632
                        ],
                        "iteration": 632,
                        "passed_time": 10.70666709,
                        "remaining_time": 6.207498927,
                        "test": [
                          0.7133630453
                        ]
                      },
                      {
                        "learn": [
                          0.686843764
                        ],
                        "iteration": 633,
                        "passed_time": 10.71816076,
                        "remaining_time": 6.187455583,
                        "test": [
                          0.7133871252
                        ]
                      },
                      {
                        "learn": [
                          0.6868242826
                        ],
                        "iteration": 634,
                        "passed_time": 10.72850236,
                        "remaining_time": 6.166776948,
                        "test": [
                          0.7133836642
                        ]
                      },
                      {
                        "learn": [
                          0.6868088429
                        ],
                        "iteration": 635,
                        "passed_time": 10.73638304,
                        "remaining_time": 6.144722368,
                        "test": [
                          0.7133705855
                        ]
                      },
                      {
                        "learn": [
                          0.6867155469
                        ],
                        "iteration": 636,
                        "passed_time": 10.74637198,
                        "remaining_time": 6.123913705,
                        "test": [
                          0.7133748854
                        ]
                      },
                      {
                        "learn": [
                          0.6866778888
                        ],
                        "iteration": 637,
                        "passed_time": 10.75622903,
                        "remaining_time": 6.103064121,
                        "test": [
                          0.7133758134
                        ]
                      },
                      {
                        "learn": [
                          0.6866408062
                        ],
                        "iteration": 638,
                        "passed_time": 10.76937798,
                        "remaining_time": 6.084108689,
                        "test": [
                          0.7133966817
                        ]
                      },
                      {
                        "learn": [
                          0.6866105198
                        ],
                        "iteration": 639,
                        "passed_time": 10.77942666,
                        "remaining_time": 6.063427497,
                        "test": [
                          0.7133952525
                        ]
                      },
                      {
                        "learn": [
                          0.6865686838
                        ],
                        "iteration": 640,
                        "passed_time": 10.79333889,
                        "remaining_time": 6.04494331,
                        "test": [
                          0.7134055965
                        ]
                      },
                      {
                        "learn": [
                          0.6865414541
                        ],
                        "iteration": 641,
                        "passed_time": 10.80296793,
                        "remaining_time": 6.024084918,
                        "test": [
                          0.7133947189
                        ]
                      },
                      {
                        "learn": [
                          0.6865184202
                        ],
                        "iteration": 642,
                        "passed_time": 10.81714714,
                        "remaining_time": 6.005787759,
                        "test": [
                          0.7133897474
                        ]
                      },
                      {
                        "learn": [
                          0.6864669099
                        ],
                        "iteration": 643,
                        "passed_time": 10.83326774,
                        "remaining_time": 5.988576576,
                        "test": [
                          0.7133895723
                        ]
                      },
                      {
                        "learn": [
                          0.6864307829
                        ],
                        "iteration": 644,
                        "passed_time": 10.84677707,
                        "remaining_time": 5.969931568,
                        "test": [
                          0.7133415704
                        ]
                      },
                      {
                        "learn": [
                          0.6863716577
                        ],
                        "iteration": 645,
                        "passed_time": 10.85582882,
                        "remaining_time": 5.948859754,
                        "test": [
                          0.7133318519
                        ]
                      },
                      {
                        "learn": [
                          0.6863420726
                        ],
                        "iteration": 646,
                        "passed_time": 10.87557458,
                        "remaining_time": 5.933659701,
                        "test": [
                          0.7133337107
                        ]
                      },
                      {
                        "learn": [
                          0.6862823432
                        ],
                        "iteration": 647,
                        "passed_time": 10.8913597,
                        "remaining_time": 5.916294159,
                        "test": [
                          0.7132738123
                        ]
                      },
                      {
                        "learn": [
                          0.6862401959
                        ],
                        "iteration": 648,
                        "passed_time": 10.90778291,
                        "remaining_time": 5.899278582,
                        "test": [
                          0.7132755737
                        ]
                      },
                      {
                        "learn": [
                          0.6862034742
                        ],
                        "iteration": 649,
                        "passed_time": 10.93378487,
                        "remaining_time": 5.887422624,
                        "test": [
                          0.7132649927
                        ]
                      },
                      {
                        "learn": [
                          0.6861863248
                        ],
                        "iteration": 650,
                        "passed_time": 10.94479031,
                        "remaining_time": 5.867483594,
                        "test": [
                          0.7132651374
                        ]
                      },
                      {
                        "learn": [
                          0.6861641055
                        ],
                        "iteration": 651,
                        "passed_time": 10.95478661,
                        "remaining_time": 5.847033342,
                        "test": [
                          0.7132609707
                        ]
                      },
                      {
                        "learn": [
                          0.6861228698
                        ],
                        "iteration": 652,
                        "passed_time": 10.97081268,
                        "remaining_time": 5.829819296,
                        "test": [
                          0.7132440289
                        ]
                      },
                      {
                        "learn": [
                          0.6861052366
                        ],
                        "iteration": 653,
                        "passed_time": 10.98042398,
                        "remaining_time": 5.809215131,
                        "test": [
                          0.7132398231
                        ]
                      },
                      {
                        "learn": [
                          0.6860502034
                        ],
                        "iteration": 654,
                        "passed_time": 11.00035294,
                        "remaining_time": 5.79407903,
                        "test": [
                          0.7131984189
                        ]
                      },
                      {
                        "learn": [
                          0.6859883525
                        ],
                        "iteration": 655,
                        "passed_time": 11.0107626,
                        "remaining_time": 5.773936487,
                        "test": [
                          0.7132169705
                        ]
                      },
                      {
                        "learn": [
                          0.6859718336
                        ],
                        "iteration": 656,
                        "passed_time": 11.03318561,
                        "remaining_time": 5.76009538,
                        "test": [
                          0.7132105886
                        ]
                      },
                      {
                        "learn": [
                          0.685965374
                        ],
                        "iteration": 657,
                        "passed_time": 11.08903397,
                        "remaining_time": 5.763601241,
                        "test": [
                          0.7132124357
                        ]
                      },
                      {
                        "learn": [
                          0.6859364208
                        ],
                        "iteration": 658,
                        "passed_time": 11.12255735,
                        "remaining_time": 5.755374894,
                        "test": [
                          0.7132112232
                        ]
                      },
                      {
                        "learn": [
                          0.6859046032
                        ],
                        "iteration": 659,
                        "passed_time": 11.15659901,
                        "remaining_time": 5.747338883,
                        "test": [
                          0.7132053125
                        ]
                      },
                      {
                        "learn": [
                          0.6858555751
                        ],
                        "iteration": 660,
                        "passed_time": 11.17682237,
                        "remaining_time": 5.732137342,
                        "test": [
                          0.7132301426
                        ]
                      },
                      {
                        "learn": [
                          0.6858500373
                        ],
                        "iteration": 661,
                        "passed_time": 11.20277381,
                        "remaining_time": 5.719845239,
                        "test": [
                          0.7132300609
                        ]
                      },
                      {
                        "learn": [
                          0.6858361427
                        ],
                        "iteration": 662,
                        "passed_time": 11.21187338,
                        "remaining_time": 5.698946198,
                        "test": [
                          0.713239896
                        ]
                      },
                      {
                        "learn": [
                          0.6858337697
                        ],
                        "iteration": 663,
                        "passed_time": 11.22389003,
                        "remaining_time": 5.679558808,
                        "test": [
                          0.7132392309
                        ]
                      },
                      {
                        "learn": [
                          0.6858077861
                        ],
                        "iteration": 664,
                        "passed_time": 11.2340367,
                        "remaining_time": 5.659251571,
                        "test": [
                          0.7132458249
                        ]
                      },
                      {
                        "learn": [
                          0.6857777666
                        ],
                        "iteration": 665,
                        "passed_time": 11.24676604,
                        "remaining_time": 5.640270054,
                        "test": [
                          0.713217056
                        ]
                      },
                      {
                        "learn": [
                          0.6857364753
                        ],
                        "iteration": 666,
                        "passed_time": 11.27354314,
                        "remaining_time": 5.628320637,
                        "test": [
                          0.7132404194
                        ]
                      },
                      {
                        "learn": [
                          0.6857180819
                        ],
                        "iteration": 667,
                        "passed_time": 11.28943347,
                        "remaining_time": 5.610916037,
                        "test": [
                          0.7132351684
                        ]
                      },
                      {
                        "learn": [
                          0.6856592623
                        ],
                        "iteration": 668,
                        "passed_time": 11.30072191,
                        "remaining_time": 5.591239094,
                        "test": [
                          0.7132179609
                        ]
                      },
                      {
                        "learn": [
                          0.6855921245
                        ],
                        "iteration": 669,
                        "passed_time": 11.31767609,
                        "remaining_time": 5.574377776,
                        "test": [
                          0.7132180526
                        ]
                      },
                      {
                        "learn": [
                          0.6855894073
                        ],
                        "iteration": 670,
                        "passed_time": 11.33162708,
                        "remaining_time": 5.556043679,
                        "test": [
                          0.7132151764
                        ]
                      },
                      {
                        "learn": [
                          0.6855471907
                        ],
                        "iteration": 671,
                        "passed_time": 11.34634202,
                        "remaining_time": 5.538095507,
                        "test": [
                          0.7132184881
                        ]
                      },
                      {
                        "learn": [
                          0.6855342448
                        ],
                        "iteration": 672,
                        "passed_time": 11.35507961,
                        "remaining_time": 5.51725265,
                        "test": [
                          0.713204192
                        ]
                      },
                      {
                        "learn": [
                          0.6855000327
                        ],
                        "iteration": 673,
                        "passed_time": 11.36989287,
                        "remaining_time": 5.499384383,
                        "test": [
                          0.7132260495
                        ]
                      },
                      {
                        "learn": [
                          0.6854923642
                        ],
                        "iteration": 674,
                        "passed_time": 11.38178965,
                        "remaining_time": 5.480120942,
                        "test": [
                          0.7132263264
                        ]
                      },
                      {
                        "learn": [
                          0.6854737561
                        ],
                        "iteration": 675,
                        "passed_time": 11.39234966,
                        "remaining_time": 5.460238595,
                        "test": [
                          0.7132296208
                        ]
                      },
                      {
                        "learn": [
                          0.6854549379
                        ],
                        "iteration": 676,
                        "passed_time": 11.407878,
                        "remaining_time": 5.4427542,
                        "test": [
                          0.7132009642
                        ]
                      },
                      {
                        "learn": [
                          0.6853705922
                        ],
                        "iteration": 677,
                        "passed_time": 11.42441614,
                        "remaining_time": 5.425755159,
                        "test": [
                          0.713115997
                        ]
                      },
                      {
                        "learn": [
                          0.6853471894
                        ],
                        "iteration": 678,
                        "passed_time": 11.43659153,
                        "remaining_time": 5.406694965,
                        "test": [
                          0.713125095
                        ]
                      },
                      {
                        "learn": [
                          0.6852712276
                        ],
                        "iteration": 679,
                        "passed_time": 11.45122857,
                        "remaining_time": 5.388813445,
                        "test": [
                          0.7131295371
                        ]
                      },
                      {
                        "learn": [
                          0.6852369858
                        ],
                        "iteration": 680,
                        "passed_time": 11.46760973,
                        "remaining_time": 5.371758449,
                        "test": [
                          0.7131213324
                        ]
                      },
                      {
                        "learn": [
                          0.6851685614
                        ],
                        "iteration": 681,
                        "passed_time": 11.48034693,
                        "remaining_time": 5.353006341,
                        "test": [
                          0.7130857873
                        ]
                      },
                      {
                        "learn": [
                          0.6851425662
                        ],
                        "iteration": 682,
                        "passed_time": 11.49495375,
                        "remaining_time": 5.335139589,
                        "test": [
                          0.7130758067
                        ]
                      },
                      {
                        "learn": [
                          0.6851362389
                        ],
                        "iteration": 683,
                        "passed_time": 11.50426723,
                        "remaining_time": 5.314836906,
                        "test": [
                          0.7130708078
                        ]
                      },
                      {
                        "learn": [
                          0.6851306849
                        ],
                        "iteration": 684,
                        "passed_time": 11.52422437,
                        "remaining_time": 5.299460839,
                        "test": [
                          0.7130765082
                        ]
                      },
                      {
                        "learn": [
                          0.6850772267
                        ],
                        "iteration": 685,
                        "passed_time": 11.53665695,
                        "remaining_time": 5.280627232,
                        "test": [
                          0.7130979556
                        ]
                      },
                      {
                        "learn": [
                          0.6850478348
                        ],
                        "iteration": 686,
                        "passed_time": 11.54849701,
                        "remaining_time": 5.261542307,
                        "test": [
                          0.7130946939
                        ]
                      },
                      {
                        "learn": [
                          0.6850109864
                        ],
                        "iteration": 687,
                        "passed_time": 11.56520171,
                        "remaining_time": 5.244684494,
                        "test": [
                          0.7131357663
                        ]
                      },
                      {
                        "learn": [
                          0.6850075819
                        ],
                        "iteration": 688,
                        "passed_time": 11.57230302,
                        "remaining_time": 5.223492367,
                        "test": [
                          0.7131368657
                        ]
                      },
                      {
                        "learn": [
                          0.6850004294
                        ],
                        "iteration": 689,
                        "passed_time": 11.58740113,
                        "remaining_time": 5.205933842,
                        "test": [
                          0.7131371753
                        ]
                      },
                      {
                        "learn": [
                          0.6849931631
                        ],
                        "iteration": 690,
                        "passed_time": 11.60411712,
                        "remaining_time": 5.189105917,
                        "test": [
                          0.7131440265
                        ]
                      },
                      {
                        "learn": [
                          0.6849837889
                        ],
                        "iteration": 691,
                        "passed_time": 11.6232744,
                        "remaining_time": 5.173364905,
                        "test": [
                          0.7131399565
                        ]
                      },
                      {
                        "learn": [
                          0.6849609951
                        ],
                        "iteration": 692,
                        "passed_time": 11.64981334,
                        "remaining_time": 5.160884118,
                        "test": [
                          0.7131359191
                        ]
                      },
                      {
                        "learn": [
                          0.6849287889
                        ],
                        "iteration": 693,
                        "passed_time": 11.67904468,
                        "remaining_time": 5.149549959,
                        "test": [
                          0.7131374698
                        ]
                      },
                      {
                        "learn": [
                          0.6849122975
                        ],
                        "iteration": 694,
                        "passed_time": 11.70429916,
                        "remaining_time": 5.136419056,
                        "test": [
                          0.7131419846
                        ]
                      },
                      {
                        "learn": [
                          0.6848833046
                        ],
                        "iteration": 695,
                        "passed_time": 11.72806841,
                        "remaining_time": 5.122604591,
                        "test": [
                          0.7131288886
                        ]
                      },
                      {
                        "learn": [
                          0.6848139166
                        ],
                        "iteration": 696,
                        "passed_time": 11.75265147,
                        "remaining_time": 5.109115347,
                        "test": [
                          0.7130841156
                        ]
                      },
                      {
                        "learn": [
                          0.6847837132
                        ],
                        "iteration": 697,
                        "passed_time": 11.77108946,
                        "remaining_time": 5.092935555,
                        "test": [
                          0.7130341491
                        ]
                      },
                      {
                        "learn": [
                          0.6847686385
                        ],
                        "iteration": 698,
                        "passed_time": 11.79291988,
                        "remaining_time": 5.078210133,
                        "test": [
                          0.7130300475
                        ]
                      },
                      {
                        "learn": [
                          0.6847628403
                        ],
                        "iteration": 699,
                        "passed_time": 11.81530807,
                        "remaining_time": 5.063703457,
                        "test": [
                          0.7130367077
                        ]
                      },
                      {
                        "learn": [
                          0.6847240734
                        ],
                        "iteration": 700,
                        "passed_time": 11.86043451,
                        "remaining_time": 5.058872922,
                        "test": [
                          0.7130377546
                        ]
                      },
                      {
                        "learn": [
                          0.6847036371
                        ],
                        "iteration": 701,
                        "passed_time": 11.87397351,
                        "remaining_time": 5.040518671,
                        "test": [
                          0.7130415699
                        ]
                      },
                      {
                        "learn": [
                          0.6846785755
                        ],
                        "iteration": 702,
                        "passed_time": 11.89948919,
                        "remaining_time": 5.027237963,
                        "test": [
                          0.7130428117
                        ]
                      },
                      {
                        "learn": [
                          0.6846554287
                        ],
                        "iteration": 703,
                        "passed_time": 11.92986483,
                        "remaining_time": 5.015965896,
                        "test": [
                          0.7130384598
                        ]
                      },
                      {
                        "learn": [
                          0.6846250732
                        ],
                        "iteration": 704,
                        "passed_time": 11.97093175,
                        "remaining_time": 5.009113286,
                        "test": [
                          0.7130657729
                        ]
                      },
                      {
                        "learn": [
                          0.6845673529
                        ],
                        "iteration": 705,
                        "passed_time": 12.00714596,
                        "remaining_time": 5.000142936,
                        "test": [
                          0.7130764773
                        ]
                      },
                      {
                        "learn": [
                          0.6845544593
                        ],
                        "iteration": 706,
                        "passed_time": 12.03902342,
                        "remaining_time": 4.989298248,
                        "test": [
                          0.7130780828
                        ]
                      },
                      {
                        "learn": [
                          0.6845257866
                        ],
                        "iteration": 707,
                        "passed_time": 12.10977058,
                        "remaining_time": 4.994425156,
                        "test": [
                          0.7130469149
                        ]
                      },
                      {
                        "learn": [
                          0.6845100788
                        ],
                        "iteration": 708,
                        "passed_time": 12.1570295,
                        "remaining_time": 4.98969758,
                        "test": [
                          0.7130501529
                        ]
                      },
                      {
                        "learn": [
                          0.6845014225
                        ],
                        "iteration": 709,
                        "passed_time": 12.24502436,
                        "remaining_time": 5.001488825,
                        "test": [
                          0.7130488229
                        ]
                      },
                      {
                        "learn": [
                          0.6844848868
                        ],
                        "iteration": 710,
                        "passed_time": 12.29780159,
                        "remaining_time": 4.998684471,
                        "test": [
                          0.7130497366
                        ]
                      },
                      {
                        "learn": [
                          0.6844485466
                        ],
                        "iteration": 711,
                        "passed_time": 12.40904137,
                        "remaining_time": 5.019387522,
                        "test": [
                          0.7130817364
                        ]
                      },
                      {
                        "learn": [
                          0.6844460579
                        ],
                        "iteration": 712,
                        "passed_time": 12.51093136,
                        "remaining_time": 5.035956944,
                        "test": [
                          0.7130816194
                        ]
                      },
                      {
                        "learn": [
                          0.6844066778
                        ],
                        "iteration": 713,
                        "passed_time": 12.60623227,
                        "remaining_time": 5.049555225,
                        "test": [
                          0.7130549734
                        ]
                      },
                      {
                        "learn": [
                          0.6844044832
                        ],
                        "iteration": 714,
                        "passed_time": 12.66899698,
                        "remaining_time": 5.049879915,
                        "test": [
                          0.7130555326
                        ]
                      },
                      {
                        "learn": [
                          0.6843800481
                        ],
                        "iteration": 715,
                        "passed_time": 12.76882922,
                        "remaining_time": 5.064731142,
                        "test": [
                          0.7130540304
                        ]
                      },
                      {
                        "learn": [
                          0.6843741144
                        ],
                        "iteration": 716,
                        "passed_time": 12.84583918,
                        "remaining_time": 5.070254515,
                        "test": [
                          0.7130383314
                        ]
                      },
                      {
                        "learn": [
                          0.6843174112
                        ],
                        "iteration": 717,
                        "passed_time": 12.93979238,
                        "remaining_time": 5.082202579,
                        "test": [
                          0.7130214376
                        ]
                      },
                      {
                        "learn": [
                          0.6843019508
                        ],
                        "iteration": 718,
                        "passed_time": 12.99975493,
                        "remaining_time": 5.080571816,
                        "test": [
                          0.7130174426
                        ]
                      },
                      {
                        "learn": [
                          0.6842494407
                        ],
                        "iteration": 719,
                        "passed_time": 13.10168353,
                        "remaining_time": 5.095099152,
                        "test": [
                          0.7130078167
                        ]
                      },
                      {
                        "learn": [
                          0.6842430746
                        ],
                        "iteration": 720,
                        "passed_time": 13.1703552,
                        "remaining_time": 5.09643426,
                        "test": [
                          0.7130067208
                        ]
                      },
                      {
                        "learn": [
                          0.6842227508
                        ],
                        "iteration": 721,
                        "passed_time": 13.28338846,
                        "remaining_time": 5.114656498,
                        "test": [
                          0.7129859445
                        ]
                      },
                      {
                        "learn": [
                          0.6841958251
                        ],
                        "iteration": 722,
                        "passed_time": 13.4461313,
                        "remaining_time": 5.151560679,
                        "test": [
                          0.7129400628
                        ]
                      },
                      {
                        "learn": [
                          0.6841885106
                        ],
                        "iteration": 723,
                        "passed_time": 13.71783684,
                        "remaining_time": 5.229451612,
                        "test": [
                          0.712944475
                        ]
                      },
                      {
                        "learn": [
                          0.6841787747
                        ],
                        "iteration": 724,
                        "passed_time": 13.82458943,
                        "remaining_time": 5.243809784,
                        "test": [
                          0.7129457073
                        ]
                      },
                      {
                        "learn": [
                          0.6841579999
                        ],
                        "iteration": 725,
                        "passed_time": 13.93007439,
                        "remaining_time": 5.257355899,
                        "test": [
                          0.7129397567
                        ]
                      },
                      {
                        "learn": [
                          0.6841346097
                        ],
                        "iteration": 726,
                        "passed_time": 14.0980736,
                        "remaining_time": 5.294049646,
                        "test": [
                          0.7129293539
                        ]
                      },
                      {
                        "learn": [
                          0.6841086274
                        ],
                        "iteration": 727,
                        "passed_time": 14.22535953,
                        "remaining_time": 5.314969496,
                        "test": [
                          0.7129114288
                        ]
                      },
                      {
                        "learn": [
                          0.6840693298
                        ],
                        "iteration": 728,
                        "passed_time": 14.3007933,
                        "remaining_time": 5.31620711,
                        "test": [
                          0.7128869346
                        ]
                      },
                      {
                        "learn": [
                          0.684067533
                        ],
                        "iteration": 729,
                        "passed_time": 14.33822579,
                        "remaining_time": 5.303179401,
                        "test": [
                          0.7128880675
                        ]
                      },
                      {
                        "learn": [
                          0.6840255
                        ],
                        "iteration": 730,
                        "passed_time": 14.38364787,
                        "remaining_time": 5.293025001,
                        "test": [
                          0.7128857286
                        ]
                      },
                      {
                        "learn": [
                          0.6840176122
                        ],
                        "iteration": 731,
                        "passed_time": 14.41719718,
                        "remaining_time": 5.278427382,
                        "test": [
                          0.712890384
                        ]
                      },
                      {
                        "learn": [
                          0.6839919954
                        ],
                        "iteration": 732,
                        "passed_time": 14.44634009,
                        "remaining_time": 5.262172993,
                        "test": [
                          0.7128897571
                        ]
                      },
                      {
                        "learn": [
                          0.6839816626
                        ],
                        "iteration": 733,
                        "passed_time": 14.53333023,
                        "remaining_time": 5.266847195,
                        "test": [
                          0.7128872382
                        ]
                      },
                      {
                        "learn": [
                          0.683979353
                        ],
                        "iteration": 734,
                        "passed_time": 14.57379464,
                        "remaining_time": 5.254497386,
                        "test": [
                          0.712888214
                        ]
                      },
                      {
                        "learn": [
                          0.6839742663
                        ],
                        "iteration": 735,
                        "passed_time": 14.61125533,
                        "remaining_time": 5.240993761,
                        "test": [
                          0.7128893857
                        ]
                      },
                      {
                        "learn": [
                          0.6839575428
                        ],
                        "iteration": 736,
                        "passed_time": 14.65393939,
                        "remaining_time": 5.229289089,
                        "test": [
                          0.7128904365
                        ]
                      },
                      {
                        "learn": [
                          0.683916451
                        ],
                        "iteration": 737,
                        "passed_time": 14.71632681,
                        "remaining_time": 5.224495427,
                        "test": [
                          0.7128455026
                        ]
                      },
                      {
                        "learn": [
                          0.6839004446
                        ],
                        "iteration": 738,
                        "passed_time": 14.78330167,
                        "remaining_time": 5.221166085,
                        "test": [
                          0.7128357644
                        ]
                      },
                      {
                        "learn": [
                          0.6838858142
                        ],
                        "iteration": 739,
                        "passed_time": 14.86609995,
                        "remaining_time": 5.223224308,
                        "test": [
                          0.7128371748
                        ]
                      },
                      {
                        "learn": [
                          0.6838823946
                        ],
                        "iteration": 740,
                        "passed_time": 14.90315548,
                        "remaining_time": 5.209065142,
                        "test": [
                          0.7128378725
                        ]
                      },
                      {
                        "learn": [
                          0.6838620315
                        ],
                        "iteration": 741,
                        "passed_time": 14.95174401,
                        "remaining_time": 5.198854387,
                        "test": [
                          0.7128467285
                        ]
                      },
                      {
                        "learn": [
                          0.6838199482
                        ],
                        "iteration": 742,
                        "passed_time": 14.99846444,
                        "remaining_time": 5.18789416,
                        "test": [
                          0.7128446619
                        ]
                      },
                      {
                        "learn": [
                          0.6838134178
                        ],
                        "iteration": 743,
                        "passed_time": 15.03481048,
                        "remaining_time": 5.173268121,
                        "test": [
                          0.7128411675
                        ]
                      },
                      {
                        "learn": [
                          0.6838054073
                        ],
                        "iteration": 744,
                        "passed_time": 15.05386976,
                        "remaining_time": 5.15266683,
                        "test": [
                          0.7128477067
                        ]
                      },
                      {
                        "learn": [
                          0.6837504328
                        ],
                        "iteration": 745,
                        "passed_time": 15.07979816,
                        "remaining_time": 5.134408488,
                        "test": [
                          0.7127988467
                        ]
                      },
                      {
                        "learn": [
                          0.683722447
                        ],
                        "iteration": 746,
                        "passed_time": 15.10228673,
                        "remaining_time": 5.114964583,
                        "test": [
                          0.7128075039
                        ]
                      },
                      {
                        "learn": [
                          0.6836853034
                        ],
                        "iteration": 747,
                        "passed_time": 15.11757458,
                        "remaining_time": 5.093086624,
                        "test": [
                          0.7127817483
                        ]
                      },
                      {
                        "learn": [
                          0.6836626692
                        ],
                        "iteration": 748,
                        "passed_time": 15.13877416,
                        "remaining_time": 5.073207362,
                        "test": [
                          0.7127774811
                        ]
                      },
                      {
                        "learn": [
                          0.6836431264
                        ],
                        "iteration": 749,
                        "passed_time": 15.16455378,
                        "remaining_time": 5.054851259,
                        "test": [
                          0.7127848474
                        ]
                      },
                      {
                        "learn": [
                          0.6836294486
                        ],
                        "iteration": 750,
                        "passed_time": 15.18429595,
                        "remaining_time": 5.034473623,
                        "test": [
                          0.7127859393
                        ]
                      },
                      {
                        "learn": [
                          0.6835829432
                        ],
                        "iteration": 751,
                        "passed_time": 15.21241105,
                        "remaining_time": 5.016858965,
                        "test": [
                          0.7128041108
                        ]
                      },
                      {
                        "learn": [
                          0.6835543638
                        ],
                        "iteration": 752,
                        "passed_time": 15.24058951,
                        "remaining_time": 4.999237198,
                        "test": [
                          0.7128163514
                        ]
                      },
                      {
                        "learn": [
                          0.6835449959
                        ],
                        "iteration": 753,
                        "passed_time": 15.2621375,
                        "remaining_time": 4.979424171,
                        "test": [
                          0.71279453
                        ]
                      },
                      {
                        "learn": [
                          0.6834709058
                        ],
                        "iteration": 754,
                        "passed_time": 15.28516854,
                        "remaining_time": 4.960087803,
                        "test": [
                          0.7127375786
                        ]
                      },
                      {
                        "learn": [
                          0.6834472795
                        ],
                        "iteration": 755,
                        "passed_time": 15.30220592,
                        "remaining_time": 4.938807201,
                        "test": [
                          0.7127222009
                        ]
                      },
                      {
                        "learn": [
                          0.6833950105
                        ],
                        "iteration": 756,
                        "passed_time": 15.32468688,
                        "remaining_time": 4.919285221,
                        "test": [
                          0.7127313971
                        ]
                      },
                      {
                        "learn": [
                          0.6833769588
                        ],
                        "iteration": 757,
                        "passed_time": 15.34174707,
                        "remaining_time": 4.89802479,
                        "test": [
                          0.7127256713
                        ]
                      },
                      {
                        "learn": [
                          0.6833434025
                        ],
                        "iteration": 758,
                        "passed_time": 15.36201014,
                        "remaining_time": 4.877792415,
                        "test": [
                          0.7127151821
                        ]
                      },
                      {
                        "learn": [
                          0.683336731
                        ],
                        "iteration": 759,
                        "passed_time": 15.3894396,
                        "remaining_time": 4.859823032,
                        "test": [
                          0.7127138493
                        ]
                      },
                      {
                        "learn": [
                          0.683299498
                        ],
                        "iteration": 760,
                        "passed_time": 15.4129179,
                        "remaining_time": 4.840587881,
                        "test": [
                          0.7127241048
                        ]
                      },
                      {
                        "learn": [
                          0.6832715706
                        ],
                        "iteration": 761,
                        "passed_time": 15.4394481,
                        "remaining_time": 4.822294813,
                        "test": [
                          0.7127019981
                        ]
                      },
                      {
                        "learn": [
                          0.6832412766
                        ],
                        "iteration": 762,
                        "passed_time": 15.46693278,
                        "remaining_time": 4.80427663,
                        "test": [
                          0.7127000825
                        ]
                      },
                      {
                        "learn": [
                          0.6832279881
                        ],
                        "iteration": 763,
                        "passed_time": 15.48994475,
                        "remaining_time": 4.784852044,
                        "test": [
                          0.7127005133
                        ]
                      },
                      {
                        "learn": [
                          0.6831356963
                        ],
                        "iteration": 764,
                        "passed_time": 15.5171674,
                        "remaining_time": 4.766711554,
                        "test": [
                          0.7126507359
                        ]
                      },
                      {
                        "learn": [
                          0.6831197508
                        ],
                        "iteration": 765,
                        "passed_time": 15.54471802,
                        "remaining_time": 4.748647542,
                        "test": [
                          0.7126632532
                        ]
                      },
                      {
                        "learn": [
                          0.6831084222
                        ],
                        "iteration": 766,
                        "passed_time": 15.5709383,
                        "remaining_time": 4.73015466,
                        "test": [
                          0.712661914
                        ]
                      },
                      {
                        "learn": [
                          0.6830847489
                        ],
                        "iteration": 767,
                        "passed_time": 15.59282674,
                        "remaining_time": 4.710333077,
                        "test": [
                          0.7126376912
                        ]
                      },
                      {
                        "learn": [
                          0.683084046
                        ],
                        "iteration": 768,
                        "passed_time": 15.60609266,
                        "remaining_time": 4.687916,
                        "test": [
                          0.7126376345
                        ]
                      },
                      {
                        "learn": [
                          0.683059874
                        ],
                        "iteration": 769,
                        "passed_time": 15.62820539,
                        "remaining_time": 4.668165247,
                        "test": [
                          0.7126252998
                        ]
                      },
                      {
                        "learn": [
                          0.683023347
                        ],
                        "iteration": 770,
                        "passed_time": 15.65241466,
                        "remaining_time": 4.649031073,
                        "test": [
                          0.7126335425
                        ]
                      },
                      {
                        "learn": [
                          0.6830095158
                        ],
                        "iteration": 771,
                        "passed_time": 15.67366649,
                        "remaining_time": 4.62901031,
                        "test": [
                          0.7126474049
                        ]
                      },
                      {
                        "learn": [
                          0.6829675
                        ],
                        "iteration": 772,
                        "passed_time": 15.6947072,
                        "remaining_time": 4.608924365,
                        "test": [
                          0.7126553496
                        ]
                      },
                      {
                        "learn": [
                          0.6829148285
                        ],
                        "iteration": 773,
                        "passed_time": 15.7227985,
                        "remaining_time": 4.590894653,
                        "test": [
                          0.7126072168
                        ]
                      },
                      {
                        "learn": [
                          0.6829007857
                        ],
                        "iteration": 774,
                        "passed_time": 15.74537472,
                        "remaining_time": 4.571237821,
                        "test": [
                          0.7126048901
                        ]
                      },
                      {
                        "learn": [
                          0.6828398735
                        ],
                        "iteration": 775,
                        "passed_time": 15.76819041,
                        "remaining_time": 4.551642592,
                        "test": [
                          0.7125767181
                        ]
                      },
                      {
                        "learn": [
                          0.6828123968
                        ],
                        "iteration": 776,
                        "passed_time": 15.7947506,
                        "remaining_time": 4.533113749,
                        "test": [
                          0.7125672269
                        ]
                      },
                      {
                        "learn": [
                          0.6827901108
                        ],
                        "iteration": 777,
                        "passed_time": 15.81756361,
                        "remaining_time": 4.513495014,
                        "test": [
                          0.7125661412
                        ]
                      },
                      {
                        "learn": [
                          0.6827636372
                        ],
                        "iteration": 778,
                        "passed_time": 15.84405501,
                        "remaining_time": 4.494911628,
                        "test": [
                          0.7125480984
                        ]
                      },
                      {
                        "learn": [
                          0.6827386168
                        ],
                        "iteration": 779,
                        "passed_time": 15.86869874,
                        "remaining_time": 4.475786824,
                        "test": [
                          0.7125462221
                        ]
                      },
                      {
                        "learn": [
                          0.6826988105
                        ],
                        "iteration": 780,
                        "passed_time": 15.91265045,
                        "remaining_time": 4.462062034,
                        "test": [
                          0.7125434219
                        ]
                      },
                      {
                        "learn": [
                          0.6826951195
                        ],
                        "iteration": 781,
                        "passed_time": 15.92384647,
                        "remaining_time": 4.439128557,
                        "test": [
                          0.7125521858
                        ]
                      },
                      {
                        "learn": [
                          0.6826854718
                        ],
                        "iteration": 782,
                        "passed_time": 15.97171996,
                        "remaining_time": 4.426389824,
                        "test": [
                          0.7125488672
                        ]
                      },
                      {
                        "learn": [
                          0.6826716701
                        ],
                        "iteration": 783,
                        "passed_time": 15.98741499,
                        "remaining_time": 4.404695968,
                        "test": [
                          0.712549398
                        ]
                      },
                      {
                        "learn": [
                          0.6826275836
                        ],
                        "iteration": 784,
                        "passed_time": 16.01350184,
                        "remaining_time": 4.385863562,
                        "test": [
                          0.7125350444
                        ]
                      },
                      {
                        "learn": [
                          0.6826106465
                        ],
                        "iteration": 785,
                        "passed_time": 16.04211471,
                        "remaining_time": 4.367700442,
                        "test": [
                          0.7125303326
                        ]
                      },
                      {
                        "learn": [
                          0.6826086146
                        ],
                        "iteration": 786,
                        "passed_time": 16.05999643,
                        "remaining_time": 4.346606404,
                        "test": [
                          0.7125301945
                        ]
                      },
                      {
                        "learn": [
                          0.6826049362
                        ],
                        "iteration": 787,
                        "passed_time": 16.0773599,
                        "remaining_time": 4.32538109,
                        "test": [
                          0.7125303847
                        ]
                      },
                      {
                        "learn": [
                          0.682603117
                        ],
                        "iteration": 788,
                        "passed_time": 16.09334479,
                        "remaining_time": 4.303796895,
                        "test": [
                          0.7125308683
                        ]
                      },
                      {
                        "learn": [
                          0.6825406749
                        ],
                        "iteration": 789,
                        "passed_time": 16.1128996,
                        "remaining_time": 4.283175842,
                        "test": [
                          0.7125094859
                        ]
                      },
                      {
                        "learn": [
                          0.6825208723
                        ],
                        "iteration": 790,
                        "passed_time": 16.12714197,
                        "remaining_time": 4.261153819,
                        "test": [
                          0.7125055684
                        ]
                      },
                      {
                        "learn": [
                          0.6825043272
                        ],
                        "iteration": 791,
                        "passed_time": 16.14172545,
                        "remaining_time": 4.239241027,
                        "test": [
                          0.7124927421
                        ]
                      },
                      {
                        "learn": [
                          0.682452583
                        ],
                        "iteration": 792,
                        "passed_time": 16.16635363,
                        "remaining_time": 4.219968728,
                        "test": [
                          0.7124952971
                        ]
                      },
                      {
                        "learn": [
                          0.6824490259
                        ],
                        "iteration": 793,
                        "passed_time": 16.19346805,
                        "remaining_time": 4.201327982,
                        "test": [
                          0.7124947501
                        ]
                      },
                      {
                        "learn": [
                          0.6824183566
                        ],
                        "iteration": 794,
                        "passed_time": 16.21500484,
                        "remaining_time": 4.181227663,
                        "test": [
                          0.7124941704
                        ]
                      },
                      {
                        "learn": [
                          0.6823691767
                        ],
                        "iteration": 795,
                        "passed_time": 16.23546126,
                        "remaining_time": 4.160846856,
                        "test": [
                          0.7124911808
                        ]
                      },
                      {
                        "learn": [
                          0.6823521266
                        ],
                        "iteration": 796,
                        "passed_time": 16.26041497,
                        "remaining_time": 4.141611342,
                        "test": [
                          0.7124799736
                        ]
                      },
                      {
                        "learn": [
                          0.6823390966
                        ],
                        "iteration": 797,
                        "passed_time": 16.28586291,
                        "remaining_time": 4.122486602,
                        "test": [
                          0.7124871981
                        ]
                      },
                      {
                        "learn": [
                          0.6823227231
                        ],
                        "iteration": 798,
                        "passed_time": 16.31758595,
                        "remaining_time": 4.104924626,
                        "test": [
                          0.7124735501
                        ]
                      },
                      {
                        "learn": [
                          0.6822821675
                        ],
                        "iteration": 799,
                        "passed_time": 16.34577375,
                        "remaining_time": 4.086443438,
                        "test": [
                          0.7124849197
                        ]
                      },
                      {
                        "learn": [
                          0.6822261828
                        ],
                        "iteration": 800,
                        "passed_time": 16.37128635,
                        "remaining_time": 4.067273388,
                        "test": [
                          0.7124687575
                        ]
                      },
                      {
                        "learn": [
                          0.6822036801
                        ],
                        "iteration": 801,
                        "passed_time": 16.39498501,
                        "remaining_time": 4.04763969,
                        "test": [
                          0.7124932465
                        ]
                      },
                      {
                        "learn": [
                          0.6821793831
                        ],
                        "iteration": 802,
                        "passed_time": 16.41240628,
                        "remaining_time": 4.026455836,
                        "test": [
                          0.7125067031
                        ]
                      },
                      {
                        "learn": [
                          0.6821793044
                        ],
                        "iteration": 803,
                        "passed_time": 16.42558622,
                        "remaining_time": 4.004247387,
                        "test": [
                          0.712506719
                        ]
                      },
                      {
                        "learn": [
                          0.6821490513
                        ],
                        "iteration": 804,
                        "passed_time": 16.45203242,
                        "remaining_time": 3.985274933,
                        "test": [
                          0.7125097762
                        ]
                      },
                      {
                        "learn": [
                          0.6821400371
                        ],
                        "iteration": 805,
                        "passed_time": 16.46907044,
                        "remaining_time": 3.964019437,
                        "test": [
                          0.7125119156
                        ]
                      },
                      {
                        "learn": [
                          0.682091234
                        ],
                        "iteration": 806,
                        "passed_time": 16.48763039,
                        "remaining_time": 3.943138372,
                        "test": [
                          0.712500483
                        ]
                      },
                      {
                        "learn": [
                          0.6820751521
                        ],
                        "iteration": 807,
                        "passed_time": 16.51076485,
                        "remaining_time": 3.923350062,
                        "test": [
                          0.7124916697
                        ]
                      },
                      {
                        "learn": [
                          0.682013628
                        ],
                        "iteration": 808,
                        "passed_time": 16.53613267,
                        "remaining_time": 3.904080766,
                        "test": [
                          0.7124523415
                        ]
                      },
                      {
                        "learn": [
                          0.6820026304
                        ],
                        "iteration": 809,
                        "passed_time": 16.55952032,
                        "remaining_time": 3.884331926,
                        "test": [
                          0.7124439742
                        ]
                      },
                      {
                        "learn": [
                          0.6819936743
                        ],
                        "iteration": 810,
                        "passed_time": 16.57716893,
                        "remaining_time": 3.863236655,
                        "test": [
                          0.7124439281
                        ]
                      },
                      {
                        "learn": [
                          0.6819858145
                        ],
                        "iteration": 811,
                        "passed_time": 16.59076235,
                        "remaining_time": 3.841210988,
                        "test": [
                          0.7124452908
                        ]
                      },
                      {
                        "learn": [
                          0.6819369112
                        ],
                        "iteration": 812,
                        "passed_time": 16.61503206,
                        "remaining_time": 3.821661742,
                        "test": [
                          0.7124221327
                        ]
                      },
                      {
                        "learn": [
                          0.6819306386
                        ],
                        "iteration": 813,
                        "passed_time": 16.63303616,
                        "remaining_time": 3.800669197,
                        "test": [
                          0.7124224435
                        ]
                      },
                      {
                        "learn": [
                          0.681921941
                        ],
                        "iteration": 814,
                        "passed_time": 16.65209184,
                        "remaining_time": 3.779922687,
                        "test": [
                          0.7124179594
                        ]
                      },
                      {
                        "learn": [
                          0.681901213
                        ],
                        "iteration": 815,
                        "passed_time": 16.6749509,
                        "remaining_time": 3.760037948,
                        "test": [
                          0.7124208625
                        ]
                      },
                      {
                        "learn": [
                          0.6818787343
                        ],
                        "iteration": 816,
                        "passed_time": 16.70308267,
                        "remaining_time": 3.741326962,
                        "test": [
                          0.7123983035
                        ]
                      },
                      {
                        "learn": [
                          0.6818632916
                        ],
                        "iteration": 817,
                        "passed_time": 16.72901307,
                        "remaining_time": 3.722103152,
                        "test": [
                          0.7123950566
                        ]
                      },
                      {
                        "learn": [
                          0.6818299091
                        ],
                        "iteration": 818,
                        "passed_time": 16.75368495,
                        "remaining_time": 3.702584829,
                        "test": [
                          0.7123592034
                        ]
                      },
                      {
                        "learn": [
                          0.6818153966
                        ],
                        "iteration": 819,
                        "passed_time": 16.77774448,
                        "remaining_time": 3.68291952,
                        "test": [
                          0.7123589212
                        ]
                      },
                      {
                        "learn": [
                          0.6818069266
                        ],
                        "iteration": 820,
                        "passed_time": 16.80304879,
                        "remaining_time": 3.663514901,
                        "test": [
                          0.7123422865
                        ]
                      },
                      {
                        "learn": [
                          0.6817853026
                        ],
                        "iteration": 821,
                        "passed_time": 16.82635405,
                        "remaining_time": 3.643663042,
                        "test": [
                          0.712335814
                        ]
                      },
                      {
                        "learn": [
                          0.6817758881
                        ],
                        "iteration": 822,
                        "passed_time": 16.84513092,
                        "remaining_time": 3.622828886,
                        "test": [
                          0.7123412589
                        ]
                      },
                      {
                        "learn": [
                          0.6817569737
                        ],
                        "iteration": 823,
                        "passed_time": 16.8660648,
                        "remaining_time": 3.602460443,
                        "test": [
                          0.7123376069
                        ]
                      },
                      {
                        "learn": [
                          0.6817267004
                        ],
                        "iteration": 824,
                        "passed_time": 16.88300891,
                        "remaining_time": 3.581244314,
                        "test": [
                          0.712320936
                        ]
                      },
                      {
                        "learn": [
                          0.6817210176
                        ],
                        "iteration": 825,
                        "passed_time": 16.89863351,
                        "remaining_time": 3.559760571,
                        "test": [
                          0.7123251543
                        ]
                      },
                      {
                        "learn": [
                          0.6817120578
                        ],
                        "iteration": 826,
                        "passed_time": 16.92590169,
                        "remaining_time": 3.540726713,
                        "test": [
                          0.7123354493
                        ]
                      },
                      {
                        "learn": [
                          0.6816699692
                        ],
                        "iteration": 827,
                        "passed_time": 16.94940777,
                        "remaining_time": 3.520891469,
                        "test": [
                          0.7123330399
                        ]
                      },
                      {
                        "learn": [
                          0.6816588978
                        ],
                        "iteration": 828,
                        "passed_time": 16.98251308,
                        "remaining_time": 3.503027426,
                        "test": [
                          0.7123182544
                        ]
                      },
                      {
                        "learn": [
                          0.6816117813
                        ],
                        "iteration": 829,
                        "passed_time": 17.02882061,
                        "remaining_time": 3.487830726,
                        "test": [
                          0.712324676
                        ]
                      },
                      {
                        "learn": [
                          0.6815939826
                        ],
                        "iteration": 830,
                        "passed_time": 17.07011595,
                        "remaining_time": 3.471539827,
                        "test": [
                          0.7123207383
                        ]
                      },
                      {
                        "learn": [
                          0.68155498
                        ],
                        "iteration": 831,
                        "passed_time": 17.0919604,
                        "remaining_time": 3.451261235,
                        "test": [
                          0.7123258955
                        ]
                      },
                      {
                        "learn": [
                          0.6815465294
                        ],
                        "iteration": 832,
                        "passed_time": 17.12406685,
                        "remaining_time": 3.433036211,
                        "test": [
                          0.7123227047
                        ]
                      },
                      {
                        "learn": [
                          0.681513271
                        ],
                        "iteration": 833,
                        "passed_time": 17.1532873,
                        "remaining_time": 3.414203467,
                        "test": [
                          0.7123447548
                        ]
                      },
                      {
                        "learn": [
                          0.6814297539
                        ],
                        "iteration": 834,
                        "passed_time": 17.17143744,
                        "remaining_time": 3.393158296,
                        "test": [
                          0.7123025169
                        ]
                      },
                      {
                        "learn": [
                          0.6814061189
                        ],
                        "iteration": 835,
                        "passed_time": 17.19022267,
                        "remaining_time": 3.372244639,
                        "test": [
                          0.7122948968
                        ]
                      },
                      {
                        "learn": [
                          0.6813976689
                        ],
                        "iteration": 836,
                        "passed_time": 17.2029419,
                        "remaining_time": 3.350154755,
                        "test": [
                          0.7122993212
                        ]
                      },
                      {
                        "learn": [
                          0.6813660009
                        ],
                        "iteration": 837,
                        "passed_time": 17.21491877,
                        "remaining_time": 3.327943723,
                        "test": [
                          0.712315038
                        ]
                      },
                      {
                        "learn": [
                          0.6813528961
                        ],
                        "iteration": 838,
                        "passed_time": 17.23549802,
                        "remaining_time": 3.307407845,
                        "test": [
                          0.7123054648
                        ]
                      },
                      {
                        "learn": [
                          0.6813061654
                        ],
                        "iteration": 839,
                        "passed_time": 17.26079355,
                        "remaining_time": 3.2877702,
                        "test": [
                          0.7122738561
                        ]
                      },
                      {
                        "learn": [
                          0.6812877028
                        ],
                        "iteration": 840,
                        "passed_time": 17.2792265,
                        "remaining_time": 3.266821658,
                        "test": [
                          0.7122808273
                        ]
                      },
                      {
                        "learn": [
                          0.6812708144
                        ],
                        "iteration": 841,
                        "passed_time": 17.30455408,
                        "remaining_time": 3.247172856,
                        "test": [
                          0.7122830065
                        ]
                      },
                      {
                        "learn": [
                          0.6812253271
                        ],
                        "iteration": 842,
                        "passed_time": 17.33027738,
                        "remaining_time": 3.227584281,
                        "test": [
                          0.712280588
                        ]
                      },
                      {
                        "learn": [
                          0.6811871837
                        ],
                        "iteration": 843,
                        "passed_time": 17.35612366,
                        "remaining_time": 3.208003898,
                        "test": [
                          0.7122620287
                        ]
                      },
                      {
                        "learn": [
                          0.6811731151
                        ],
                        "iteration": 844,
                        "passed_time": 17.38404576,
                        "remaining_time": 3.188789458,
                        "test": [
                          0.7122651457
                        ]
                      },
                      {
                        "learn": [
                          0.6810877716
                        ],
                        "iteration": 845,
                        "passed_time": 17.40928112,
                        "remaining_time": 3.169065357,
                        "test": [
                          0.7122267941
                        ]
                      },
                      {
                        "learn": [
                          0.68105914
                        ],
                        "iteration": 846,
                        "passed_time": 17.43216554,
                        "remaining_time": 3.148903574,
                        "test": [
                          0.7122018918
                        ]
                      },
                      {
                        "learn": [
                          0.6810290179
                        ],
                        "iteration": 847,
                        "passed_time": 17.4513314,
                        "remaining_time": 3.128068835,
                        "test": [
                          0.7121693893
                        ]
                      },
                      {
                        "learn": [
                          0.6809988981
                        ],
                        "iteration": 848,
                        "passed_time": 17.47339345,
                        "remaining_time": 3.107753134,
                        "test": [
                          0.7121591609
                        ]
                      },
                      {
                        "learn": [
                          0.6809313909
                        ],
                        "iteration": 849,
                        "passed_time": 17.49585751,
                        "remaining_time": 3.087504266,
                        "test": [
                          0.7121139213
                        ]
                      },
                      {
                        "learn": [
                          0.680901726
                        ],
                        "iteration": 850,
                        "passed_time": 17.51805508,
                        "remaining_time": 3.067203534,
                        "test": [
                          0.7121035464
                        ]
                      },
                      {
                        "learn": [
                          0.6808720369
                        ],
                        "iteration": 851,
                        "passed_time": 17.54305703,
                        "remaining_time": 3.047385493,
                        "test": [
                          0.7121018571
                        ]
                      },
                      {
                        "learn": [
                          0.6807994116
                        ],
                        "iteration": 852,
                        "passed_time": 17.5656229,
                        "remaining_time": 3.027135483,
                        "test": [
                          0.7120241754
                        ]
                      },
                      {
                        "learn": [
                          0.680777693
                        ],
                        "iteration": 853,
                        "passed_time": 17.59243204,
                        "remaining_time": 3.007605477,
                        "test": [
                          0.711989014
                        ]
                      },
                      {
                        "learn": [
                          0.6807737564
                        ],
                        "iteration": 854,
                        "passed_time": 17.61097365,
                        "remaining_time": 2.986656349,
                        "test": [
                          0.7119864755
                        ]
                      },
                      {
                        "learn": [
                          0.6807616205
                        ],
                        "iteration": 855,
                        "passed_time": 17.63188484,
                        "remaining_time": 2.966111469,
                        "test": [
                          0.7119894322
                        ]
                      },
                      {
                        "learn": [
                          0.6807279078
                        ],
                        "iteration": 856,
                        "passed_time": 17.64985381,
                        "remaining_time": 2.94507479,
                        "test": [
                          0.711986006
                        ]
                      },
                      {
                        "learn": [
                          0.6807268322
                        ],
                        "iteration": 857,
                        "passed_time": 17.66750837,
                        "remaining_time": 2.923993227,
                        "test": [
                          0.7119842397
                        ]
                      },
                      {
                        "learn": [
                          0.6807245284
                        ],
                        "iteration": 858,
                        "passed_time": 17.68190874,
                        "remaining_time": 2.902385486,
                        "test": [
                          0.7119857914
                        ]
                      },
                      {
                        "learn": [
                          0.6807088877
                        ],
                        "iteration": 859,
                        "passed_time": 17.70208789,
                        "remaining_time": 2.881735238,
                        "test": [
                          0.7119761482
                        ]
                      },
                      {
                        "learn": [
                          0.680656739
                        ],
                        "iteration": 860,
                        "passed_time": 17.73000843,
                        "remaining_time": 2.862335856,
                        "test": [
                          0.7119492926
                        ]
                      },
                      {
                        "learn": [
                          0.6806255042
                        ],
                        "iteration": 861,
                        "passed_time": 17.75303379,
                        "remaining_time": 2.84213302,
                        "test": [
                          0.7119268472
                        ]
                      },
                      {
                        "learn": [
                          0.6805455673
                        ],
                        "iteration": 862,
                        "passed_time": 17.77681083,
                        "remaining_time": 2.822042971,
                        "test": [
                          0.7119014024
                        ]
                      },
                      {
                        "learn": [
                          0.6805143941
                        ],
                        "iteration": 863,
                        "passed_time": 17.8083652,
                        "remaining_time": 2.803168596,
                        "test": [
                          0.7118949507
                        ]
                      },
                      {
                        "learn": [
                          0.6805057439
                        ],
                        "iteration": 864,
                        "passed_time": 17.82716602,
                        "remaining_time": 2.782274465,
                        "test": [
                          0.711878848
                        ]
                      },
                      {
                        "learn": [
                          0.6804958839
                        ],
                        "iteration": 865,
                        "passed_time": 17.84127021,
                        "remaining_time": 2.76065844,
                        "test": [
                          0.7118869236
                        ]
                      },
                      {
                        "learn": [
                          0.6804918495
                        ],
                        "iteration": 866,
                        "passed_time": 17.8571102,
                        "remaining_time": 2.739326017,
                        "test": [
                          0.711889
                        ]
                      },
                      {
                        "learn": [
                          0.6804831678
                        ],
                        "iteration": 867,
                        "passed_time": 17.87288253,
                        "remaining_time": 2.717995961,
                        "test": [
                          0.7118806472
                        ]
                      },
                      {
                        "learn": [
                          0.6804645743
                        ],
                        "iteration": 868,
                        "passed_time": 17.89363052,
                        "remaining_time": 2.697428767,
                        "test": [
                          0.7118781872
                        ]
                      },
                      {
                        "learn": [
                          0.6804306248
                        ],
                        "iteration": 869,
                        "passed_time": 17.91438865,
                        "remaining_time": 2.676862672,
                        "test": [
                          0.7118803883
                        ]
                      },
                      {
                        "learn": [
                          0.6804191913
                        ],
                        "iteration": 870,
                        "passed_time": 17.93415449,
                        "remaining_time": 2.656149172,
                        "test": [
                          0.7118637601
                        ]
                      },
                      {
                        "learn": [
                          0.6804188627
                        ],
                        "iteration": 871,
                        "passed_time": 17.94780151,
                        "remaining_time": 2.634539671,
                        "test": [
                          0.7118638186
                        ]
                      },
                      {
                        "learn": [
                          0.6804033167
                        ],
                        "iteration": 872,
                        "passed_time": 17.96362946,
                        "remaining_time": 2.613265683,
                        "test": [
                          0.7118552722
                        ]
                      },
                      {
                        "learn": [
                          0.6803641429
                        ],
                        "iteration": 873,
                        "passed_time": 17.98754534,
                        "remaining_time": 2.593170152,
                        "test": [
                          0.7118492453
                        ]
                      },
                      {
                        "learn": [
                          0.6803493842
                        ],
                        "iteration": 874,
                        "passed_time": 18.00510353,
                        "remaining_time": 2.572157648,
                        "test": [
                          0.7118539827
                        ]
                      },
                      {
                        "learn": [
                          0.6803413165
                        ],
                        "iteration": 875,
                        "passed_time": 18.02390291,
                        "remaining_time": 2.551328722,
                        "test": [
                          0.7118533176
                        ]
                      },
                      {
                        "learn": [
                          0.68033527
                        ],
                        "iteration": 876,
                        "passed_time": 18.04263882,
                        "remaining_time": 2.530495525,
                        "test": [
                          0.7118652979
                        ]
                      },
                      {
                        "learn": [
                          0.6802868717
                        ],
                        "iteration": 877,
                        "passed_time": 18.08781777,
                        "remaining_time": 2.513341421,
                        "test": [
                          0.7118383146
                        ]
                      },
                      {
                        "learn": [
                          0.6802743396
                        ],
                        "iteration": 878,
                        "passed_time": 18.13672179,
                        "remaining_time": 2.496636333,
                        "test": [
                          0.7118323755
                        ]
                      },
                      {
                        "learn": [
                          0.6802528112
                        ],
                        "iteration": 879,
                        "passed_time": 18.17068866,
                        "remaining_time": 2.477821181,
                        "test": [
                          0.7118442093
                        ]
                      },
                      {
                        "learn": [
                          0.680243296
                        ],
                        "iteration": 880,
                        "passed_time": 18.20000455,
                        "remaining_time": 2.458343407,
                        "test": [
                          0.7118361545
                        ]
                      },
                      {
                        "learn": [
                          0.6802236243
                        ],
                        "iteration": 881,
                        "passed_time": 18.22077002,
                        "remaining_time": 2.437699391,
                        "test": [
                          0.7118331102
                        ]
                      },
                      {
                        "learn": [
                          0.6802062997
                        ],
                        "iteration": 882,
                        "passed_time": 18.24414975,
                        "remaining_time": 2.417401496,
                        "test": [
                          0.7118345473
                        ]
                      },
                      {
                        "learn": [
                          0.6801566415
                        ],
                        "iteration": 883,
                        "passed_time": 18.2697342,
                        "remaining_time": 2.397385936,
                        "test": [
                          0.7118411222
                        ]
                      },
                      {
                        "learn": [
                          0.6801517492
                        ],
                        "iteration": 884,
                        "passed_time": 18.30097454,
                        "remaining_time": 2.378092737,
                        "test": [
                          0.7118455504
                        ]
                      },
                      {
                        "learn": [
                          0.6801460566
                        ],
                        "iteration": 885,
                        "passed_time": 18.31882929,
                        "remaining_time": 2.35705027,
                        "test": [
                          0.7118420247
                        ]
                      },
                      {
                        "learn": [
                          0.6801337746
                        ],
                        "iteration": 886,
                        "passed_time": 18.3461825,
                        "remaining_time": 2.337225054,
                        "test": [
                          0.7118370469
                        ]
                      },
                      {
                        "learn": [
                          0.6801259946
                        ],
                        "iteration": 887,
                        "passed_time": 18.36917851,
                        "remaining_time": 2.316833325,
                        "test": [
                          0.7118379032
                        ]
                      },
                      {
                        "learn": [
                          0.6801027469
                        ],
                        "iteration": 888,
                        "passed_time": 18.3839767,
                        "remaining_time": 2.295412164,
                        "test": [
                          0.7118283386
                        ]
                      },
                      {
                        "learn": [
                          0.6800819688
                        ],
                        "iteration": 889,
                        "passed_time": 18.41378687,
                        "remaining_time": 2.275861298,
                        "test": [
                          0.7118152561
                        ]
                      },
                      {
                        "learn": [
                          0.6800692076
                        ],
                        "iteration": 890,
                        "passed_time": 18.44231481,
                        "remaining_time": 2.256130543,
                        "test": [
                          0.7118217721
                        ]
                      },
                      {
                        "learn": [
                          0.6800591347
                        ],
                        "iteration": 891,
                        "passed_time": 18.46357687,
                        "remaining_time": 2.235500338,
                        "test": [
                          0.7118130472
                        ]
                      },
                      {
                        "learn": [
                          0.6800117424
                        ],
                        "iteration": 892,
                        "passed_time": 18.48665832,
                        "remaining_time": 2.215086719,
                        "test": [
                          0.7118137967
                        ]
                      },
                      {
                        "learn": [
                          0.6799754772
                        ],
                        "iteration": 893,
                        "passed_time": 18.51163797,
                        "remaining_time": 2.194892197,
                        "test": [
                          0.7118107179
                        ]
                      },
                      {
                        "learn": [
                          0.6799621958
                        ],
                        "iteration": 894,
                        "passed_time": 18.53363679,
                        "remaining_time": 2.174337277,
                        "test": [
                          0.711832363
                        ]
                      },
                      {
                        "learn": [
                          0.6799459656
                        ],
                        "iteration": 895,
                        "passed_time": 18.55340593,
                        "remaining_time": 2.153520331,
                        "test": [
                          0.7118190044
                        ]
                      },
                      {
                        "learn": [
                          0.6798659763
                        ],
                        "iteration": 896,
                        "passed_time": 18.57486491,
                        "remaining_time": 2.132899761,
                        "test": [
                          0.7117888144
                        ]
                      },
                      {
                        "learn": [
                          0.6798572313
                        ],
                        "iteration": 897,
                        "passed_time": 18.59473321,
                        "remaining_time": 2.112096646,
                        "test": [
                          0.7117805427
                        ]
                      },
                      {
                        "learn": [
                          0.6798482284
                        ],
                        "iteration": 898,
                        "passed_time": 18.6153304,
                        "remaining_time": 2.091377497,
                        "test": [
                          0.7117903054
                        ]
                      },
                      {
                        "learn": [
                          0.6798204073
                        ],
                        "iteration": 899,
                        "passed_time": 18.63051809,
                        "remaining_time": 2.070057565,
                        "test": [
                          0.7117814183
                        ]
                      },
                      {
                        "learn": [
                          0.6797644046
                        ],
                        "iteration": 900,
                        "passed_time": 18.64476535,
                        "remaining_time": 2.048647913,
                        "test": [
                          0.7117609155
                        ]
                      },
                      {
                        "learn": [
                          0.6797579245
                        ],
                        "iteration": 901,
                        "passed_time": 18.65860911,
                        "remaining_time": 2.027210303,
                        "test": [
                          0.7117578271
                        ]
                      },
                      {
                        "learn": [
                          0.6797521627
                        ],
                        "iteration": 902,
                        "passed_time": 18.67650696,
                        "remaining_time": 2.006225,
                        "test": [
                          0.7117530771
                        ]
                      },
                      {
                        "learn": [
                          0.6797058582
                        ],
                        "iteration": 903,
                        "passed_time": 18.69553254,
                        "remaining_time": 1.985366287,
                        "test": [
                          0.7117620044
                        ]
                      },
                      {
                        "learn": [
                          0.6796958482
                        ],
                        "iteration": 904,
                        "passed_time": 18.70561844,
                        "remaining_time": 1.963573207,
                        "test": [
                          0.7117536618
                        ]
                      },
                      {
                        "learn": [
                          0.6796646339
                        ],
                        "iteration": 905,
                        "passed_time": 18.71912108,
                        "remaining_time": 1.942160465,
                        "test": [
                          0.711773688
                        ]
                      },
                      {
                        "learn": [
                          0.6796370643
                        ],
                        "iteration": 906,
                        "passed_time": 18.73313959,
                        "remaining_time": 1.920818062,
                        "test": [
                          0.7117647065
                        ]
                      },
                      {
                        "learn": [
                          0.6795748392
                        ],
                        "iteration": 907,
                        "passed_time": 18.75615096,
                        "remaining_time": 1.90040296,
                        "test": [
                          0.7117818328
                        ]
                      },
                      {
                        "learn": [
                          0.6795539881
                        ],
                        "iteration": 908,
                        "passed_time": 18.77687023,
                        "remaining_time": 1.879752685,
                        "test": [
                          0.7117795039
                        ]
                      },
                      {
                        "learn": [
                          0.6795394952
                        ],
                        "iteration": 909,
                        "passed_time": 18.79877999,
                        "remaining_time": 1.859219999,
                        "test": [
                          0.7117822114
                        ]
                      },
                      {
                        "learn": [
                          0.6795125558
                        ],
                        "iteration": 910,
                        "passed_time": 18.82552952,
                        "remaining_time": 1.83915711,
                        "test": [
                          0.7117708957
                        ]
                      },
                      {
                        "learn": [
                          0.6795062319
                        ],
                        "iteration": 911,
                        "passed_time": 18.84863568,
                        "remaining_time": 1.818728004,
                        "test": [
                          0.71177095
                        ]
                      },
                      {
                        "learn": [
                          0.6795020513
                        ],
                        "iteration": 912,
                        "passed_time": 18.86598772,
                        "remaining_time": 1.797744722,
                        "test": [
                          0.711776834
                        ]
                      },
                      {
                        "learn": [
                          0.6794870441
                        ],
                        "iteration": 913,
                        "passed_time": 18.88449183,
                        "remaining_time": 1.776877787,
                        "test": [
                          0.7117919334
                        ]
                      },
                      {
                        "learn": [
                          0.6794812447
                        ],
                        "iteration": 914,
                        "passed_time": 18.90185275,
                        "remaining_time": 1.755909818,
                        "test": [
                          0.7117932754
                        ]
                      },
                      {
                        "learn": [
                          0.6794456055
                        ],
                        "iteration": 915,
                        "passed_time": 18.92903776,
                        "remaining_time": 1.735850624,
                        "test": [
                          0.7118140869
                        ]
                      },
                      {
                        "learn": [
                          0.6794264994
                        ],
                        "iteration": 916,
                        "passed_time": 18.95666391,
                        "remaining_time": 1.715815818,
                        "test": [
                          0.7118075765
                        ]
                      },
                      {
                        "learn": [
                          0.6794237714
                        ],
                        "iteration": 917,
                        "passed_time": 18.97985227,
                        "remaining_time": 1.695368068,
                        "test": [
                          0.7118089642
                        ]
                      },
                      {
                        "learn": [
                          0.6794187048
                        ],
                        "iteration": 918,
                        "passed_time": 19.00143798,
                        "remaining_time": 1.674773097,
                        "test": [
                          0.7118131472
                        ]
                      },
                      {
                        "learn": [
                          0.6793986418
                        ],
                        "iteration": 919,
                        "passed_time": 19.03101895,
                        "remaining_time": 1.654871213,
                        "test": [
                          0.7118119385
                        ]
                      },
                      {
                        "learn": [
                          0.6793151741
                        ],
                        "iteration": 920,
                        "passed_time": 19.04950884,
                        "remaining_time": 1.633996958,
                        "test": [
                          0.7117643898
                        ]
                      },
                      {
                        "learn": [
                          0.6792894557
                        ],
                        "iteration": 921,
                        "passed_time": 19.0569083,
                        "remaining_time": 1.612189639,
                        "test": [
                          0.711770954
                        ]
                      },
                      {
                        "learn": [
                          0.6792818379
                        ],
                        "iteration": 922,
                        "passed_time": 19.06753915,
                        "remaining_time": 1.590683114,
                        "test": [
                          0.7117738778
                        ]
                      },
                      {
                        "learn": [
                          0.6792654301
                        ],
                        "iteration": 923,
                        "passed_time": 19.07673602,
                        "remaining_time": 1.569082184,
                        "test": [
                          0.7117768179
                        ]
                      },
                      {
                        "learn": [
                          0.6792580282
                        ],
                        "iteration": 924,
                        "passed_time": 19.08573525,
                        "remaining_time": 1.547492047,
                        "test": [
                          0.7117808951
                        ]
                      },
                      {
                        "learn": [
                          0.6792388323
                        ],
                        "iteration": 925,
                        "passed_time": 19.10025523,
                        "remaining_time": 1.526370288,
                        "test": [
                          0.7117722905
                        ]
                      },
                      {
                        "learn": [
                          0.6792238977
                        ],
                        "iteration": 926,
                        "passed_time": 19.10932415,
                        "remaining_time": 1.504833509,
                        "test": [
                          0.7117771561
                        ]
                      },
                      {
                        "learn": [
                          0.679200597
                        ],
                        "iteration": 927,
                        "passed_time": 19.11856001,
                        "remaining_time": 1.483336552,
                        "test": [
                          0.7117763977
                        ]
                      },
                      {
                        "learn": [
                          0.6791657295
                        ],
                        "iteration": 928,
                        "passed_time": 19.12898015,
                        "remaining_time": 1.461956503,
                        "test": [
                          0.7117609624
                        ]
                      },
                      {
                        "learn": [
                          0.6791448689
                        ],
                        "iteration": 929,
                        "passed_time": 19.14309358,
                        "remaining_time": 1.440878012,
                        "test": [
                          0.7117329029
                        ]
                      },
                      {
                        "learn": [
                          0.67907663
                        ],
                        "iteration": 930,
                        "passed_time": 19.18795406,
                        "remaining_time": 1.422093265,
                        "test": [
                          0.7117240612
                        ]
                      },
                      {
                        "learn": [
                          0.6790638104
                        ],
                        "iteration": 931,
                        "passed_time": 19.19832071,
                        "remaining_time": 1.400735846,
                        "test": [
                          0.7117132964
                        ]
                      },
                      {
                        "learn": [
                          0.6790348095
                        ],
                        "iteration": 932,
                        "passed_time": 19.22106915,
                        "remaining_time": 1.380291139,
                        "test": [
                          0.711674292
                        ]
                      },
                      {
                        "learn": [
                          0.6790334963
                        ],
                        "iteration": 933,
                        "passed_time": 19.23669157,
                        "remaining_time": 1.359337948,
                        "test": [
                          0.7116702905
                        ]
                      },
                      {
                        "learn": [
                          0.6790173544
                        ],
                        "iteration": 934,
                        "passed_time": 19.24765034,
                        "remaining_time": 1.338071948,
                        "test": [
                          0.7116712518
                        ]
                      },
                      {
                        "learn": [
                          0.6789967522
                        ],
                        "iteration": 935,
                        "passed_time": 19.25685963,
                        "remaining_time": 1.316708351,
                        "test": [
                          0.7116556643
                        ]
                      },
                      {
                        "learn": [
                          0.6789899831
                        ],
                        "iteration": 936,
                        "passed_time": 19.26443827,
                        "remaining_time": 1.295261058,
                        "test": [
                          0.7116584195
                        ]
                      },
                      {
                        "learn": [
                          0.6789747721
                        ],
                        "iteration": 937,
                        "passed_time": 19.27281452,
                        "remaining_time": 1.273896056,
                        "test": [
                          0.7116618312
                        ]
                      },
                      {
                        "learn": [
                          0.6789364133
                        ],
                        "iteration": 938,
                        "passed_time": 19.28043089,
                        "remaining_time": 1.252509355,
                        "test": [
                          0.7116527623
                        ]
                      },
                      {
                        "learn": [
                          0.6788939853
                        ],
                        "iteration": 939,
                        "passed_time": 19.28992855,
                        "remaining_time": 1.231272035,
                        "test": [
                          0.7116681701
                        ]
                      },
                      {
                        "learn": [
                          0.6788611637
                        ],
                        "iteration": 940,
                        "passed_time": 19.30089028,
                        "remaining_time": 1.210151463,
                        "test": [
                          0.7116907892
                        ]
                      },
                      {
                        "learn": [
                          0.6788553175
                        ],
                        "iteration": 941,
                        "passed_time": 19.31058123,
                        "remaining_time": 1.188974216,
                        "test": [
                          0.711687323
                        ]
                      },
                      {
                        "learn": [
                          0.6788383426
                        ],
                        "iteration": 942,
                        "passed_time": 19.31837277,
                        "remaining_time": 1.16770652,
                        "test": [
                          0.7116673901
                        ]
                      },
                      {
                        "learn": [
                          0.6788224599
                        ],
                        "iteration": 943,
                        "passed_time": 19.32845788,
                        "remaining_time": 1.146603434,
                        "test": [
                          0.7116712215
                        ]
                      },
                      {
                        "learn": [
                          0.6788157686
                        ],
                        "iteration": 944,
                        "passed_time": 19.33692131,
                        "remaining_time": 1.125429282,
                        "test": [
                          0.7116729058
                        ]
                      },
                      {
                        "learn": [
                          0.6788010321
                        ],
                        "iteration": 945,
                        "passed_time": 19.34573851,
                        "remaining_time": 1.104302198,
                        "test": [
                          0.7116844608
                        ]
                      },
                      {
                        "learn": [
                          0.6787905806
                        ],
                        "iteration": 946,
                        "passed_time": 19.35271795,
                        "remaining_time": 1.083098259,
                        "test": [
                          0.7116794483
                        ]
                      },
                      {
                        "learn": [
                          0.6787780187
                        ],
                        "iteration": 947,
                        "passed_time": 19.35997214,
                        "remaining_time": 1.0619394,
                        "test": [
                          0.711691086
                        ]
                      },
                      {
                        "learn": [
                          0.6787720974
                        ],
                        "iteration": 948,
                        "passed_time": 19.36903349,
                        "remaining_time": 1.040906963,
                        "test": [
                          0.7116900974
                        ]
                      },
                      {
                        "learn": [
                          0.6787532305
                        ],
                        "iteration": 949,
                        "passed_time": 19.38008128,
                        "remaining_time": 1.020004278,
                        "test": [
                          0.7116793965
                        ]
                      },
                      {
                        "learn": [
                          0.6787406793
                        ],
                        "iteration": 950,
                        "passed_time": 19.38887941,
                        "remaining_time": 0.9990064049,
                        "test": [
                          0.7116718075
                        ]
                      },
                      {
                        "learn": [
                          0.6787315532
                        ],
                        "iteration": 951,
                        "passed_time": 19.39801222,
                        "remaining_time": 0.9780510365,
                        "test": [
                          0.7116770402
                        ]
                      },
                      {
                        "learn": [
                          0.6787268013
                        ],
                        "iteration": 952,
                        "passed_time": 19.40375095,
                        "remaining_time": 0.9569530901,
                        "test": [
                          0.7116780774
                        ]
                      },
                      {
                        "learn": [
                          0.6787214122
                        ],
                        "iteration": 953,
                        "passed_time": 19.40883154,
                        "remaining_time": 0.9358556087,
                        "test": [
                          0.711678105
                        ]
                      },
                      {
                        "learn": [
                          0.6787111718
                        ],
                        "iteration": 954,
                        "passed_time": 19.41868871,
                        "remaining_time": 0.9150167456,
                        "test": [
                          0.7116716267
                        ]
                      },
                      {
                        "learn": [
                          0.678669516
                        ],
                        "iteration": 955,
                        "passed_time": 19.42839971,
                        "remaining_time": 0.894194129,
                        "test": [
                          0.7116772172
                        ]
                      },
                      {
                        "learn": [
                          0.6786561473
                        ],
                        "iteration": 956,
                        "passed_time": 19.43714616,
                        "remaining_time": 0.873351395,
                        "test": [
                          0.7116797809
                        ]
                      },
                      {
                        "learn": [
                          0.6786238212
                        ],
                        "iteration": 957,
                        "passed_time": 19.44587945,
                        "remaining_time": 0.8525333372,
                        "test": [
                          0.7116708512
                        ]
                      },
                      {
                        "learn": [
                          0.6786183812
                        ],
                        "iteration": 958,
                        "passed_time": 19.45574891,
                        "remaining_time": 0.8317890567,
                        "test": [
                          0.711672005
                        ]
                      },
                      {
                        "learn": [
                          0.678590893
                        ],
                        "iteration": 959,
                        "passed_time": 19.46623293,
                        "remaining_time": 0.8110930388,
                        "test": [
                          0.7116796746
                        ]
                      },
                      {
                        "learn": [
                          0.6785648357
                        ],
                        "iteration": 960,
                        "passed_time": 19.4890864,
                        "remaining_time": 0.7909202597,
                        "test": [
                          0.7116909832
                        ]
                      },
                      {
                        "learn": [
                          0.6785267269
                        ],
                        "iteration": 961,
                        "passed_time": 19.50159317,
                        "remaining_time": 0.770333202,
                        "test": [
                          0.7116969068
                        ]
                      },
                      {
                        "learn": [
                          0.6785024463
                        ],
                        "iteration": 962,
                        "passed_time": 19.51066549,
                        "remaining_time": 0.749630969,
                        "test": [
                          0.7116873522
                        ]
                      },
                      {
                        "learn": [
                          0.6784942106
                        ],
                        "iteration": 963,
                        "passed_time": 19.51945633,
                        "remaining_time": 0.7289423526,
                        "test": [
                          0.7116879899
                        ]
                      },
                      {
                        "learn": [
                          0.6784740073
                        ],
                        "iteration": 964,
                        "passed_time": 19.52779455,
                        "remaining_time": 0.7082619784,
                        "test": [
                          0.7116536206
                        ]
                      },
                      {
                        "learn": [
                          0.6784570313
                        ],
                        "iteration": 965,
                        "passed_time": 19.53357598,
                        "remaining_time": 0.687517167,
                        "test": [
                          0.7116575192
                        ]
                      },
                      {
                        "learn": [
                          0.6784237672
                        ],
                        "iteration": 966,
                        "passed_time": 19.5433069,
                        "remaining_time": 0.6669380845,
                        "test": [
                          0.7116232467
                        ]
                      },
                      {
                        "learn": [
                          0.6783888482
                        ],
                        "iteration": 967,
                        "passed_time": 19.55304635,
                        "remaining_time": 0.6463816976,
                        "test": [
                          0.7116142069
                        ]
                      },
                      {
                        "learn": [
                          0.678387187
                        ],
                        "iteration": 968,
                        "passed_time": 19.55899765,
                        "remaining_time": 0.6257264469,
                        "test": [
                          0.7116171359
                        ]
                      },
                      {
                        "learn": [
                          0.6783600438
                        ],
                        "iteration": 969,
                        "passed_time": 19.57191877,
                        "remaining_time": 0.6053170755,
                        "test": [
                          0.7116087739
                        ]
                      },
                      {
                        "learn": [
                          0.6783466061
                        ],
                        "iteration": 970,
                        "passed_time": 19.58306258,
                        "remaining_time": 0.5848700463,
                        "test": [
                          0.7115986333
                        ]
                      },
                      {
                        "learn": [
                          0.6783055187
                        ],
                        "iteration": 971,
                        "passed_time": 19.591979,
                        "remaining_time": 0.5643779959,
                        "test": [
                          0.7115751472
                        ]
                      },
                      {
                        "learn": [
                          0.6782900709
                        ],
                        "iteration": 972,
                        "passed_time": 19.60255031,
                        "remaining_time": 0.5439556612,
                        "test": [
                          0.7115787194
                        ]
                      },
                      {
                        "learn": [
                          0.6782785426
                        ],
                        "iteration": 973,
                        "passed_time": 19.61233145,
                        "remaining_time": 0.5235324617,
                        "test": [
                          0.7115762534
                        ]
                      },
                      {
                        "learn": [
                          0.6782784017
                        ],
                        "iteration": 974,
                        "passed_time": 19.61767393,
                        "remaining_time": 0.5030172804,
                        "test": [
                          0.7115763996
                        ]
                      },
                      {
                        "learn": [
                          0.6782730514
                        ],
                        "iteration": 975,
                        "passed_time": 19.62613008,
                        "remaining_time": 0.4826097561,
                        "test": [
                          0.7115776848
                        ]
                      },
                      {
                        "learn": [
                          0.678265512
                        ],
                        "iteration": 976,
                        "passed_time": 19.63385567,
                        "remaining_time": 0.4622094989,
                        "test": [
                          0.7115788005
                        ]
                      },
                      {
                        "learn": [
                          0.6782522178
                        ],
                        "iteration": 977,
                        "passed_time": 19.64026296,
                        "remaining_time": 0.4418055062,
                        "test": [
                          0.711579071
                        ]
                      },
                      {
                        "learn": [
                          0.6782406253
                        ],
                        "iteration": 978,
                        "passed_time": 19.64798684,
                        "remaining_time": 0.4214583489,
                        "test": [
                          0.7115837004
                        ]
                      },
                      {
                        "learn": [
                          0.6782320394
                        ],
                        "iteration": 979,
                        "passed_time": 19.65611167,
                        "remaining_time": 0.4011451361,
                        "test": [
                          0.711583705
                        ]
                      },
                      {
                        "learn": [
                          0.6781719748
                        ],
                        "iteration": 980,
                        "passed_time": 19.66687248,
                        "remaining_time": 0.3809078259,
                        "test": [
                          0.7115954529
                        ]
                      },
                      {
                        "learn": [
                          0.6781581979
                        ],
                        "iteration": 981,
                        "passed_time": 19.67692893,
                        "remaining_time": 0.360676905,
                        "test": [
                          0.7115974596
                        ]
                      },
                      {
                        "learn": [
                          0.6781469963
                        ],
                        "iteration": 982,
                        "passed_time": 19.68744749,
                        "remaining_time": 0.3404746768,
                        "test": [
                          0.7115937662
                        ]
                      },
                      {
                        "learn": [
                          0.6781108912
                        ],
                        "iteration": 983,
                        "passed_time": 19.69772834,
                        "remaining_time": 0.3202882657,
                        "test": [
                          0.711573399
                        ]
                      },
                      {
                        "learn": [
                          0.678085248
                        ],
                        "iteration": 984,
                        "passed_time": 19.70801994,
                        "remaining_time": 0.300122131,
                        "test": [
                          0.7115769207
                        ]
                      },
                      {
                        "learn": [
                          0.6780542886
                        ],
                        "iteration": 985,
                        "passed_time": 19.71549984,
                        "remaining_time": 0.2799361032,
                        "test": [
                          0.7115291306
                        ]
                      },
                      {
                        "learn": [
                          0.6780213887
                        ],
                        "iteration": 986,
                        "passed_time": 19.72545596,
                        "remaining_time": 0.2598084371,
                        "test": [
                          0.71150769
                        ]
                      },
                      {
                        "learn": [
                          0.6780043166
                        ],
                        "iteration": 987,
                        "passed_time": 19.73555686,
                        "remaining_time": 0.2397031198,
                        "test": [
                          0.7115069845
                        ]
                      },
                      {
                        "learn": [
                          0.6779963217
                        ],
                        "iteration": 988,
                        "passed_time": 19.74205606,
                        "remaining_time": 0.2195779744,
                        "test": [
                          0.7115074352
                        ]
                      },
                      {
                        "learn": [
                          0.6779712503
                        ],
                        "iteration": 989,
                        "passed_time": 19.75009924,
                        "remaining_time": 0.1994959519,
                        "test": [
                          0.7115105821
                        ]
                      },
                      {
                        "learn": [
                          0.6779427162
                        ],
                        "iteration": 990,
                        "passed_time": 19.75755154,
                        "remaining_time": 0.1794328596,
                        "test": [
                          0.7115216634
                        ]
                      },
                      {
                        "learn": [
                          0.6779312649
                        ],
                        "iteration": 991,
                        "passed_time": 19.7630492,
                        "remaining_time": 0.1593794291,
                        "test": [
                          0.7115216025
                        ]
                      },
                      {
                        "learn": [
                          0.6779146233
                        ],
                        "iteration": 992,
                        "passed_time": 19.77083315,
                        "remaining_time": 0.1393714321,
                        "test": [
                          0.7115301039
                        ]
                      },
                      {
                        "learn": [
                          0.6779029822
                        ],
                        "iteration": 993,
                        "passed_time": 19.78095551,
                        "remaining_time": 0.1194021459,
                        "test": [
                          0.7115199393
                        ]
                      },
                      {
                        "learn": [
                          0.6778966291
                        ],
                        "iteration": 994,
                        "passed_time": 19.78701512,
                        "remaining_time": 0.09943223678,
                        "test": [
                          0.7115178728
                        ]
                      },
                      {
                        "learn": [
                          0.6778105592
                        ],
                        "iteration": 995,
                        "passed_time": 19.79797795,
                        "remaining_time": 0.07950995162,
                        "test": [
                          0.7114756323
                        ]
                      },
                      {
                        "learn": [
                          0.677757695
                        ],
                        "iteration": 996,
                        "passed_time": 19.80947952,
                        "remaining_time": 0.05960726033,
                        "test": [
                          0.7114664126
                        ]
                      },
                      {
                        "learn": [
                          0.6777239974
                        ],
                        "iteration": 997,
                        "passed_time": 19.82006431,
                        "remaining_time": 0.03971956776,
                        "test": [
                          0.711481934
                        ]
                      },
                      {
                        "learn": [
                          0.6777128896
                        ],
                        "iteration": 998,
                        "passed_time": 19.82684626,
                        "remaining_time": 0.01984669295,
                        "test": [
                          0.7114902764
                        ]
                      },
                      {
                        "learn": [
                          0.6777022282
                        ],
                        "iteration": 999,
                        "passed_time": 19.83494397,
                        "remaining_time": 0,
                        "test": [
                          0.7114882912
                        ]
                      }
                    ],
                    "meta": {
                      "test_sets": [
                        "test"
                      ],
                      "test_metrics": [
                        {
                          "best_value": "Min",
                          "name": "RMSE"
                        }
                      ],
                      "learn_metrics": [
                        {
                          "best_value": "Min",
                          "name": "RMSE"
                        }
                      ],
                      "launch_mode": "Train",
                      "parameters": "",
                      "iteration_count": 1000,
                      "learn_sets": [
                        "learn"
                      ],
                      "name": "experiment"
                    }
                  }
                }
              }
            },
            "layout": "IPY_MODEL_0c1b8dc0068c475cb8ce4f4b615d211a"
          }
        }
      }
    }
  },
  "cells": [
    {
      "cell_type": "code",
      "source": [
        "# Check if packages are installed and if not, install\n",
        "!pip install -U shap catboost vaderSentiment\n"
      ],
      "metadata": {
        "colab": {
          "base_uri": "https://localhost:8080/"
        },
        "id": "hJWyHToR3hXJ",
        "outputId": "c965bb25-f925-4451-f713-00bad531d257"
      },
      "execution_count": 1,
      "outputs": [
        {
          "output_type": "stream",
          "name": "stdout",
          "text": [
            "Requirement already satisfied: shap in /usr/local/lib/python3.10/dist-packages (0.46.0)\n",
            "Collecting catboost\n",
            "  Downloading catboost-1.2.7-cp310-cp310-manylinux2014_x86_64.whl.metadata (1.2 kB)\n",
            "Collecting vaderSentiment\n",
            "  Downloading vaderSentiment-3.3.2-py2.py3-none-any.whl.metadata (572 bytes)\n",
            "Requirement already satisfied: numpy in /usr/local/lib/python3.10/dist-packages (from shap) (1.26.4)\n",
            "Requirement already satisfied: scipy in /usr/local/lib/python3.10/dist-packages (from shap) (1.13.1)\n",
            "Requirement already satisfied: scikit-learn in /usr/local/lib/python3.10/dist-packages (from shap) (1.5.2)\n",
            "Requirement already satisfied: pandas in /usr/local/lib/python3.10/dist-packages (from shap) (2.2.2)\n",
            "Requirement already satisfied: tqdm>=4.27.0 in /usr/local/lib/python3.10/dist-packages (from shap) (4.66.6)\n",
            "Requirement already satisfied: packaging>20.9 in /usr/local/lib/python3.10/dist-packages (from shap) (24.2)\n",
            "Requirement already satisfied: slicer==0.0.8 in /usr/local/lib/python3.10/dist-packages (from shap) (0.0.8)\n",
            "Requirement already satisfied: numba in /usr/local/lib/python3.10/dist-packages (from shap) (0.60.0)\n",
            "Requirement already satisfied: cloudpickle in /usr/local/lib/python3.10/dist-packages (from shap) (3.1.0)\n",
            "Requirement already satisfied: graphviz in /usr/local/lib/python3.10/dist-packages (from catboost) (0.20.3)\n",
            "Requirement already satisfied: matplotlib in /usr/local/lib/python3.10/dist-packages (from catboost) (3.8.0)\n",
            "Requirement already satisfied: plotly in /usr/local/lib/python3.10/dist-packages (from catboost) (5.24.1)\n",
            "Requirement already satisfied: six in /usr/local/lib/python3.10/dist-packages (from catboost) (1.16.0)\n",
            "Requirement already satisfied: requests in /usr/local/lib/python3.10/dist-packages (from vaderSentiment) (2.32.3)\n",
            "Requirement already satisfied: python-dateutil>=2.8.2 in /usr/local/lib/python3.10/dist-packages (from pandas->shap) (2.8.2)\n",
            "Requirement already satisfied: pytz>=2020.1 in /usr/local/lib/python3.10/dist-packages (from pandas->shap) (2024.2)\n",
            "Requirement already satisfied: tzdata>=2022.7 in /usr/local/lib/python3.10/dist-packages (from pandas->shap) (2024.2)\n",
            "Requirement already satisfied: contourpy>=1.0.1 in /usr/local/lib/python3.10/dist-packages (from matplotlib->catboost) (1.3.1)\n",
            "Requirement already satisfied: cycler>=0.10 in /usr/local/lib/python3.10/dist-packages (from matplotlib->catboost) (0.12.1)\n",
            "Requirement already satisfied: fonttools>=4.22.0 in /usr/local/lib/python3.10/dist-packages (from matplotlib->catboost) (4.55.0)\n",
            "Requirement already satisfied: kiwisolver>=1.0.1 in /usr/local/lib/python3.10/dist-packages (from matplotlib->catboost) (1.4.7)\n",
            "Requirement already satisfied: pillow>=6.2.0 in /usr/local/lib/python3.10/dist-packages (from matplotlib->catboost) (11.0.0)\n",
            "Requirement already satisfied: pyparsing>=2.3.1 in /usr/local/lib/python3.10/dist-packages (from matplotlib->catboost) (3.2.0)\n",
            "Requirement already satisfied: llvmlite<0.44,>=0.43.0dev0 in /usr/local/lib/python3.10/dist-packages (from numba->shap) (0.43.0)\n",
            "Requirement already satisfied: tenacity>=6.2.0 in /usr/local/lib/python3.10/dist-packages (from plotly->catboost) (9.0.0)\n",
            "Requirement already satisfied: charset-normalizer<4,>=2 in /usr/local/lib/python3.10/dist-packages (from requests->vaderSentiment) (3.4.0)\n",
            "Requirement already satisfied: idna<4,>=2.5 in /usr/local/lib/python3.10/dist-packages (from requests->vaderSentiment) (3.10)\n",
            "Requirement already satisfied: urllib3<3,>=1.21.1 in /usr/local/lib/python3.10/dist-packages (from requests->vaderSentiment) (2.2.3)\n",
            "Requirement already satisfied: certifi>=2017.4.17 in /usr/local/lib/python3.10/dist-packages (from requests->vaderSentiment) (2024.8.30)\n",
            "Requirement already satisfied: joblib>=1.2.0 in /usr/local/lib/python3.10/dist-packages (from scikit-learn->shap) (1.4.2)\n",
            "Requirement already satisfied: threadpoolctl>=3.1.0 in /usr/local/lib/python3.10/dist-packages (from scikit-learn->shap) (3.5.0)\n",
            "Downloading catboost-1.2.7-cp310-cp310-manylinux2014_x86_64.whl (98.7 MB)\n",
            "\u001b[2K   \u001b[90m━━━━━━━━━━━━━━━━━━━━━━━━━━━━━━━━━━━━━━━━\u001b[0m \u001b[32m98.7/98.7 MB\u001b[0m \u001b[31m9.9 MB/s\u001b[0m eta \u001b[36m0:00:00\u001b[0m\n",
            "\u001b[?25hDownloading vaderSentiment-3.3.2-py2.py3-none-any.whl (125 kB)\n",
            "\u001b[2K   \u001b[90m━━━━━━━━━━━━━━━━━━━━━━━━━━━━━━━━━━━━━━━━\u001b[0m \u001b[32m126.0/126.0 kB\u001b[0m \u001b[31m9.0 MB/s\u001b[0m eta \u001b[36m0:00:00\u001b[0m\n",
            "\u001b[?25hInstalling collected packages: vaderSentiment, catboost\n",
            "Successfully installed catboost-1.2.7 vaderSentiment-3.3.2\n"
          ]
        }
      ]
    },
    {
      "cell_type": "code",
      "source": [
        "import seaborn as sns\n",
        "from catboost import CatBoostClassifier, CatBoostRegressor\n",
        "import numpy as np\n",
        "import pandas as pd\n",
        "import matplotlib.pyplot as plt\n",
        "from sklearn.model_selection import train_test_split\n",
        "from sklearn.preprocessing import LabelEncoder\n",
        "from sklearn.tree import DecisionTreeClassifier, DecisionTreeRegressor\n",
        "import time\n",
        "from sklearn.ensemble import RandomForestClassifier, RandomForestRegressor\n",
        "from sklearn.metrics import accuracy_score, classification_report, confusion_matrix\n",
        "from sklearn import tree\n",
        "\n",
        "\n",
        "from sklearn.linear_model import LogisticRegression\n",
        "from sklearn.linear_model import LinearRegression\n",
        "import statsmodels.api as sm\n",
        "\n",
        "from sklearn.metrics import mean_squared_error, r2_score\n",
        "\n",
        "\n",
        "import shap\n",
        "\n",
        "# from transformers import BertTokenizer, BertForSequenceClassification\n",
        "from transformers import pipeline\n",
        "from vaderSentiment.vaderSentiment import SentimentIntensityAnalyzer"
      ],
      "metadata": {
        "id": "89b7DbgDtL3M"
      },
      "execution_count": 2,
      "outputs": []
    },
    {
      "cell_type": "code",
      "execution_count": 3,
      "metadata": {
        "id": "58-vfWklMaxq",
        "colab": {
          "base_uri": "https://localhost:8080/"
        },
        "outputId": "c900a5d8-119f-4447-f171-f6341c0c74b4"
      },
      "outputs": [
        {
          "output_type": "stream",
          "name": "stdout",
          "text": [
            "Drive already mounted at /content/drive; to attempt to forcibly remount, call drive.mount(\"/content/drive\", force_remount=True).\n"
          ]
        }
      ],
      "source": [
        "from google.colab import drive\n",
        "drive.mount('/content/drive')"
      ]
    },
    {
      "cell_type": "code",
      "source": [
        "df = pd.read_csv('/content/drive/MyDrive/shohei-cleaned-gptig.csv')\n",
        "# df = df.head(100)"
      ],
      "metadata": {
        "id": "6g7T9vCusV5C"
      },
      "execution_count": 4,
      "outputs": []
    },
    {
      "cell_type": "code",
      "source": [
        "# df_en = df.copy()\n",
        "\n",
        "# df_en[['pro_dodgers', 'likely_country']] = df_en[['pro_dodgers', 'likely_country']].replace([np.inf, -np.inf], np.nan)\n",
        "\n",
        "# # Drop rows where 'pro_dodgers' or 'likely_country' have NaN values\n",
        "# df_en = df_en.dropna(subset=['pro_dodgers', 'likely_country'])\n"
      ],
      "metadata": {
        "id": "5hOOuOgSd2m0"
      },
      "execution_count": null,
      "outputs": []
    },
    {
      "cell_type": "code",
      "source": [
        "# Converting labels to str so it's seen as categorical\n",
        "df['post_owner_label'] = df['post_owner_label'].astype(str)\n"
      ],
      "metadata": {
        "id": "fHMVOj-cDqBa"
      },
      "execution_count": 5,
      "outputs": []
    },
    {
      "cell_type": "code",
      "source": [
        "# Vader sentiment analyzer and saving only compound scores\n",
        "vader_analyzer = SentimentIntensityAnalyzer()\n",
        "\n",
        "\n",
        "df[\"vaderSent\"] = df[\"en_text\"].apply(lambda x: vader_analyzer.polarity_scores(x))\n",
        "df['vadercompound'] = df['vaderSent'].apply(lambda x: x['compound'])\n"
      ],
      "metadata": {
        "id": "s6gM9CiL25wO"
      },
      "execution_count": 10,
      "outputs": []
    },
    {
      "cell_type": "code",
      "source": [
        "df_jp = df[(df['lang'] == 'ja') ]\n",
        "\n",
        "\n",
        "df_kr = df[(df['lang'] == 'ko') ]\n",
        "\n",
        "df_zh = df[(df['lang'] == 'zh') ]\n",
        "\n",
        "\n",
        "df_es = df[(df['lang'] == 'es') ]\n",
        "\n",
        "\n",
        "df_jpam = df[(df['is_jpam'] == 1) ]\n",
        "\n",
        "df_koram = df[(df['is_koram'] == 1) ]\n",
        "\n",
        "df_zham = df[(df['is_cham'] == 1) ]"
      ],
      "metadata": {
        "id": "wrB1nKZIcldA"
      },
      "execution_count": 11,
      "outputs": []
    },
    {
      "cell_type": "code",
      "source": [
        "df.columns\n"
      ],
      "metadata": {
        "colab": {
          "base_uri": "https://localhost:8080/"
        },
        "id": "OCwlaZlQcncE",
        "outputId": "d8b71051-543b-470d-e310-b8acdcf283a6"
      },
      "execution_count": null,
      "outputs": [
        {
          "output_type": "execute_result",
          "data": {
            "text/plain": [
              "Index(['content_type', 'creation_time', 'hashtags', 'id', 'lang',\n",
              "       'post_owner.type', 'post_owner.id', 'post_owner.name',\n",
              "       'post_owner.username', 'statistics.comment_count',\n",
              "       'statistics.like_count', 'statistics.views', 'text', 'log10_likes',\n",
              "       'post_owner_label', 'content_type_label', 'hashtag_count', 'username',\n",
              "       'name_origin', 'is_cham', 'is_koram', 'is_jpam', 'is_aam', 'is_hl',\n",
              "       'en_text', 'vaderSent', 'vadercompound'],\n",
              "      dtype='object')"
            ]
          },
          "metadata": {},
          "execution_count": 14
        }
      ]
    },
    {
      "cell_type": "code",
      "source": [],
      "metadata": {
        "id": "ikm7JmBEdKnZ"
      },
      "execution_count": null,
      "outputs": []
    },
    {
      "cell_type": "code",
      "source": [
        "df['post_owner_label'].value_counts() # 0 is business page vs 1 is profile"
      ],
      "metadata": {
        "colab": {
          "base_uri": "https://localhost:8080/",
          "height": 178
        },
        "id": "YlUyBWCwDaTe",
        "outputId": "e49282fd-409c-4ad1-fd92-5d63abc733e7"
      },
      "execution_count": null,
      "outputs": [
        {
          "output_type": "execute_result",
          "data": {
            "text/plain": [
              "post_owner_label\n",
              "1    16434\n",
              "2     6810\n",
              "Name: count, dtype: int64"
            ],
            "text/html": [
              "<div>\n",
              "<style scoped>\n",
              "    .dataframe tbody tr th:only-of-type {\n",
              "        vertical-align: middle;\n",
              "    }\n",
              "\n",
              "    .dataframe tbody tr th {\n",
              "        vertical-align: top;\n",
              "    }\n",
              "\n",
              "    .dataframe thead th {\n",
              "        text-align: right;\n",
              "    }\n",
              "</style>\n",
              "<table border=\"1\" class=\"dataframe\">\n",
              "  <thead>\n",
              "    <tr style=\"text-align: right;\">\n",
              "      <th></th>\n",
              "      <th>count</th>\n",
              "    </tr>\n",
              "    <tr>\n",
              "      <th>post_owner_label</th>\n",
              "      <th></th>\n",
              "    </tr>\n",
              "  </thead>\n",
              "  <tbody>\n",
              "    <tr>\n",
              "      <th>1</th>\n",
              "      <td>16434</td>\n",
              "    </tr>\n",
              "    <tr>\n",
              "      <th>2</th>\n",
              "      <td>6810</td>\n",
              "    </tr>\n",
              "  </tbody>\n",
              "</table>\n",
              "</div><br><label><b>dtype:</b> int64</label>"
            ]
          },
          "metadata": {},
          "execution_count": 20
        }
      ]
    },
    {
      "cell_type": "code",
      "source": [
        "groups = [df, df_jp, df_kr, df_zh , df_es, df_jpam , df_koram , df_zham]"
      ],
      "metadata": {
        "id": "XccsXP0aerLz"
      },
      "execution_count": 15,
      "outputs": []
    },
    {
      "cell_type": "code",
      "source": [
        "n = 0\n",
        "\n",
        "x_cols = ['content_type_label','post_owner_label', 'vadercompound',\n",
        "          'hashtag_count','lang']\n",
        "X = groups[n][x_cols]\n",
        "y = groups[n]['log10_likes']\n",
        "\n",
        "X_train, X_test, y_train, y_test = train_test_split(X, y, test_size=0.2, random_state=42)\n"
      ],
      "metadata": {
        "id": "XUNNRHiAxs0a"
      },
      "execution_count": 16,
      "outputs": []
    },
    {
      "cell_type": "code",
      "source": [
        "categorical_features = ['post_owner_label', 'content_type_label', 'lang']\n",
        "X_train[categorical_features] = X_train[categorical_features].astype('object')\n",
        "X_test[categorical_features] = X_test[categorical_features].astype('object')\n",
        "\n",
        "# Define the CatBoost Regressor\n",
        "catboost_model = CatBoostRegressor(iterations=1000,\n",
        "                                   learning_rate=0.05,\n",
        "                                   depth=6,\n",
        "                                   verbose=100)\n",
        "\n",
        "# Train the model\n",
        "catboost_model.fit(X_train, y_train,\n",
        "                   eval_set=(X_test, y_test),\n",
        "                   cat_features=categorical_features,\n",
        "                   plot=True)\n",
        "\n",
        "# Make predictions on the test set\n",
        "y_pred_cb = catboost_model.predict(X_test)\n",
        "\n",
        "# Evaluate the model\n",
        "mse = mean_squared_error(y_test, y_pred_cb)\n",
        "r2 = r2_score(y_test, y_pred_cb)\n",
        "\n",
        "print(f\"Mean Squared Error: {mse}\")\n",
        "print(f\"R² Score: {r2}\")"
      ],
      "metadata": {
        "colab": {
          "base_uri": "https://localhost:8080/",
          "height": 329,
          "referenced_widgets": [
            "7c8de2ca8baf4446a729798f5c89cc49"
          ]
        },
        "id": "PpODg1PY7rRa",
        "outputId": "ce09f8fb-916a-4f4d-c26f-77f6b6eee6de"
      },
      "execution_count": 17,
      "outputs": [
        {
          "output_type": "display_data",
          "data": {
            "text/plain": [
              "MetricVisualizer(layout=Layout(align_self='stretch', height='500px'))"
            ],
            "application/vnd.jupyter.widget-view+json": {
              "version_major": 2,
              "version_minor": 0,
              "model_id": "7c8de2ca8baf4446a729798f5c89cc49"
            }
          },
          "metadata": {}
        },
        {
          "output_type": "stream",
          "name": "stdout",
          "text": [
            "0:\tlearn: 0.8170096\ttest: 0.8223127\tbest: 0.8223127 (0)\ttotal: 70.7ms\tremaining: 1m 10s\n",
            "100:\tlearn: 0.7180023\ttest: 0.7285805\tbest: 0.7285805 (100)\ttotal: 4.05s\tremaining: 36.1s\n",
            "200:\tlearn: 0.7088523\ttest: 0.7231383\tbest: 0.7231313 (198)\ttotal: 5.87s\tremaining: 23.3s\n",
            "300:\tlearn: 0.7001933\ttest: 0.7183203\tbest: 0.7183203 (300)\ttotal: 7.1s\tremaining: 16.5s\n",
            "400:\tlearn: 0.6950429\ttest: 0.7164114\tbest: 0.7164114 (400)\ttotal: 8.17s\tremaining: 12.2s\n",
            "500:\tlearn: 0.6910231\ttest: 0.7146605\tbest: 0.7146605 (500)\ttotal: 9.27s\tremaining: 9.24s\n",
            "600:\tlearn: 0.6877652\ttest: 0.7136163\tbest: 0.7135885 (588)\ttotal: 10.4s\tremaining: 6.9s\n",
            "700:\tlearn: 0.6847241\ttest: 0.7130378\tbest: 0.7130300 (698)\ttotal: 11.9s\tremaining: 5.06s\n",
            "800:\tlearn: 0.6822262\ttest: 0.7124688\tbest: 0.7124688 (800)\ttotal: 16.4s\tremaining: 4.07s\n",
            "900:\tlearn: 0.6797644\ttest: 0.7117609\tbest: 0.7117609 (900)\ttotal: 18.6s\tremaining: 2.05s\n",
            "999:\tlearn: 0.6777022\ttest: 0.7114883\tbest: 0.7114664 (996)\ttotal: 19.8s\tremaining: 0us\n",
            "\n",
            "bestTest = 0.7114664126\n",
            "bestIteration = 996\n",
            "\n",
            "Shrink model to first 997 iterations.\n",
            "Mean Squared Error: 0.5061844604349066\n",
            "R² Score: 0.261958478097824\n"
          ]
        }
      ]
    },
    {
      "cell_type": "code",
      "source": [
        "explainer = shap.TreeExplainer(catboost_model)\n",
        "shap_values = explainer.shap_values(X_test)\n",
        "\n",
        "# Generate SHAP summary plot\n",
        "shap.summary_plot(shap_values, X_test, show=False)  # Avoid showing interactively in a loop\n",
        "plt.title(\"SHAP Summary Plot for All Posts\")\n"
      ],
      "metadata": {
        "colab": {
          "base_uri": "https://localhost:8080/",
          "height": 390
        },
        "id": "uSJB1hUIeW2f",
        "outputId": "9d679950-9b2f-4eae-c886-7278f0bf6ad2"
      },
      "execution_count": 19,
      "outputs": [
        {
          "output_type": "execute_result",
          "data": {
            "text/plain": [
              "Text(0.5, 1.0, 'SHAP Summary Plot for All Posts')"
            ]
          },
          "metadata": {},
          "execution_count": 19
        },
        {
          "output_type": "display_data",
          "data": {
            "text/plain": [
              "<Figure size 800x350 with 2 Axes>"
            ],
            "image/png": "[encoded data removed]"
          },
          "metadata": {}
        }
      ]
    },
    {
      "cell_type": "code",
      "source": [
        "# # Function to train and evaluate the CatBoost model and generate SHAP plots for a given language\n",
        "# def run_catboost_with_shap(data, language, x_cols, target_col, categorical_features):\n",
        "#     print(f\"\\nRunning model for language: {language}\")\n",
        "\n",
        "#     # Filter the dataset for the given language\n",
        "#     df_subset = data[data['language'] == language]\n",
        "\n",
        "#     # Split into X (features) and y (target)\n",
        "#     X = df_subset[x_cols]\n",
        "#     y = df_subset[target_col]\n",
        "\n",
        "#     # Ensure all categorical columns are encoded as 'object'\n",
        "#     X[categorical_features] = X[categorical_features].astype('object')\n",
        "\n",
        "#     # Split into training and testing sets\n",
        "#     X_train, X_test, y_train, y_test = train_test_split(X, y, test_size=0.2, random_state=42)\n",
        "\n",
        "#     # Define the CatBoost Regressor\n",
        "#     catboost_model = CatBoostRegressor(iterations=1000,\n",
        "#                                        learning_rate=0.05,\n",
        "#                                        depth=6,\n",
        "#                                        verbose=100)\n",
        "\n",
        "#     # Train the model\n",
        "#     catboost_model.fit(X_train, y_train,\n",
        "#                        eval_set=(X_test, y_test),\n",
        "#                        cat_features=categorical_features,\n",
        "#                        plot=False)\n",
        "\n",
        "#     # Make predictions on the test set\n",
        "#     y_pred_cb = catboost_model.predict(X_test)\n",
        "\n",
        "#     # Evaluate the model\n",
        "#     mse = mean_squared_error(y_test, y_pred_cb)\n",
        "#     r2 = r2_score(y_test, y_pred_cb)\n",
        "#     print(f\"Mean Squared Error: {mse}\")\n",
        "#     print(f\"R² Score: {r2}\")\n",
        "\n",
        "#     # Compute SHAP values\n",
        "#     explainer = shap.TreeExplainer(catboost_model)\n",
        "#     shap_values = explainer.shap_values(X_test)\n",
        "\n",
        "#     # Generate SHAP summary plot\n",
        "#     print(f\"Generating SHAP summary plot for language: {language}\")\n",
        "#     shap.summary_plot(shap_values, X_test, show=False)  # Avoid showing interactively in a loop\n",
        "#     plt.title(f\"SHAP Summary Plot for {language}\")\n",
        "#     plt.savefig(f\"shap_summary_{language}.png\")  # Save the plot for each language\n",
        "#     plt.clf()  # Clear the figure for the next plot\n",
        "\n",
        "#     return catboost_model\n",
        "\n",
        "# # Define columns and categorical features\n",
        "# x_cols = ['post_owner_label', 'likely_country', 'pro_ohtani', 'pro_dodgers', 'language', 'content_type']\n",
        "# target_col = 'log10_likes'\n",
        "# categorical_features = ['post_owner_label', 'likely_country', 'language']\n",
        "\n",
        "# # Run tests for each language and generate SHAP plots\n",
        "# languages = ['English', 'Spanish', 'Traditional Chinese']\n",
        "# models = {}\n",
        "\n",
        "# for lang in languages:\n",
        "#     models[lang] = run_catboost_with_shap(df_en, lang, x_cols, target_col, categorical_features)\n"
      ],
      "metadata": {
        "id": "Xd0JV-1QIhsj"
      },
      "execution_count": null,
      "outputs": []
    },
    {
      "cell_type": "code",
      "source": [
        "# # Define columns and categorical features\n",
        "# x_cols = ['post_owner_label', 'likely_country', 'pro_ohtani', 'pro_dodgers', 'language', 'content_type']\n",
        "# target_col = 'log10_likes'\n",
        "# categorical_features = ['post_owner_label', 'likely_country', 'language']"
      ],
      "metadata": {
        "id": "xBVYVIkfJbG0"
      },
      "execution_count": null,
      "outputs": []
    },
    {
      "cell_type": "code",
      "source": [
        "\n",
        "\n",
        "# Filter the dataset for the given language\n",
        "df_subset = df_en[df_en['language'] == 'English']\n",
        "\n",
        "# Split into X (features) and y (target)\n",
        "X = df_subset[x_cols]\n",
        "y = df_subset[target_col]\n",
        "\n",
        "# Ensure all categorical columns are encoded as 'object'\n",
        "X[categorical_features] = X[categorical_features].astype('object')\n",
        "\n",
        "# Split into training and testing sets\n",
        "X_train, X_test, y_train, y_test = train_test_split(X, y, test_size=0.2, random_state=42)\n",
        "\n",
        "# Define the CatBoost Regressor\n",
        "catboost_model = CatBoostRegressor(iterations=1000,\n",
        "                                    learning_rate=0.05,\n",
        "                                    depth=6,\n",
        "                                    verbose=100)\n",
        "\n",
        "# Train the model\n",
        "catboost_model.fit(X_train, y_train,\n",
        "                    eval_set=(X_test, y_test),\n",
        "                    cat_features=categorical_features,\n",
        "                    plot=False)\n",
        "\n",
        "# Make predictions on the test set\n",
        "y_pred_cb = catboost_model.predict(X_test)\n",
        "\n",
        "# Evaluate the model\n",
        "mse = mean_squared_error(y_test, y_pred_cb)\n",
        "r2 = r2_score(y_test, y_pred_cb)\n",
        "print(f\"Mean Squared Error: {mse}\")\n",
        "print(f\"R² Score: {r2}\")\n",
        "\n",
        "# Compute SHAP values\n",
        "explainer = shap.TreeExplainer(catboost_model)\n",
        "shap_values = explainer.shap_values(X_test)\n",
        "\n",
        "# Generate SHAP summary plot\n",
        "shap.summary_plot(shap_values, X_test, show=False)  # Avoid showing interactively in a loop\n",
        "plt.title(\"SHAP Summary Plot for English\")\n",
        "\n",
        "\n",
        "\n"
      ],
      "metadata": {
        "colab": {
          "base_uri": "https://localhost:8080/",
          "height": 859
        },
        "id": "moTfZasdJJdH",
        "outputId": "bef8cb9e-8bf9-407a-b339-d36733afd848"
      },
      "execution_count": null,
      "outputs": [
        {
          "output_type": "stream",
          "name": "stderr",
          "text": [
            "<ipython-input-84-efbd4d74e0d7>:9: SettingWithCopyWarning: \n",
            "A value is trying to be set on a copy of a slice from a DataFrame.\n",
            "Try using .loc[row_indexer,col_indexer] = value instead\n",
            "\n",
            "See the caveats in the documentation: https://pandas.pydata.org/pandas-docs/stable/user_guide/indexing.html#returning-a-view-versus-a-copy\n",
            "  X[categorical_features] = X[categorical_features].astype('object')\n"
          ]
        },
        {
          "output_type": "stream",
          "name": "stdout",
          "text": [
            "0:\tlearn: 0.9210957\ttest: 0.6504792\tbest: 0.6504792 (0)\ttotal: 1.58ms\tremaining: 1.58s\n",
            "100:\tlearn: 0.8087991\ttest: 0.6456364\tbest: 0.6287111 (20)\ttotal: 120ms\tremaining: 1.07s\n",
            "200:\tlearn: 0.7362755\ttest: 0.6816219\tbest: 0.6287111 (20)\ttotal: 291ms\tremaining: 1.16s\n",
            "300:\tlearn: 0.6912951\ttest: 0.7049566\tbest: 0.6287111 (20)\ttotal: 403ms\tremaining: 936ms\n",
            "400:\tlearn: 0.6659298\ttest: 0.7155613\tbest: 0.6287111 (20)\ttotal: 584ms\tremaining: 873ms\n",
            "500:\tlearn: 0.6504886\ttest: 0.7249702\tbest: 0.6287111 (20)\ttotal: 684ms\tremaining: 681ms\n",
            "600:\tlearn: 0.6365547\ttest: 0.7366255\tbest: 0.6287111 (20)\ttotal: 775ms\tremaining: 515ms\n",
            "700:\tlearn: 0.6229134\ttest: 0.7430427\tbest: 0.6287111 (20)\ttotal: 958ms\tremaining: 408ms\n",
            "800:\tlearn: 0.6057873\ttest: 0.7569170\tbest: 0.6287111 (20)\ttotal: 1.02s\tremaining: 255ms\n",
            "900:\tlearn: 0.5924078\ttest: 0.7666126\tbest: 0.6287111 (20)\ttotal: 1.18s\tremaining: 129ms\n",
            "999:\tlearn: 0.5806649\ttest: 0.7800399\tbest: 0.6287111 (20)\ttotal: 1.25s\tremaining: 0us\n",
            "\n",
            "bestTest = 0.6287111473\n",
            "bestIteration = 20\n",
            "\n",
            "Shrink model to first 21 iterations.\n",
            "Mean Squared Error: 0.3952776871484628\n",
            "R² Score: 0.040173624597998225\n"
          ]
        },
        {
          "output_type": "execute_result",
          "data": {
            "text/plain": [
              "Text(0.5, 1.0, 'SHAP Summary Plot for English')"
            ]
          },
          "metadata": {},
          "execution_count": 84
        },
        {
          "output_type": "display_data",
          "data": {
            "text/plain": [
              "<Figure size 800x390 with 2 Axes>"
            ],
            "image/png": "[encoded data removed]"
          },
          "metadata": {}
        }
      ]
    },
    {
      "cell_type": "code",
      "source": [
        "\n",
        "explainer = shap.TreeExplainer(catboost_model)\n",
        "shap_values = explainer.shap_values(X_test)\n",
        "\n",
        "\n",
        "shap.summary_plot(shap_values, X_test)"
      ],
      "metadata": {
        "colab": {
          "base_uri": "https://localhost:8080/",
          "height": 437
        },
        "id": "28eBMNRJIX0P",
        "outputId": "e809ae90-3af1-484e-f725-a176824f4d4c"
      },
      "execution_count": null,
      "outputs": [
        {
          "output_type": "display_data",
          "data": {
            "text/plain": [
              "<Figure size 800x430 with 2 Axes>"
            ],
            "image/png": "[encoded data removed]"
          },
          "metadata": {}
        }
      ]
    },
    {
      "cell_type": "code",
      "source": [
        "instance_n = 2\n",
        "shap.waterfall_plot(shap.Explanation(values=shap_values[instance_n],\n",
        "                                      base_values=explainer.expected_value,\n",
        "                                      data=X_test.iloc[instance_n]))\n",
        "plt.show()"
      ],
      "metadata": {
        "colab": {
          "base_uri": "https://localhost:8080/",
          "height": 463
        },
        "id": "zhXj0XoDIbOX",
        "outputId": "457f81a4-566d-4681-bb23-10e6eb6128cd"
      },
      "execution_count": null,
      "outputs": [
        {
          "output_type": "display_data",
          "data": {
            "text/plain": [
              "<Figure size 800x450 with 3 Axes>"
            ],
            "image/png": "[encoded data removed]"
          },
          "metadata": {}
        }
      ]
    },
    {
      "cell_type": "code",
      "source": [
        "# sns.regplot(x=y_test, y=y_pred, scatter=False, label='OLS', color='blue')\n",
        "# sns.regplot(x=y_test, y=y_pred_rf, scatter=False, label='Random Forest', color='purple')\n",
        "# sns.regplot(x=y_test, y=y_pred_cb, scatter=False, label='CatBoost', color='pink')\n",
        "\n",
        "# plt.legend(title='Models')\n",
        "\n",
        "\n",
        "# plt.show()"
      ],
      "metadata": {
        "colab": {
          "base_uri": "https://localhost:8080/",
          "height": 450
        },
        "id": "KlcVtZDTKjww",
        "outputId": "093eb909-8273-46b2-ad9f-63ccf61ebd2e"
      },
      "execution_count": null,
      "outputs": [
        {
          "output_type": "display_data",
          "data": {
            "text/plain": [
              "<Figure size 640x480 with 1 Axes>"
            ],
            "image/png": "[encoded data removed]"
          },
          "metadata": {}
        }
      ]
    }
  ]
}