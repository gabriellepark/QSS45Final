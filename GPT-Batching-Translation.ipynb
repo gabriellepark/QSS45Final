{
 "cells": [
  {
   "cell_type": "code",
   "execution_count": 13,
   "id": "d02f2ed3",
   "metadata": {},
   "outputs": [],
   "source": [
    "import os\n",
    "import json\n",
    "import numpy as np\n",
    "import pandas as pd\n",
    "# OpenAI API Initialization\n",
    "from openai import OpenAI\n",
    "import random\n",
    "import time\n",
    "import openai"
   ]
  },
  {
   "cell_type": "code",
   "execution_count": 14,
   "id": "c7de43e3",
   "metadata": {},
   "outputs": [],
   "source": [
    "api_key = addkey,
    "client = OpenAI(api_key=api_key)"
   ]
  },
  {
   "cell_type": "code",
   "execution_count": 15,
   "id": "58913657",
   "metadata": {},
   "outputs": [],
   "source": [
    "text_translate = '''\n",
    "Translate the following text to English and output the result as JSON with the key \"translated_text\".\n",
    "'''\n",
    "prompt_word_count = len(text_translate.split())"
   ]
  },
  {
   "cell_type": "code",
   "execution_count": 67,
   "id": "034c8fb8",
   "metadata": {},
   "outputs": [],
   "source": [
    "df = pd.read_csv('../../../qss45_data/shohei-ig-cleaned.csv')\n",
    "df = df.dropna(subset=['text'])"
   ]
  },
  {
   "cell_type": "code",
   "execution_count": 68,
   "id": "72d050c1-ed75-4cec-baaa-955d40856a97",
   "metadata": {},
   "outputs": [],
   "source": [
    "df = df[~df['lang'].isin(['en', 'es'])]\n"
   ]
  },
  {
   "cell_type": "code",
   "execution_count": 76,
   "id": "f097d501-dd66-4d1f-af71-3620eb4d2d76",
   "metadata": {},
   "outputs": [],
   "source": [
    "df = df[['id', 'text']]\n",
    "df['id'] = df['id'].astype(str)"
   ]
  },
  {
   "cell_type": "code",
   "execution_count": 77,
   "id": "d0c58864-c3d2-4025-94bd-0f00a9fee535",
   "metadata": {},
   "outputs": [],
   "source": [
    "df_subset = df[df['id'].isin(na_ids)]\n"
   ]
  },
  {
   "cell_type": "code",
   "execution_count": 78,
   "id": "91573832-df43-4e46-87ce-c67553bbfb70",
   "metadata": {},
   "outputs": [
    {
     "data": {
      "text/plain": [
       "(2977, 2)"
      ]
     },
     "execution_count": 78,
     "metadata": {},
     "output_type": "execute_result"
    }
   ],
   "source": [
    "df_subset.shape"
   ]
  },
  {
   "cell_type": "code",
   "execution_count": 79,
   "id": "e051bc0c-8479-4abe-875d-60a1925c2c15",
   "metadata": {},
   "outputs": [
    {
     "name": "stderr",
     "output_type": "stream",
     "text": [
      "/var/folders/62/q5cwr8p541q40q2zbtg90hxh0000gn/T/ipykernel_65537/3635296016.py:1: SettingWithCopyWarning: \n",
      "A value is trying to be set on a copy of a slice from a DataFrame.\n",
      "Try using .loc[row_indexer,col_indexer] = value instead\n",
      "\n",
      "See the caveats in the documentation: https://pandas.pydata.org/pandas-docs/stable/user_guide/indexing.html#returning-a-view-versus-a-copy\n",
      "  df_subset['nwords'] = df_subset['text'].apply(lambda x: len(x.split()))\n",
      "/var/folders/62/q5cwr8p541q40q2zbtg90hxh0000gn/T/ipykernel_65537/3635296016.py:2: SettingWithCopyWarning: \n",
      "A value is trying to be set on a copy of a slice from a DataFrame.\n",
      "Try using .loc[row_indexer,col_indexer] = value instead\n",
      "\n",
      "See the caveats in the documentation: https://pandas.pydata.org/pandas-docs/stable/user_guide/indexing.html#returning-a-view-versus-a-copy\n",
      "  df_subset['nwords'] = df_subset['nwords'] + prompt_word_count\n",
      "/var/folders/62/q5cwr8p541q40q2zbtg90hxh0000gn/T/ipykernel_65537/3635296016.py:3: SettingWithCopyWarning: \n",
      "A value is trying to be set on a copy of a slice from a DataFrame.\n",
      "Try using .loc[row_indexer,col_indexer] = value instead\n",
      "\n",
      "See the caveats in the documentation: https://pandas.pydata.org/pandas-docs/stable/user_guide/indexing.html#returning-a-view-versus-a-copy\n",
      "  df_subset['ntokens'] = df_subset['nwords'] / 0.7  # Token estimation (conservative)\n"
     ]
    }
   ],
   "source": [
    "# df_subset['nwords'] = df_subset['text'].apply(lambda x: len(x.split()))\n",
    "# df_subset['nwords'] = df_subset['nwords'] + prompt_word_count\n",
    "# df_subset['ntokens'] = df_subset['nwords'] / 0.7  # Token estimation (conservative)\n",
    "# max_tokens_per_subset = 2000000\n",
    "# total_tokens = df_subset['ntokens'].sum()\n",
    "\n",
    "# if total_tokens > max_tokens_per_subset:\n",
    "#     split_df = np.array_split(df_subset, 20)\n",
    "# else:\n",
    "#     split_df = [df_subset]"
   ]
  },
  {
   "cell_type": "code",
   "execution_count": 61,
   "id": "1c8a4b1d",
   "metadata": {},
   "outputs": [],
   "source": [
    "df['nwords'] = df['text'].apply(lambda x: len(x.split()))\n",
    "df['nwords'] = df['nwords'] + prompt_word_count\n",
    "df['ntokens'] = df['nwords'] / 0.7  # Token estimation (conservative)\n",
    "max_tokens_per_subset = 2000000\n",
    "total_tokens = df['ntokens'].sum()\n",
    "\n",
    "if total_tokens > max_tokens_per_subset:\n",
    "    split_df = np.array_split(df, 20)\n",
    "else:\n",
    "    split_df = [df]"
   ]
  },
  {
   "cell_type": "code",
   "execution_count": 102,
   "id": "b79550df-8891-4d2d-965d-7567d6040e4a",
   "metadata": {},
   "outputs": [
    {
     "data": {
      "text/plain": [
       "[                     id                                               text  \\\n",
       " 20     1807560900050513  スワイプ→→→\\n\\n輝いてる人は、いつだって自分を前に向けるように\\n素敵な言葉をまとって...   \n",
       " 24     2045076015944854  SM Entertainment, salah satu agensi besar asal...   \n",
       " 28      852981483712607  Mantan pemain Persib Bandung asal Jepang, Shoh...   \n",
       " 38      546556551450373  Seperti yang diketahui, Timnas Indonesia saat ...   \n",
       " 45     1081637137023952  📆11月の日程と大谷選手の受賞記録\\n(日付は全て日本時間,記録は随時更新)\\n\\n《 11...   \n",
       " ...                 ...                                                ...   \n",
       " 23231   931450568827721  \\インテリアコーディネーターが行く/\\n<redacted_mention> ←他のオシャレ...   \n",
       " 23238  1696012964579236  2023.11.1\\n⁡\\n⁡\\n【THE PLAYERS CHOICE AWARDS 20...   \n",
       " 23239   523555057234015  11月27日(月)\\n後楽園ホール\\nLemino無料生配信\\n\\n　Lemino BOXI...   \n",
       " 23242  1189695595425862  2023.11.1\\n⁡\\n⁡\\n🇺🇸では✞✨👻HappyHalloween🎃✨✞\\n⁡\\n...   \n",
       " 23243   528011683425459  2023.11.1\\n⁡\\n⁡\\n翔平くんのドキュメント映画🎥\\n⁡\\n「Shohei　Oh...   \n",
       " \n",
       "        nwords     ntokens  \n",
       " 20         40   57.142857  \n",
       " 24        223  318.571429  \n",
       " 28        173  247.142857  \n",
       " 38        158  225.714286  \n",
       " 45         78  111.428571  \n",
       " ...       ...         ...  \n",
       " 23231     108  154.285714  \n",
       " 23238     102  145.714286  \n",
       " 23239     124  177.142857  \n",
       " 23242      90  128.571429  \n",
       " 23243      95  135.714286  \n",
       " \n",
       " [2977 rows x 4 columns]]"
      ]
     },
     "execution_count": 102,
     "metadata": {},
     "output_type": "execute_result"
    }
   ],
   "source": [
    "split_df"
   ]
  },
  {
   "cell_type": "code",
   "execution_count": 20,
   "id": "6230f1fd-0bc1-4185-a047-2cb5dfec8f83",
   "metadata": {},
   "outputs": [],
   "source": [
    "model_name = \"gpt-3.5-turbo\""
   ]
  },
  {
   "cell_type": "code",
   "execution_count": 104,
   "id": "007ebf6e",
   "metadata": {},
   "outputs": [],
   "source": [
    "def get_tasks(df):\n",
    "    tasks_this_batch = []\n",
    "    for index, row in df.iterrows():\n",
    "        description = row['text']\n",
    "        task = {\n",
    "            \"custom_id\": str(row['id']),\n",
    "            \"method\": \"POST\",\n",
    "            \"url\": \"/v1/chat/completions\",\n",
    "            \"body\": {\n",
    "                \"model\": \"gpt-3.5-turbo\",\n",
    "                \"max_tokens\": 200,\n",
    "                \"temperature\": 0,\n",
    "                \"response_format\": {\"type\": \"json_object\"},\n",
    "                \"messages\": [\n",
    "                    {\"role\": \"system\", \"content\": text_translate}, # gets row\n",
    "                    {\"role\": \"user\", \"content\": description},\n",
    "                ],\n",
    "            },\n",
    "        }\n",
    "        tasks_this_batch.append(task)\n",
    "    return tasks_this_batch\n",
    "\n",
    "output_folder = \"batch_input\"\n",
    "for i, batch in enumerate(split_df):\n",
    "    tasks = get_tasks(batch)\n",
    "    file_name = f\"batch_tasks_b{i}_4o-mini.json\"\n",
    "    file_path = os.path.join(output_folder, file_name)\n",
    "    with open(file_path, 'w') as file:\n",
    "        for task in tasks:\n",
    "            json.dump(task, file)\n",
    "            file.write('\\n')\n"
   ]
  },
  {
   "cell_type": "code",
   "execution_count": 105,
   "id": "753a0f4c-be4c-4649-a6b9-d305b92304aa",
   "metadata": {},
   "outputs": [
    {
     "data": {
      "text/plain": [
       "[0]"
      ]
     },
     "execution_count": 105,
     "metadata": {},
     "output_type": "execute_result"
    }
   ],
   "source": [
    "batch_ids = list(range(0, 1))\n",
    "batch_ids\n"
   ]
  },
  {
   "cell_type": "code",
   "execution_count": 111,
   "id": "14743282",
   "metadata": {},
   "outputs": [],
   "source": [
    "batch_jobs = []\n",
    "\n",
    "for batch_num in batch_ids:\n",
    "\n",
    "    file_name = f\"{output_folder}/batch_tasks_b{batch_num}_4o-mini.json\"\n",
    "    batch_input_file = client.files.create(\n",
    "        file=open(file_name, \"rb\"),\n",
    "        purpose=\"batch\"\n",
    "    )\n",
    "    batch_input_file_id = batch_input_file.id\n",
    "    # Create batch\n",
    "    batch_job = client.batches.create(\n",
    "        input_file_id=batch_input_file_id,\n",
    "        endpoint=\"/v1/chat/completions\",\n",
    "        completion_window=\"24h\",\n",
    "        metadata={\"description\": f\"batch_b{batch_num}_4o-mini\"}\n",
    "    )\n",
    "    checking_batch_one = client.batches.retrieve(batch_job.id)\n",
    "    print(f\"Batch {batch_num} status: {checking_batch_one.status}\")\n",
    "    batch_jobs.append(checking_batch_one.id)\n",
    "\n",
    "    "
   ]
  },
  {
   "cell_type": "code",
   "execution_count": 107,
   "id": "2d58b8f9-6cd6-4c02-abe0-9087821238c1",
   "metadata": {},
   "outputs": [
    {
     "name": "stdout",
     "output_type": "stream",
     "text": [
      "All batch IDs: []\n"
     ]
    }
   ],
   "source": [
    "print(\"All batch IDs:\", batch_jobs)\n"
   ]
  },
  {
   "cell_type": "code",
   "execution_count": 88,
   "id": "77d3d037-4459-47e5-9f2b-c688f4485d25",
   "metadata": {},
   "outputs": [
    {
     "name": "stdout",
     "output_type": "stream",
     "text": [
      "completed\n",
      "completed\n",
      "completed\n",
      "completed\n",
      "completed\n",
      "completed\n",
      "completed\n",
      "completed\n",
      "completed\n",
      "completed\n",
      "completed\n",
      "completed\n",
      "completed\n",
      "completed\n",
      "completed\n",
      "completed\n",
      "completed\n",
      "completed\n",
      "completed\n",
      "completed\n"
     ]
    }
   ],
   "source": [
    "for id in batch_jobs:\n",
    "    \n",
    "\n",
    "    checking_batch_one = client.batches.retrieve(id)\n",
    "    print(checking_batch_one.status)\n"
   ]
  },
  {
   "cell_type": "code",
   "execution_count": 101,
   "id": "f721fddc-16a7-435e-9f72-c1337d5deaf9",
   "metadata": {},
   "outputs": [
    {
     "data": {
      "text/plain": [
       "Batch(id='batch_674601d260388190bebaeb9386471b59', completion_window='24h', created_at=1732641234, endpoint='/v1/chat/completions', input_file_id='file-QFWjRdM1jCvHj2z9Z1WBtF', object='batch', status='completed', cancelled_at=None, cancelling_at=None, completed_at=1732641246, error_file_id=None, errors=None, expired_at=None, expires_at=1732727634, failed_at=None, finalizing_at=1732641244, in_progress_at=1732641235, metadata={'description': 'batch_b12_4o-mini'}, output_file_id='file-WNN1H3CMT3x9XJYWV5joZs', request_counts=BatchRequestCounts(completed=11, failed=0, total=11))"
      ]
     },
     "execution_count": 101,
     "metadata": {},
     "output_type": "execute_result"
    }
   ],
   "source": [
    "# batch_674601c225d081909b1bfe599d414f50\n",
    "\n",
    "checking_batch = client.batches.retrieve('batch_674601d260388190bebaeb9386471b59')\n",
    "checking_batch"
   ]
  },
  {
   "cell_type": "code",
   "execution_count": 89,
   "id": "65a8ad6e-910e-4434-bd67-735054ecb8fb",
   "metadata": {},
   "outputs": [],
   "source": [
    "def extract_translation(content):\n",
    "        try:\n",
    "            return json.loads(content).get('translated_text', None)\n",
    "        except (json.JSONDecodeError, TypeError):\n",
    "            return None  "
   ]
  },
  {
   "cell_type": "code",
   "execution_count": 112,
   "id": "2b80eea7-f06a-4f89-9c42-773bc9cf78cc",
   "metadata": {},
   "outputs": [],
   "source": [
    "all_results_df = pd.DataFrame()\n",
    "\n",
    "for batch_num in range(0, 19):\n",
    "    idnum = batch_jobs[batch_num]\n",
    "    batch_job = client.batches.retrieve(idnum)\n",
    "    result_file_id = batch_job.output_file_id\n",
    "\n",
    "    file_response = client.files.content(result_file_id)\n",
    "        \n",
    "    # Decode and split the file content\n",
    "    result = file_response.content.decode(\"utf-8\")\n",
    "    lines = result.splitlines()\n",
    "        \n",
    "    # Parse each line of the file into a JSON object\n",
    "    result_jsons = [json.loads(line) for line in lines]\n",
    "\n",
    "    print(result_jsons)\n",
    "        # Optionally, process the `result_jsons` here, e.g., save or analyze the results\n",
    "    print(f\"Batch {batch_num} results: proccessed\")\n",
    "    output = []\n",
    "    output_all = []\n",
    "\n",
    "    for obj in result_jsons:\n",
    "        output_all.append(obj)\n",
    "        # Extracting id and content from the response\n",
    "        article = {\"id\": obj['custom_id'], \"content\": obj['response']['body']['choices'][0]['message']['content']}\n",
    "        output.append(article)\n",
    "\n",
    "    # Save the simplified output (only id and content)\n",
    "    output_filename = f\"{output_folder}/batch_b{batch_num}_output.json\"\n",
    "    with open(output_filename, \"w\") as file:\n",
    "        json.dump(output, file, indent=4)\n",
    "    result_file_name = f\"{output_folder}/batch_b{batch_num}_output_full.json\"\n",
    "    with open(result_file_name, \"w\") as file:\n",
    "        json.dump(output_all, file, indent=4)\n",
    "\n",
    "    # Convert the output into a DataFrame\n",
    "    df_results = pd.DataFrame(output)\n",
    "    df_results['en_text'] = df_results['content'].apply(extract_translation)\n",
    "    print(df_results.head(1))\n",
    "    print(f\"Batch {batch_num} processed:\")\n",
    "\n",
    "    # Append the results to the all_results_df DataFrame\n",
    "    all_results_df = pd.concat([all_results_df, df_results[['id', 'en_text']]], ignore_index=True)\n"
   ]
  },
  {
   "cell_type": "code",
   "execution_count": 99,
   "id": "032ab834-4f73-498a-9e25-26b19c6a28be",
   "metadata": {},
   "outputs": [
    {
     "data": {
      "text/html": [
       "<div>\n",
       "<style scoped>\n",
       "    .dataframe tbody tr th:only-of-type {\n",
       "        vertical-align: middle;\n",
       "    }\n",
       "\n",
       "    .dataframe tbody tr th {\n",
       "        vertical-align: top;\n",
       "    }\n",
       "\n",
       "    .dataframe thead th {\n",
       "        text-align: right;\n",
       "    }\n",
       "</style>\n",
       "<table border=\"1\" class=\"dataframe\">\n",
       "  <thead>\n",
       "    <tr style=\"text-align: right;\">\n",
       "      <th></th>\n",
       "      <th>id</th>\n",
       "      <th>en_text</th>\n",
       "    </tr>\n",
       "  </thead>\n",
       "  <tbody>\n",
       "    <tr>\n",
       "      <th>62</th>\n",
       "      <td>3870873586485999</td>\n",
       "      <td>October 29th (Tuesday) It suddenly became chil...</td>\n",
       "    </tr>\n",
       "    <tr>\n",
       "      <th>82</th>\n",
       "      <td>1276807959993072</td>\n",
       "      <td>Did you take the morning off today? I woke up ...</td>\n",
       "    </tr>\n",
       "    <tr>\n",
       "      <th>89</th>\n",
       "      <td>1114827106905097</td>\n",
       "      <td>When I added a little whipped cream, it melted...</td>\n",
       "    </tr>\n",
       "    <tr>\n",
       "      <th>121</th>\n",
       "      <td>1773891910019093</td>\n",
       "      <td>&lt;redacted_mention&gt;\\nFront kick → Feint → High ...</td>\n",
       "    </tr>\n",
       "    <tr>\n",
       "      <th>182</th>\n",
       "      <td>1566042370669444</td>\n",
       "      <td>Triangle Chocolate Pie season♪ Finally able to...</td>\n",
       "    </tr>\n",
       "    <tr>\n",
       "      <th>...</th>\n",
       "      <td>...</td>\n",
       "      <td>...</td>\n",
       "    </tr>\n",
       "    <tr>\n",
       "      <th>2666</th>\n",
       "      <td>996091605864355</td>\n",
       "      <td>According to the Los Angeles Times, the Angels...</td>\n",
       "    </tr>\n",
       "    <tr>\n",
       "      <th>2683</th>\n",
       "      <td>3826330480914098</td>\n",
       "      <td>2023.12.15\\nDodgers' locker room 💫\\nIt's final...</td>\n",
       "    </tr>\n",
       "    <tr>\n",
       "      <th>2722</th>\n",
       "      <td>852194660418992</td>\n",
       "      <td>【Japanese News | Shohei Ohtani Signs the Most ...</td>\n",
       "    </tr>\n",
       "    <tr>\n",
       "      <th>2851</th>\n",
       "      <td>2302838383413551</td>\n",
       "      <td>Teammates in the WBC, players Shohei Ohtani 🤝 ...</td>\n",
       "    </tr>\n",
       "    <tr>\n",
       "      <th>2883</th>\n",
       "      <td>3901924220091502</td>\n",
       "      <td>(⚾️Second time in history) Congratulations on ...</td>\n",
       "    </tr>\n",
       "  </tbody>\n",
       "</table>\n",
       "<p>81 rows × 2 columns</p>\n",
       "</div>"
      ],
      "text/plain": [
       "                    id                                            en_text\n",
       "62    3870873586485999  October 29th (Tuesday) It suddenly became chil...\n",
       "82    1276807959993072  Did you take the morning off today? I woke up ...\n",
       "89    1114827106905097  When I added a little whipped cream, it melted...\n",
       "121   1773891910019093  <redacted_mention>\\nFront kick → Feint → High ...\n",
       "182   1566042370669444  Triangle Chocolate Pie season♪ Finally able to...\n",
       "...                ...                                                ...\n",
       "2666   996091605864355  According to the Los Angeles Times, the Angels...\n",
       "2683  3826330480914098  2023.12.15\\nDodgers' locker room 💫\\nIt's final...\n",
       "2722   852194660418992  【Japanese News | Shohei Ohtani Signs the Most ...\n",
       "2851  2302838383413551  Teammates in the WBC, players Shohei Ohtani 🤝 ...\n",
       "2883  3901924220091502  (⚾️Second time in history) Congratulations on ...\n",
       "\n",
       "[81 rows x 2 columns]"
      ]
     },
     "execution_count": 99,
     "metadata": {},
     "output_type": "execute_result"
    }
   ],
   "source": [
    "all_results_df[all_results_df.en_text.isna()==False]"
   ]
  },
  {
   "cell_type": "code",
   "execution_count": null,
   "id": "101c588f-7ed8-4809-aa4f-d35488ef5e30",
   "metadata": {},
   "outputs": [],
   "source": []
  },
  {
   "cell_type": "code",
   "execution_count": null,
   "id": "3abc914a-9aee-4aad-9b0d-2ab8bd0a7907",
   "metadata": {},
   "outputs": [],
   "source": []
  },
  {
   "cell_type": "code",
   "execution_count": 95,
   "id": "68f918a5-3607-4cb4-be0f-0d088a5265ff",
   "metadata": {},
   "outputs": [],
   "source": [
    "# rows_with_na = all_results_df.isna().any(axis=1)\n",
    "\n",
    "# # Get the 'id' of the rows with NaN values\n",
    "# na_ids = all_results_df.loc[rows_with_na, 'id']"
   ]
  },
  {
   "cell_type": "code",
   "execution_count": 110,
   "id": "123f6481-65a8-4ba9-93a9-6bbd2dcc6498",
   "metadata": {},
   "outputs": [],
   "source": [
    "all_results_df.to_csv(f\"{output_folder}/all_text_results3.csv\", index=False)\n"
   ]
  },
  {
   "cell_type": "code",
   "execution_count": null,
   "id": "33fddf14-1bee-405e-bb92-c891acdc1a02",
   "metadata": {},
   "outputs": [],
   "source": [
    "df_final = pd.merge(df, all_results_df[['id', 'en_text']], on=\"id\", how=\"left\")\n"
   ]
  }
 ],
 "metadata": {
  "kernelspec": {
   "display_name": "Python (test_env)",
   "language": "python",
   "name": "test_env"
  },
  "language_info": {
   "codemirror_mode": {
    "name": "ipython",
    "version": 3
   },
   "file_extension": ".py",
   "mimetype": "text/x-python",
   "name": "python",
   "nbconvert_exporter": "python",
   "pygments_lexer": "ipython3",
   "version": "3.11.7"
  }
 },
 "nbformat": 4,
 "nbformat_minor": 5
}
